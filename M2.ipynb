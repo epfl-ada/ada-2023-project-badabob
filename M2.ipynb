{
 "cells": [
  {
   "cell_type": "markdown",
   "metadata": {},
   "source": [
    "# Data Creation, Exploration and Filtering"
   ]
  },
  {
   "cell_type": "code",
   "execution_count": 1,
   "metadata": {
    "tags": []
   },
   "outputs": [
    {
     "name": "stdout",
     "output_type": "stream",
     "text": [
      "Intel MKL WARNING: Support of Intel(R) Streaming SIMD Extensions 4.2 (Intel(R) SSE4.2) enabled only processors has been deprecated. Intel oneAPI Math Kernel Library 2025.0 will require Intel(R) Advanced Vector Extensions (Intel(R) AVX) instructions.\n",
      "Intel MKL WARNING: Support of Intel(R) Streaming SIMD Extensions 4.2 (Intel(R) SSE4.2) enabled only processors has been deprecated. Intel oneAPI Math Kernel Library 2025.0 will require Intel(R) Advanced Vector Extensions (Intel(R) AVX) instructions.\n"
     ]
    }
   ],
   "source": [
    "%load_ext autoreload\n",
    "%autoreload 2\n",
    "import seaborn as sns\n",
    "import math\n",
    "import pandas as pd\n",
    "import ast\n",
    "import numpy as np\n",
    "import matplotlib.pyplot as plt\n",
    "import json\n",
    "from helpers import *\n",
    "from collections import Counter\n",
    "data_folder = './DATA/'"
   ]
  },
  {
   "cell_type": "markdown",
   "metadata": {},
   "source": [
    "# Historical Timeline\n",
    "In our analysis we want to see how representation of women in american movies might be impacted by historical events. We therefore need to retrieve a history timeline. We decided to use the timeline on https://www.history.com/topics/womens-history/womens-history-us-timeline since it contains major events related to women's history in the US."
   ]
  },
  {
   "cell_type": "code",
   "execution_count": 2,
   "metadata": {
    "collapsed": false,
    "jupyter": {
     "outputs_hidden": false
    },
    "tags": []
   },
   "outputs": [
    {
     "name": "stdout",
     "output_type": "stream",
     "text": [
      "Successfully accessed https://www.history.com/topics/womens-history/womens-history-us-timeline\n",
      "Timeline saved in DATA/timeline.csv\n"
     ]
    }
   ],
   "source": [
    "get_history_timeline()"
   ]
  },
  {
   "cell_type": "markdown",
   "metadata": {},
   "source": [
    "## Importing raw data"
   ]
  },
  {
   "cell_type": "code",
   "execution_count": 3,
   "metadata": {
    "collapsed": false,
    "jupyter": {
     "outputs_hidden": false
    },
    "tags": []
   },
   "outputs": [
    {
     "data": {
      "text/html": [
       "<div>\n",
       "<style scoped>\n",
       "    .dataframe tbody tr th:only-of-type {\n",
       "        vertical-align: middle;\n",
       "    }\n",
       "\n",
       "    .dataframe tbody tr th {\n",
       "        vertical-align: top;\n",
       "    }\n",
       "\n",
       "    .dataframe thead th {\n",
       "        text-align: right;\n",
       "    }\n",
       "</style>\n",
       "<table border=\"1\" class=\"dataframe\">\n",
       "  <thead>\n",
       "    <tr style=\"text-align: right;\">\n",
       "      <th></th>\n",
       "      <th>wikipedia_ID</th>\n",
       "      <th>freebase_ID</th>\n",
       "      <th>name</th>\n",
       "      <th>release_date</th>\n",
       "      <th>box_office_revenue</th>\n",
       "      <th>runtime</th>\n",
       "      <th>languages</th>\n",
       "      <th>countries</th>\n",
       "      <th>genre</th>\n",
       "    </tr>\n",
       "  </thead>\n",
       "  <tbody>\n",
       "    <tr>\n",
       "      <th>0</th>\n",
       "      <td>975900</td>\n",
       "      <td>/m/03vyhn</td>\n",
       "      <td>Ghosts of Mars</td>\n",
       "      <td>2001-08-24</td>\n",
       "      <td>14010832.0</td>\n",
       "      <td>98.0</td>\n",
       "      <td>{\"/m/02h40lc\": \"English Language\"}</td>\n",
       "      <td>{\"/m/09c7w0\": \"United States of America\"}</td>\n",
       "      <td>{\"/m/01jfsb\": \"Thriller\", \"/m/06n90\": \"Science...</td>\n",
       "    </tr>\n",
       "    <tr>\n",
       "      <th>1</th>\n",
       "      <td>3196793</td>\n",
       "      <td>/m/08yl5d</td>\n",
       "      <td>Getting Away with Murder: The JonBenét Ramsey ...</td>\n",
       "      <td>2000-02-16</td>\n",
       "      <td>NaN</td>\n",
       "      <td>95.0</td>\n",
       "      <td>{\"/m/02h40lc\": \"English Language\"}</td>\n",
       "      <td>{\"/m/09c7w0\": \"United States of America\"}</td>\n",
       "      <td>{\"/m/02n4kr\": \"Mystery\", \"/m/03bxz7\": \"Biograp...</td>\n",
       "    </tr>\n",
       "    <tr>\n",
       "      <th>2</th>\n",
       "      <td>28463795</td>\n",
       "      <td>/m/0crgdbh</td>\n",
       "      <td>Brun bitter</td>\n",
       "      <td>1988</td>\n",
       "      <td>NaN</td>\n",
       "      <td>83.0</td>\n",
       "      <td>{\"/m/05f_3\": \"Norwegian Language\"}</td>\n",
       "      <td>{\"/m/05b4w\": \"Norway\"}</td>\n",
       "      <td>{\"/m/0lsxr\": \"Crime Fiction\", \"/m/07s9rl0\": \"D...</td>\n",
       "    </tr>\n",
       "    <tr>\n",
       "      <th>3</th>\n",
       "      <td>9363483</td>\n",
       "      <td>/m/0285_cd</td>\n",
       "      <td>White Of The Eye</td>\n",
       "      <td>1987</td>\n",
       "      <td>NaN</td>\n",
       "      <td>110.0</td>\n",
       "      <td>{\"/m/02h40lc\": \"English Language\"}</td>\n",
       "      <td>{\"/m/07ssc\": \"United Kingdom\"}</td>\n",
       "      <td>{\"/m/01jfsb\": \"Thriller\", \"/m/0glj9q\": \"Erotic...</td>\n",
       "    </tr>\n",
       "    <tr>\n",
       "      <th>4</th>\n",
       "      <td>261236</td>\n",
       "      <td>/m/01mrr1</td>\n",
       "      <td>A Woman in Flames</td>\n",
       "      <td>1983</td>\n",
       "      <td>NaN</td>\n",
       "      <td>106.0</td>\n",
       "      <td>{\"/m/04306rv\": \"German Language\"}</td>\n",
       "      <td>{\"/m/0345h\": \"Germany\"}</td>\n",
       "      <td>{\"/m/07s9rl0\": \"Drama\"}</td>\n",
       "    </tr>\n",
       "  </tbody>\n",
       "</table>\n",
       "</div>"
      ],
      "text/plain": [
       "   wikipedia_ID freebase_ID  \\\n",
       "0        975900   /m/03vyhn   \n",
       "1       3196793   /m/08yl5d   \n",
       "2      28463795  /m/0crgdbh   \n",
       "3       9363483  /m/0285_cd   \n",
       "4        261236   /m/01mrr1   \n",
       "\n",
       "                                                name release_date  \\\n",
       "0                                     Ghosts of Mars   2001-08-24   \n",
       "1  Getting Away with Murder: The JonBenét Ramsey ...   2000-02-16   \n",
       "2                                        Brun bitter         1988   \n",
       "3                                   White Of The Eye         1987   \n",
       "4                                  A Woman in Flames         1983   \n",
       "\n",
       "   box_office_revenue  runtime                           languages  \\\n",
       "0          14010832.0     98.0  {\"/m/02h40lc\": \"English Language\"}   \n",
       "1                 NaN     95.0  {\"/m/02h40lc\": \"English Language\"}   \n",
       "2                 NaN     83.0  {\"/m/05f_3\": \"Norwegian Language\"}   \n",
       "3                 NaN    110.0  {\"/m/02h40lc\": \"English Language\"}   \n",
       "4                 NaN    106.0   {\"/m/04306rv\": \"German Language\"}   \n",
       "\n",
       "                                   countries  \\\n",
       "0  {\"/m/09c7w0\": \"United States of America\"}   \n",
       "1  {\"/m/09c7w0\": \"United States of America\"}   \n",
       "2                     {\"/m/05b4w\": \"Norway\"}   \n",
       "3             {\"/m/07ssc\": \"United Kingdom\"}   \n",
       "4                    {\"/m/0345h\": \"Germany\"}   \n",
       "\n",
       "                                               genre  \n",
       "0  {\"/m/01jfsb\": \"Thriller\", \"/m/06n90\": \"Science...  \n",
       "1  {\"/m/02n4kr\": \"Mystery\", \"/m/03bxz7\": \"Biograp...  \n",
       "2  {\"/m/0lsxr\": \"Crime Fiction\", \"/m/07s9rl0\": \"D...  \n",
       "3  {\"/m/01jfsb\": \"Thriller\", \"/m/0glj9q\": \"Erotic...  \n",
       "4                            {\"/m/07s9rl0\": \"Drama\"}  "
      ]
     },
     "execution_count": 3,
     "metadata": {},
     "output_type": "execute_result"
    }
   ],
   "source": [
    "movies_metadata = pd.read_csv(data_folder+'movie.metadata.tsv', header=None, sep='\\t', names=['wikipedia_ID','freebase_ID','name','release_date', 'box_office_revenue', 'runtime', 'languages', 'countries', 'genre'], parse_dates=False)\n",
    "movies_metadata.head(5)"
   ]
  },
  {
   "cell_type": "code",
   "execution_count": 4,
   "metadata": {
    "collapsed": false,
    "jupyter": {
     "outputs_hidden": false
    },
    "tags": []
   },
   "outputs": [
    {
     "data": {
      "text/html": [
       "<div>\n",
       "<style scoped>\n",
       "    .dataframe tbody tr th:only-of-type {\n",
       "        vertical-align: middle;\n",
       "    }\n",
       "\n",
       "    .dataframe tbody tr th {\n",
       "        vertical-align: top;\n",
       "    }\n",
       "\n",
       "    .dataframe thead th {\n",
       "        text-align: right;\n",
       "    }\n",
       "</style>\n",
       "<table border=\"1\" class=\"dataframe\">\n",
       "  <thead>\n",
       "    <tr style=\"text-align: right;\">\n",
       "      <th></th>\n",
       "      <th>wikipedia_ID</th>\n",
       "      <th>freebase_ID</th>\n",
       "      <th>release_date</th>\n",
       "      <th>character_name</th>\n",
       "      <th>actor_birthday</th>\n",
       "      <th>actor_gender</th>\n",
       "      <th>actor_height</th>\n",
       "      <th>actor_ethnicity</th>\n",
       "      <th>actor_name</th>\n",
       "      <th>actor_age</th>\n",
       "      <th>freebase_character_actor_mapID</th>\n",
       "      <th>freebase_character_ID</th>\n",
       "      <th>freebase_actor_ID</th>\n",
       "    </tr>\n",
       "  </thead>\n",
       "  <tbody>\n",
       "    <tr>\n",
       "      <th>0</th>\n",
       "      <td>975900</td>\n",
       "      <td>/m/03vyhn</td>\n",
       "      <td>2001-08-24</td>\n",
       "      <td>Akooshay</td>\n",
       "      <td>1958-08-26</td>\n",
       "      <td>F</td>\n",
       "      <td>1.620</td>\n",
       "      <td>NaN</td>\n",
       "      <td>Wanda De Jesus</td>\n",
       "      <td>42.0</td>\n",
       "      <td>/m/0bgchxw</td>\n",
       "      <td>/m/0bgcj3x</td>\n",
       "      <td>/m/03wcfv7</td>\n",
       "    </tr>\n",
       "    <tr>\n",
       "      <th>1</th>\n",
       "      <td>975900</td>\n",
       "      <td>/m/03vyhn</td>\n",
       "      <td>2001-08-24</td>\n",
       "      <td>Lieutenant Melanie Ballard</td>\n",
       "      <td>1974-08-15</td>\n",
       "      <td>F</td>\n",
       "      <td>1.780</td>\n",
       "      <td>/m/044038p</td>\n",
       "      <td>Natasha Henstridge</td>\n",
       "      <td>27.0</td>\n",
       "      <td>/m/0jys3m</td>\n",
       "      <td>/m/0bgchn4</td>\n",
       "      <td>/m/0346l4</td>\n",
       "    </tr>\n",
       "    <tr>\n",
       "      <th>2</th>\n",
       "      <td>975900</td>\n",
       "      <td>/m/03vyhn</td>\n",
       "      <td>2001-08-24</td>\n",
       "      <td>Desolation Williams</td>\n",
       "      <td>1969-06-15</td>\n",
       "      <td>M</td>\n",
       "      <td>1.727</td>\n",
       "      <td>/m/0x67</td>\n",
       "      <td>Ice Cube</td>\n",
       "      <td>32.0</td>\n",
       "      <td>/m/0jys3g</td>\n",
       "      <td>/m/0bgchn_</td>\n",
       "      <td>/m/01vw26l</td>\n",
       "    </tr>\n",
       "    <tr>\n",
       "      <th>3</th>\n",
       "      <td>975900</td>\n",
       "      <td>/m/03vyhn</td>\n",
       "      <td>2001-08-24</td>\n",
       "      <td>Sgt Jericho Butler</td>\n",
       "      <td>1967-09-12</td>\n",
       "      <td>M</td>\n",
       "      <td>1.750</td>\n",
       "      <td>NaN</td>\n",
       "      <td>Jason Statham</td>\n",
       "      <td>33.0</td>\n",
       "      <td>/m/02vchl6</td>\n",
       "      <td>/m/0bgchnq</td>\n",
       "      <td>/m/034hyc</td>\n",
       "    </tr>\n",
       "    <tr>\n",
       "      <th>4</th>\n",
       "      <td>975900</td>\n",
       "      <td>/m/03vyhn</td>\n",
       "      <td>2001-08-24</td>\n",
       "      <td>Bashira Kincaid</td>\n",
       "      <td>1977-09-25</td>\n",
       "      <td>F</td>\n",
       "      <td>1.650</td>\n",
       "      <td>NaN</td>\n",
       "      <td>Clea DuVall</td>\n",
       "      <td>23.0</td>\n",
       "      <td>/m/02vbb3r</td>\n",
       "      <td>/m/0bgchp9</td>\n",
       "      <td>/m/01y9xg</td>\n",
       "    </tr>\n",
       "  </tbody>\n",
       "</table>\n",
       "</div>"
      ],
      "text/plain": [
       "   wikipedia_ID freebase_ID release_date              character_name  \\\n",
       "0        975900   /m/03vyhn   2001-08-24                    Akooshay   \n",
       "1        975900   /m/03vyhn   2001-08-24  Lieutenant Melanie Ballard   \n",
       "2        975900   /m/03vyhn   2001-08-24         Desolation Williams   \n",
       "3        975900   /m/03vyhn   2001-08-24          Sgt Jericho Butler   \n",
       "4        975900   /m/03vyhn   2001-08-24             Bashira Kincaid   \n",
       "\n",
       "  actor_birthday actor_gender  actor_height actor_ethnicity  \\\n",
       "0     1958-08-26            F         1.620             NaN   \n",
       "1     1974-08-15            F         1.780      /m/044038p   \n",
       "2     1969-06-15            M         1.727         /m/0x67   \n",
       "3     1967-09-12            M         1.750             NaN   \n",
       "4     1977-09-25            F         1.650             NaN   \n",
       "\n",
       "           actor_name  actor_age freebase_character_actor_mapID  \\\n",
       "0      Wanda De Jesus       42.0                     /m/0bgchxw   \n",
       "1  Natasha Henstridge       27.0                      /m/0jys3m   \n",
       "2            Ice Cube       32.0                      /m/0jys3g   \n",
       "3       Jason Statham       33.0                     /m/02vchl6   \n",
       "4         Clea DuVall       23.0                     /m/02vbb3r   \n",
       "\n",
       "  freebase_character_ID freebase_actor_ID  \n",
       "0            /m/0bgcj3x        /m/03wcfv7  \n",
       "1            /m/0bgchn4         /m/0346l4  \n",
       "2            /m/0bgchn_        /m/01vw26l  \n",
       "3            /m/0bgchnq         /m/034hyc  \n",
       "4            /m/0bgchp9         /m/01y9xg  "
      ]
     },
     "execution_count": 4,
     "metadata": {},
     "output_type": "execute_result"
    }
   ],
   "source": [
    "character_metadata = pd.read_csv(data_folder+'character.metadata.tsv', header=None, sep='\\t', names=['wikipedia_ID','freebase_ID','release_date', 'character_name', 'actor_birthday', 'actor_gender', 'actor_height', 'actor_ethnicity', 'actor_name' , 'actor_age','freebase_character_actor_mapID', 'freebase_character_ID', 'freebase_actor_ID' ], parse_dates=False)\n",
    "character_metadata.head(5)"
   ]
  },
  {
   "cell_type": "code",
   "execution_count": 5,
   "metadata": {
    "collapsed": false,
    "jupyter": {
     "outputs_hidden": false
    },
    "tags": []
   },
   "outputs": [
    {
     "data": {
      "text/html": [
       "<div>\n",
       "<style scoped>\n",
       "    .dataframe tbody tr th:only-of-type {\n",
       "        vertical-align: middle;\n",
       "    }\n",
       "\n",
       "    .dataframe tbody tr th {\n",
       "        vertical-align: top;\n",
       "    }\n",
       "\n",
       "    .dataframe thead th {\n",
       "        text-align: right;\n",
       "    }\n",
       "</style>\n",
       "<table border=\"1\" class=\"dataframe\">\n",
       "  <thead>\n",
       "    <tr style=\"text-align: right;\">\n",
       "      <th></th>\n",
       "      <th>wikipedia_ID</th>\n",
       "      <th>plot_summary</th>\n",
       "    </tr>\n",
       "  </thead>\n",
       "  <tbody>\n",
       "    <tr>\n",
       "      <th>0</th>\n",
       "      <td>23890098</td>\n",
       "      <td>Shlykov, a hard-working taxi driver and Lyosha...</td>\n",
       "    </tr>\n",
       "    <tr>\n",
       "      <th>1</th>\n",
       "      <td>31186339</td>\n",
       "      <td>The nation of Panem consists of a wealthy Capi...</td>\n",
       "    </tr>\n",
       "    <tr>\n",
       "      <th>2</th>\n",
       "      <td>20663735</td>\n",
       "      <td>Poovalli Induchoodan  is sentenced for six yea...</td>\n",
       "    </tr>\n",
       "    <tr>\n",
       "      <th>3</th>\n",
       "      <td>2231378</td>\n",
       "      <td>The Lemon Drop Kid , a New York City swindler,...</td>\n",
       "    </tr>\n",
       "    <tr>\n",
       "      <th>4</th>\n",
       "      <td>595909</td>\n",
       "      <td>Seventh-day Adventist Church pastor Michael Ch...</td>\n",
       "    </tr>\n",
       "  </tbody>\n",
       "</table>\n",
       "</div>"
      ],
      "text/plain": [
       "   wikipedia_ID                                       plot_summary\n",
       "0      23890098  Shlykov, a hard-working taxi driver and Lyosha...\n",
       "1      31186339  The nation of Panem consists of a wealthy Capi...\n",
       "2      20663735  Poovalli Induchoodan  is sentenced for six yea...\n",
       "3       2231378  The Lemon Drop Kid , a New York City swindler,...\n",
       "4        595909  Seventh-day Adventist Church pastor Michael Ch..."
      ]
     },
     "execution_count": 5,
     "metadata": {},
     "output_type": "execute_result"
    }
   ],
   "source": [
    "plot_summaries = pd.read_csv(data_folder+'plot_summaries.txt',sep='\\t', header=None, names=['wikipedia_ID', 'plot_summary'] )\n",
    "plot_summaries.head()"
   ]
  },
  {
   "cell_type": "markdown",
   "metadata": {},
   "source": [
    "## Movie dataset: Filtering"
   ]
  },
  {
   "cell_type": "markdown",
   "metadata": {},
   "source": [
    "**How many movies do we have?**"
   ]
  },
  {
   "cell_type": "code",
   "execution_count": 6,
   "metadata": {
    "collapsed": false,
    "jupyter": {
     "outputs_hidden": false
    },
    "tags": []
   },
   "outputs": [
    {
     "data": {
      "text/plain": [
       "wikipedia_ID          81741\n",
       "freebase_ID           81741\n",
       "name                  81741\n",
       "release_date          74839\n",
       "box_office_revenue     8401\n",
       "runtime               61291\n",
       "languages             81741\n",
       "countries             81741\n",
       "genre                 81741\n",
       "dtype: int64"
      ]
     },
     "execution_count": 6,
     "metadata": {},
     "output_type": "execute_result"
    }
   ],
   "source": [
    "number_of_data= movies_metadata.count()\n",
    "number_of_data"
   ]
  },
  {
   "cell_type": "markdown",
   "metadata": {},
   "source": [
    "**Where is data mostly missing ?**"
   ]
  },
  {
   "cell_type": "code",
   "execution_count": 7,
   "metadata": {
    "collapsed": false,
    "jupyter": {
     "outputs_hidden": false
    },
    "tags": []
   },
   "outputs": [
    {
     "data": {
      "text/plain": [
       "wikipedia_ID          100.000000\n",
       "freebase_ID           100.000000\n",
       "name                  100.000000\n",
       "release_date           91.556257\n",
       "box_office_revenue     10.277584\n",
       "runtime                74.981955\n",
       "languages             100.000000\n",
       "countries             100.000000\n",
       "genre                 100.000000\n",
       "dtype: float64"
      ]
     },
     "execution_count": 7,
     "metadata": {},
     "output_type": "execute_result"
    }
   ],
   "source": [
    "proportion_of_each_data = number_of_data/number_of_data['wikipedia_ID']*100\n",
    "proportion_of_each_data"
   ]
  },
  {
   "cell_type": "markdown",
   "metadata": {},
   "source": [
    "We see that the box office column is a column with a lot of missing data, it is only present for 10% of movies. This will not impact our analysis as we are not planning on using the box office as a metric.\n",
    "One caveat of these results is that an empty list will not be considered as a missing. So for languages, countries and genres this percentages do not really represent the missing data."
   ]
  },
  {
   "cell_type": "markdown",
   "metadata": {},
   "source": [
    "Given we will perform our analysis on American movies we will only keep the data for movies from the US"
   ]
  },
  {
   "cell_type": "code",
   "execution_count": 8,
   "metadata": {
    "collapsed": false,
    "jupyter": {
     "outputs_hidden": false
    },
    "tags": []
   },
   "outputs": [
    {
     "data": {
      "text/html": [
       "<div>\n",
       "<style scoped>\n",
       "    .dataframe tbody tr th:only-of-type {\n",
       "        vertical-align: middle;\n",
       "    }\n",
       "\n",
       "    .dataframe tbody tr th {\n",
       "        vertical-align: top;\n",
       "    }\n",
       "\n",
       "    .dataframe thead th {\n",
       "        text-align: right;\n",
       "    }\n",
       "</style>\n",
       "<table border=\"1\" class=\"dataframe\">\n",
       "  <thead>\n",
       "    <tr style=\"text-align: right;\">\n",
       "      <th></th>\n",
       "      <th>wikipedia_ID</th>\n",
       "      <th>freebase_ID</th>\n",
       "      <th>name</th>\n",
       "      <th>release_date</th>\n",
       "      <th>box_office_revenue</th>\n",
       "      <th>runtime</th>\n",
       "      <th>languages</th>\n",
       "      <th>countries</th>\n",
       "      <th>genre</th>\n",
       "    </tr>\n",
       "  </thead>\n",
       "  <tbody>\n",
       "    <tr>\n",
       "      <th>0</th>\n",
       "      <td>975900</td>\n",
       "      <td>/m/03vyhn</td>\n",
       "      <td>Ghosts of Mars</td>\n",
       "      <td>2001-08-24</td>\n",
       "      <td>14010832.0</td>\n",
       "      <td>98.0</td>\n",
       "      <td>{\"/m/02h40lc\": \"English Language\"}</td>\n",
       "      <td>{\"/m/09c7w0\": \"United States of America\"}</td>\n",
       "      <td>{\"/m/01jfsb\": \"Thriller\", \"/m/06n90\": \"Science...</td>\n",
       "    </tr>\n",
       "    <tr>\n",
       "      <th>1</th>\n",
       "      <td>3196793</td>\n",
       "      <td>/m/08yl5d</td>\n",
       "      <td>Getting Away with Murder: The JonBenét Ramsey ...</td>\n",
       "      <td>2000-02-16</td>\n",
       "      <td>NaN</td>\n",
       "      <td>95.0</td>\n",
       "      <td>{\"/m/02h40lc\": \"English Language\"}</td>\n",
       "      <td>{\"/m/09c7w0\": \"United States of America\"}</td>\n",
       "      <td>{\"/m/02n4kr\": \"Mystery\", \"/m/03bxz7\": \"Biograp...</td>\n",
       "    </tr>\n",
       "    <tr>\n",
       "      <th>5</th>\n",
       "      <td>13696889</td>\n",
       "      <td>/m/03cfc81</td>\n",
       "      <td>The Gangsters</td>\n",
       "      <td>1913-05-29</td>\n",
       "      <td>NaN</td>\n",
       "      <td>35.0</td>\n",
       "      <td>{\"/m/06ppq\": \"Silent film\", \"/m/02h40lc\": \"Eng...</td>\n",
       "      <td>{\"/m/09c7w0\": \"United States of America\"}</td>\n",
       "      <td>{\"/m/02hmvc\": \"Short Film\", \"/m/06ppq\": \"Silen...</td>\n",
       "    </tr>\n",
       "    <tr>\n",
       "      <th>7</th>\n",
       "      <td>10408933</td>\n",
       "      <td>/m/02qc0j7</td>\n",
       "      <td>Alexander's Ragtime Band</td>\n",
       "      <td>1938-08-16</td>\n",
       "      <td>3600000.0</td>\n",
       "      <td>106.0</td>\n",
       "      <td>{\"/m/02h40lc\": \"English Language\"}</td>\n",
       "      <td>{\"/m/09c7w0\": \"United States of America\"}</td>\n",
       "      <td>{\"/m/04t36\": \"Musical\", \"/m/01z4y\": \"Comedy\", ...</td>\n",
       "    </tr>\n",
       "    <tr>\n",
       "      <th>10</th>\n",
       "      <td>175026</td>\n",
       "      <td>/m/017n1p</td>\n",
       "      <td>Sarah and Son</td>\n",
       "      <td>1930</td>\n",
       "      <td>NaN</td>\n",
       "      <td>86.0</td>\n",
       "      <td>{\"/m/02h40lc\": \"English Language\"}</td>\n",
       "      <td>{\"/m/09c7w0\": \"United States of America\"}</td>\n",
       "      <td>{\"/m/07s9rl0\": \"Drama\", \"/m/01g6gs\": \"Black-an...</td>\n",
       "    </tr>\n",
       "    <tr>\n",
       "      <th>...</th>\n",
       "      <td>...</td>\n",
       "      <td>...</td>\n",
       "      <td>...</td>\n",
       "      <td>...</td>\n",
       "      <td>...</td>\n",
       "      <td>...</td>\n",
       "      <td>...</td>\n",
       "      <td>...</td>\n",
       "      <td>...</td>\n",
       "    </tr>\n",
       "    <tr>\n",
       "      <th>81725</th>\n",
       "      <td>1918494</td>\n",
       "      <td>/m/0660qx</td>\n",
       "      <td>State and Main</td>\n",
       "      <td>2000-08-26</td>\n",
       "      <td>6944471.0</td>\n",
       "      <td>106.0</td>\n",
       "      <td>{\"/m/02bjrlw\": \"Italian Language\", \"/m/02h40lc...</td>\n",
       "      <td>{\"/m/0f8l9c\": \"France\", \"/m/09c7w0\": \"United S...</td>\n",
       "      <td>{\"/m/0gf28\": \"Parody\", \"/m/09n5t_\": \"Americana...</td>\n",
       "    </tr>\n",
       "    <tr>\n",
       "      <th>81726</th>\n",
       "      <td>664006</td>\n",
       "      <td>/m/030xw6</td>\n",
       "      <td>Guilty as Sin</td>\n",
       "      <td>1993-06-04</td>\n",
       "      <td>22886222.0</td>\n",
       "      <td>107.0</td>\n",
       "      <td>{}</td>\n",
       "      <td>{\"/m/09c7w0\": \"United States of America\"}</td>\n",
       "      <td>{\"/m/01jfsb\": \"Thriller\", \"/m/0glj9q\": \"Erotic...</td>\n",
       "    </tr>\n",
       "    <tr>\n",
       "      <th>81727</th>\n",
       "      <td>24209227</td>\n",
       "      <td>/m/07k5mlk</td>\n",
       "      <td>The Time, the Place and the Girl</td>\n",
       "      <td>1946</td>\n",
       "      <td>NaN</td>\n",
       "      <td>105.0</td>\n",
       "      <td>{\"/m/02h40lc\": \"English Language\"}</td>\n",
       "      <td>{\"/m/09c7w0\": \"United States of America\"}</td>\n",
       "      <td>{\"/m/05p553\": \"Comedy film\", \"/m/02l7c8\": \"Rom...</td>\n",
       "    </tr>\n",
       "    <tr>\n",
       "      <th>81736</th>\n",
       "      <td>35228177</td>\n",
       "      <td>/m/0j7hxnt</td>\n",
       "      <td>Mermaids: The Body Found</td>\n",
       "      <td>2011-03-19</td>\n",
       "      <td>NaN</td>\n",
       "      <td>120.0</td>\n",
       "      <td>{\"/m/02h40lc\": \"English Language\"}</td>\n",
       "      <td>{\"/m/09c7w0\": \"United States of America\"}</td>\n",
       "      <td>{\"/m/07s9rl0\": \"Drama\"}</td>\n",
       "    </tr>\n",
       "    <tr>\n",
       "      <th>81738</th>\n",
       "      <td>9971909</td>\n",
       "      <td>/m/02pygw1</td>\n",
       "      <td>Another Nice Mess</td>\n",
       "      <td>1972-09-22</td>\n",
       "      <td>NaN</td>\n",
       "      <td>66.0</td>\n",
       "      <td>{\"/m/02h40lc\": \"English Language\"}</td>\n",
       "      <td>{\"/m/09c7w0\": \"United States of America\"}</td>\n",
       "      <td>{\"/m/06nbt\": \"Satire\", \"/m/01z4y\": \"Comedy\"}</td>\n",
       "    </tr>\n",
       "  </tbody>\n",
       "</table>\n",
       "<p>34408 rows × 9 columns</p>\n",
       "</div>"
      ],
      "text/plain": [
       "       wikipedia_ID freebase_ID  \\\n",
       "0            975900   /m/03vyhn   \n",
       "1           3196793   /m/08yl5d   \n",
       "5          13696889  /m/03cfc81   \n",
       "7          10408933  /m/02qc0j7   \n",
       "10           175026   /m/017n1p   \n",
       "...             ...         ...   \n",
       "81725       1918494   /m/0660qx   \n",
       "81726        664006   /m/030xw6   \n",
       "81727      24209227  /m/07k5mlk   \n",
       "81736      35228177  /m/0j7hxnt   \n",
       "81738       9971909  /m/02pygw1   \n",
       "\n",
       "                                                    name release_date  \\\n",
       "0                                         Ghosts of Mars   2001-08-24   \n",
       "1      Getting Away with Murder: The JonBenét Ramsey ...   2000-02-16   \n",
       "5                                          The Gangsters   1913-05-29   \n",
       "7                               Alexander's Ragtime Band   1938-08-16   \n",
       "10                                         Sarah and Son         1930   \n",
       "...                                                  ...          ...   \n",
       "81725                                     State and Main   2000-08-26   \n",
       "81726                                      Guilty as Sin   1993-06-04   \n",
       "81727                   The Time, the Place and the Girl         1946   \n",
       "81736                           Mermaids: The Body Found   2011-03-19   \n",
       "81738                                  Another Nice Mess   1972-09-22   \n",
       "\n",
       "       box_office_revenue  runtime  \\\n",
       "0              14010832.0     98.0   \n",
       "1                     NaN     95.0   \n",
       "5                     NaN     35.0   \n",
       "7               3600000.0    106.0   \n",
       "10                    NaN     86.0   \n",
       "...                   ...      ...   \n",
       "81725           6944471.0    106.0   \n",
       "81726          22886222.0    107.0   \n",
       "81727                 NaN    105.0   \n",
       "81736                 NaN    120.0   \n",
       "81738                 NaN     66.0   \n",
       "\n",
       "                                               languages  \\\n",
       "0                     {\"/m/02h40lc\": \"English Language\"}   \n",
       "1                     {\"/m/02h40lc\": \"English Language\"}   \n",
       "5      {\"/m/06ppq\": \"Silent film\", \"/m/02h40lc\": \"Eng...   \n",
       "7                     {\"/m/02h40lc\": \"English Language\"}   \n",
       "10                    {\"/m/02h40lc\": \"English Language\"}   \n",
       "...                                                  ...   \n",
       "81725  {\"/m/02bjrlw\": \"Italian Language\", \"/m/02h40lc...   \n",
       "81726                                                 {}   \n",
       "81727                 {\"/m/02h40lc\": \"English Language\"}   \n",
       "81736                 {\"/m/02h40lc\": \"English Language\"}   \n",
       "81738                 {\"/m/02h40lc\": \"English Language\"}   \n",
       "\n",
       "                                               countries  \\\n",
       "0              {\"/m/09c7w0\": \"United States of America\"}   \n",
       "1              {\"/m/09c7w0\": \"United States of America\"}   \n",
       "5              {\"/m/09c7w0\": \"United States of America\"}   \n",
       "7              {\"/m/09c7w0\": \"United States of America\"}   \n",
       "10             {\"/m/09c7w0\": \"United States of America\"}   \n",
       "...                                                  ...   \n",
       "81725  {\"/m/0f8l9c\": \"France\", \"/m/09c7w0\": \"United S...   \n",
       "81726          {\"/m/09c7w0\": \"United States of America\"}   \n",
       "81727          {\"/m/09c7w0\": \"United States of America\"}   \n",
       "81736          {\"/m/09c7w0\": \"United States of America\"}   \n",
       "81738          {\"/m/09c7w0\": \"United States of America\"}   \n",
       "\n",
       "                                                   genre  \n",
       "0      {\"/m/01jfsb\": \"Thriller\", \"/m/06n90\": \"Science...  \n",
       "1      {\"/m/02n4kr\": \"Mystery\", \"/m/03bxz7\": \"Biograp...  \n",
       "5      {\"/m/02hmvc\": \"Short Film\", \"/m/06ppq\": \"Silen...  \n",
       "7      {\"/m/04t36\": \"Musical\", \"/m/01z4y\": \"Comedy\", ...  \n",
       "10     {\"/m/07s9rl0\": \"Drama\", \"/m/01g6gs\": \"Black-an...  \n",
       "...                                                  ...  \n",
       "81725  {\"/m/0gf28\": \"Parody\", \"/m/09n5t_\": \"Americana...  \n",
       "81726  {\"/m/01jfsb\": \"Thriller\", \"/m/0glj9q\": \"Erotic...  \n",
       "81727  {\"/m/05p553\": \"Comedy film\", \"/m/02l7c8\": \"Rom...  \n",
       "81736                            {\"/m/07s9rl0\": \"Drama\"}  \n",
       "81738       {\"/m/06nbt\": \"Satire\", \"/m/01z4y\": \"Comedy\"}  \n",
       "\n",
       "[34408 rows x 9 columns]"
      ]
     },
     "execution_count": 8,
     "metadata": {},
     "output_type": "execute_result"
    }
   ],
   "source": [
    "us_movies_metadata = movies_metadata[movies_metadata['countries'].str.contains('United States of America', case=False)].copy()\n",
    "us_movies_metadata"
   ]
  },
  {
   "cell_type": "markdown",
   "metadata": {},
   "source": [
    "How many movies did we keep?"
   ]
  },
  {
   "cell_type": "code",
   "execution_count": 9,
   "metadata": {
    "collapsed": false,
    "jupyter": {
     "outputs_hidden": false
    },
    "tags": []
   },
   "outputs": [
    {
     "name": "stdout",
     "output_type": "stream",
     "text": [
      "wikipedia_ID          34408\n",
      "freebase_ID           34408\n",
      "name                  34408\n",
      "release_date          33197\n",
      "box_office_revenue     6936\n",
      "runtime               29509\n",
      "languages             34408\n",
      "countries             34408\n",
      "genre                 34408\n",
      "dtype: int64\n"
     ]
    }
   ],
   "source": [
    "print(us_movies_metadata.count())"
   ]
  },
  {
   "cell_type": "code",
   "execution_count": 10,
   "metadata": {
    "collapsed": false,
    "jupyter": {
     "outputs_hidden": false
    },
    "tags": []
   },
   "outputs": [
    {
     "name": "stdout",
     "output_type": "stream",
     "text": [
      "Total Number of movies 81741\n",
      "Number of non-US movies 47333\n"
     ]
    }
   ],
   "source": [
    "print('Total Number of movies', number_of_data.wikipedia_ID)\n",
    "print('Number of non-US movies', number_of_data.wikipedia_ID - us_movies_metadata.wikipedia_ID.count())"
   ]
  },
  {
   "cell_type": "code",
   "execution_count": 11,
   "metadata": {
    "collapsed": false,
    "jupyter": {
     "outputs_hidden": false
    },
    "tags": []
   },
   "outputs": [],
   "source": [
    "#Let's remove the dictionaries from the countries, the genre and languages of our data\n",
    "us_movies_metadata['countries'] = us_movies_metadata['countries'].apply(lambda x: list(ast.literal_eval(x).values()))\n",
    "us_movies_metadata['genre'] = us_movies_metadata['genre'].apply(lambda x: list(ast.literal_eval(x).values()))\n",
    "us_movies_metadata['languages'] = us_movies_metadata['languages'].apply(lambda x: list(ast.literal_eval(x).values()))\n",
    "\n",
    "# convert dates to same format and remove movies with unknown movie release dates\n",
    "us_movies_metadata['release_date'] = us_movies_metadata['release_date'].astype(str)\n",
    "us_movies_metadata['release_date'] = pd.to_datetime(us_movies_metadata['release_date'],format='mixed', errors='coerce')\n",
    "us_movies_metadata = us_movies_metadata.dropna(subset=['release_date']).copy()"
   ]
  },
  {
   "cell_type": "markdown",
   "metadata": {},
   "source": [
    "Let's see what languages we still have in our data"
   ]
  },
  {
   "cell_type": "code",
   "execution_count": 12,
   "metadata": {
    "collapsed": false,
    "jupyter": {
     "outputs_hidden": false
    },
    "tags": []
   },
   "outputs": [
    {
     "data": {
      "text/plain": [
       "array(['English Language', 'Silent film', nan, 'Spanish Language',\n",
       "       'Greek Language', 'Swahili Language', 'French Language',\n",
       "       'Standard Mandarin', 'Standard Cantonese', 'Italian Language',\n",
       "       'Japanese Language', 'American English', 'German Language',\n",
       "       'Arabic Language', 'Czech Language', 'Slovak Language',\n",
       "       'Thai Language', 'Portuguese Language', 'Polish Language',\n",
       "       'Tibetan languages', 'Mandarin Chinese', 'Cantonese',\n",
       "       'Standard Tibetan', 'Chinese language', 'Swedish Language',\n",
       "       'Hungarian language', 'Russian Language', 'Dutch Language',\n",
       "       'Persian Language', 'Irish', 'American Sign Language',\n",
       "       'Tagalog language', 'Filipino language', 'Xhosa Language',\n",
       "       'Afrikaans Language', 'Urdu Language', 'Hebrew Language',\n",
       "       'Tamil Language', 'Latin Language', 'Turkish Language',\n",
       "       'Hindi Language', 'Serbo-Croatian', 'Croatian language',\n",
       "       'Serbian language', 'Kannada Language', 'Punjabi language',\n",
       "       'Bengali Language', 'Yiddish Language', 'Navajo Language',\n",
       "       'Algonquin Language', 'Ukrainian Language', 'Aramaic language',\n",
       "       'Vietnamese Language', 'Esperanto Language', 'Danish Language',\n",
       "       'Romanian Language', 'Maya, Yucatán Language', 'Quechua',\n",
       "       'Korean Language', 'Bulgarian Language', 'Welsh Language',\n",
       "       'Finnish Language', 'Old English language', 'Icelandic Language',\n",
       "       'Apache, Western Language', 'Kurdish language',\n",
       "       'Macedonian Language', 'Estonian Language', 'Amharic Language',\n",
       "       'Lithuanian language', 'Armenian Language', 'Gaelic',\n",
       "       'Albanian language', 'Malay Language', 'Sioux language',\n",
       "       'Pawnee Language', 'Corsican Language', 'Hopi Language',\n",
       "       'Pashto language', 'Dari', 'Aboriginal Malay languages',\n",
       "       'Norwegian Language', 'Kinyarwanda language', 'Mende Language',\n",
       "       'Assyrian Neo-Aramaic Language', 'Gujarati Language',\n",
       "       'Egyptian, Ancient', 'Sanskrit Language', 'Zulu Language',\n",
       "       'Ancient Greek', 'Scottish Gaelic language', 'Tok Pisin Language',\n",
       "       'Crow Language', 'Bosnian language', 'Cheyenne Language',\n",
       "       'Somali Language', 'Hawaiian language', 'Galician Language',\n",
       "       'Sinhala Language', 'French Sign Language', 'Sumerian',\n",
       "       'Georgian Language', 'France', 'Wolof Language',\n",
       "       'Swiss German Language', 'Australian English', 'Telugu language',\n",
       "       'Malayalam Language', 'Sicilian Language', 'Cree language',\n",
       "       'Māori language', 'Korean Sign Language', 'Luxembourgish language',\n",
       "       'Krio Language', 'Mongolian language', 'Indian English',\n",
       "       'Khmer language', 'Cebuano language', 'Plautdietsch Language',\n",
       "       'Nepali Language', 'German', 'Klingon language', 'Akan Language',\n",
       "       'Shanghainese', 'Indonesian Language', 'Hmong language', 'Deutsch',\n",
       "       'Italian', 'Sotho language', 'Chewa language', 'Mohawk Language',\n",
       "       'Napoletano-Calabrese Language', 'Burmese Language',\n",
       "       'Brazilian Portuguese', 'Assyrian language', 'Romani language',\n",
       "       'Inuktitut', 'Min Nan', 'Taiwanese', 'Papiamento language',\n",
       "       'Tzotzil language', 'Nahuatl languages', 'Kuna language',\n",
       "       'Hausa Language'], dtype=object)"
      ]
     },
     "execution_count": 12,
     "metadata": {},
     "output_type": "execute_result"
    }
   ],
   "source": [
    "us_movies_metadata[\"languages\"].explode().unique()"
   ]
  },
  {
   "cell_type": "markdown",
   "metadata": {},
   "source": [
    "Of interest for us are: English Language, Silent Film, American English, Old English Language (for example Indian English is not very relevant for our analysis, as well as native american languages like Navajo or Hawaiian language). So let us remove any movie that doesn't have English Language, Silent Film, American English, Old English Language, or American Sign Language as one of their language"
   ]
  },
  {
   "cell_type": "code",
   "execution_count": 13,
   "metadata": {
    "collapsed": false,
    "jupyter": {
     "outputs_hidden": false
    },
    "tags": []
   },
   "outputs": [
    {
     "name": "stderr",
     "output_type": "stream",
     "text": [
      "/var/folders/my/4hvdfxj10f94l0xh5rd30q_h0000gn/T/ipykernel_6368/2393692174.py:1: UserWarning: Boolean Series key will be reindexed to match DataFrame index.\n",
      "  us_english_movies_metadata = us_movies_metadata[movies_metadata['languages'].str.contains('English Language' or 'Silent Film' or 'American English' or 'Old English Language' or 'American Sign Language', case=False)].copy()\n"
     ]
    }
   ],
   "source": [
    "us_english_movies_metadata = us_movies_metadata[movies_metadata['languages'].str.contains('English Language' or 'Silent Film' or 'American English' or 'Old English Language' or 'American Sign Language', case=False)].copy()"
   ]
  },
  {
   "cell_type": "markdown",
   "metadata": {},
   "source": [
    "Did we remove any movies by doing that?"
   ]
  },
  {
   "cell_type": "code",
   "execution_count": 14,
   "metadata": {
    "collapsed": false,
    "jupyter": {
     "outputs_hidden": false
    },
    "tags": []
   },
   "outputs": [
    {
     "name": "stdout",
     "output_type": "stream",
     "text": [
      "We had 33197 movies in our U.S data frame\n",
      "We now have 29830 in our English US data frame\n",
      "So there are 3367 movies that were from the US but not in any of the languages we decided to consider.\n",
      "We also see that in the movies we removed, there are 3022 movies that lack languages. For the next milestone we will thus find out the languages of these movies to complete the dataset.\n"
     ]
    }
   ],
   "source": [
    "print('We had',us_movies_metadata.wikipedia_ID.count(), 'movies in our U.S data frame')\n",
    "print('We now have', us_english_movies_metadata.wikipedia_ID.count(), 'in our English US data frame')\n",
    "print('So there are',us_movies_metadata.wikipedia_ID.count()-us_english_movies_metadata.wikipedia_ID.count(), 'movies that were from the US but not in any of the languages we decided to consider.')\n",
    "print('We also see that in the movies we removed, there are', np.sum(us_movies_metadata['languages'].apply(lambda x: len(x)==0)), 'movies that lack languages. For the next milestone we will thus find out the languages of these movies to complete the dataset.')"
   ]
  },
  {
   "cell_type": "markdown",
   "metadata": {},
   "source": [
    "**Now let us have a look at the genres we have in our dataset**"
   ]
  },
  {
   "cell_type": "code",
   "execution_count": 15,
   "metadata": {
    "collapsed": false,
    "jupyter": {
     "outputs_hidden": false
    },
    "tags": []
   },
   "outputs": [
    {
     "data": {
      "text/plain": [
       "array(['Thriller', 'Science Fiction', 'Horror', 'Adventure',\n",
       "       'Supernatural', 'Action', 'Space western', 'Mystery',\n",
       "       'Biographical film', 'Drama', 'Crime Drama', 'Short Film',\n",
       "       'Silent film', 'Indie', 'Black-and-white', 'Comedy', 'Musical',\n",
       "       'Romantic comedy', 'Ensemble Film', 'Comedy-drama',\n",
       "       'Romantic drama', 'Romance Film', \"Children's/Family\", 'Fantasy',\n",
       "       'Family Film', \"Children's Fantasy\", 'Future noir',\n",
       "       'Erotic thriller', 'Film adaptation', 'Crime Fiction',\n",
       "       'Coming of age', 'Marriage Drama', 'Western', 'Fan film',\n",
       "       'Black comedy', 'War film', 'Epic', 'Biopic [feature]',\n",
       "       'Historical Epic', 'Action/Adventure', 'Costume drama',\n",
       "       'Historical fiction', 'Culture & Society', 'Biography',\n",
       "       'Documentary', 'Christmas movie', 'Television movie',\n",
       "       'Action Comedy', 'Cult', 'Blaxploitation', 'Martial Arts Film',\n",
       "       'Epic Western', 'Softcore Porn', 'Sexploitation', 'Parody',\n",
       "       'B-movie', 'Zombie Film', 'Crime Thriller', 'Action Thrillers',\n",
       "       'Suspense', 'Comedy film', 'Slasher', 'Film noir', 'Social issues',\n",
       "       'Satire', 'Legal drama', 'Courtroom Drama', 'New Hollywood',\n",
       "       'Musical Drama', 'Family Drama', 'Crime Comedy', 'Gangster Film',\n",
       "       'Monster movie', 'Natural horror films', 'Creature Film',\n",
       "       'Gender Issues', 'LGBT', 'Political thriller', 'Political drama',\n",
       "       'Melodrama', 'Americana', 'Detective fiction', 'Detective',\n",
       "       'Music', 'Concert film', 'History', 'Sci-Fi Horror',\n",
       "       'Horror Comedy', 'Childhood Drama', 'Docudrama', 'Teen',\n",
       "       'Gothic Film', 'Disaster', 'Musical comedy',\n",
       "       'Family-Oriented Adventure', 'Psychological thriller',\n",
       "       'Escape Film', 'Prison', 'Superhero movie', 'Spy', 'Animation',\n",
       "       'Combat Films', 'Wuxia', 'Fantasy Adventure', 'Period piece',\n",
       "       'Chinese Movies', 'Political cinema', 'Slapstick', 'Erotic Drama',\n",
       "       'Erotica', 'Sports', 'Tragedy', 'Buddy film', 'Time travel',\n",
       "       'Sword and sorcery', 'World cinema', 'Gross-out film', 'Gross out',\n",
       "       'Historical drama', 'Doomsday film', 'Plague', 'Screwball comedy',\n",
       "       'Comedy Western', 'Rockumentary', 'Gay', 'Gay Interest',\n",
       "       'Gay Themed', 'Film à clef', 'Feminist Film', 'Pre-Code',\n",
       "       'Juvenile Delinquency Film', 'Natural disaster', 'Dance',\n",
       "       'Movie serial', 'Propaganda film', 'Comedy of manners',\n",
       "       \"Children's\", 'Comedy horror', 'Remake', 'Media Satire',\n",
       "       'Computer Animation', 'Fantasy Comedy', 'Law & Crime',\n",
       "       'Stop motion', 'Art film', 'Roadshow theatrical release',\n",
       "       'Sex comedy', 'Holiday Film', 'Heavenly Comedy', 'Road movie',\n",
       "       'Auto racing', 'Heist', 'Japanese Movies', 'Experimental film',\n",
       "       'Surrealism', 'Avant-garde', 'Archaeology', 'Romantic fantasy',\n",
       "       'Religious Film', 'Biker Film', 'Comedy of Errors', 'Absurdism',\n",
       "       'Domestic Comedy', 'Pornographic movie', 'Slice of life story',\n",
       "       'Hardcore pornography', 'Adult', 'Existentialism',\n",
       "       'Animated Musical', 'Cavalry Film', nan, 'Haunted House Film',\n",
       "       'Costume Adventure', 'Adventure Comedy', 'Space opera', 'Dystopia',\n",
       "       'Animals', 'Addiction Drama', 'Anthropology', 'Educational',\n",
       "       'Chase Movie', 'Extreme Sports', 'Christian film', 'Hagiography',\n",
       "       'Social problem film', 'Superhero', 'Anti-war', 'Anti-war film',\n",
       "       'Gay pornography', 'Environmental Science',\n",
       "       'Apocalyptic and post-apocalyptic fiction',\n",
       "       'Airplanes and airports', 'Alien Film', 'Animal Picture',\n",
       "       'Mockumentary', 'Animated cartoon', 'Film & Television History',\n",
       "       'Hybrid Western', 'Inspirational Drama', 'Revisionist Western',\n",
       "       'Jungle Film', 'Fairy tale', 'Punk rock',\n",
       "       'Libraries and librarians', 'Workplace Comedy', 'Caper story',\n",
       "       'Swashbuckler films', 'Demonic child', 'Illnesses & Disabilities',\n",
       "       'Expressionism', 'Early Black Cinema', 'Political satire',\n",
       "       'Comedy Thriller', 'Interpersonal Relationships', 'Whodunit',\n",
       "       'Sword and sorcery films', 'B-Western', 'Filmed Play', 'Northern',\n",
       "       'Hip hop movies', 'Film', 'Nature', 'Travel', 'Mumblecore',\n",
       "       'Glamorized Spy Film', \"Children's Entertainment\",\n",
       "       'Medical fiction', 'Stand-up comedy', 'Star vehicle', 'Business',\n",
       "       'Journalism', 'Graphic & Applied Arts', 'Camp', 'Boxing', 'Anime',\n",
       "       'Sword and Sandal', 'Sci-Fi Adventure', 'Alien invasion',\n",
       "       'Sponsored film', 'Foreign legion', 'Pornography',\n",
       "       'Heaven-Can-Wait Fantasies', 'Tragicomedy',\n",
       "       'Women in prison films', 'Stoner film', 'Prison film', 'Monster',\n",
       "       'Conspiracy fiction', 'Master Criminal Films', 'Jukebox musical',\n",
       "       'Indian Western', 'Road-Horror', 'Werewolf fiction', 'Neo-noir',\n",
       "       'Private military company', 'Finance & Investing', 'Computers',\n",
       "       'Backstage Musical', 'Movies About Gladiators', 'Horse racing',\n",
       "       'Exploitation', 'Roadshow/Carny', 'Nuclear warfare',\n",
       "       'Instrumental Music', 'Archives and records', 'Psycho-biddy',\n",
       "       'Filipino Movies', 'Outlaw biker film', 'Prison escape',\n",
       "       'Spaghetti Western', 'Z movie', 'News', 'Beach Film',\n",
       "       'Live action', 'Education', 'Health & Fitness',\n",
       "       'Science fiction Western', 'Bloopers & Candid Camera',\n",
       "       'Media Studies', 'Crime', 'Costume Horror', 'Psychological horror',\n",
       "       'Albino bias', 'Mondo film', 'Family & Personal Relationships',\n",
       "       'Steampunk', 'Baseball', 'Buddy cop', 'Fantasy Drama',\n",
       "       'Sci-Fi Thriller', 'Courtroom Comedy', 'Language & Literature',\n",
       "       'Operetta', 'Mythological Fantasy', 'Cyberpunk',\n",
       "       'Coming-of-age film', 'Cold War', 'Essay Film',\n",
       "       'British Empire Film', 'Inventions & Innovations', 'World History',\n",
       "       'Splatter film', \"Children's Issues\", 'Female buddy film',\n",
       "       'Race movie', 'Breakdance', 'War effort', 'Bollywood', 'Reboot',\n",
       "       'Humour', 'School story', 'Sci Fi Pictures original films',\n",
       "       'Gulf War', 'Outlaw', 'Feature film', 'Dogme 95', 'Kafkaesque',\n",
       "       'Vampire movies', 'Goat gland', 'Therimin music',\n",
       "       'Beach Party film', 'Fictional film', 'Singing cowboy',\n",
       "       'Point of view shot', 'Clay animation', 'Acid western',\n",
       "       'Parkour in popular culture', 'Patriotic film', 'Anthology',\n",
       "       'Chick flick', 'Ealing Comedies', 'Samurai cinema',\n",
       "       'Political Documetary', 'Ninja movie', 'Statutory rape', 'Giallo',\n",
       "       'British New Wave', 'Supermarionation', 'Period Horror',\n",
       "       'The Netherlands in World War II', 'Revisionist Fairy Tale'],\n",
       "      dtype=object)"
      ]
     },
     "execution_count": 15,
     "metadata": {},
     "output_type": "execute_result"
    }
   ],
   "source": [
    "us_english_movies_metadata[\"genre\"].explode().unique()"
   ]
  },
  {
   "cell_type": "markdown",
   "metadata": {},
   "source": [
    "As we can see we have a massive amount (342) of genres, so at some point we will need to filter or chose certain genres to analyze."
   ]
  },
  {
   "cell_type": "markdown",
   "metadata": {},
   "source": [
    "\n",
    "**Plot of the number of movies per year**"
   ]
  },
  {
   "cell_type": "code",
   "execution_count": 16,
   "metadata": {
    "collapsed": false,
    "jupyter": {
     "outputs_hidden": false
    },
    "tags": []
   },
   "outputs": [],
   "source": [
    "#us_english_movies_metadata['release_date'] = pd.to_datetime(us_english_movies_metadata['release_date'],format='mixed', errors='coerce')\n",
    "#us_english_movies_metadata"
   ]
  },
  {
   "cell_type": "code",
   "execution_count": 17,
   "metadata": {
    "collapsed": false,
    "jupyter": {
     "outputs_hidden": false
    },
    "tags": []
   },
   "outputs": [
    {
     "data": {
      "image/png": "[encoded data removed]",
      "text/plain": [
       "<Figure size 1000x600 with 1 Axes>"
      ]
     },
     "metadata": {},
     "output_type": "display_data"
    }
   ],
   "source": [
    "# Group movies by release year\n",
    "movies_grouped_by_year = us_english_movies_metadata.groupby(us_english_movies_metadata['release_date'].dt.year)\n",
    "\n",
    "#number of movies per year\n",
    "number_movies_per_year = movies_grouped_by_year.size()\n",
    "\n",
    "plt.figure(figsize=(10, 6))\n",
    "number_movies_per_year.plot(kind='line', color = 'cornflowerblue')\n",
    "plt.title('Number of Movies Released per Year')\n",
    "plt.xlabel('Year')\n",
    "plt.ylabel('Number of Movies')\n",
    "plt.grid(True)\n",
    "plt.show()"
   ]
  },
  {
   "cell_type": "markdown",
   "metadata": {},
   "source": [
    "We can see on this plot that before 1912 we have very little movies. We will thus only keep movies from 1912 and later years."
   ]
  },
  {
   "cell_type": "code",
   "execution_count": 18,
   "metadata": {
    "collapsed": false,
    "jupyter": {
     "outputs_hidden": false
    },
    "tags": []
   },
   "outputs": [],
   "source": [
    "us_english_movies_metadata = us_english_movies_metadata[us_english_movies_metadata['release_date'].dt.year >= 1912]"
   ]
  },
  {
   "cell_type": "markdown",
   "metadata": {},
   "source": [
    "Let us merge this movies dataframe with the synopses"
   ]
  },
  {
   "cell_type": "code",
   "execution_count": 19,
   "metadata": {
    "collapsed": false,
    "jupyter": {
     "outputs_hidden": false
    },
    "tags": []
   },
   "outputs": [],
   "source": [
    "us_english_movies_synopsis = pd.merge(us_english_movies_metadata, plot_summaries, how='left', on = 'wikipedia_ID')"
   ]
  },
  {
   "cell_type": "code",
   "execution_count": 20,
   "metadata": {
    "collapsed": false,
    "jupyter": {
     "outputs_hidden": false
    },
    "tags": []
   },
   "outputs": [
    {
     "data": {
      "text/html": [
       "<div>\n",
       "<style scoped>\n",
       "    .dataframe tbody tr th:only-of-type {\n",
       "        vertical-align: middle;\n",
       "    }\n",
       "\n",
       "    .dataframe tbody tr th {\n",
       "        vertical-align: top;\n",
       "    }\n",
       "\n",
       "    .dataframe thead th {\n",
       "        text-align: right;\n",
       "    }\n",
       "</style>\n",
       "<table border=\"1\" class=\"dataframe\">\n",
       "  <thead>\n",
       "    <tr style=\"text-align: right;\">\n",
       "      <th></th>\n",
       "      <th>wikipedia_ID</th>\n",
       "      <th>freebase_ID</th>\n",
       "      <th>name</th>\n",
       "      <th>release_date</th>\n",
       "      <th>box_office_revenue</th>\n",
       "      <th>runtime</th>\n",
       "      <th>languages</th>\n",
       "      <th>countries</th>\n",
       "      <th>genre</th>\n",
       "      <th>plot_summary</th>\n",
       "    </tr>\n",
       "  </thead>\n",
       "  <tbody>\n",
       "    <tr>\n",
       "      <th>0</th>\n",
       "      <td>975900</td>\n",
       "      <td>/m/03vyhn</td>\n",
       "      <td>Ghosts of Mars</td>\n",
       "      <td>2001-08-24</td>\n",
       "      <td>14010832.0</td>\n",
       "      <td>98.0</td>\n",
       "      <td>[English Language]</td>\n",
       "      <td>[United States of America]</td>\n",
       "      <td>[Thriller, Science Fiction, Horror, Adventure,...</td>\n",
       "      <td>Set in the second half of the 22nd century, th...</td>\n",
       "    </tr>\n",
       "    <tr>\n",
       "      <th>1</th>\n",
       "      <td>3196793</td>\n",
       "      <td>/m/08yl5d</td>\n",
       "      <td>Getting Away with Murder: The JonBenét Ramsey ...</td>\n",
       "      <td>2000-02-16</td>\n",
       "      <td>NaN</td>\n",
       "      <td>95.0</td>\n",
       "      <td>[English Language]</td>\n",
       "      <td>[United States of America]</td>\n",
       "      <td>[Mystery, Biographical film, Drama, Crime Drama]</td>\n",
       "      <td>NaN</td>\n",
       "    </tr>\n",
       "    <tr>\n",
       "      <th>2</th>\n",
       "      <td>13696889</td>\n",
       "      <td>/m/03cfc81</td>\n",
       "      <td>The Gangsters</td>\n",
       "      <td>1913-05-29</td>\n",
       "      <td>NaN</td>\n",
       "      <td>35.0</td>\n",
       "      <td>[Silent film, English Language]</td>\n",
       "      <td>[United States of America]</td>\n",
       "      <td>[Short Film, Silent film, Indie, Black-and-whi...</td>\n",
       "      <td>NaN</td>\n",
       "    </tr>\n",
       "    <tr>\n",
       "      <th>3</th>\n",
       "      <td>10408933</td>\n",
       "      <td>/m/02qc0j7</td>\n",
       "      <td>Alexander's Ragtime Band</td>\n",
       "      <td>1938-08-16</td>\n",
       "      <td>3600000.0</td>\n",
       "      <td>106.0</td>\n",
       "      <td>[English Language]</td>\n",
       "      <td>[United States of America]</td>\n",
       "      <td>[Musical, Comedy, Black-and-white]</td>\n",
       "      <td>NaN</td>\n",
       "    </tr>\n",
       "    <tr>\n",
       "      <th>4</th>\n",
       "      <td>175026</td>\n",
       "      <td>/m/017n1p</td>\n",
       "      <td>Sarah and Son</td>\n",
       "      <td>1930-01-01</td>\n",
       "      <td>NaN</td>\n",
       "      <td>86.0</td>\n",
       "      <td>[English Language]</td>\n",
       "      <td>[United States of America]</td>\n",
       "      <td>[Drama, Black-and-white]</td>\n",
       "      <td>NaN</td>\n",
       "    </tr>\n",
       "    <tr>\n",
       "      <th>...</th>\n",
       "      <td>...</td>\n",
       "      <td>...</td>\n",
       "      <td>...</td>\n",
       "      <td>...</td>\n",
       "      <td>...</td>\n",
       "      <td>...</td>\n",
       "      <td>...</td>\n",
       "      <td>...</td>\n",
       "      <td>...</td>\n",
       "      <td>...</td>\n",
       "    </tr>\n",
       "    <tr>\n",
       "      <th>29662</th>\n",
       "      <td>34474142</td>\n",
       "      <td>/m/0cpy07r</td>\n",
       "      <td>Frontier Fury</td>\n",
       "      <td>1943-06-24</td>\n",
       "      <td>NaN</td>\n",
       "      <td>55.0</td>\n",
       "      <td>[English Language]</td>\n",
       "      <td>[United States of America]</td>\n",
       "      <td>[Western]</td>\n",
       "      <td>NaN</td>\n",
       "    </tr>\n",
       "    <tr>\n",
       "      <th>29663</th>\n",
       "      <td>1918494</td>\n",
       "      <td>/m/0660qx</td>\n",
       "      <td>State and Main</td>\n",
       "      <td>2000-08-26</td>\n",
       "      <td>6944471.0</td>\n",
       "      <td>106.0</td>\n",
       "      <td>[Italian Language, English Language]</td>\n",
       "      <td>[France, United States of America]</td>\n",
       "      <td>[Parody, Americana, Comedy]</td>\n",
       "      <td>Havoc is wrought on the inhabitants of a small...</td>\n",
       "    </tr>\n",
       "    <tr>\n",
       "      <th>29664</th>\n",
       "      <td>24209227</td>\n",
       "      <td>/m/07k5mlk</td>\n",
       "      <td>The Time, the Place and the Girl</td>\n",
       "      <td>1946-01-01</td>\n",
       "      <td>NaN</td>\n",
       "      <td>105.0</td>\n",
       "      <td>[English Language]</td>\n",
       "      <td>[United States of America]</td>\n",
       "      <td>[Comedy film, Romance Film, Musical]</td>\n",
       "      <td>NaN</td>\n",
       "    </tr>\n",
       "    <tr>\n",
       "      <th>29665</th>\n",
       "      <td>35228177</td>\n",
       "      <td>/m/0j7hxnt</td>\n",
       "      <td>Mermaids: The Body Found</td>\n",
       "      <td>2011-03-19</td>\n",
       "      <td>NaN</td>\n",
       "      <td>120.0</td>\n",
       "      <td>[English Language]</td>\n",
       "      <td>[United States of America]</td>\n",
       "      <td>[Drama]</td>\n",
       "      <td>Two former National Oceanic Atmospheric Admini...</td>\n",
       "    </tr>\n",
       "    <tr>\n",
       "      <th>29666</th>\n",
       "      <td>9971909</td>\n",
       "      <td>/m/02pygw1</td>\n",
       "      <td>Another Nice Mess</td>\n",
       "      <td>1972-09-22</td>\n",
       "      <td>NaN</td>\n",
       "      <td>66.0</td>\n",
       "      <td>[English Language]</td>\n",
       "      <td>[United States of America]</td>\n",
       "      <td>[Satire, Comedy]</td>\n",
       "      <td>NaN</td>\n",
       "    </tr>\n",
       "  </tbody>\n",
       "</table>\n",
       "<p>29667 rows × 10 columns</p>\n",
       "</div>"
      ],
      "text/plain": [
       "       wikipedia_ID freebase_ID  \\\n",
       "0            975900   /m/03vyhn   \n",
       "1           3196793   /m/08yl5d   \n",
       "2          13696889  /m/03cfc81   \n",
       "3          10408933  /m/02qc0j7   \n",
       "4            175026   /m/017n1p   \n",
       "...             ...         ...   \n",
       "29662      34474142  /m/0cpy07r   \n",
       "29663       1918494   /m/0660qx   \n",
       "29664      24209227  /m/07k5mlk   \n",
       "29665      35228177  /m/0j7hxnt   \n",
       "29666       9971909  /m/02pygw1   \n",
       "\n",
       "                                                    name release_date  \\\n",
       "0                                         Ghosts of Mars   2001-08-24   \n",
       "1      Getting Away with Murder: The JonBenét Ramsey ...   2000-02-16   \n",
       "2                                          The Gangsters   1913-05-29   \n",
       "3                               Alexander's Ragtime Band   1938-08-16   \n",
       "4                                          Sarah and Son   1930-01-01   \n",
       "...                                                  ...          ...   \n",
       "29662                                      Frontier Fury   1943-06-24   \n",
       "29663                                     State and Main   2000-08-26   \n",
       "29664                   The Time, the Place and the Girl   1946-01-01   \n",
       "29665                           Mermaids: The Body Found   2011-03-19   \n",
       "29666                                  Another Nice Mess   1972-09-22   \n",
       "\n",
       "       box_office_revenue  runtime                             languages  \\\n",
       "0              14010832.0     98.0                    [English Language]   \n",
       "1                     NaN     95.0                    [English Language]   \n",
       "2                     NaN     35.0       [Silent film, English Language]   \n",
       "3               3600000.0    106.0                    [English Language]   \n",
       "4                     NaN     86.0                    [English Language]   \n",
       "...                   ...      ...                                   ...   \n",
       "29662                 NaN     55.0                    [English Language]   \n",
       "29663           6944471.0    106.0  [Italian Language, English Language]   \n",
       "29664                 NaN    105.0                    [English Language]   \n",
       "29665                 NaN    120.0                    [English Language]   \n",
       "29666                 NaN     66.0                    [English Language]   \n",
       "\n",
       "                                countries  \\\n",
       "0              [United States of America]   \n",
       "1              [United States of America]   \n",
       "2              [United States of America]   \n",
       "3              [United States of America]   \n",
       "4              [United States of America]   \n",
       "...                                   ...   \n",
       "29662          [United States of America]   \n",
       "29663  [France, United States of America]   \n",
       "29664          [United States of America]   \n",
       "29665          [United States of America]   \n",
       "29666          [United States of America]   \n",
       "\n",
       "                                                   genre  \\\n",
       "0      [Thriller, Science Fiction, Horror, Adventure,...   \n",
       "1       [Mystery, Biographical film, Drama, Crime Drama]   \n",
       "2      [Short Film, Silent film, Indie, Black-and-whi...   \n",
       "3                     [Musical, Comedy, Black-and-white]   \n",
       "4                               [Drama, Black-and-white]   \n",
       "...                                                  ...   \n",
       "29662                                          [Western]   \n",
       "29663                        [Parody, Americana, Comedy]   \n",
       "29664               [Comedy film, Romance Film, Musical]   \n",
       "29665                                            [Drama]   \n",
       "29666                                   [Satire, Comedy]   \n",
       "\n",
       "                                            plot_summary  \n",
       "0      Set in the second half of the 22nd century, th...  \n",
       "1                                                    NaN  \n",
       "2                                                    NaN  \n",
       "3                                                    NaN  \n",
       "4                                                    NaN  \n",
       "...                                                  ...  \n",
       "29662                                                NaN  \n",
       "29663  Havoc is wrought on the inhabitants of a small...  \n",
       "29664                                                NaN  \n",
       "29665  Two former National Oceanic Atmospheric Admini...  \n",
       "29666                                                NaN  \n",
       "\n",
       "[29667 rows x 10 columns]"
      ]
     },
     "execution_count": 20,
     "metadata": {},
     "output_type": "execute_result"
    }
   ],
   "source": [
    "us_english_movies_synopsis"
   ]
  },
  {
   "cell_type": "markdown",
   "metadata": {},
   "source": [
    "Do we have a lot of missing summaries?"
   ]
  },
  {
   "cell_type": "code",
   "execution_count": 21,
   "metadata": {
    "collapsed": false,
    "jupyter": {
     "outputs_hidden": false
    },
    "tags": []
   },
   "outputs": [
    {
     "name": "stdout",
     "output_type": "stream",
     "text": [
      "We only have 18805 movies out of 29667 with a summary, which means we only have 60.59% of the movies with the plotline. However, the plot summary analysis might be too costly to run on a lot of summaries. It might therefore be reasonable not to complete the missing plot summaries.\n"
     ]
    }
   ],
   "source": [
    "missing_plot = us_english_movies_synopsis['plot_summary'].isna().sum()\n",
    "number_of_movies = len(us_english_movies_synopsis['plot_summary'])\n",
    "print('We only have', number_of_movies- missing_plot, 'movies out of',number_of_movies, \"with a summary, which means we only have 60.59% of the movies with the plotline. However, the plot summary analysis might be too costly to run on a lot of summaries. It might therefore be reasonable not to complete the missing plot summaries.\" )"
   ]
  },
  {
   "cell_type": "markdown",
   "metadata": {},
   "source": [
    "# Character Dataset: Filtering"
   ]
  },
  {
   "cell_type": "markdown",
   "metadata": {},
   "source": [
    "Let's start by checking the completeness of the character dataset:"
   ]
  },
  {
   "cell_type": "code",
   "execution_count": 22,
   "metadata": {
    "collapsed": false,
    "jupyter": {
     "outputs_hidden": false
    },
    "tags": []
   },
   "outputs": [
    {
     "data": {
      "text/plain": [
       "wikipedia_ID                      100.000000\n",
       "freebase_ID                       100.000000\n",
       "release_date                       97.782186\n",
       "character_name                     42.779512\n",
       "actor_birthday                     76.447237\n",
       "actor_gender                       89.879712\n",
       "actor_height                       34.354260\n",
       "actor_ethnicity                    23.533458\n",
       "actor_name                         99.727516\n",
       "actor_age                          64.915936\n",
       "freebase_character_actor_mapID    100.000000\n",
       "freebase_character_ID              42.781731\n",
       "freebase_actor_ID                  99.819158\n",
       "dtype: float64"
      ]
     },
     "execution_count": 22,
     "metadata": {},
     "output_type": "execute_result"
    }
   ],
   "source": [
    "number_of_data_character= character_metadata.count()\n",
    "proportion_of_each_data_character = number_of_data_character/number_of_data_character['wikipedia_ID']*100\n",
    "proportion_of_each_data_character"
   ]
  },
  {
   "cell_type": "markdown",
   "metadata": {},
   "source": [
    "The data seems pretty complete regarding the release date of the movies, actor's gender and actor's age. Nevertheless, we need  to complete the dataset with more character's name to be able to analyze deeper the personnas associated with them and use this result in our analysis. getting also more data on actors' ethnicity would also be of choice as this will allow us to extend our analysis to other minorities such as people of color."
   ]
  },
  {
   "cell_type": "code",
   "execution_count": 23,
   "metadata": {
    "collapsed": false,
    "jupyter": {
     "outputs_hidden": false
    },
    "tags": []
   },
   "outputs": [],
   "source": [
    "# remove unknown release dates\n",
    "character_metadata = character_metadata.dropna(subset='release_date')\n",
    "# convert the release_date to a date format (YYYY/MM/DD but any date that initially only has a year will be converted to YYYY/01/01)\n",
    "character_metadata['release_date'] = character_metadata['release_date'].astype(str)\n",
    "#character_metadata['actor_birthday'] = character_metadata['actor_birthday'].astype(str)\n",
    "character_metadata['release_date'] = pd.to_datetime(character_metadata['release_date'], format = 'mixed', errors='coerce').dt.year\n",
    "#character_metadata['actor_birthday'] = pd.to_datetime(character_metadata['actor_birthday'], format = 'mixed', errors='coerce').dt.year"
   ]
  },
  {
   "cell_type": "markdown",
   "metadata": {},
   "source": [
    "First we will only keep the characters related to the movies we previously filtered"
   ]
  },
  {
   "cell_type": "code",
   "execution_count": 24,
   "metadata": {
    "collapsed": false,
    "jupyter": {
     "outputs_hidden": false
    },
    "tags": []
   },
   "outputs": [],
   "source": [
    "us_movie_mask = character_metadata['wikipedia_ID'].isin(us_english_movies_metadata['wikipedia_ID'])\n",
    "character_metadata = character_metadata[us_movie_mask]"
   ]
  },
  {
   "cell_type": "markdown",
   "metadata": {},
   "source": [
    "Let's filter the character metadata to remove actors with a gender differing from F or M. However, let's first explore the values that \"gender\" take."
   ]
  },
  {
   "cell_type": "code",
   "execution_count": 25,
   "metadata": {
    "collapsed": false,
    "jupyter": {
     "outputs_hidden": false
    },
    "tags": []
   },
   "outputs": [
    {
     "data": {
      "text/plain": [
       "actor_gender\n",
       "F      67647\n",
       "M     141440\n",
       "NA     17185\n",
       "Name: actor_name, dtype: int64"
      ]
     },
     "metadata": {},
     "output_type": "display_data"
    }
   ],
   "source": [
    "# Check values in the \"actor_gender\" column\n",
    "character_metadata.loc[character_metadata.actor_gender.isna(), \"actor_gender\"] = \"NA\"\n",
    "display(character_metadata.groupby(\"actor_gender\").count().actor_name)"
   ]
  },
  {
   "cell_type": "markdown",
   "metadata": {},
   "source": [
    "As expected, actor's gender is either F (female), M (male) or NA (not mentionned). Nevertheless, this check was necessary in order to make sure no one identified as non-binary for example. Let's now remove the actors with NA as gender as well as all the characters in movies that have no release date as our analysis is related to time.\n"
   ]
  },
  {
   "cell_type": "code",
   "execution_count": 26,
   "metadata": {
    "collapsed": false,
    "jupyter": {
     "outputs_hidden": false
    },
    "tags": []
   },
   "outputs": [
    {
     "data": {
      "text/html": [
       "<div>\n",
       "<style scoped>\n",
       "    .dataframe tbody tr th:only-of-type {\n",
       "        vertical-align: middle;\n",
       "    }\n",
       "\n",
       "    .dataframe tbody tr th {\n",
       "        vertical-align: top;\n",
       "    }\n",
       "\n",
       "    .dataframe thead th {\n",
       "        text-align: right;\n",
       "    }\n",
       "</style>\n",
       "<table border=\"1\" class=\"dataframe\">\n",
       "  <thead>\n",
       "    <tr style=\"text-align: right;\">\n",
       "      <th></th>\n",
       "      <th>wikipedia_ID</th>\n",
       "      <th>freebase_ID</th>\n",
       "      <th>release_date</th>\n",
       "      <th>character_name</th>\n",
       "      <th>actor_birthday</th>\n",
       "      <th>actor_gender</th>\n",
       "      <th>actor_height</th>\n",
       "      <th>actor_ethnicity</th>\n",
       "      <th>actor_name</th>\n",
       "      <th>actor_age</th>\n",
       "      <th>freebase_character_actor_mapID</th>\n",
       "      <th>freebase_character_ID</th>\n",
       "      <th>freebase_actor_ID</th>\n",
       "    </tr>\n",
       "  </thead>\n",
       "  <tbody>\n",
       "    <tr>\n",
       "      <th>0</th>\n",
       "      <td>975900</td>\n",
       "      <td>/m/03vyhn</td>\n",
       "      <td>2001.0</td>\n",
       "      <td>Akooshay</td>\n",
       "      <td>1958-08-26</td>\n",
       "      <td>F</td>\n",
       "      <td>1.620</td>\n",
       "      <td>NaN</td>\n",
       "      <td>Wanda De Jesus</td>\n",
       "      <td>42.0</td>\n",
       "      <td>/m/0bgchxw</td>\n",
       "      <td>/m/0bgcj3x</td>\n",
       "      <td>/m/03wcfv7</td>\n",
       "    </tr>\n",
       "    <tr>\n",
       "      <th>1</th>\n",
       "      <td>975900</td>\n",
       "      <td>/m/03vyhn</td>\n",
       "      <td>2001.0</td>\n",
       "      <td>Lieutenant Melanie Ballard</td>\n",
       "      <td>1974-08-15</td>\n",
       "      <td>F</td>\n",
       "      <td>1.780</td>\n",
       "      <td>/m/044038p</td>\n",
       "      <td>Natasha Henstridge</td>\n",
       "      <td>27.0</td>\n",
       "      <td>/m/0jys3m</td>\n",
       "      <td>/m/0bgchn4</td>\n",
       "      <td>/m/0346l4</td>\n",
       "    </tr>\n",
       "    <tr>\n",
       "      <th>2</th>\n",
       "      <td>975900</td>\n",
       "      <td>/m/03vyhn</td>\n",
       "      <td>2001.0</td>\n",
       "      <td>Desolation Williams</td>\n",
       "      <td>1969-06-15</td>\n",
       "      <td>M</td>\n",
       "      <td>1.727</td>\n",
       "      <td>/m/0x67</td>\n",
       "      <td>Ice Cube</td>\n",
       "      <td>32.0</td>\n",
       "      <td>/m/0jys3g</td>\n",
       "      <td>/m/0bgchn_</td>\n",
       "      <td>/m/01vw26l</td>\n",
       "    </tr>\n",
       "    <tr>\n",
       "      <th>3</th>\n",
       "      <td>975900</td>\n",
       "      <td>/m/03vyhn</td>\n",
       "      <td>2001.0</td>\n",
       "      <td>Sgt Jericho Butler</td>\n",
       "      <td>1967-09-12</td>\n",
       "      <td>M</td>\n",
       "      <td>1.750</td>\n",
       "      <td>NaN</td>\n",
       "      <td>Jason Statham</td>\n",
       "      <td>33.0</td>\n",
       "      <td>/m/02vchl6</td>\n",
       "      <td>/m/0bgchnq</td>\n",
       "      <td>/m/034hyc</td>\n",
       "    </tr>\n",
       "    <tr>\n",
       "      <th>4</th>\n",
       "      <td>975900</td>\n",
       "      <td>/m/03vyhn</td>\n",
       "      <td>2001.0</td>\n",
       "      <td>Bashira Kincaid</td>\n",
       "      <td>1977-09-25</td>\n",
       "      <td>F</td>\n",
       "      <td>1.650</td>\n",
       "      <td>NaN</td>\n",
       "      <td>Clea DuVall</td>\n",
       "      <td>23.0</td>\n",
       "      <td>/m/02vbb3r</td>\n",
       "      <td>/m/0bgchp9</td>\n",
       "      <td>/m/01y9xg</td>\n",
       "    </tr>\n",
       "    <tr>\n",
       "      <th>...</th>\n",
       "      <td>...</td>\n",
       "      <td>...</td>\n",
       "      <td>...</td>\n",
       "      <td>...</td>\n",
       "      <td>...</td>\n",
       "      <td>...</td>\n",
       "      <td>...</td>\n",
       "      <td>...</td>\n",
       "      <td>...</td>\n",
       "      <td>...</td>\n",
       "      <td>...</td>\n",
       "      <td>...</td>\n",
       "      <td>...</td>\n",
       "    </tr>\n",
       "    <tr>\n",
       "      <th>450638</th>\n",
       "      <td>30553937</td>\n",
       "      <td>/m/0g9ts5h</td>\n",
       "      <td>1998.0</td>\n",
       "      <td>Restaurant Manager</td>\n",
       "      <td>NaN</td>\n",
       "      <td>M</td>\n",
       "      <td>NaN</td>\n",
       "      <td>NaN</td>\n",
       "      <td>Randy Harris</td>\n",
       "      <td>NaN</td>\n",
       "      <td>/m/0jxtsx5</td>\n",
       "      <td>/m/0jxtsx8</td>\n",
       "      <td>/m/0jxtsxh</td>\n",
       "    </tr>\n",
       "    <tr>\n",
       "      <th>450639</th>\n",
       "      <td>30553937</td>\n",
       "      <td>/m/0g9ts5h</td>\n",
       "      <td>1998.0</td>\n",
       "      <td>Julia</td>\n",
       "      <td>1975-10-10</td>\n",
       "      <td>F</td>\n",
       "      <td>NaN</td>\n",
       "      <td>NaN</td>\n",
       "      <td>Natalie Ramsey</td>\n",
       "      <td>22.0</td>\n",
       "      <td>/m/0jxtsw7</td>\n",
       "      <td>/m/0jxtswb</td>\n",
       "      <td>/m/027dt0m</td>\n",
       "    </tr>\n",
       "    <tr>\n",
       "      <th>450640</th>\n",
       "      <td>7223293</td>\n",
       "      <td>/m/0kv0xs</td>\n",
       "      <td>1925.0</td>\n",
       "      <td>NaN</td>\n",
       "      <td>1894-02-28</td>\n",
       "      <td>M</td>\n",
       "      <td>NaN</td>\n",
       "      <td>NaN</td>\n",
       "      <td>Sid Smith</td>\n",
       "      <td>NaN</td>\n",
       "      <td>/m/02vcw0s</td>\n",
       "      <td>NaN</td>\n",
       "      <td>/m/02qrq5t</td>\n",
       "    </tr>\n",
       "    <tr>\n",
       "      <th>450641</th>\n",
       "      <td>9971909</td>\n",
       "      <td>/m/02pygw1</td>\n",
       "      <td>1972.0</td>\n",
       "      <td>NaN</td>\n",
       "      <td>1938-11-26</td>\n",
       "      <td>M</td>\n",
       "      <td>NaN</td>\n",
       "      <td>NaN</td>\n",
       "      <td>Rich Little</td>\n",
       "      <td>33.0</td>\n",
       "      <td>/m/02vbk4r</td>\n",
       "      <td>NaN</td>\n",
       "      <td>/m/03m6t5</td>\n",
       "    </tr>\n",
       "    <tr>\n",
       "      <th>450642</th>\n",
       "      <td>9971909</td>\n",
       "      <td>/m/02pygw1</td>\n",
       "      <td>1972.0</td>\n",
       "      <td>NaN</td>\n",
       "      <td>1918-10-02</td>\n",
       "      <td>M</td>\n",
       "      <td>NaN</td>\n",
       "      <td>NaN</td>\n",
       "      <td>Herb Voland</td>\n",
       "      <td>53.0</td>\n",
       "      <td>/m/0ggdv2_</td>\n",
       "      <td>NaN</td>\n",
       "      <td>/m/02qylb9</td>\n",
       "    </tr>\n",
       "  </tbody>\n",
       "</table>\n",
       "<p>209088 rows × 13 columns</p>\n",
       "</div>"
      ],
      "text/plain": [
       "        wikipedia_ID freebase_ID  release_date              character_name  \\\n",
       "0             975900   /m/03vyhn        2001.0                    Akooshay   \n",
       "1             975900   /m/03vyhn        2001.0  Lieutenant Melanie Ballard   \n",
       "2             975900   /m/03vyhn        2001.0         Desolation Williams   \n",
       "3             975900   /m/03vyhn        2001.0          Sgt Jericho Butler   \n",
       "4             975900   /m/03vyhn        2001.0             Bashira Kincaid   \n",
       "...              ...         ...           ...                         ...   \n",
       "450638      30553937  /m/0g9ts5h        1998.0          Restaurant Manager   \n",
       "450639      30553937  /m/0g9ts5h        1998.0                       Julia   \n",
       "450640       7223293   /m/0kv0xs        1925.0                         NaN   \n",
       "450641       9971909  /m/02pygw1        1972.0                         NaN   \n",
       "450642       9971909  /m/02pygw1        1972.0                         NaN   \n",
       "\n",
       "       actor_birthday actor_gender  actor_height actor_ethnicity  \\\n",
       "0          1958-08-26            F         1.620             NaN   \n",
       "1          1974-08-15            F         1.780      /m/044038p   \n",
       "2          1969-06-15            M         1.727         /m/0x67   \n",
       "3          1967-09-12            M         1.750             NaN   \n",
       "4          1977-09-25            F         1.650             NaN   \n",
       "...               ...          ...           ...             ...   \n",
       "450638            NaN            M           NaN             NaN   \n",
       "450639     1975-10-10            F           NaN             NaN   \n",
       "450640     1894-02-28            M           NaN             NaN   \n",
       "450641     1938-11-26            M           NaN             NaN   \n",
       "450642     1918-10-02            M           NaN             NaN   \n",
       "\n",
       "                actor_name  actor_age freebase_character_actor_mapID  \\\n",
       "0           Wanda De Jesus       42.0                     /m/0bgchxw   \n",
       "1       Natasha Henstridge       27.0                      /m/0jys3m   \n",
       "2                 Ice Cube       32.0                      /m/0jys3g   \n",
       "3            Jason Statham       33.0                     /m/02vchl6   \n",
       "4              Clea DuVall       23.0                     /m/02vbb3r   \n",
       "...                    ...        ...                            ...   \n",
       "450638        Randy Harris        NaN                     /m/0jxtsx5   \n",
       "450639      Natalie Ramsey       22.0                     /m/0jxtsw7   \n",
       "450640           Sid Smith        NaN                     /m/02vcw0s   \n",
       "450641         Rich Little       33.0                     /m/02vbk4r   \n",
       "450642         Herb Voland       53.0                     /m/0ggdv2_   \n",
       "\n",
       "       freebase_character_ID freebase_actor_ID  \n",
       "0                 /m/0bgcj3x        /m/03wcfv7  \n",
       "1                 /m/0bgchn4         /m/0346l4  \n",
       "2                 /m/0bgchn_        /m/01vw26l  \n",
       "3                 /m/0bgchnq         /m/034hyc  \n",
       "4                 /m/0bgchp9         /m/01y9xg  \n",
       "...                      ...               ...  \n",
       "450638            /m/0jxtsx8        /m/0jxtsxh  \n",
       "450639            /m/0jxtswb        /m/027dt0m  \n",
       "450640                   NaN        /m/02qrq5t  \n",
       "450641                   NaN         /m/03m6t5  \n",
       "450642                   NaN        /m/02qylb9  \n",
       "\n",
       "[209088 rows x 13 columns]"
      ]
     },
     "metadata": {},
     "output_type": "display_data"
    },
    {
     "name": "stdout",
     "output_type": "stream",
     "text": [
      "From the original character dataset, we dropped  17841 characters either because the movie had no release date or the gender of the actor was not specified, out of  226929 characters initially.\n"
     ]
    }
   ],
   "source": [
    "# remove any value that is not \"F\" or \"M\" in the \"gender\" column or the character metadata, keeps the rest\n",
    "character_metadata_noNA_gender = character_metadata[character_metadata[\"actor_gender\"].isin([\"F\", \"M\"])].copy()\n",
    "# drop the characters in movies with no release date\n",
    "character_metadata_noNA_genderYear = character_metadata_noNA_gender.dropna(subset=['release_date']).copy()\n",
    "\n",
    "display(character_metadata_noNA_genderYear)\n",
    "print('From the original character dataset, we dropped ', character_metadata.shape[0]-character_metadata_noNA_genderYear.shape[0], 'characters either because the movie had no release date or the gender of the actor was not specified, out of ', character_metadata.shape[0], 'characters initially.')"
   ]
  },
  {
   "cell_type": "markdown",
   "metadata": {},
   "source": [
    "### Merging personas with character dataset"
   ]
  },
  {
   "cell_type": "code",
   "execution_count": 27,
   "metadata": {
    "collapsed": false,
    "jupyter": {
     "outputs_hidden": false
    },
    "tags": []
   },
   "outputs": [
    {
     "data": {
      "text/html": [
       "<div>\n",
       "<style scoped>\n",
       "    .dataframe tbody tr th:only-of-type {\n",
       "        vertical-align: middle;\n",
       "    }\n",
       "\n",
       "    .dataframe tbody tr th {\n",
       "        vertical-align: top;\n",
       "    }\n",
       "\n",
       "    .dataframe thead th {\n",
       "        text-align: right;\n",
       "    }\n",
       "</style>\n",
       "<table border=\"1\" class=\"dataframe\">\n",
       "  <thead>\n",
       "    <tr style=\"text-align: right;\">\n",
       "      <th></th>\n",
       "      <th>personnas</th>\n",
       "      <th>char</th>\n",
       "      <th>movie</th>\n",
       "      <th>freebase_character_actor_mapID</th>\n",
       "      <th>actor</th>\n",
       "    </tr>\n",
       "  </thead>\n",
       "  <tbody>\n",
       "    <tr>\n",
       "      <th>0</th>\n",
       "      <td>absent_minded_professor</td>\n",
       "      <td>Professor Philip Brainard</td>\n",
       "      <td>Flubber</td>\n",
       "      <td>/m/0jy9q0</td>\n",
       "      <td>Robin Williams</td>\n",
       "    </tr>\n",
       "    <tr>\n",
       "      <th>1</th>\n",
       "      <td>absent_minded_professor</td>\n",
       "      <td>Professor Keenbean</td>\n",
       "      <td>Richie Rich</td>\n",
       "      <td>/m/02vchl3</td>\n",
       "      <td>Michael McShane</td>\n",
       "    </tr>\n",
       "    <tr>\n",
       "      <th>2</th>\n",
       "      <td>absent_minded_professor</td>\n",
       "      <td>Dr. Reinhardt Lane</td>\n",
       "      <td>The Shadow</td>\n",
       "      <td>/m/0k6fkc</td>\n",
       "      <td>Ian McKellen</td>\n",
       "    </tr>\n",
       "    <tr>\n",
       "      <th>3</th>\n",
       "      <td>absent_minded_professor</td>\n",
       "      <td>Dr. Harold Medford</td>\n",
       "      <td>Them!</td>\n",
       "      <td>/m/0k6_br</td>\n",
       "      <td>Edmund Gwenn</td>\n",
       "    </tr>\n",
       "    <tr>\n",
       "      <th>4</th>\n",
       "      <td>absent_minded_professor</td>\n",
       "      <td>Daniel Jackson</td>\n",
       "      <td>Stargate</td>\n",
       "      <td>/m/0k3rhh</td>\n",
       "      <td>James Spader</td>\n",
       "    </tr>\n",
       "    <tr>\n",
       "      <th>...</th>\n",
       "      <td>...</td>\n",
       "      <td>...</td>\n",
       "      <td>...</td>\n",
       "      <td>...</td>\n",
       "      <td>...</td>\n",
       "    </tr>\n",
       "    <tr>\n",
       "      <th>496</th>\n",
       "      <td>young_gun</td>\n",
       "      <td>Morgan Earp</td>\n",
       "      <td>Tombstone</td>\n",
       "      <td>/m/0k776f</td>\n",
       "      <td>Bill Paxton</td>\n",
       "    </tr>\n",
       "    <tr>\n",
       "      <th>497</th>\n",
       "      <td>young_gun</td>\n",
       "      <td>Colorado Ryan</td>\n",
       "      <td>Rio Bravo</td>\n",
       "      <td>/m/0k2kqg</td>\n",
       "      <td>Ricky Nelson</td>\n",
       "    </tr>\n",
       "    <tr>\n",
       "      <th>498</th>\n",
       "      <td>young_gun</td>\n",
       "      <td>Tom Sawyer</td>\n",
       "      <td>The League of Extraordinary Gentlemen</td>\n",
       "      <td>/m/0k5nsh</td>\n",
       "      <td>Shane West</td>\n",
       "    </tr>\n",
       "    <tr>\n",
       "      <th>499</th>\n",
       "      <td>young_gun</td>\n",
       "      <td>William H. 'Billy the Kid' Bonney</td>\n",
       "      <td>Young Guns II</td>\n",
       "      <td>/m/03lrjk0</td>\n",
       "      <td>Emilio Estevez</td>\n",
       "    </tr>\n",
       "    <tr>\n",
       "      <th>500</th>\n",
       "      <td>young_gun</td>\n",
       "      <td>Jake</td>\n",
       "      <td>Silverado</td>\n",
       "      <td>/m/0k39jj</td>\n",
       "      <td>Kevin Costner</td>\n",
       "    </tr>\n",
       "  </tbody>\n",
       "</table>\n",
       "<p>501 rows × 5 columns</p>\n",
       "</div>"
      ],
      "text/plain": [
       "                   personnas                               char  \\\n",
       "0    absent_minded_professor          Professor Philip Brainard   \n",
       "1    absent_minded_professor                 Professor Keenbean   \n",
       "2    absent_minded_professor                 Dr. Reinhardt Lane   \n",
       "3    absent_minded_professor                 Dr. Harold Medford   \n",
       "4    absent_minded_professor                     Daniel Jackson   \n",
       "..                       ...                                ...   \n",
       "496                young_gun                        Morgan Earp   \n",
       "497                young_gun                      Colorado Ryan   \n",
       "498                young_gun                         Tom Sawyer   \n",
       "499                young_gun  William H. 'Billy the Kid' Bonney   \n",
       "500                young_gun                               Jake   \n",
       "\n",
       "                                     movie freebase_character_actor_mapID  \\\n",
       "0                                  Flubber                      /m/0jy9q0   \n",
       "1                              Richie Rich                     /m/02vchl3   \n",
       "2                               The Shadow                      /m/0k6fkc   \n",
       "3                                    Them!                      /m/0k6_br   \n",
       "4                                 Stargate                      /m/0k3rhh   \n",
       "..                                     ...                            ...   \n",
       "496                              Tombstone                      /m/0k776f   \n",
       "497                              Rio Bravo                      /m/0k2kqg   \n",
       "498  The League of Extraordinary Gentlemen                      /m/0k5nsh   \n",
       "499                          Young Guns II                     /m/03lrjk0   \n",
       "500                              Silverado                      /m/0k39jj   \n",
       "\n",
       "               actor  \n",
       "0     Robin Williams  \n",
       "1    Michael McShane  \n",
       "2       Ian McKellen  \n",
       "3       Edmund Gwenn  \n",
       "4       James Spader  \n",
       "..               ...  \n",
       "496      Bill Paxton  \n",
       "497     Ricky Nelson  \n",
       "498       Shane West  \n",
       "499   Emilio Estevez  \n",
       "500    Kevin Costner  \n",
       "\n",
       "[501 rows x 5 columns]"
      ]
     },
     "metadata": {},
     "output_type": "display_data"
    }
   ],
   "source": [
    "# Read the data from the text file, comma is the delimiter\n",
    "personnas_metadata = pd.read_csv(data_folder + 'tvtropes.clusters.txt', names=['personnas', 'data'], header=None, sep='\\t')\n",
    "\n",
    "# Replace single quotes with a placeholder character, to avoid error in parsing\n",
    "personnas_metadata['data'] = personnas_metadata['data'].str.replace(\"'\", \"@@QUOTE@@\")\n",
    "personnas_metadata['data'] = personnas_metadata['data'].apply(lambda x: x.replace(\"@@QUOTE@@\", \"'\"))\n",
    "\n",
    "# Function to load JSON strings\n",
    "def json_loads(x):\n",
    "    try:\n",
    "        return json.loads(x)\n",
    "    except (ValueError, SyntaxError):\n",
    "        print(f\"Error decoding JSON: {x}\")\n",
    "        return None\n",
    "\n",
    "# Parse the JSON-like strings and split them into separate columns\n",
    "personnas_metadata['data'] = personnas_metadata['data'].apply(json_loads)\n",
    "personnas_metadata = pd.concat([personnas_metadata.drop('data', axis=1), personnas_metadata['data'].apply(pd.Series)], axis=1)\n",
    "\n",
    "#Rename the id column so it matches  with the character dataset to be able to merge (information from the README file) --> maps the actor with its character in the character metadata dataset\n",
    "personnas_metadata.rename(columns={'id': 'freebase_character_actor_mapID'}, inplace=True)\n",
    "\n",
    "display(personnas_metadata)"
   ]
  },
  {
   "cell_type": "markdown",
   "metadata": {},
   "source": [
    "Let's merge this data with the character data we have on freebase_character_actor_mapID as this relates the personnas with the actor and the character they play in a specific movie."
   ]
  },
  {
   "cell_type": "code",
   "execution_count": 28,
   "metadata": {
    "collapsed": false,
    "jupyter": {
     "outputs_hidden": false
    },
    "tags": []
   },
   "outputs": [
    {
     "data": {
      "text/html": [
       "<div>\n",
       "<style scoped>\n",
       "    .dataframe tbody tr th:only-of-type {\n",
       "        vertical-align: middle;\n",
       "    }\n",
       "\n",
       "    .dataframe tbody tr th {\n",
       "        vertical-align: top;\n",
       "    }\n",
       "\n",
       "    .dataframe thead th {\n",
       "        text-align: right;\n",
       "    }\n",
       "</style>\n",
       "<table border=\"1\" class=\"dataframe\">\n",
       "  <thead>\n",
       "    <tr style=\"text-align: right;\">\n",
       "      <th></th>\n",
       "      <th>wikipedia_ID</th>\n",
       "      <th>freebase_ID</th>\n",
       "      <th>release_date</th>\n",
       "      <th>character_name</th>\n",
       "      <th>actor_birthday</th>\n",
       "      <th>actor_gender</th>\n",
       "      <th>actor_height</th>\n",
       "      <th>actor_ethnicity</th>\n",
       "      <th>actor_name</th>\n",
       "      <th>actor_age</th>\n",
       "      <th>freebase_character_actor_mapID</th>\n",
       "      <th>freebase_character_ID</th>\n",
       "      <th>freebase_actor_ID</th>\n",
       "      <th>personnas</th>\n",
       "    </tr>\n",
       "  </thead>\n",
       "  <tbody>\n",
       "    <tr>\n",
       "      <th>0</th>\n",
       "      <td>975900</td>\n",
       "      <td>/m/03vyhn</td>\n",
       "      <td>2001.0</td>\n",
       "      <td>Akooshay</td>\n",
       "      <td>1958-08-26</td>\n",
       "      <td>F</td>\n",
       "      <td>1.620</td>\n",
       "      <td>NaN</td>\n",
       "      <td>Wanda De Jesus</td>\n",
       "      <td>42.0</td>\n",
       "      <td>/m/0bgchxw</td>\n",
       "      <td>/m/0bgcj3x</td>\n",
       "      <td>/m/03wcfv7</td>\n",
       "      <td>NaN</td>\n",
       "    </tr>\n",
       "    <tr>\n",
       "      <th>1</th>\n",
       "      <td>975900</td>\n",
       "      <td>/m/03vyhn</td>\n",
       "      <td>2001.0</td>\n",
       "      <td>Lieutenant Melanie Ballard</td>\n",
       "      <td>1974-08-15</td>\n",
       "      <td>F</td>\n",
       "      <td>1.780</td>\n",
       "      <td>/m/044038p</td>\n",
       "      <td>Natasha Henstridge</td>\n",
       "      <td>27.0</td>\n",
       "      <td>/m/0jys3m</td>\n",
       "      <td>/m/0bgchn4</td>\n",
       "      <td>/m/0346l4</td>\n",
       "      <td>NaN</td>\n",
       "    </tr>\n",
       "    <tr>\n",
       "      <th>2</th>\n",
       "      <td>975900</td>\n",
       "      <td>/m/03vyhn</td>\n",
       "      <td>2001.0</td>\n",
       "      <td>Desolation Williams</td>\n",
       "      <td>1969-06-15</td>\n",
       "      <td>M</td>\n",
       "      <td>1.727</td>\n",
       "      <td>/m/0x67</td>\n",
       "      <td>Ice Cube</td>\n",
       "      <td>32.0</td>\n",
       "      <td>/m/0jys3g</td>\n",
       "      <td>/m/0bgchn_</td>\n",
       "      <td>/m/01vw26l</td>\n",
       "      <td>NaN</td>\n",
       "    </tr>\n",
       "    <tr>\n",
       "      <th>3</th>\n",
       "      <td>975900</td>\n",
       "      <td>/m/03vyhn</td>\n",
       "      <td>2001.0</td>\n",
       "      <td>Sgt Jericho Butler</td>\n",
       "      <td>1967-09-12</td>\n",
       "      <td>M</td>\n",
       "      <td>1.750</td>\n",
       "      <td>NaN</td>\n",
       "      <td>Jason Statham</td>\n",
       "      <td>33.0</td>\n",
       "      <td>/m/02vchl6</td>\n",
       "      <td>/m/0bgchnq</td>\n",
       "      <td>/m/034hyc</td>\n",
       "      <td>NaN</td>\n",
       "    </tr>\n",
       "    <tr>\n",
       "      <th>4</th>\n",
       "      <td>975900</td>\n",
       "      <td>/m/03vyhn</td>\n",
       "      <td>2001.0</td>\n",
       "      <td>Bashira Kincaid</td>\n",
       "      <td>1977-09-25</td>\n",
       "      <td>F</td>\n",
       "      <td>1.650</td>\n",
       "      <td>NaN</td>\n",
       "      <td>Clea DuVall</td>\n",
       "      <td>23.0</td>\n",
       "      <td>/m/02vbb3r</td>\n",
       "      <td>/m/0bgchp9</td>\n",
       "      <td>/m/01y9xg</td>\n",
       "      <td>NaN</td>\n",
       "    </tr>\n",
       "    <tr>\n",
       "      <th>...</th>\n",
       "      <td>...</td>\n",
       "      <td>...</td>\n",
       "      <td>...</td>\n",
       "      <td>...</td>\n",
       "      <td>...</td>\n",
       "      <td>...</td>\n",
       "      <td>...</td>\n",
       "      <td>...</td>\n",
       "      <td>...</td>\n",
       "      <td>...</td>\n",
       "      <td>...</td>\n",
       "      <td>...</td>\n",
       "      <td>...</td>\n",
       "      <td>...</td>\n",
       "    </tr>\n",
       "    <tr>\n",
       "      <th>226975</th>\n",
       "      <td>30553937</td>\n",
       "      <td>/m/0g9ts5h</td>\n",
       "      <td>1998.0</td>\n",
       "      <td>Restaurant Manager</td>\n",
       "      <td>NaN</td>\n",
       "      <td>M</td>\n",
       "      <td>NaN</td>\n",
       "      <td>NaN</td>\n",
       "      <td>Randy Harris</td>\n",
       "      <td>NaN</td>\n",
       "      <td>/m/0jxtsx5</td>\n",
       "      <td>/m/0jxtsx8</td>\n",
       "      <td>/m/0jxtsxh</td>\n",
       "      <td>NaN</td>\n",
       "    </tr>\n",
       "    <tr>\n",
       "      <th>226976</th>\n",
       "      <td>30553937</td>\n",
       "      <td>/m/0g9ts5h</td>\n",
       "      <td>1998.0</td>\n",
       "      <td>Julia</td>\n",
       "      <td>1975-10-10</td>\n",
       "      <td>F</td>\n",
       "      <td>NaN</td>\n",
       "      <td>NaN</td>\n",
       "      <td>Natalie Ramsey</td>\n",
       "      <td>22.0</td>\n",
       "      <td>/m/0jxtsw7</td>\n",
       "      <td>/m/0jxtswb</td>\n",
       "      <td>/m/027dt0m</td>\n",
       "      <td>NaN</td>\n",
       "    </tr>\n",
       "    <tr>\n",
       "      <th>226977</th>\n",
       "      <td>7223293</td>\n",
       "      <td>/m/0kv0xs</td>\n",
       "      <td>1925.0</td>\n",
       "      <td>NaN</td>\n",
       "      <td>1894-02-28</td>\n",
       "      <td>M</td>\n",
       "      <td>NaN</td>\n",
       "      <td>NaN</td>\n",
       "      <td>Sid Smith</td>\n",
       "      <td>NaN</td>\n",
       "      <td>/m/02vcw0s</td>\n",
       "      <td>NaN</td>\n",
       "      <td>/m/02qrq5t</td>\n",
       "      <td>NaN</td>\n",
       "    </tr>\n",
       "    <tr>\n",
       "      <th>226978</th>\n",
       "      <td>9971909</td>\n",
       "      <td>/m/02pygw1</td>\n",
       "      <td>1972.0</td>\n",
       "      <td>NaN</td>\n",
       "      <td>1938-11-26</td>\n",
       "      <td>M</td>\n",
       "      <td>NaN</td>\n",
       "      <td>NaN</td>\n",
       "      <td>Rich Little</td>\n",
       "      <td>33.0</td>\n",
       "      <td>/m/02vbk4r</td>\n",
       "      <td>NaN</td>\n",
       "      <td>/m/03m6t5</td>\n",
       "      <td>NaN</td>\n",
       "    </tr>\n",
       "    <tr>\n",
       "      <th>226979</th>\n",
       "      <td>9971909</td>\n",
       "      <td>/m/02pygw1</td>\n",
       "      <td>1972.0</td>\n",
       "      <td>NaN</td>\n",
       "      <td>1918-10-02</td>\n",
       "      <td>M</td>\n",
       "      <td>NaN</td>\n",
       "      <td>NaN</td>\n",
       "      <td>Herb Voland</td>\n",
       "      <td>53.0</td>\n",
       "      <td>/m/0ggdv2_</td>\n",
       "      <td>NaN</td>\n",
       "      <td>/m/02qylb9</td>\n",
       "      <td>NaN</td>\n",
       "    </tr>\n",
       "  </tbody>\n",
       "</table>\n",
       "<p>226980 rows × 14 columns</p>\n",
       "</div>"
      ],
      "text/plain": [
       "        wikipedia_ID freebase_ID  release_date              character_name  \\\n",
       "0             975900   /m/03vyhn        2001.0                    Akooshay   \n",
       "1             975900   /m/03vyhn        2001.0  Lieutenant Melanie Ballard   \n",
       "2             975900   /m/03vyhn        2001.0         Desolation Williams   \n",
       "3             975900   /m/03vyhn        2001.0          Sgt Jericho Butler   \n",
       "4             975900   /m/03vyhn        2001.0             Bashira Kincaid   \n",
       "...              ...         ...           ...                         ...   \n",
       "226975      30553937  /m/0g9ts5h        1998.0          Restaurant Manager   \n",
       "226976      30553937  /m/0g9ts5h        1998.0                       Julia   \n",
       "226977       7223293   /m/0kv0xs        1925.0                         NaN   \n",
       "226978       9971909  /m/02pygw1        1972.0                         NaN   \n",
       "226979       9971909  /m/02pygw1        1972.0                         NaN   \n",
       "\n",
       "       actor_birthday actor_gender  actor_height actor_ethnicity  \\\n",
       "0          1958-08-26            F         1.620             NaN   \n",
       "1          1974-08-15            F         1.780      /m/044038p   \n",
       "2          1969-06-15            M         1.727         /m/0x67   \n",
       "3          1967-09-12            M         1.750             NaN   \n",
       "4          1977-09-25            F         1.650             NaN   \n",
       "...               ...          ...           ...             ...   \n",
       "226975            NaN            M           NaN             NaN   \n",
       "226976     1975-10-10            F           NaN             NaN   \n",
       "226977     1894-02-28            M           NaN             NaN   \n",
       "226978     1938-11-26            M           NaN             NaN   \n",
       "226979     1918-10-02            M           NaN             NaN   \n",
       "\n",
       "                actor_name  actor_age freebase_character_actor_mapID  \\\n",
       "0           Wanda De Jesus       42.0                     /m/0bgchxw   \n",
       "1       Natasha Henstridge       27.0                      /m/0jys3m   \n",
       "2                 Ice Cube       32.0                      /m/0jys3g   \n",
       "3            Jason Statham       33.0                     /m/02vchl6   \n",
       "4              Clea DuVall       23.0                     /m/02vbb3r   \n",
       "...                    ...        ...                            ...   \n",
       "226975        Randy Harris        NaN                     /m/0jxtsx5   \n",
       "226976      Natalie Ramsey       22.0                     /m/0jxtsw7   \n",
       "226977           Sid Smith        NaN                     /m/02vcw0s   \n",
       "226978         Rich Little       33.0                     /m/02vbk4r   \n",
       "226979         Herb Voland       53.0                     /m/0ggdv2_   \n",
       "\n",
       "       freebase_character_ID freebase_actor_ID personnas  \n",
       "0                 /m/0bgcj3x        /m/03wcfv7       NaN  \n",
       "1                 /m/0bgchn4         /m/0346l4       NaN  \n",
       "2                 /m/0bgchn_        /m/01vw26l       NaN  \n",
       "3                 /m/0bgchnq         /m/034hyc       NaN  \n",
       "4                 /m/0bgchp9         /m/01y9xg       NaN  \n",
       "...                      ...               ...       ...  \n",
       "226975            /m/0jxtsx8        /m/0jxtsxh       NaN  \n",
       "226976            /m/0jxtswb        /m/027dt0m       NaN  \n",
       "226977                   NaN        /m/02qrq5t       NaN  \n",
       "226978                   NaN         /m/03m6t5       NaN  \n",
       "226979                   NaN        /m/02qylb9       NaN  \n",
       "\n",
       "[226980 rows x 14 columns]"
      ]
     },
     "metadata": {},
     "output_type": "display_data"
    }
   ],
   "source": [
    "# only add the column personnas to the characters dataset\n",
    "character_metadata_noNA_genderYear_personnas = character_metadata.merge(personnas_metadata[['freebase_character_actor_mapID', 'personnas']],on=[\"freebase_character_actor_mapID\"],how=\"left\").copy()\n",
    "\n",
    "display(character_metadata_noNA_genderYear_personnas)"
   ]
  },
  {
   "cell_type": "markdown",
   "metadata": {},
   "source": [
    "Finally, we will add the name of the movies to the dataset to facilitate merges with datasets that do not have wikipedia ID."
   ]
  },
  {
   "cell_type": "code",
   "execution_count": 29,
   "metadata": {
    "collapsed": false,
    "jupyter": {
     "outputs_hidden": false
    },
    "tags": []
   },
   "outputs": [],
   "source": [
    "character_metadata_noNA_genderYear_personnas = pd.merge(character_metadata_noNA_genderYear_personnas, movies_metadata[['wikipedia_ID', 'name']], how='left', on='wikipedia_ID')"
   ]
  },
  {
   "cell_type": "markdown",
   "metadata": {},
   "source": [
    "# Complementing the dataset after 2010\n",
    "The provided dataset does not contain information on recent movies. We thus decided to complement it using IMDB data to be able to also perform our analysis in recent years. We have two main datasets to complete: the movie dataset and the character dataset. To do so, we used the data available on https://datasets.imdbws.com/ and the library Cinemagoer that can retrieve information on IMDB."
   ]
  },
  {
   "cell_type": "markdown",
   "metadata": {},
   "source": [
    "### A) Complementing movie data\n",
    "To complete the movie dataset we used the following folders need to be downloaded from https://datasets.imdbws.com/, unzipped and placed in the /DATA folder:\n",
    "- title.basics.tsv.gz\n",
    "- title.akas.tsv.gz\n",
    "\n",
    "However, these files are missing a lot information that we need for our analysis (plot summaries, countries, languages). We will therefore also use the library Cinemagoer to retrieve these information. In order to not have too many useless requests to IMDB through Cinemagoer, we use the datasets title.basics and titles.akas to get a list of ID of movies we are interested in."
   ]
  },
  {
   "cell_type": "code",
   "execution_count": 30,
   "metadata": {
    "collapsed": false,
    "jupyter": {
     "outputs_hidden": false
    },
    "tags": []
   },
   "outputs": [
    {
     "name": "stderr",
     "output_type": "stream",
     "text": [
      "/var/folders/my/4hvdfxj10f94l0xh5rd30q_h0000gn/T/ipykernel_6368/416933046.py:4: DtypeWarning: Columns (4) have mixed types. Specify dtype option on import or set low_memory=False.\n",
      "  titles_dataset = pd.read_csv(data_folder + 'title.basics.tsv', sep='\\t')\n"
     ]
    }
   ],
   "source": [
    "# If files unzipped on Windows\n",
    "#titles_dataset = pd.read_csv(data_folder + 'title.basics.tsv/data.tsv', sep='\\t')\n",
    "# If files unzipped on Mac\n",
    "titles_dataset = pd.read_csv(data_folder + 'title.basics.tsv', sep='\\t')\n",
    "movie_IDs = filter_titles_IDs(titles_dataset)"
   ]
  },
  {
   "cell_type": "code",
   "execution_count": 31,
   "metadata": {
    "collapsed": false,
    "jupyter": {
     "outputs_hidden": false
    },
    "tags": []
   },
   "outputs": [
    {
     "name": "stdout",
     "output_type": "stream",
     "text": [
      "204443\n"
     ]
    }
   ],
   "source": [
    "print(len(movie_IDs)) # we still have 204'389"
   ]
  },
  {
   "cell_type": "markdown",
   "metadata": {},
   "source": [
    "Taking all of these movies from IMDB would take too much time. These IDs contain movies from a lot of different countries and we are only interested in american movies. We do not have the 'country' information in the downloaded datasets but we do have the 'original title' and the 'american title' in the title.akas dataset. We will use this dataset to find movies in which the original title is the same as the american one. Thus we can already remove some movies that we know are probably not american. We will of course keep a lot of non-american movies, but we can filter those out later.\n"
   ]
  },
  {
   "cell_type": "code",
   "execution_count": 32,
   "metadata": {
    "collapsed": false,
    "jupyter": {
     "outputs_hidden": false
    },
    "tags": []
   },
   "outputs": [
    {
     "name": "stderr",
     "output_type": "stream",
     "text": [
      "/var/folders/my/4hvdfxj10f94l0xh5rd30q_h0000gn/T/ipykernel_6368/1218552865.py:4: DtypeWarning: Columns (7) have mixed types. Specify dtype option on import or set low_memory=False.\n",
      "  titles_akas_dataset = pd.read_csv(data_folder + 'title.akas.tsv', sep='\\t')\n",
      "\n",
      "KeyboardInterrupt\n",
      "\n"
     ]
    }
   ],
   "source": [
    "# If files unzipped on Windows\n",
    "#titles_akas_dataset = pd.read_csv(data_folder + 'title.akas.tsv/data.tsv', sep='\\t')\n",
    "# If files unzipped on Mac\n",
    "titles_akas_dataset = pd.read_csv(data_folder + 'title.akas.tsv', sep='\\t')\n",
    "original_titles = titles_akas_dataset[titles_akas_dataset['isOriginalTitle']==1]['title']\n",
    "# get all only the lines where the title is the same as the original title\n",
    "titles_akas_dataset_filtered = titles_akas_dataset[titles_akas_dataset['title'].isin(original_titles)]\n",
    "# get only the movies where the US title is the same as the original title\n",
    "titles_akas_dataset_filtered = titles_akas_dataset_filtered[titles_akas_dataset_filtered['region'] == 'US']"
   ]
  },
  {
   "cell_type": "code",
   "execution_count": null,
   "metadata": {
    "collapsed": false,
    "jupyter": {
     "outputs_hidden": false
    },
    "tags": []
   },
   "outputs": [],
   "source": [
    "# get only IDs that are in both datasets\n",
    "common_ids = titles_akas_dataset_filtered[titles_akas_dataset_filtered['titleId'].isin(movie_IDs)]\n",
    "common_ids = common_ids['titleId'].drop_duplicates()\n",
    "print(len(common_ids)) # 39'595 movies left"
   ]
  },
  {
   "cell_type": "markdown",
   "metadata": {},
   "source": [
    "We will now retrieve information of these 39'595 movies directly from IMDB using Cinemagoer"
   ]
  },
  {
   "cell_type": "markdown",
   "metadata": {},
   "source": [
    "!! THE FOLLOWING CELL TAKES A LONG TIME TO RUN !!\n",
    "Since it has already been run once and the data was saved, there is no need to run it anymore and it is thus commented."
   ]
  },
  {
   "cell_type": "code",
   "execution_count": null,
   "metadata": {
    "collapsed": false,
    "jupyter": {
     "outputs_hidden": false
    },
    "tags": []
   },
   "outputs": [],
   "source": [
    "#get_IMDB_movies_data(common_ids)"
   ]
  },
  {
   "cell_type": "markdown",
   "metadata": {},
   "source": [
    "We filter the movies to only keep american movies in English from 2010-2022. Note that filter according to the release year again, even thought the movies to get on IMDB were already filtered according to their release date. That is because both datasets did not have necessarily the same release date for the same movie and thus a second filtering is necessary."
   ]
  },
  {
   "cell_type": "code",
   "execution_count": 52,
   "metadata": {
    "collapsed": false,
    "jupyter": {
     "outputs_hidden": false
    },
    "tags": []
   },
   "outputs": [],
   "source": [
    "IMDB_movie_data = pd.read_csv(data_folder + 'IMDB_movies_2010-2022.csv')\n",
    "IMDB_movie_data_filtered = filter_IMDB_movie_dataset(IMDB_movie_data)"
   ]
  },
  {
   "cell_type": "code",
   "execution_count": null,
   "metadata": {
    "collapsed": false,
    "jupyter": {
     "outputs_hidden": false
    },
    "tags": []
   },
   "outputs": [],
   "source": [
    "IMDB_movie_data_filtered"
   ]
  },
  {
   "cell_type": "markdown",
   "metadata": {},
   "source": [
    "We now have a datasets containing all the needed information on movies from 2010-2022. We just need to merge it with the provided dataset."
   ]
  },
  {
   "cell_type": "code",
   "execution_count": null,
   "metadata": {
    "collapsed": false,
    "jupyter": {
     "outputs_hidden": false
    },
    "tags": []
   },
   "outputs": [],
   "source": [
    "provided_data = us_english_movies_synopsis\n",
    "# change the release date to just the year to be able to merge more easily and convert it to the same format of the other df\n",
    "provided_data['release_date'] = provided_data['release_date'].dt.year\n",
    "# country and languages are not needed anymore\n",
    "provided_data = provided_data.drop(columns=['languages', 'countries'])\n",
    "IMDB_movie_data_filtered = IMDB_movie_data_filtered.drop(columns=['languages', 'countries'])\n",
    "# put movie names to lower case in both datasets so that they are recognised as the same movie name even if there are differences in the case\n",
    "provided_data['name'] = name_to_lowercase(provided_data, 'name')\n",
    "IMDB_movie_data_filtered['name'] = name_to_lowercase(IMDB_movie_data_filtered, 'name')"
   ]
  },
  {
   "cell_type": "markdown",
   "metadata": {},
   "source": [
    "Since we do not have a unique identifier for both datasets (one has wikipedia ID, the other IMDB ID), we use the columns 'name' and 'release_date' to do the merge. However, it can happen that two movies with the same name are released in the same year. In the case where only one of the movie is present in a dataset and both are present in the other, the merge could be wrong and assign an ID of the wrong movie. After the merge, we will thus drop all duplicated movie IDs. This will make us loose some films but will ensure that our merge does not contain mistakes."
   ]
  },
  {
   "cell_type": "code",
   "execution_count": null,
   "metadata": {
    "collapsed": false,
    "jupyter": {
     "outputs_hidden": false
    },
    "tags": []
   },
   "outputs": [],
   "source": [
    "# merge IMDB and provided dataset\n",
    "movie_data = pd.merge(provided_data, IMDB_movie_data_filtered, on=['name', 'release_date'], how='outer').copy()\n",
    "duplicated_cols = ['plot_summary', 'genre']\n",
    "movie_data = remove_duplicated_columns(movie_data, duplicated_cols)\n",
    "# remove duplicated IDs except the ones that contain NaNs in one of the ID\n",
    "movie_data = movie_data[~movie_data.duplicated(subset='wikipedia_ID', keep=False) | movie_data['wikipedia_ID'].isnull()]\n",
    "movie_data = movie_data[~movie_data.duplicated(subset='IMDB_ID', keep=False) | movie_data['IMDB_ID'].isnull()]"
   ]
  },
  {
   "cell_type": "code",
   "execution_count": null,
   "metadata": {
    "collapsed": false,
    "jupyter": {
     "outputs_hidden": false
    },
    "tags": []
   },
   "outputs": [],
   "source": [
    "movie_data"
   ]
  },
  {
   "cell_type": "markdown",
   "metadata": {},
   "source": [
    "We can now plot again the number of movies per year in our dataset to see if it indeed is completed after 2010"
   ]
  },
  {
   "cell_type": "code",
   "execution_count": 135,
   "metadata": {
    "collapsed": false,
    "jupyter": {
     "outputs_hidden": false
    },
    "tags": []
   },
   "outputs": [
    {
     "data": {
      "image/png": "[encoded data removed]",
      "text/plain": [
       "<Figure size 1000x600 with 1 Axes>"
      ]
     },
     "metadata": {},
     "output_type": "display_data"
    }
   ],
   "source": [
    "# Group movies by release year\n",
    "movies_grouped_by_year = movie_data.groupby(movie_data['release_date'])\n",
    "\n",
    "#number of movies per year\n",
    "number_movies_per_year = movies_grouped_by_year.size()\n",
    "\n",
    "plt.figure(figsize=(10, 6))\n",
    "number_movies_per_year.plot(kind='line', color = 'cornflowerblue')\n",
    "plt.title('Number of Movies per Year in our Final Dataset')\n",
    "plt.xlabel('Year')\n",
    "plt.ylabel('Number of Movies')\n",
    "plt.grid(True)\n",
    "plt.show()"
   ]
  },
  {
   "cell_type": "markdown",
   "metadata": {},
   "source": [
    "We see that we have many more movies from 2010 to 2022 than in previous years since we complemented the dataset with more than 20'000 movies in just 10 years. This should not be a problem since we will conduct our analysis per year and thus our results will be always be normalized with the number of movies for each year."
   ]
  },
  {
   "cell_type": "markdown",
   "metadata": {},
   "source": [
    "We now have a data sets containing movies until 2022 that is ready for our analysis! We will save it so that we do not have to re-run this part of the code and can easily use it in other notebooks.\n"
   ]
  },
  {
   "cell_type": "markdown",
   "metadata": {},
   "source": [
    "## Genres"
   ]
  },
  {
   "cell_type": "code",
   "execution_count": 35,
   "metadata": {
    "tags": []
   },
   "outputs": [],
   "source": [
    "movie_data=pd.read_csv(data_folder+'movie_data.csv')"
   ]
  },
  {
   "cell_type": "code",
   "execution_count": 44,
   "metadata": {
    "tags": []
   },
   "outputs": [],
   "source": [
    "movie_data['genre'] = movie_data['genre'].apply(lambda x: eval(x) if pd.notna(x) else x)"
   ]
  },
  {
   "cell_type": "code",
   "execution_count": 45,
   "metadata": {
    "tags": []
   },
   "outputs": [
    {
     "name": "stdout",
     "output_type": "stream",
     "text": [
      "Number of entries with NaN values in 'genre' column: 0\n"
     ]
    }
   ],
   "source": [
    "nan_genre_count = movie_data['genre'].isna().sum()\n",
    "print(f\"Number of entries with NaN values in 'genre' column: {nan_genre_count}\")"
   ]
  },
  {
   "cell_type": "code",
   "execution_count": 46,
   "metadata": {
    "tags": []
   },
   "outputs": [],
   "source": [
    "movie_data.dropna(subset=['genre'], inplace=True)"
   ]
  },
  {
   "cell_type": "code",
   "execution_count": 47,
   "metadata": {
    "tags": []
   },
   "outputs": [
    {
     "name": "stdout",
     "output_type": "stream",
     "text": [
      "Number of entries with NaN values in 'genre' column: 0\n"
     ]
    }
   ],
   "source": [
    "nan_genre_count = movie_data['genre'].isna().sum()\n",
    "print(f\"Number of entries with NaN values in 'genre' column: {nan_genre_count}\")"
   ]
  },
  {
   "cell_type": "code",
   "execution_count": null,
   "metadata": {
    "tags": []
   },
   "outputs": [],
   "source": []
  },
  {
   "cell_type": "markdown",
   "metadata": {},
   "source": [
    "### Removing adult films"
   ]
  },
  {
   "cell_type": "markdown",
   "metadata": {},
   "source": [
    "As they do not add any value to our analysis and to prevent us from having to have to deal with pornographic content we remove these movies. As this only concerns 158 entries this should not have a negative effect on our analysis."
   ]
  },
  {
   "cell_type": "code",
   "execution_count": 48,
   "metadata": {
    "tags": []
   },
   "outputs": [],
   "source": [
    "porn_genres=['Softcore Porn','Gay pornography','Hardcore pornography','Pornography','Pornographic movie','Adult']\n",
    "porn_movies=movie_data[movie_data['genre'].apply(lambda genre_list: any(item in genre_list for item in porn_genres))]\n",
    "movie_data=movie_data[~movie_data[\"wikipedia_ID\"].isin(porn_movies.wikipedia_ID.values)]"
   ]
  },
  {
   "cell_type": "code",
   "execution_count": 50,
   "metadata": {
    "tags": []
   },
   "outputs": [
    {
     "data": {
      "text/plain": [
       "Counter({'Drama': 19928,\n",
       "         'Comedy': 13110,\n",
       "         'Documentary': 8803,\n",
       "         'Thriller': 8465,\n",
       "         'Horror': 6071,\n",
       "         'Action': 6053,\n",
       "         'Black-and-white': 5722,\n",
       "         'Indie': 4977,\n",
       "         'Short Film': 4130,\n",
       "         'Romance Film': 4097,\n",
       "         'Adventure': 3789,\n",
       "         'Crime Fiction': 3257,\n",
       "         'Mystery': 3098,\n",
       "         'Silent film': 2817,\n",
       "         'Action/Adventure': 2802,\n",
       "         'Family Film': 2438,\n",
       "         'Fantasy': 2103,\n",
       "         'Animation': 1961,\n",
       "         'Musical': 1904,\n",
       "         'Western': 1796,\n",
       "         'Science Fiction': 1744,\n",
       "         'Romantic comedy': 1709,\n",
       "         'Biography': 1682,\n",
       "         'Crime': 1559,\n",
       "         'Romance': 1491,\n",
       "         'Crime Thriller': 1331,\n",
       "         'Romantic drama': 1315,\n",
       "         'Sci-Fi': 1221,\n",
       "         'Music': 1154,\n",
       "         'War film': 1088,\n",
       "         'Film adaptation': 1078,\n",
       "         'Comedy-drama': 1016,\n",
       "         'History': 993,\n",
       "         'Period piece': 983,\n",
       "         'Family': 891,\n",
       "         'Psychological thriller': 878,\n",
       "         'Comedy film': 780,\n",
       "         'Teen': 760,\n",
       "         'Sports': 724,\n",
       "         'Parody': 712,\n",
       "         \"Children's/Family\": 708,\n",
       "         'Television movie': 659,\n",
       "         'Black comedy': 641,\n",
       "         'Family Drama': 586,\n",
       "         'Biographical film': 577,\n",
       "         'Cult': 576,\n",
       "         'Coming of age': 565,\n",
       "         'LGBT': 561,\n",
       "         'Suspense': 560,\n",
       "         'Slasher': 543,\n",
       "         'Film noir': 518,\n",
       "         'Slapstick': 517,\n",
       "         'Sport': 502,\n",
       "         'Culture & Society': 448,\n",
       "         'Melodrama': 426,\n",
       "         'Supernatural': 416,\n",
       "         'Biopic [feature]': 410,\n",
       "         'Satire': 407,\n",
       "         'Political drama': 371,\n",
       "         'Action Thrillers': 363,\n",
       "         'B-movie': 359,\n",
       "         \"Children's\": 342,\n",
       "         'Costume drama': 337,\n",
       "         'Crime Drama': 321,\n",
       "         'Buddy film': 299,\n",
       "         'Ensemble Film': 288,\n",
       "         'Spy': 282,\n",
       "         'Political cinema': 279,\n",
       "         'Detective': 276,\n",
       "         'Martial Arts Film': 268,\n",
       "         'Gangster Film': 264,\n",
       "         'Docudrama': 264,\n",
       "         'Creature Film': 262,\n",
       "         'Screwball comedy': 259,\n",
       "         'War': 249,\n",
       "         'World cinema': 241,\n",
       "         'Detective fiction': 228,\n",
       "         'Superhero movie': 227,\n",
       "         'Road movie': 208,\n",
       "         'Family-Oriented Adventure': 206,\n",
       "         'Disaster': 204,\n",
       "         \"Children's Fantasy\": 203,\n",
       "         'Social issues': 203,\n",
       "         'Japanese Movies': 192,\n",
       "         'Crime Comedy': 191,\n",
       "         'Sex comedy': 190,\n",
       "         'Musical comedy': 189,\n",
       "         'Courtroom Drama': 183,\n",
       "         'Gay Themed': 183,\n",
       "         'Historical fiction': 178,\n",
       "         'Horror Comedy': 173,\n",
       "         'Pre-Code': 170,\n",
       "         'Zombie Film': 168,\n",
       "         'Fantasy Comedy': 167,\n",
       "         'News': 167,\n",
       "         'Domestic Comedy': 165,\n",
       "         'Comedy of manners': 162,\n",
       "         'Computer Animation': 160,\n",
       "         'Epic': 154,\n",
       "         'Animal Picture': 151,\n",
       "         'Political thriller': 146,\n",
       "         'Comedy of Errors': 143,\n",
       "         'Gay': 142,\n",
       "         'Gay Interest': 142,\n",
       "         'Fantasy Adventure': 138,\n",
       "         'Propaganda film': 136,\n",
       "         'Natural horror films': 135,\n",
       "         'Musical Drama': 134,\n",
       "         'Monster movie': 128,\n",
       "         'Rockumentary': 125,\n",
       "         'Christian film': 125,\n",
       "         'Heist': 121,\n",
       "         'Concert film': 117,\n",
       "         'Erotic thriller': 113,\n",
       "         'Sci-Fi Horror': 112,\n",
       "         'Adventure Comedy': 105,\n",
       "         'Superhero': 104,\n",
       "         'Action Comedy': 101,\n",
       "         'Americana': 101,\n",
       "         'Marriage Drama': 99,\n",
       "         'Doomsday film': 98,\n",
       "         'Prison': 91,\n",
       "         'Mockumentary': 91,\n",
       "         'Swashbuckler films': 91,\n",
       "         'Blaxploitation': 90,\n",
       "         'New Hollywood': 87,\n",
       "         'Alien Film': 87,\n",
       "         'Stop motion': 84,\n",
       "         'Experimental film': 83,\n",
       "         'Chase Movie': 82,\n",
       "         'Animated cartoon': 82,\n",
       "         'Christmas movie': 80,\n",
       "         'Holiday Film': 79,\n",
       "         'Workplace Comedy': 77,\n",
       "         'Combat Films': 76,\n",
       "         'Remake': 76,\n",
       "         'Absurdism': 73,\n",
       "         'Film': 72,\n",
       "         'Time travel': 70,\n",
       "         'Childhood Drama': 69,\n",
       "         'Chinese Movies': 69,\n",
       "         'Dance': 69,\n",
       "         'Comedy Thriller': 68,\n",
       "         'Boxing': 68,\n",
       "         'Monster': 68,\n",
       "         'Media Satire': 67,\n",
       "         'Dystopia': 64,\n",
       "         'Revisionist Western': 64,\n",
       "         'Feminist Film': 63,\n",
       "         'Avant-garde': 63,\n",
       "         'Hip hop movies': 62,\n",
       "         'Jungle Film': 60,\n",
       "         'Caper story': 60,\n",
       "         'Tragedy': 59,\n",
       "         'Comedy Western': 59,\n",
       "         'Auto racing': 58,\n",
       "         'Law & Crime': 57,\n",
       "         'Social problem film': 57,\n",
       "         'Neo-noir': 57,\n",
       "         'Stand-up comedy': 56,\n",
       "         'Slice of life story': 55,\n",
       "         'Airplanes and airports': 55,\n",
       "         'Haunted House Film': 54,\n",
       "         'Gender Issues': 53,\n",
       "         'Erotica': 53,\n",
       "         'Film & Television History': 53,\n",
       "         'Political satire': 53,\n",
       "         'Sexploitation': 53,\n",
       "         'Whodunit': 52,\n",
       "         'Costume Adventure': 51,\n",
       "         'Animated Musical': 50,\n",
       "         'Gross-out film': 49,\n",
       "         'Gross out': 49,\n",
       "         'Addiction Drama': 49,\n",
       "         'Medical fiction': 47,\n",
       "         'Anime': 45,\n",
       "         'Stoner film': 45,\n",
       "         'Surrealism': 42,\n",
       "         'Reality-TV': 41,\n",
       "         'Gothic Film': 40,\n",
       "         'Religious Film': 40,\n",
       "         'B-Western': 40,\n",
       "         'Nature': 39,\n",
       "         'Historical Epic': 38,\n",
       "         'Roadshow theatrical release': 38,\n",
       "         'Romantic fantasy': 38,\n",
       "         'Fairy tale': 38,\n",
       "         'Punk rock': 38,\n",
       "         'Illnesses & Disabilities': 38,\n",
       "         'Sword and sorcery': 36,\n",
       "         'Talk-Show': 36,\n",
       "         'Historical drama': 34,\n",
       "         'Escape Film': 33,\n",
       "         'Erotic Drama': 33,\n",
       "         'Travel': 33,\n",
       "         'Animals': 32,\n",
       "         'Interpersonal Relationships': 32,\n",
       "         'Sword and sorcery films': 31,\n",
       "         'Anti-war': 30,\n",
       "         'Glamorized Spy Film': 30,\n",
       "         'Anti-war film': 29,\n",
       "         'Hybrid Western': 29,\n",
       "         'Sci-Fi Adventure': 28,\n",
       "         'Tragicomedy': 28,\n",
       "         'Inspirational Drama': 27,\n",
       "         'Heavenly Comedy': 26,\n",
       "         'Apocalyptic and post-apocalyptic fiction': 26,\n",
       "         'Film à clef': 25,\n",
       "         'Juvenile Delinquency Film': 25,\n",
       "         'Backstage Musical': 25,\n",
       "         'Costume Horror': 25,\n",
       "         'Fan film': 24,\n",
       "         'Existentialism': 23,\n",
       "         'Environmental Science': 23,\n",
       "         'Indian Western': 23,\n",
       "         'Media Studies': 23,\n",
       "         'Extreme Sports': 22,\n",
       "         'Master Criminal Films': 22,\n",
       "         'Educational': 21,\n",
       "         'Filipino Movies': 21,\n",
       "         'Steampunk': 21,\n",
       "         'Northern': 20,\n",
       "         'Graphic & Applied Arts': 20,\n",
       "         'Biker Film': 19,\n",
       "         'Future noir': 18,\n",
       "         'Heaven-Can-Wait Fantasies': 18,\n",
       "         'Splatter film': 18,\n",
       "         'Movie serial': 17,\n",
       "         'Epic Western': 16,\n",
       "         'Exploitation': 16,\n",
       "         'Albino bias': 16,\n",
       "         'Cavalry Film': 15,\n",
       "         'Road-Horror': 15,\n",
       "         'Outlaw biker film': 15,\n",
       "         'Beach Film': 15,\n",
       "         'Mythological Fantasy': 15,\n",
       "         'Comedy horror': 13,\n",
       "         'Art film': 13,\n",
       "         'Hagiography': 13,\n",
       "         'British Empire Film': 13,\n",
       "         'Natural disaster': 12,\n",
       "         'Business': 12,\n",
       "         'Language & Literature': 12,\n",
       "         'Space western': 11,\n",
       "         'Prison film': 11,\n",
       "         'Horse racing': 11,\n",
       "         'Family & Personal Relationships': 11,\n",
       "         'Cold War': 11,\n",
       "         'Mumblecore': 10,\n",
       "         'Instrumental Music': 10,\n",
       "         'Buddy cop': 10,\n",
       "         'Sword and Sandal': 9,\n",
       "         'Foreign legion': 9,\n",
       "         'Women in prison films': 9,\n",
       "         'Health & Fitness': 9,\n",
       "         'Baseball': 9,\n",
       "         'Fantasy Drama': 9,\n",
       "         'Inventions & Innovations': 9,\n",
       "         'Legal drama': 8,\n",
       "         'Anthropology': 8,\n",
       "         \"Children's Entertainment\": 8,\n",
       "         'Archives and records': 8,\n",
       "         'Psycho-biddy': 8,\n",
       "         'World History': 8,\n",
       "         'Reboot': 8,\n",
       "         'Dogme 95': 8,\n",
       "         'Essay Film': 7,\n",
       "         'Acid western': 7,\n",
       "         'Archaeology': 6,\n",
       "         'Demonic child': 6,\n",
       "         'Journalism': 6,\n",
       "         'Jukebox musical': 6,\n",
       "         'Spaghetti Western': 6,\n",
       "         'Education': 6,\n",
       "         'Science fiction Western': 6,\n",
       "         'Anthology': 6,\n",
       "         'Space opera': 5,\n",
       "         'Libraries and librarians': 5,\n",
       "         'Alien invasion': 5,\n",
       "         'Computers': 5,\n",
       "         'Bloopers & Candid Camera': 5,\n",
       "         'Mondo film': 5,\n",
       "         'Courtroom Comedy': 5,\n",
       "         'Female buddy film': 5,\n",
       "         'Bollywood': 5,\n",
       "         'School story': 5,\n",
       "         'Outlaw': 5,\n",
       "         'Singing cowboy': 5,\n",
       "         'Plague': 4,\n",
       "         'Early Black Cinema': 4,\n",
       "         'Filmed Play': 4,\n",
       "         'Sponsored film': 4,\n",
       "         'Werewolf fiction': 4,\n",
       "         'Movies About Gladiators': 4,\n",
       "         'Roadshow/Carny': 4,\n",
       "         'Sci-Fi Thriller': 4,\n",
       "         'Operetta': 4,\n",
       "         'Gulf War': 4,\n",
       "         'Feature film': 4,\n",
       "         'Therimin music': 4,\n",
       "         'Wuxia': 3,\n",
       "         'Finance & Investing': 3,\n",
       "         'Nuclear warfare': 3,\n",
       "         'Z movie': 3,\n",
       "         'Psychological horror': 3,\n",
       "         'Cyberpunk': 3,\n",
       "         \"Children's Issues\": 3,\n",
       "         'Race movie': 3,\n",
       "         'Kafkaesque': 3,\n",
       "         'Vampire movies': 3,\n",
       "         'Goat gland': 3,\n",
       "         'Point of view shot': 3,\n",
       "         'Samurai cinema': 3,\n",
       "         'Giallo': 3,\n",
       "         'Expressionism': 2,\n",
       "         'Camp': 2,\n",
       "         'Private military company': 2,\n",
       "         'Coming-of-age film': 2,\n",
       "         'Humour': 2,\n",
       "         'Sci Fi Pictures original films': 2,\n",
       "         'Beach Party film': 2,\n",
       "         'Fictional film': 2,\n",
       "         'Parkour in popular culture': 2,\n",
       "         'Patriotic film': 2,\n",
       "         'Ealing Comedies': 2,\n",
       "         'Revisionist Fairy Tale': 2,\n",
       "         'Game-Show': 2,\n",
       "         'Star vehicle': 1,\n",
       "         'Conspiracy fiction': 1,\n",
       "         'Prison escape': 1,\n",
       "         'Live action': 1,\n",
       "         'Breakdance': 1,\n",
       "         'War effort': 1,\n",
       "         'Clay animation': 1,\n",
       "         'Chick flick': 1,\n",
       "         'Political Documetary': 1,\n",
       "         'Ninja movie': 1,\n",
       "         'Statutory rape': 1,\n",
       "         'British New Wave': 1,\n",
       "         'Supermarionation': 1,\n",
       "         'Period Horror': 1,\n",
       "         'The Netherlands in World War II': 1})"
      ]
     },
     "execution_count": 50,
     "metadata": {},
     "output_type": "execute_result"
    }
   ],
   "source": [
    "genres_flat=[item for sublist in movie_data[\"genre\"].values for item in sublist]\n",
    "genres_count=Counter(genres_flat)\n",
    "genres_count"
   ]
  },
  {
   "cell_type": "markdown",
   "metadata": {},
   "source": [
    "## Genres preprocessing"
   ]
  },
  {
   "cell_type": "markdown",
   "metadata": {
    "tags": []
   },
   "source": [
    "We can see that there are many genres contained in the database. However they are not uniform, some are very broad (_e.g._ Drama) while some are very precise (_e.g._ Women in prison films). Additionnaly some of the \"genres\" are in reality not movie genres but rather tyoes of movies such as \"Black and white\" or \"Short films\". We therefore have to determine a list of genres we want to keep and recategorize some movies to these new genres. We make a first list with the common genres which we then modify"
   ]
  },
  {
   "cell_type": "markdown",
   "metadata": {},
   "source": [
    "| Name                   | Note                                                       |\n",
    "|------------------------|------------------------------------------------------------|\n",
    "| Drama                  |                                                            |\n",
    "| Comedy                 |                                                            |\n",
    "| Indie                  |                                                            |\n",
    "| Thriller               |                                                            |\n",
    "| Romance Film           |                                                            |\n",
    "| Action                 |                                                            |\n",
    "| Crime Fiction          | Merge with crime   thriller into new Crime genre           |\n",
    "| Action/Adventure       | Has to be merged with   action and adventure               |\n",
    "| Adventure              |                                                            |\n",
    "| Horror                 |                                                            |\n",
    "| Family Film            |                                                            |\n",
    "| Documentary            |                                                            |\n",
    "| Science Fiction        |                                                            |\n",
    "| Romantic comedy        |                                                            |\n",
    "| Mystery                |                                                            |\n",
    "| Musical                |                                                            |\n",
    "| Western                |                                                            |\n",
    "| Animation              |                                                            |\n",
    "| Fantasy                |                                                            |\n",
    "| Crime Thriller         | Add Thriller genre if   not present yet                    |\n",
    "| Romantic drama         | Has to be merged with   Romantic and Drama                 |\n",
    "| War film               |                                                            |\n",
    "| Film adaptation        |                                                            |\n",
    "| Comedy-drama           | Has to be merged with   comedy and drama                   |\n",
    "| Biography              |                                                            |\n",
    "| Psychological thriller |                                                            |\n",
    "| Comedy film            | Same as comedy, has   to be merged with it                 |\n",
    "| Teen                   |                                                            |\n",
    "| Sports                 |                                                            |\n",
    "| Children's/Family      |                                                            |\n",
    "| Parody                 |                                                            |\n",
    "| Black comedy           | Add Comedy if not   present yet                            |\n",
    "| Family Drama           |                                                            |\n",
    "| Biographical film      | Same as Biography,   has to be merged with it              |\n",
    "| Cult                   |                                                            |\n",
    "| LGBT                   |                                                            |\n",
    "| Coming of age          |                                                            |\n",
    "| Slapstick              |                                                            |\n",
    "| Music                  |                                                            |\n",
    "| Culture & Society      |                                                            |\n",
    "| Melodrama              |                                                            |\n",
    "| Supernatural           |                                                            |\n",
    "| History                |                                                            |\n",
    "| Biopic [feature]       | Same as Biography,   has to be merged with it              |\n",
    "| Satire                 |                                                            |\n",
    "| Political drama        | Add Drama Genre if   not present yet                       |\n",
    "| Action Thrillers       | Merge with Thriller                                        |\n",
    "| Children's             | Merge with   Children's/Family                             |\n",
    "| Costume drama          | Merge with Drama                                           |\n",
    "| Crime Drama            | Add Drama if not   present yet & merge into Crime category |\n",
    "| Spy                    |                                                            |\n",
    "| Superhero movie        | Merge with Superhero                                       |\n",
    "|                        | (we keep the Superhero name   for simplicity)              |\n",
    "| War film               | Merge with War                                             |\n",
    "|Period piece||"
   ]
  },
  {
   "cell_type": "code",
   "execution_count": 67,
   "metadata": {
    "tags": []
   },
   "outputs": [],
   "source": [
    "genres_to_keep=['Drama','Comedy','Indie','Thriller','Romance Film','Action','Crime Fiction','Action/Adventure','Adventure','Horror','Family Film','Documentary','Science Fiction','Romantic comedy','Mystery','Western','Musical','Animation','Fantasy','Crime Thriller','Romantic drama','War film','Film adaptation','Comedy-drama','Biography','Psychological thriller','Comedy film','Teen','Sports',\"Children's/Family\",'Parody','Black comedy','Family Drama','Biographical film','Cult','LGBT','Coming of age','Slapstick','Music','Culture & Society','Melodrama','Supernatural','History','Biopic [feature]','Satire','Political drama','Action Thrillers',\"Children's\",'Costume drama','Crime Drama','Spy','Superhero','Period piece']\n",
    "genres_to_remove=[item for item in list(genres_count) if item not in genres_to_keep]"
   ]
  },
  {
   "cell_type": "markdown",
   "metadata": {},
   "source": [
    "### Movies where none of their genres are contained in the list above"
   ]
  },
  {
   "cell_type": "markdown",
   "metadata": {},
   "source": [
    "We define a function which searches for these movies. This function finds all movies where none of their genres are contained in the list of genres we want to keep."
   ]
  },
  {
   "cell_type": "code",
   "execution_count": 83,
   "metadata": {
    "tags": []
   },
   "outputs": [],
   "source": [
    "def no_genres_in_list(genres,df=movie_data):\n",
    "    ID_no_accepted_genre=[]\n",
    "    for index,row in df.iterrows():\n",
    "        ID=row['name']\n",
    "        genre=row['genre']\n",
    "        if all(element in genres for element in genre) and genre!=[]:\n",
    "            ID_no_accepted_genre.append(ID)\n",
    "    print(\"Number of movies : \",len(ID_no_accepted_genre))\n",
    "    return ID_no_accepted_genre"
   ]
  },
  {
   "cell_type": "code",
   "execution_count": 84,
   "metadata": {
    "tags": []
   },
   "outputs": [
    {
     "name": "stdout",
     "output_type": "stream",
     "text": [
      "Number of movies :  1604\n"
     ]
    }
   ],
   "source": [
    "foo=no_genres_in_list(genres=genres_to_remove);"
   ]
  },
  {
   "cell_type": "code",
   "execution_count": 85,
   "metadata": {
    "tags": []
   },
   "outputs": [
    {
     "data": {
      "text/plain": [
       "Counter({'Short Film': 360,\n",
       "         'Drama': 298,\n",
       "         'Black-and-white': 246,\n",
       "         'Sci-Fi': 245,\n",
       "         'Crime': 224,\n",
       "         'Romance': 187,\n",
       "         'Family': 182,\n",
       "         'Silent film': 163,\n",
       "         'Thriller': 151,\n",
       "         'Sport': 125,\n",
       "         'Comedy': 104,\n",
       "         'Action': 77,\n",
       "         'Horror': 60,\n",
       "         'Adventure': 59,\n",
       "         'Fantasy': 49,\n",
       "         'Mystery': 49,\n",
       "         'Indie': 48,\n",
       "         'Romance Film': 48,\n",
       "         'Documentary': 47,\n",
       "         'Crime Fiction': 39,\n",
       "         'War': 39,\n",
       "         'Propaganda film': 35,\n",
       "         'Film noir': 34,\n",
       "         'Action/Adventure': 30,\n",
       "         'Talk-Show': 30,\n",
       "         'Family Film': 29,\n",
       "         'Musical': 23,\n",
       "         'Science Fiction': 22,\n",
       "         'Reality-TV': 21,\n",
       "         'Animation': 20,\n",
       "         'Crime Thriller': 20,\n",
       "         'Film adaptation': 17,\n",
       "         'Romantic drama': 17,\n",
       "         'Superhero movie': 14,\n",
       "         'Television movie': 14,\n",
       "         'Concert film': 14,\n",
       "         'Japanese Movies': 13,\n",
       "         'Romantic comedy': 12,\n",
       "         'Biography': 11,\n",
       "         'Costume drama': 11,\n",
       "         'Experimental film': 11,\n",
       "         'Psychological thriller': 10,\n",
       "         'Christian film': 10,\n",
       "         'Family Drama': 9,\n",
       "         'Period piece': 9,\n",
       "         'Suspense': 8,\n",
       "         'Swashbuckler films': 8,\n",
       "         'Christmas movie': 8,\n",
       "         'Computer Animation': 8,\n",
       "         'Avant-garde': 8,\n",
       "         'Music': 8,\n",
       "         'Detective': 8,\n",
       "         'War film': 8,\n",
       "         'Sports': 7,\n",
       "         'Pre-Code': 7,\n",
       "         'Slasher': 6,\n",
       "         'Animated cartoon': 6,\n",
       "         'Supernatural': 6,\n",
       "         'Martial Arts Film': 6,\n",
       "         'Screwball comedy': 6,\n",
       "         'Coming of age': 5,\n",
       "         'Parody': 5,\n",
       "         'Western': 5,\n",
       "         'Comedy film': 5,\n",
       "         'Musical comedy': 5,\n",
       "         'News': 5,\n",
       "         'Stop motion': 4,\n",
       "         'LGBT': 4,\n",
       "         'Surrealism': 4,\n",
       "         'Rockumentary': 4,\n",
       "         'Courtroom Drama': 4,\n",
       "         'Historical fiction': 4,\n",
       "         'Time travel': 4,\n",
       "         'Detective fiction': 4,\n",
       "         \"Children's\": 4,\n",
       "         'Sci-Fi Horror': 3,\n",
       "         'Blaxploitation': 3,\n",
       "         'World cinema': 3,\n",
       "         'Sponsored film': 3,\n",
       "         'Heist': 3,\n",
       "         'Black comedy': 3,\n",
       "         'Gay Themed': 3,\n",
       "         'Disaster': 3,\n",
       "         'Erotica': 3,\n",
       "         'Political drama': 3,\n",
       "         'Teen': 3,\n",
       "         'Mockumentary': 3,\n",
       "         'History': 3,\n",
       "         'Buddy film': 3,\n",
       "         'Sexploitation': 3,\n",
       "         'Art film': 2,\n",
       "         'Biographical film': 2,\n",
       "         'Sword and sorcery': 2,\n",
       "         'Chinese Movies': 2,\n",
       "         'Gay': 2,\n",
       "         'Gay Interest': 2,\n",
       "         'Historical drama': 2,\n",
       "         'Doomsday film': 2,\n",
       "         'Historical Epic': 2,\n",
       "         'B-movie': 2,\n",
       "         'Satire': 2,\n",
       "         'Fan film': 2,\n",
       "         'Monster movie': 2,\n",
       "         'Remake': 2,\n",
       "         'Northern': 2,\n",
       "         'Epic': 2,\n",
       "         'Punk rock': 2,\n",
       "         'Comedy-drama': 2,\n",
       "         'Comedy of Errors': 2,\n",
       "         'Hip hop movies': 1,\n",
       "         'Camp': 1,\n",
       "         'Political cinema': 1,\n",
       "         'Auto racing': 1,\n",
       "         'Dance': 1,\n",
       "         'Alien Film': 1,\n",
       "         'Spy': 1,\n",
       "         'Foreign legion': 1,\n",
       "         'New Hollywood': 1,\n",
       "         'Dogme 95': 1,\n",
       "         'Anime': 1,\n",
       "         'Apocalyptic and post-apocalyptic fiction': 1,\n",
       "         'Singing cowboy': 1,\n",
       "         'Tragedy': 1,\n",
       "         'Boxing': 1,\n",
       "         'Airplanes and airports': 1,\n",
       "         'Road-Horror': 1,\n",
       "         'Cult': 1,\n",
       "         'Anti-war': 1,\n",
       "         'Religious Film': 1,\n",
       "         'Monster': 1,\n",
       "         'Fantasy Comedy': 1,\n",
       "         'Action Thrillers': 1,\n",
       "         'Movie serial': 1,\n",
       "         'Erotic thriller': 1,\n",
       "         'Sex comedy': 1,\n",
       "         'Crime Drama': 1,\n",
       "         'Exploitation': 1,\n",
       "         'Computers': 1,\n",
       "         'Business': 1,\n",
       "         'Libraries and librarians': 1,\n",
       "         'Outlaw biker film': 1,\n",
       "         'Slapstick': 1,\n",
       "         'Race movie': 1,\n",
       "         'Educational': 1,\n",
       "         'Game-Show': 1})"
      ]
     },
     "execution_count": 85,
     "metadata": {},
     "output_type": "execute_result"
    }
   ],
   "source": [
    "uniquegenres_df = movie_data[movie_data['name'].isin(foo)]\n",
    "uniquegenres_flat=[item for sublist in uniquegenres_df[\"genre\"].values for item in sublist]\n",
    "uniquegenres_count=Counter(uniquegenres_flat)\n",
    "uniquegenres_count"
   ]
  },
  {
   "cell_type": "markdown",
   "metadata": {},
   "source": [
    "The only genres which appear a significant number of times are Silent film , black & white and silent films. All three are not real movie genres but rather describe movie type. We still keep them and add them to the list of genres. We than take the rest of the genres and assign them to new categories if possible (_e.g_ Film noir to crime and drama , Mockumentary to documentary) or otherwise removing them. To remove them we remove their genre and they will then be removed when removing the movies with no genres    \n",
    "-->Explain why we remove so many"
   ]
  },
  {
   "cell_type": "code",
   "execution_count": 86,
   "metadata": {
    "tags": []
   },
   "outputs": [],
   "source": [
    "genres_to_keep.append(['Short Film','Black-and-white','Silent film'])\n",
    "genres_to_remove=[item for item in list(genres_count) if item not in genres_to_keep]"
   ]
  },
  {
   "cell_type": "code",
   "execution_count": 87,
   "metadata": {
    "tags": []
   },
   "outputs": [],
   "source": [
    "genre_equivalence={\n",
    " 'Film noir':[],\n",
    " 'Propaganda film':[],\n",
    " 'Art film':[],\n",
    " 'Slasher':['Horror'],\n",
    " 'Concert film':[],\n",
    " 'Stop motion':[],\n",
    " 'Blaxploitation':[],\n",
    " 'Pre-Code':[],\n",
    " 'Hip hop movies':[],\n",
    " 'Chinese Movies':[],\n",
    " 'World cinema':[],\n",
    " 'Sponsored film':[],\n",
    " 'Animated cartoon':['Animation'],\n",
    " 'Christian film':[],\n",
    " 'Japanese Movies':[],\n",
    " 'Surrealism':[],\n",
    " 'Swashbuckler films':['Adventure'],\n",
    " 'Superhero movie':['Superhero'],\n",
    " 'Historical drama':['Drama'],\n",
    " 'Christmas movie':[],\n",
    " 'Rockumentary':['Documentary'],\n",
    " 'Computer Animation':['Animation'],\n",
    " 'Auto racing':[],\n",
    " 'Experimental film':[],\n",
    " 'Avant-garde':[],\n",
    " 'Dance':[],\n",
    " 'Historical Epic':[],\n",
    " 'Historical fiction':[],\n",
    " 'Detective fiction':[],\n",
    " 'Comedy horror':['Comedy','Horror'],\n",
    " 'Detective':[],\n",
    " 'Erotica':[],\n",
    " 'Foreign legion':[],\n",
    " 'Mockumentary':['Documentary'],\n",
    " 'Fan film':[],\n",
    " 'Martial Arts Film':[],\n",
    " 'Dogme 95':[],\n",
    " 'Musical comedy':['Comedy'],\n",
    " 'Sword and sorcery':[],\n",
    " 'Suspense':[],\n",
    " 'Anime':[],\n",
    " 'Filipino Movies':[],\n",
    " 'Period piece':[],\n",
    " 'Screwball comedy':['Comedy'],\n",
    " 'Singing cowboy':[],\n",
    " 'Northern':[],\n",
    " 'Television movie':[],\n",
    " 'Time travel':[],\n",
    " 'Disaster':[],\n",
    " 'Anti-war':[],\n",
    " 'Religious Film':[],\n",
    " 'Punk rock':[],\n",
    " 'Exploitation':[],\n",
    " 'Computers':[],\n",
    " 'Business':[],\n",
    " 'Sexploitation':[],\n",
    " 'Gay Interest':[],\n",
    " 'Gay':[],\n",
    " 'Gay Themed':[],\n",
    " 'Outlaw biker film':[],\n",
    " 'Sci-Fi Horror':['Horror','Science Fiction'],\n",
    " 'Race movie':[],\n",
    " 'Educational':[],\n",
    "'Crime Fiction':['Crime'],\n",
    "'Action/Adventure':['Action','Adventure'],\n",
    "    'Romantics drama':['Romantic','Drama'],\n",
    "    'Comedy-drama':['Comedy','Drama'],\n",
    "    'Comedy-film':['Comedy'],\n",
    "    'Biographical film':['Biography'],\n",
    "    'Biopic [feature]':['Biography'],\n",
    "    \"Children's\":[\"Children's/Family\"],\n",
    "    'Crime Drama':['Drama','Crime'],\n",
    "    'Superhero movie':['Superhero'],\n",
    "    'Crime Thriller':['Crime','Thriller'],\n",
    "    'Action Thrillers':['Thriller'],\n",
    "    'War film':['War']\n",
    "}"
   ]
  },
  {
   "cell_type": "markdown",
   "metadata": {},
   "source": [
    "We can then use this equivalence table to remove the unwanted genres"
   ]
  },
  {
   "cell_type": "code",
   "execution_count": 89,
   "metadata": {
    "tags": []
   },
   "outputs": [],
   "source": [
    "def replace_elements_in_list(lst):\n",
    "    return [replacement for item in lst for replacement in genre_equivalence.get(item, [item])]\n",
    "movie_data['genre'] = movie_data['genre'].apply(replace_elements_in_list)"
   ]
  },
  {
   "cell_type": "code",
   "execution_count": 91,
   "metadata": {
    "tags": []
   },
   "outputs": [
    {
     "data": {
      "text/html": [
       "<div>\n",
       "<style scoped>\n",
       "    .dataframe tbody tr th:only-of-type {\n",
       "        vertical-align: middle;\n",
       "    }\n",
       "\n",
       "    .dataframe tbody tr th {\n",
       "        vertical-align: top;\n",
       "    }\n",
       "\n",
       "    .dataframe thead th {\n",
       "        text-align: right;\n",
       "    }\n",
       "</style>\n",
       "<table border=\"1\" class=\"dataframe\">\n",
       "  <thead>\n",
       "    <tr style=\"text-align: right;\">\n",
       "      <th></th>\n",
       "      <th>wikipedia_ID</th>\n",
       "      <th>freebase_ID</th>\n",
       "      <th>name</th>\n",
       "      <th>release_date</th>\n",
       "      <th>box_office_revenue</th>\n",
       "      <th>runtime</th>\n",
       "      <th>genre</th>\n",
       "      <th>plot_summary</th>\n",
       "      <th>IMDB_ID</th>\n",
       "    </tr>\n",
       "  </thead>\n",
       "  <tbody>\n",
       "    <tr>\n",
       "      <th>0</th>\n",
       "      <td>975900.0</td>\n",
       "      <td>/m/03vyhn</td>\n",
       "      <td>ghosts of mars</td>\n",
       "      <td>2001</td>\n",
       "      <td>14010832.0</td>\n",
       "      <td>98.0</td>\n",
       "      <td>[Thriller, Science Fiction, Horror, Adventure,...</td>\n",
       "      <td>Set in the second half of the 22nd century, th...</td>\n",
       "      <td>NaN</td>\n",
       "    </tr>\n",
       "    <tr>\n",
       "      <th>1</th>\n",
       "      <td>3196793.0</td>\n",
       "      <td>/m/08yl5d</td>\n",
       "      <td>getting away with murder: the jonbenét ramsey ...</td>\n",
       "      <td>2000</td>\n",
       "      <td>NaN</td>\n",
       "      <td>95.0</td>\n",
       "      <td>[Mystery, Biography, Drama, Drama, Crime]</td>\n",
       "      <td>NaN</td>\n",
       "      <td>NaN</td>\n",
       "    </tr>\n",
       "    <tr>\n",
       "      <th>2</th>\n",
       "      <td>13696889.0</td>\n",
       "      <td>/m/03cfc81</td>\n",
       "      <td>the gangsters</td>\n",
       "      <td>1913</td>\n",
       "      <td>NaN</td>\n",
       "      <td>35.0</td>\n",
       "      <td>[Short Film, Silent film, Indie, Black-and-whi...</td>\n",
       "      <td>NaN</td>\n",
       "      <td>NaN</td>\n",
       "    </tr>\n",
       "    <tr>\n",
       "      <th>3</th>\n",
       "      <td>10408933.0</td>\n",
       "      <td>/m/02qc0j7</td>\n",
       "      <td>alexander's ragtime band</td>\n",
       "      <td>1938</td>\n",
       "      <td>3600000.0</td>\n",
       "      <td>106.0</td>\n",
       "      <td>[Musical, Comedy, Black-and-white]</td>\n",
       "      <td>NaN</td>\n",
       "      <td>NaN</td>\n",
       "    </tr>\n",
       "    <tr>\n",
       "      <th>4</th>\n",
       "      <td>175026.0</td>\n",
       "      <td>/m/017n1p</td>\n",
       "      <td>sarah and son</td>\n",
       "      <td>1930</td>\n",
       "      <td>NaN</td>\n",
       "      <td>86.0</td>\n",
       "      <td>[Drama, Black-and-white]</td>\n",
       "      <td>NaN</td>\n",
       "      <td>NaN</td>\n",
       "    </tr>\n",
       "    <tr>\n",
       "      <th>5</th>\n",
       "      <td>6631279.0</td>\n",
       "      <td>/m/0gffwj</td>\n",
       "      <td>little city</td>\n",
       "      <td>1997</td>\n",
       "      <td>NaN</td>\n",
       "      <td>93.0</td>\n",
       "      <td>[Romantic comedy, Ensemble Film, Comedy, Drama...</td>\n",
       "      <td>Adam, a San Francisco-based artist who works a...</td>\n",
       "      <td>NaN</td>\n",
       "    </tr>\n",
       "    <tr>\n",
       "      <th>6</th>\n",
       "      <td>77856.0</td>\n",
       "      <td>/m/0kcn7</td>\n",
       "      <td>mary poppins</td>\n",
       "      <td>1964</td>\n",
       "      <td>102272727.0</td>\n",
       "      <td>139.0</td>\n",
       "      <td>[Children's/Family, Musical, Fantasy, Comedy, ...</td>\n",
       "      <td>The film opens with Mary Poppins  perched in a...</td>\n",
       "      <td>NaN</td>\n",
       "    </tr>\n",
       "    <tr>\n",
       "      <th>7</th>\n",
       "      <td>33420460.0</td>\n",
       "      <td>/m/0gj30jx</td>\n",
       "      <td>keep the change</td>\n",
       "      <td>1992</td>\n",
       "      <td>NaN</td>\n",
       "      <td>97.0</td>\n",
       "      <td>[Drama]</td>\n",
       "      <td>NaN</td>\n",
       "      <td>NaN</td>\n",
       "    </tr>\n",
       "    <tr>\n",
       "      <th>8</th>\n",
       "      <td>175024.0</td>\n",
       "      <td>/m/017n1b</td>\n",
       "      <td>the devil's holiday</td>\n",
       "      <td>1930</td>\n",
       "      <td>NaN</td>\n",
       "      <td>NaN</td>\n",
       "      <td>[Romance Film, Drama, Black-and-white]</td>\n",
       "      <td>NaN</td>\n",
       "      <td>NaN</td>\n",
       "    </tr>\n",
       "    <tr>\n",
       "      <th>9</th>\n",
       "      <td>612710.0</td>\n",
       "      <td>/m/02wjqm</td>\n",
       "      <td>new rose hotel</td>\n",
       "      <td>1999</td>\n",
       "      <td>21521.0</td>\n",
       "      <td>92.0</td>\n",
       "      <td>[Thriller, Science Fiction, Future noir, Indie...</td>\n",
       "      <td>NaN</td>\n",
       "      <td>NaN</td>\n",
       "    </tr>\n",
       "  </tbody>\n",
       "</table>\n",
       "</div>"
      ],
      "text/plain": [
       "   wikipedia_ID freebase_ID  \\\n",
       "0      975900.0   /m/03vyhn   \n",
       "1     3196793.0   /m/08yl5d   \n",
       "2    13696889.0  /m/03cfc81   \n",
       "3    10408933.0  /m/02qc0j7   \n",
       "4      175026.0   /m/017n1p   \n",
       "5     6631279.0   /m/0gffwj   \n",
       "6       77856.0    /m/0kcn7   \n",
       "7    33420460.0  /m/0gj30jx   \n",
       "8      175024.0   /m/017n1b   \n",
       "9      612710.0   /m/02wjqm   \n",
       "\n",
       "                                                name  release_date  \\\n",
       "0                                     ghosts of mars          2001   \n",
       "1  getting away with murder: the jonbenét ramsey ...          2000   \n",
       "2                                      the gangsters          1913   \n",
       "3                           alexander's ragtime band          1938   \n",
       "4                                      sarah and son          1930   \n",
       "5                                        little city          1997   \n",
       "6                                       mary poppins          1964   \n",
       "7                                    keep the change          1992   \n",
       "8                                the devil's holiday          1930   \n",
       "9                                     new rose hotel          1999   \n",
       "\n",
       "   box_office_revenue  runtime  \\\n",
       "0          14010832.0     98.0   \n",
       "1                 NaN     95.0   \n",
       "2                 NaN     35.0   \n",
       "3           3600000.0    106.0   \n",
       "4                 NaN     86.0   \n",
       "5                 NaN     93.0   \n",
       "6         102272727.0    139.0   \n",
       "7                 NaN     97.0   \n",
       "8                 NaN      NaN   \n",
       "9             21521.0     92.0   \n",
       "\n",
       "                                               genre  \\\n",
       "0  [Thriller, Science Fiction, Horror, Adventure,...   \n",
       "1          [Mystery, Biography, Drama, Drama, Crime]   \n",
       "2  [Short Film, Silent film, Indie, Black-and-whi...   \n",
       "3                 [Musical, Comedy, Black-and-white]   \n",
       "4                           [Drama, Black-and-white]   \n",
       "5  [Romantic comedy, Ensemble Film, Comedy, Drama...   \n",
       "6  [Children's/Family, Musical, Fantasy, Comedy, ...   \n",
       "7                                            [Drama]   \n",
       "8             [Romance Film, Drama, Black-and-white]   \n",
       "9  [Thriller, Science Fiction, Future noir, Indie...   \n",
       "\n",
       "                                        plot_summary IMDB_ID  \n",
       "0  Set in the second half of the 22nd century, th...     NaN  \n",
       "1                                                NaN     NaN  \n",
       "2                                                NaN     NaN  \n",
       "3                                                NaN     NaN  \n",
       "4                                                NaN     NaN  \n",
       "5  Adam, a San Francisco-based artist who works a...     NaN  \n",
       "6  The film opens with Mary Poppins  perched in a...     NaN  \n",
       "7                                                NaN     NaN  \n",
       "8                                                NaN     NaN  \n",
       "9                                                NaN     NaN  "
      ]
     },
     "execution_count": 91,
     "metadata": {},
     "output_type": "execute_result"
    }
   ],
   "source": [
    "movie_data.head(10)"
   ]
  },
  {
   "cell_type": "markdown",
   "metadata": {},
   "source": [
    "We now also the modification where we add the genres if not present yet , we do not care about duplicates as we will remove them in a later step"
   ]
  },
  {
   "cell_type": "code",
   "execution_count": 95,
   "metadata": {
    "tags": []
   },
   "outputs": [],
   "source": [
    "genre_equivalence_add={\n",
    "    'Crime Thriller':['Crime','Thriller'],\n",
    "    'Black comedy':['Comedy'],\n",
    "    'Political drama':['Drama'],\n",
    "    'Crime Drama':['Crime','Drama']\n",
    "}"
   ]
  },
  {
   "cell_type": "code",
   "execution_count": 96,
   "metadata": {
    "tags": []
   },
   "outputs": [],
   "source": [
    "def add_entries_to_list(lst):\n",
    "    return lst + [entry for item in lst for entry in genre_equivalence_add.get(item, [])]\n",
    "movie_data['genre'] = movie_data['genre'].apply(add_entries_to_list)"
   ]
  },
  {
   "cell_type": "markdown",
   "metadata": {},
   "source": [
    "We now redefine the list of accepted genres and use them to remove all unwanted genres"
   ]
  },
  {
   "cell_type": "code",
   "execution_count": 97,
   "metadata": {
    "tags": []
   },
   "outputs": [],
   "source": [
    "genres_to_keep=['Drama','Comedy','Indie','Thriller','Romance Film','Action','Adventure','Horror','Family Film','Documentary','Science Fiction','Romantic comedy','Mystery','Musical','Western','Animation','Fantasy','War film','Film adaptation','Biography','Psychological thriller','Teen','Sports',\"Children's/Family\",'Parody','Black comedy','Family Drama','Biographical film','Cult','LGBT','Coming of age','Slapstick','Music','Culture & Society','Melodrama','Supernatural','History','Satire','Political drama','Spy','Superhero','Period piece']"
   ]
  },
  {
   "cell_type": "code",
   "execution_count": 98,
   "metadata": {
    "tags": []
   },
   "outputs": [],
   "source": [
    "def filter_elements_in_list(lst):\n",
    "    return [item for item in lst if item in genres_to_keep]\n",
    "\n",
    "movie_data['genre']=movie_data['genre'].apply(filter_elements_in_list)"
   ]
  },
  {
   "cell_type": "markdown",
   "metadata": {},
   "source": [
    "### Missing genres"
   ]
  },
  {
   "cell_type": "markdown",
   "metadata": {},
   "source": [
    "We now remove all entries with missing genres (i.e where genre is an empty list). As this concerns few movies and genres are an important part of our analysis it is more viable to remove this little amount of movies"
   ]
  },
  {
   "cell_type": "code",
   "execution_count": 99,
   "metadata": {
    "tags": []
   },
   "outputs": [
    {
     "data": {
      "text/html": [
       "<div>\n",
       "<style scoped>\n",
       "    .dataframe tbody tr th:only-of-type {\n",
       "        vertical-align: middle;\n",
       "    }\n",
       "\n",
       "    .dataframe tbody tr th {\n",
       "        vertical-align: top;\n",
       "    }\n",
       "\n",
       "    .dataframe thead th {\n",
       "        text-align: right;\n",
       "    }\n",
       "</style>\n",
       "<table border=\"1\" class=\"dataframe\">\n",
       "  <thead>\n",
       "    <tr style=\"text-align: right;\">\n",
       "      <th></th>\n",
       "      <th>wikipedia_ID</th>\n",
       "      <th>freebase_ID</th>\n",
       "      <th>name</th>\n",
       "      <th>release_date</th>\n",
       "      <th>box_office_revenue</th>\n",
       "      <th>runtime</th>\n",
       "      <th>genre</th>\n",
       "      <th>plot_summary</th>\n",
       "      <th>IMDB_ID</th>\n",
       "    </tr>\n",
       "  </thead>\n",
       "  <tbody>\n",
       "    <tr>\n",
       "      <th>0</th>\n",
       "      <td>975900.0</td>\n",
       "      <td>/m/03vyhn</td>\n",
       "      <td>ghosts of mars</td>\n",
       "      <td>2001</td>\n",
       "      <td>14010832.0</td>\n",
       "      <td>98.0</td>\n",
       "      <td>[Thriller, Science Fiction, Horror, Adventure,...</td>\n",
       "      <td>Set in the second half of the 22nd century, th...</td>\n",
       "      <td>NaN</td>\n",
       "    </tr>\n",
       "    <tr>\n",
       "      <th>1</th>\n",
       "      <td>3196793.0</td>\n",
       "      <td>/m/08yl5d</td>\n",
       "      <td>getting away with murder: the jonbenét ramsey ...</td>\n",
       "      <td>2000</td>\n",
       "      <td>NaN</td>\n",
       "      <td>95.0</td>\n",
       "      <td>[Mystery, Biography, Drama, Drama]</td>\n",
       "      <td>NaN</td>\n",
       "      <td>NaN</td>\n",
       "    </tr>\n",
       "    <tr>\n",
       "      <th>2</th>\n",
       "      <td>13696889.0</td>\n",
       "      <td>/m/03cfc81</td>\n",
       "      <td>the gangsters</td>\n",
       "      <td>1913</td>\n",
       "      <td>NaN</td>\n",
       "      <td>35.0</td>\n",
       "      <td>[Indie, Comedy]</td>\n",
       "      <td>NaN</td>\n",
       "      <td>NaN</td>\n",
       "    </tr>\n",
       "    <tr>\n",
       "      <th>3</th>\n",
       "      <td>10408933.0</td>\n",
       "      <td>/m/02qc0j7</td>\n",
       "      <td>alexander's ragtime band</td>\n",
       "      <td>1938</td>\n",
       "      <td>3600000.0</td>\n",
       "      <td>106.0</td>\n",
       "      <td>[Musical, Comedy]</td>\n",
       "      <td>NaN</td>\n",
       "      <td>NaN</td>\n",
       "    </tr>\n",
       "    <tr>\n",
       "      <th>4</th>\n",
       "      <td>175026.0</td>\n",
       "      <td>/m/017n1p</td>\n",
       "      <td>sarah and son</td>\n",
       "      <td>1930</td>\n",
       "      <td>NaN</td>\n",
       "      <td>86.0</td>\n",
       "      <td>[Drama]</td>\n",
       "      <td>NaN</td>\n",
       "      <td>NaN</td>\n",
       "    </tr>\n",
       "    <tr>\n",
       "      <th>...</th>\n",
       "      <td>...</td>\n",
       "      <td>...</td>\n",
       "      <td>...</td>\n",
       "      <td>...</td>\n",
       "      <td>...</td>\n",
       "      <td>...</td>\n",
       "      <td>...</td>\n",
       "      <td>...</td>\n",
       "      <td>...</td>\n",
       "    </tr>\n",
       "    <tr>\n",
       "      <th>53537</th>\n",
       "      <td>NaN</td>\n",
       "      <td>NaN</td>\n",
       "      <td>swarm season</td>\n",
       "      <td>2019</td>\n",
       "      <td>NaN</td>\n",
       "      <td>NaN</td>\n",
       "      <td>[Documentary]</td>\n",
       "      <td>[\"On the remote volcanic island of Hawaii, 10-...</td>\n",
       "      <td>tt9913056</td>\n",
       "    </tr>\n",
       "    <tr>\n",
       "      <th>53538</th>\n",
       "      <td>NaN</td>\n",
       "      <td>NaN</td>\n",
       "      <td>letters</td>\n",
       "      <td>2020</td>\n",
       "      <td>NaN</td>\n",
       "      <td>NaN</td>\n",
       "      <td>[Drama]</td>\n",
       "      <td>[\"Charlie Porter is an ordinary man. He leads ...</td>\n",
       "      <td>tt9913288</td>\n",
       "    </tr>\n",
       "    <tr>\n",
       "      <th>53539</th>\n",
       "      <td>NaN</td>\n",
       "      <td>NaN</td>\n",
       "      <td>the holden family plan</td>\n",
       "      <td>2019</td>\n",
       "      <td>NaN</td>\n",
       "      <td>NaN</td>\n",
       "      <td>[Drama]</td>\n",
       "      <td>[\"When Mackenzie Holden's sister and brother i...</td>\n",
       "      <td>tt9914522</td>\n",
       "    </tr>\n",
       "    <tr>\n",
       "      <th>53540</th>\n",
       "      <td>NaN</td>\n",
       "      <td>NaN</td>\n",
       "      <td>however long</td>\n",
       "      <td>2019</td>\n",
       "      <td>NaN</td>\n",
       "      <td>NaN</td>\n",
       "      <td>[Documentary]</td>\n",
       "      <td>['Documentary following four women with incura...</td>\n",
       "      <td>tt9914582</td>\n",
       "    </tr>\n",
       "    <tr>\n",
       "      <th>53541</th>\n",
       "      <td>NaN</td>\n",
       "      <td>NaN</td>\n",
       "      <td>albatross</td>\n",
       "      <td>2017</td>\n",
       "      <td>NaN</td>\n",
       "      <td>NaN</td>\n",
       "      <td>[Documentary]</td>\n",
       "      <td>[\"ALBATROSS is a powerful visual journey into ...</td>\n",
       "      <td>tt9914642</td>\n",
       "    </tr>\n",
       "  </tbody>\n",
       "</table>\n",
       "<p>51089 rows × 9 columns</p>\n",
       "</div>"
      ],
      "text/plain": [
       "       wikipedia_ID freebase_ID  \\\n",
       "0          975900.0   /m/03vyhn   \n",
       "1         3196793.0   /m/08yl5d   \n",
       "2        13696889.0  /m/03cfc81   \n",
       "3        10408933.0  /m/02qc0j7   \n",
       "4          175026.0   /m/017n1p   \n",
       "...             ...         ...   \n",
       "53537           NaN         NaN   \n",
       "53538           NaN         NaN   \n",
       "53539           NaN         NaN   \n",
       "53540           NaN         NaN   \n",
       "53541           NaN         NaN   \n",
       "\n",
       "                                                    name  release_date  \\\n",
       "0                                         ghosts of mars          2001   \n",
       "1      getting away with murder: the jonbenét ramsey ...          2000   \n",
       "2                                          the gangsters          1913   \n",
       "3                               alexander's ragtime band          1938   \n",
       "4                                          sarah and son          1930   \n",
       "...                                                  ...           ...   \n",
       "53537                                       swarm season          2019   \n",
       "53538                                            letters          2020   \n",
       "53539                             the holden family plan          2019   \n",
       "53540                                       however long          2019   \n",
       "53541                                          albatross          2017   \n",
       "\n",
       "       box_office_revenue  runtime  \\\n",
       "0              14010832.0     98.0   \n",
       "1                     NaN     95.0   \n",
       "2                     NaN     35.0   \n",
       "3               3600000.0    106.0   \n",
       "4                     NaN     86.0   \n",
       "...                   ...      ...   \n",
       "53537                 NaN      NaN   \n",
       "53538                 NaN      NaN   \n",
       "53539                 NaN      NaN   \n",
       "53540                 NaN      NaN   \n",
       "53541                 NaN      NaN   \n",
       "\n",
       "                                                   genre  \\\n",
       "0      [Thriller, Science Fiction, Horror, Adventure,...   \n",
       "1                     [Mystery, Biography, Drama, Drama]   \n",
       "2                                        [Indie, Comedy]   \n",
       "3                                      [Musical, Comedy]   \n",
       "4                                                [Drama]   \n",
       "...                                                  ...   \n",
       "53537                                      [Documentary]   \n",
       "53538                                            [Drama]   \n",
       "53539                                            [Drama]   \n",
       "53540                                      [Documentary]   \n",
       "53541                                      [Documentary]   \n",
       "\n",
       "                                            plot_summary    IMDB_ID  \n",
       "0      Set in the second half of the 22nd century, th...        NaN  \n",
       "1                                                    NaN        NaN  \n",
       "2                                                    NaN        NaN  \n",
       "3                                                    NaN        NaN  \n",
       "4                                                    NaN        NaN  \n",
       "...                                                  ...        ...  \n",
       "53537  [\"On the remote volcanic island of Hawaii, 10-...  tt9913056  \n",
       "53538  [\"Charlie Porter is an ordinary man. He leads ...  tt9913288  \n",
       "53539  [\"When Mackenzie Holden's sister and brother i...  tt9914522  \n",
       "53540  ['Documentary following four women with incura...  tt9914582  \n",
       "53541  [\"ALBATROSS is a powerful visual journey into ...  tt9914642  \n",
       "\n",
       "[51089 rows x 9 columns]"
      ]
     },
     "execution_count": 99,
     "metadata": {},
     "output_type": "execute_result"
    }
   ],
   "source": [
    "movie_data=movie_data[movie_data['genre'].apply(lambda x : len(x)!=0)]\n",
    "movie_data"
   ]
  },
  {
   "cell_type": "markdown",
   "metadata": {},
   "source": [
    "### Removing duplicates"
   ]
  },
  {
   "cell_type": "code",
   "execution_count": 100,
   "metadata": {
    "tags": []
   },
   "outputs": [
    {
     "name": "stderr",
     "output_type": "stream",
     "text": [
      "/var/folders/my/4hvdfxj10f94l0xh5rd30q_h0000gn/T/ipykernel_6368/563188492.py:1: SettingWithCopyWarning: \n",
      "A value is trying to be set on a copy of a slice from a DataFrame.\n",
      "Try using .loc[row_indexer,col_indexer] = value instead\n",
      "\n",
      "See the caveats in the documentation: https://pandas.pydata.org/pandas-docs/stable/user_guide/indexing.html#returning-a-view-versus-a-copy\n",
      "  movie_data['genre']=movie_data['genre'].apply(lambda x: list(set(x)))\n"
     ]
    }
   ],
   "source": [
    "movie_data['genre']=movie_data['genre'].apply(lambda x: list(set(x)))"
   ]
  },
  {
   "cell_type": "code",
   "execution_count": 101,
   "metadata": {
    "collapsed": false,
    "jupyter": {
     "outputs_hidden": false
    },
    "tags": []
   },
   "outputs": [],
   "source": [
    "movie_data.to_csv(data_folder + 'movie_data.csv', index=False)"
   ]
  },
  {
   "cell_type": "markdown",
   "metadata": {
    "tags": []
   },
   "source": [
    "### B) Complementing characters' data\n",
    "To complete the character dataset the following folders need to be downloaded from https://datasets.imdbws.com/, unzipped and placed in the /DATA folder:\n",
    "- title.principals.tsv.gz\n",
    "- name.basics.tsv.gz"
   ]
  },
  {
   "cell_type": "code",
   "execution_count": 144,
   "metadata": {
    "collapsed": false,
    "jupyter": {
     "outputs_hidden": false
    },
    "tags": []
   },
   "outputs": [
    {
     "ename": "FileNotFoundError",
     "evalue": "[Errno 2] No such file or directory: './DATA/title.principals.tsv/data.tsv'",
     "output_type": "error",
     "traceback": [
      "\u001b[0;31m---------------------------------------------------------------------------\u001b[0m",
      "\u001b[0;31mFileNotFoundError\u001b[0m                         Traceback (most recent call last)",
      "Cell \u001b[0;32mIn[144], line 2\u001b[0m\n\u001b[1;32m      1\u001b[0m \u001b[38;5;66;03m# load characters info\u001b[39;00m\n\u001b[0;32m----> 2\u001b[0m characters_data \u001b[38;5;241m=\u001b[39m \u001b[43mpd\u001b[49m\u001b[38;5;241;43m.\u001b[39;49m\u001b[43mread_csv\u001b[49m\u001b[43m(\u001b[49m\u001b[43mdata_folder\u001b[49m\u001b[43m \u001b[49m\u001b[38;5;241;43m+\u001b[39;49m\u001b[43m \u001b[49m\u001b[38;5;124;43m'\u001b[39;49m\u001b[38;5;124;43mtitle.principals.tsv/data.tsv\u001b[39;49m\u001b[38;5;124;43m'\u001b[39;49m\u001b[43m,\u001b[49m\u001b[43m \u001b[49m\u001b[43msep\u001b[49m\u001b[38;5;241;43m=\u001b[39;49m\u001b[38;5;124;43m'\u001b[39;49m\u001b[38;5;130;43;01m\\t\u001b[39;49;00m\u001b[38;5;124;43m'\u001b[39;49m\u001b[43m)\u001b[49m\n\u001b[1;32m      3\u001b[0m IMDB_ids \u001b[38;5;241m=\u001b[39m IMDB_movie_data_filtered[\u001b[38;5;124m'\u001b[39m\u001b[38;5;124mIMDB_ID\u001b[39m\u001b[38;5;124m'\u001b[39m]\n\u001b[1;32m      4\u001b[0m \u001b[38;5;66;03m# only keep characters of the filtered movies\u001b[39;00m\n",
      "File \u001b[0;32m~/opt/anaconda3/envs/ada/lib/python3.9/site-packages/pandas/io/parsers/readers.py:912\u001b[0m, in \u001b[0;36mread_csv\u001b[0;34m(filepath_or_buffer, sep, delimiter, header, names, index_col, usecols, dtype, engine, converters, true_values, false_values, skipinitialspace, skiprows, skipfooter, nrows, na_values, keep_default_na, na_filter, verbose, skip_blank_lines, parse_dates, infer_datetime_format, keep_date_col, date_parser, date_format, dayfirst, cache_dates, iterator, chunksize, compression, thousands, decimal, lineterminator, quotechar, quoting, doublequote, escapechar, comment, encoding, encoding_errors, dialect, on_bad_lines, delim_whitespace, low_memory, memory_map, float_precision, storage_options, dtype_backend)\u001b[0m\n\u001b[1;32m    899\u001b[0m kwds_defaults \u001b[38;5;241m=\u001b[39m _refine_defaults_read(\n\u001b[1;32m    900\u001b[0m     dialect,\n\u001b[1;32m    901\u001b[0m     delimiter,\n\u001b[0;32m   (...)\u001b[0m\n\u001b[1;32m    908\u001b[0m     dtype_backend\u001b[38;5;241m=\u001b[39mdtype_backend,\n\u001b[1;32m    909\u001b[0m )\n\u001b[1;32m    910\u001b[0m kwds\u001b[38;5;241m.\u001b[39mupdate(kwds_defaults)\n\u001b[0;32m--> 912\u001b[0m \u001b[38;5;28;01mreturn\u001b[39;00m \u001b[43m_read\u001b[49m\u001b[43m(\u001b[49m\u001b[43mfilepath_or_buffer\u001b[49m\u001b[43m,\u001b[49m\u001b[43m \u001b[49m\u001b[43mkwds\u001b[49m\u001b[43m)\u001b[49m\n",
      "File \u001b[0;32m~/opt/anaconda3/envs/ada/lib/python3.9/site-packages/pandas/io/parsers/readers.py:577\u001b[0m, in \u001b[0;36m_read\u001b[0;34m(filepath_or_buffer, kwds)\u001b[0m\n\u001b[1;32m    574\u001b[0m _validate_names(kwds\u001b[38;5;241m.\u001b[39mget(\u001b[38;5;124m\"\u001b[39m\u001b[38;5;124mnames\u001b[39m\u001b[38;5;124m\"\u001b[39m, \u001b[38;5;28;01mNone\u001b[39;00m))\n\u001b[1;32m    576\u001b[0m \u001b[38;5;66;03m# Create the parser.\u001b[39;00m\n\u001b[0;32m--> 577\u001b[0m parser \u001b[38;5;241m=\u001b[39m \u001b[43mTextFileReader\u001b[49m\u001b[43m(\u001b[49m\u001b[43mfilepath_or_buffer\u001b[49m\u001b[43m,\u001b[49m\u001b[43m \u001b[49m\u001b[38;5;241;43m*\u001b[39;49m\u001b[38;5;241;43m*\u001b[39;49m\u001b[43mkwds\u001b[49m\u001b[43m)\u001b[49m\n\u001b[1;32m    579\u001b[0m \u001b[38;5;28;01mif\u001b[39;00m chunksize \u001b[38;5;129;01mor\u001b[39;00m iterator:\n\u001b[1;32m    580\u001b[0m     \u001b[38;5;28;01mreturn\u001b[39;00m parser\n",
      "File \u001b[0;32m~/opt/anaconda3/envs/ada/lib/python3.9/site-packages/pandas/io/parsers/readers.py:1407\u001b[0m, in \u001b[0;36mTextFileReader.__init__\u001b[0;34m(self, f, engine, **kwds)\u001b[0m\n\u001b[1;32m   1404\u001b[0m     \u001b[38;5;28mself\u001b[39m\u001b[38;5;241m.\u001b[39moptions[\u001b[38;5;124m\"\u001b[39m\u001b[38;5;124mhas_index_names\u001b[39m\u001b[38;5;124m\"\u001b[39m] \u001b[38;5;241m=\u001b[39m kwds[\u001b[38;5;124m\"\u001b[39m\u001b[38;5;124mhas_index_names\u001b[39m\u001b[38;5;124m\"\u001b[39m]\n\u001b[1;32m   1406\u001b[0m \u001b[38;5;28mself\u001b[39m\u001b[38;5;241m.\u001b[39mhandles: IOHandles \u001b[38;5;241m|\u001b[39m \u001b[38;5;28;01mNone\u001b[39;00m \u001b[38;5;241m=\u001b[39m \u001b[38;5;28;01mNone\u001b[39;00m\n\u001b[0;32m-> 1407\u001b[0m \u001b[38;5;28mself\u001b[39m\u001b[38;5;241m.\u001b[39m_engine \u001b[38;5;241m=\u001b[39m \u001b[38;5;28;43mself\u001b[39;49m\u001b[38;5;241;43m.\u001b[39;49m\u001b[43m_make_engine\u001b[49m\u001b[43m(\u001b[49m\u001b[43mf\u001b[49m\u001b[43m,\u001b[49m\u001b[43m \u001b[49m\u001b[38;5;28;43mself\u001b[39;49m\u001b[38;5;241;43m.\u001b[39;49m\u001b[43mengine\u001b[49m\u001b[43m)\u001b[49m\n",
      "File \u001b[0;32m~/opt/anaconda3/envs/ada/lib/python3.9/site-packages/pandas/io/parsers/readers.py:1661\u001b[0m, in \u001b[0;36mTextFileReader._make_engine\u001b[0;34m(self, f, engine)\u001b[0m\n\u001b[1;32m   1659\u001b[0m     \u001b[38;5;28;01mif\u001b[39;00m \u001b[38;5;124m\"\u001b[39m\u001b[38;5;124mb\u001b[39m\u001b[38;5;124m\"\u001b[39m \u001b[38;5;129;01mnot\u001b[39;00m \u001b[38;5;129;01min\u001b[39;00m mode:\n\u001b[1;32m   1660\u001b[0m         mode \u001b[38;5;241m+\u001b[39m\u001b[38;5;241m=\u001b[39m \u001b[38;5;124m\"\u001b[39m\u001b[38;5;124mb\u001b[39m\u001b[38;5;124m\"\u001b[39m\n\u001b[0;32m-> 1661\u001b[0m \u001b[38;5;28mself\u001b[39m\u001b[38;5;241m.\u001b[39mhandles \u001b[38;5;241m=\u001b[39m \u001b[43mget_handle\u001b[49m\u001b[43m(\u001b[49m\n\u001b[1;32m   1662\u001b[0m \u001b[43m    \u001b[49m\u001b[43mf\u001b[49m\u001b[43m,\u001b[49m\n\u001b[1;32m   1663\u001b[0m \u001b[43m    \u001b[49m\u001b[43mmode\u001b[49m\u001b[43m,\u001b[49m\n\u001b[1;32m   1664\u001b[0m \u001b[43m    \u001b[49m\u001b[43mencoding\u001b[49m\u001b[38;5;241;43m=\u001b[39;49m\u001b[38;5;28;43mself\u001b[39;49m\u001b[38;5;241;43m.\u001b[39;49m\u001b[43moptions\u001b[49m\u001b[38;5;241;43m.\u001b[39;49m\u001b[43mget\u001b[49m\u001b[43m(\u001b[49m\u001b[38;5;124;43m\"\u001b[39;49m\u001b[38;5;124;43mencoding\u001b[39;49m\u001b[38;5;124;43m\"\u001b[39;49m\u001b[43m,\u001b[49m\u001b[43m \u001b[49m\u001b[38;5;28;43;01mNone\u001b[39;49;00m\u001b[43m)\u001b[49m\u001b[43m,\u001b[49m\n\u001b[1;32m   1665\u001b[0m \u001b[43m    \u001b[49m\u001b[43mcompression\u001b[49m\u001b[38;5;241;43m=\u001b[39;49m\u001b[38;5;28;43mself\u001b[39;49m\u001b[38;5;241;43m.\u001b[39;49m\u001b[43moptions\u001b[49m\u001b[38;5;241;43m.\u001b[39;49m\u001b[43mget\u001b[49m\u001b[43m(\u001b[49m\u001b[38;5;124;43m\"\u001b[39;49m\u001b[38;5;124;43mcompression\u001b[39;49m\u001b[38;5;124;43m\"\u001b[39;49m\u001b[43m,\u001b[49m\u001b[43m \u001b[49m\u001b[38;5;28;43;01mNone\u001b[39;49;00m\u001b[43m)\u001b[49m\u001b[43m,\u001b[49m\n\u001b[1;32m   1666\u001b[0m \u001b[43m    \u001b[49m\u001b[43mmemory_map\u001b[49m\u001b[38;5;241;43m=\u001b[39;49m\u001b[38;5;28;43mself\u001b[39;49m\u001b[38;5;241;43m.\u001b[39;49m\u001b[43moptions\u001b[49m\u001b[38;5;241;43m.\u001b[39;49m\u001b[43mget\u001b[49m\u001b[43m(\u001b[49m\u001b[38;5;124;43m\"\u001b[39;49m\u001b[38;5;124;43mmemory_map\u001b[39;49m\u001b[38;5;124;43m\"\u001b[39;49m\u001b[43m,\u001b[49m\u001b[43m \u001b[49m\u001b[38;5;28;43;01mFalse\u001b[39;49;00m\u001b[43m)\u001b[49m\u001b[43m,\u001b[49m\n\u001b[1;32m   1667\u001b[0m \u001b[43m    \u001b[49m\u001b[43mis_text\u001b[49m\u001b[38;5;241;43m=\u001b[39;49m\u001b[43mis_text\u001b[49m\u001b[43m,\u001b[49m\n\u001b[1;32m   1668\u001b[0m \u001b[43m    \u001b[49m\u001b[43merrors\u001b[49m\u001b[38;5;241;43m=\u001b[39;49m\u001b[38;5;28;43mself\u001b[39;49m\u001b[38;5;241;43m.\u001b[39;49m\u001b[43moptions\u001b[49m\u001b[38;5;241;43m.\u001b[39;49m\u001b[43mget\u001b[49m\u001b[43m(\u001b[49m\u001b[38;5;124;43m\"\u001b[39;49m\u001b[38;5;124;43mencoding_errors\u001b[39;49m\u001b[38;5;124;43m\"\u001b[39;49m\u001b[43m,\u001b[49m\u001b[43m \u001b[49m\u001b[38;5;124;43m\"\u001b[39;49m\u001b[38;5;124;43mstrict\u001b[39;49m\u001b[38;5;124;43m\"\u001b[39;49m\u001b[43m)\u001b[49m\u001b[43m,\u001b[49m\n\u001b[1;32m   1669\u001b[0m \u001b[43m    \u001b[49m\u001b[43mstorage_options\u001b[49m\u001b[38;5;241;43m=\u001b[39;49m\u001b[38;5;28;43mself\u001b[39;49m\u001b[38;5;241;43m.\u001b[39;49m\u001b[43moptions\u001b[49m\u001b[38;5;241;43m.\u001b[39;49m\u001b[43mget\u001b[49m\u001b[43m(\u001b[49m\u001b[38;5;124;43m\"\u001b[39;49m\u001b[38;5;124;43mstorage_options\u001b[39;49m\u001b[38;5;124;43m\"\u001b[39;49m\u001b[43m,\u001b[49m\u001b[43m \u001b[49m\u001b[38;5;28;43;01mNone\u001b[39;49;00m\u001b[43m)\u001b[49m\u001b[43m,\u001b[49m\n\u001b[1;32m   1670\u001b[0m \u001b[43m\u001b[49m\u001b[43m)\u001b[49m\n\u001b[1;32m   1671\u001b[0m \u001b[38;5;28;01massert\u001b[39;00m \u001b[38;5;28mself\u001b[39m\u001b[38;5;241m.\u001b[39mhandles \u001b[38;5;129;01mis\u001b[39;00m \u001b[38;5;129;01mnot\u001b[39;00m \u001b[38;5;28;01mNone\u001b[39;00m\n\u001b[1;32m   1672\u001b[0m f \u001b[38;5;241m=\u001b[39m \u001b[38;5;28mself\u001b[39m\u001b[38;5;241m.\u001b[39mhandles\u001b[38;5;241m.\u001b[39mhandle\n",
      "File \u001b[0;32m~/opt/anaconda3/envs/ada/lib/python3.9/site-packages/pandas/io/common.py:859\u001b[0m, in \u001b[0;36mget_handle\u001b[0;34m(path_or_buf, mode, encoding, compression, memory_map, is_text, errors, storage_options)\u001b[0m\n\u001b[1;32m    854\u001b[0m \u001b[38;5;28;01melif\u001b[39;00m \u001b[38;5;28misinstance\u001b[39m(handle, \u001b[38;5;28mstr\u001b[39m):\n\u001b[1;32m    855\u001b[0m     \u001b[38;5;66;03m# Check whether the filename is to be opened in binary mode.\u001b[39;00m\n\u001b[1;32m    856\u001b[0m     \u001b[38;5;66;03m# Binary mode does not support 'encoding' and 'newline'.\u001b[39;00m\n\u001b[1;32m    857\u001b[0m     \u001b[38;5;28;01mif\u001b[39;00m ioargs\u001b[38;5;241m.\u001b[39mencoding \u001b[38;5;129;01mand\u001b[39;00m \u001b[38;5;124m\"\u001b[39m\u001b[38;5;124mb\u001b[39m\u001b[38;5;124m\"\u001b[39m \u001b[38;5;129;01mnot\u001b[39;00m \u001b[38;5;129;01min\u001b[39;00m ioargs\u001b[38;5;241m.\u001b[39mmode:\n\u001b[1;32m    858\u001b[0m         \u001b[38;5;66;03m# Encoding\u001b[39;00m\n\u001b[0;32m--> 859\u001b[0m         handle \u001b[38;5;241m=\u001b[39m \u001b[38;5;28;43mopen\u001b[39;49m\u001b[43m(\u001b[49m\n\u001b[1;32m    860\u001b[0m \u001b[43m            \u001b[49m\u001b[43mhandle\u001b[49m\u001b[43m,\u001b[49m\n\u001b[1;32m    861\u001b[0m \u001b[43m            \u001b[49m\u001b[43mioargs\u001b[49m\u001b[38;5;241;43m.\u001b[39;49m\u001b[43mmode\u001b[49m\u001b[43m,\u001b[49m\n\u001b[1;32m    862\u001b[0m \u001b[43m            \u001b[49m\u001b[43mencoding\u001b[49m\u001b[38;5;241;43m=\u001b[39;49m\u001b[43mioargs\u001b[49m\u001b[38;5;241;43m.\u001b[39;49m\u001b[43mencoding\u001b[49m\u001b[43m,\u001b[49m\n\u001b[1;32m    863\u001b[0m \u001b[43m            \u001b[49m\u001b[43merrors\u001b[49m\u001b[38;5;241;43m=\u001b[39;49m\u001b[43merrors\u001b[49m\u001b[43m,\u001b[49m\n\u001b[1;32m    864\u001b[0m \u001b[43m            \u001b[49m\u001b[43mnewline\u001b[49m\u001b[38;5;241;43m=\u001b[39;49m\u001b[38;5;124;43m\"\u001b[39;49m\u001b[38;5;124;43m\"\u001b[39;49m\u001b[43m,\u001b[49m\n\u001b[1;32m    865\u001b[0m \u001b[43m        \u001b[49m\u001b[43m)\u001b[49m\n\u001b[1;32m    866\u001b[0m     \u001b[38;5;28;01melse\u001b[39;00m:\n\u001b[1;32m    867\u001b[0m         \u001b[38;5;66;03m# Binary mode\u001b[39;00m\n\u001b[1;32m    868\u001b[0m         handle \u001b[38;5;241m=\u001b[39m \u001b[38;5;28mopen\u001b[39m(handle, ioargs\u001b[38;5;241m.\u001b[39mmode)\n",
      "\u001b[0;31mFileNotFoundError\u001b[0m: [Errno 2] No such file or directory: './DATA/title.principals.tsv/data.tsv'"
     ]
    }
   ],
   "source": [
    "# load characters info\n",
    "characters_data = pd.read_csv(data_folder + 'title.principals.tsv/data.tsv', sep='\\t')\n",
    "IMDB_ids = IMDB_movie_data_filtered['IMDB_ID']\n",
    "# only keep characters of the filtered movies\n",
    "characters_data_filtered = clean_IMDB_character_dataset(characters_data, IMDB_ids)"
   ]
  },
  {
   "cell_type": "code",
   "execution_count": null,
   "metadata": {
    "collapsed": false,
    "jupyter": {
     "outputs_hidden": false
    },
    "tags": []
   },
   "outputs": [],
   "source": [
    "# load actors info\n",
    "actors_data = pd.read_csv(data_folder + 'name.basics.tsv/data.tsv', sep='\\t')\n",
    "# remove useless columns\n",
    "actors_data = actors_data.drop(columns=['deathYear', 'primaryProfession', 'knownForTitles'])"
   ]
  },
  {
   "cell_type": "markdown",
   "metadata": {},
   "source": [
    "We now need to merge all the information we have on the characters and the actors. There are some information we still need to add to the dataframe: release date, actor age, movie name. These will be added by merging with the movie dataset created above."
   ]
  },
  {
   "cell_type": "code",
   "execution_count": null,
   "metadata": {
    "collapsed": false,
    "jupyter": {
     "outputs_hidden": false
    },
    "tags": []
   },
   "outputs": [],
   "source": [
    "# merge actor data and movie data on character data\n",
    "IMDB_characters_data = merge_datasets_characters(characters_data_filtered, actors_data, IMDB_movie_data_filtered)\n",
    "IMDB_characters_data.loc[IMDB_characters_data['character_name'] == '\\\\N', 'character_name'] = None"
   ]
  },
  {
   "cell_type": "code",
   "execution_count": null,
   "metadata": {
    "collapsed": false,
    "jupyter": {
     "outputs_hidden": false
    },
    "tags": []
   },
   "outputs": [],
   "source": [
    "IMDB_characters_data"
   ]
  },
  {
   "cell_type": "markdown",
   "metadata": {},
   "source": [
    "We can now merge this IMDB character dataset with the provided character dataset"
   ]
  },
  {
   "cell_type": "code",
   "execution_count": 145,
   "metadata": {
    "collapsed": false,
    "jupyter": {
     "outputs_hidden": false
    },
    "tags": []
   },
   "outputs": [],
   "source": [
    "provided_characters = character_metadata_noNA_genderYear_personnas"
   ]
  },
  {
   "cell_type": "code",
   "execution_count": 146,
   "metadata": {
    "collapsed": false,
    "jupyter": {
     "outputs_hidden": false
    },
    "tags": []
   },
   "outputs": [
    {
     "ename": "NameError",
     "evalue": "name 'IMDB_characters_data' is not defined",
     "output_type": "error",
     "traceback": [
      "\u001b[0;31m---------------------------------------------------------------------------\u001b[0m",
      "\u001b[0;31mNameError\u001b[0m                                 Traceback (most recent call last)",
      "Cell \u001b[0;32mIn[146], line 5\u001b[0m\n\u001b[1;32m      3\u001b[0m provided_characters[\u001b[38;5;124m'\u001b[39m\u001b[38;5;124mactor_name\u001b[39m\u001b[38;5;124m'\u001b[39m] \u001b[38;5;241m=\u001b[39m name_to_lowercase(provided_characters, \u001b[38;5;124m'\u001b[39m\u001b[38;5;124mactor_name\u001b[39m\u001b[38;5;124m'\u001b[39m)\n\u001b[1;32m      4\u001b[0m provided_characters[\u001b[38;5;124m'\u001b[39m\u001b[38;5;124mname\u001b[39m\u001b[38;5;124m'\u001b[39m] \u001b[38;5;241m=\u001b[39m name_to_lowercase(provided_characters, \u001b[38;5;124m'\u001b[39m\u001b[38;5;124mname\u001b[39m\u001b[38;5;124m'\u001b[39m)\n\u001b[0;32m----> 5\u001b[0m IMDB_characters_data[\u001b[38;5;124m'\u001b[39m\u001b[38;5;124mcharacter_name\u001b[39m\u001b[38;5;124m'\u001b[39m] \u001b[38;5;241m=\u001b[39m name_to_lowercase(\u001b[43mIMDB_characters_data\u001b[49m, \u001b[38;5;124m'\u001b[39m\u001b[38;5;124mcharacter_name\u001b[39m\u001b[38;5;124m'\u001b[39m)\n\u001b[1;32m      6\u001b[0m IMDB_characters_data[\u001b[38;5;124m'\u001b[39m\u001b[38;5;124mactor_name\u001b[39m\u001b[38;5;124m'\u001b[39m] \u001b[38;5;241m=\u001b[39m name_to_lowercase(IMDB_characters_data, \u001b[38;5;124m'\u001b[39m\u001b[38;5;124mactor_name\u001b[39m\u001b[38;5;124m'\u001b[39m)\n\u001b[1;32m      7\u001b[0m IMDB_characters_data[\u001b[38;5;124m'\u001b[39m\u001b[38;5;124mname\u001b[39m\u001b[38;5;124m'\u001b[39m] \u001b[38;5;241m=\u001b[39m name_to_lowercase(IMDB_characters_data, \u001b[38;5;124m'\u001b[39m\u001b[38;5;124mname\u001b[39m\u001b[38;5;124m'\u001b[39m)\n",
      "\u001b[0;31mNameError\u001b[0m: name 'IMDB_characters_data' is not defined"
     ]
    }
   ],
   "source": [
    "#first put all strings in lower case\n",
    "provided_characters['character_name'] = name_to_lowercase(provided_characters, 'character_name')\n",
    "provided_characters['actor_name'] = name_to_lowercase(provided_characters, 'actor_name')\n",
    "provided_characters['name'] = name_to_lowercase(provided_characters, 'name')\n",
    "IMDB_characters_data['character_name'] = name_to_lowercase(IMDB_characters_data, 'character_name')\n",
    "IMDB_characters_data['actor_name'] = name_to_lowercase(IMDB_characters_data, 'actor_name')\n",
    "IMDB_characters_data['name'] = name_to_lowercase(IMDB_characters_data, 'name')"
   ]
  },
  {
   "cell_type": "markdown",
   "metadata": {},
   "source": [
    "Since we do not have the wikipedia IDs of the movie scraped on IMDB and the IMDB IDs of the movies in the original dataset, we cannot do a merge on a unique ID. We thus perform the merge on multiple columns (movie name, actor name and release date). We decided to not use the character name column since it would assume that, for the same character, the character name is the same in both datasets. This is not true. Sometimes the characters are identified only by their first names or only by their last names, sometimes by their nicknames and sometimes by their first and last names in both datasets. Additionally, in the provided dataset, sometimes a character is present twice because it has 2 different names and this is not the case in the IMDB dataset. After the merge, when we have information on characters from both datasets, we will keep only the character name of the IMDB dataset and then remove duplicates. This should remove characters that are doubled in the provided dataset because they have two different names.\n",
    "\n",
    "One caveat of this merge method is that the merge will not be accurate if one actor plays two different characters in the same movie or in a movie of the same year with the same name. However, we are assuming that this event is rare enough and that we have enough data so that it doesn't influence our analysis too much."
   ]
  },
  {
   "cell_type": "code",
   "execution_count": null,
   "metadata": {
    "collapsed": false,
    "jupyter": {
     "outputs_hidden": false
    },
    "tags": []
   },
   "outputs": [],
   "source": [
    "# merge datasets\n",
    "characters_data = pd.merge(provided_characters, IMDB_characters_data, on=['name', 'actor_name', 'release_date'], how='outer').copy()\n",
    "# remove columns that were duplicated\n",
    "duplicated_cols = ['actor_gender', 'actor_age']\n",
    "characters_data= remove_duplicated_columns(characters_data, duplicated_cols)\n",
    "characters_data = remove_duplicated_columns(characters_data, ['character_name'], col_to_keep='_y', col_to_delete='_x')\n",
    "# remove potential duplicates but keep NaNs\n",
    "characters_data = characters_data.drop_duplicates(subset=['character_name', 'actor_name', 'release_date', 'name'])"
   ]
  },
  {
   "cell_type": "code",
   "execution_count": null,
   "metadata": {
    "collapsed": false,
    "jupyter": {
     "outputs_hidden": false
    },
    "tags": []
   },
   "outputs": [],
   "source": [
    "characters_data"
   ]
  },
  {
   "cell_type": "markdown",
   "metadata": {},
   "source": [
    "We can now plot the number of characters per year to ensure we have data for every year"
   ]
  },
  {
   "cell_type": "code",
   "execution_count": null,
   "metadata": {
    "collapsed": false,
    "jupyter": {
     "outputs_hidden": false
    },
    "tags": []
   },
   "outputs": [],
   "source": [
    "# Group movies by release year\n",
    "char_grouped_by_year = characters_data.groupby(characters_data['release_date'])\n",
    "\n",
    "#number of movies per year\n",
    "number_char_per_year = char_grouped_by_year.size()\n",
    "\n",
    "plt.figure(figsize=(10, 6))\n",
    "number_char_per_year.plot(kind='line', color = 'cornflowerblue')\n",
    "plt.title('Number of Characters per Year in our Dataset')\n",
    "plt.xlabel('Year')\n",
    "plt.ylabel('Number of Characters')\n",
    "plt.grid(True)\n",
    "plt.show()"
   ]
  },
  {
   "cell_type": "markdown",
   "metadata": {},
   "source": [
    "Similarly to what we observe in the movie dataset, we also have many more characters per year from 2010 and later. Again, this should not be a problem since we conduct our analysis separately for each year.\n"
   ]
  },
  {
   "cell_type": "markdown",
   "metadata": {},
   "source": [
    "We now have a dataset of characters in US movies from 1910 to 2022 ! We will save it so that we do not need to re-run this part of the notebook again"
   ]
  },
  {
   "cell_type": "code",
   "execution_count": null,
   "metadata": {
    "collapsed": false,
    "jupyter": {
     "outputs_hidden": false
    },
    "tags": []
   },
   "outputs": [],
   "source": [
    "characters_data.to_csv(data_folder + 'characters_data.csv', index=False)"
   ]
  },
  {
   "cell_type": "markdown",
   "metadata": {},
   "source": [
    "## First Analysis of characters"
   ]
  },
  {
   "cell_type": "markdown",
   "metadata": {},
   "source": [
    "**What's the proportion of female actors in movies per year?**\n",
    "We wonder if the proportion of female actors' increase over the years, which is what we would expect."
   ]
  },
  {
   "cell_type": "code",
   "execution_count": 147,
   "metadata": {
    "collapsed": false,
    "jupyter": {
     "outputs_hidden": false
    },
    "tags": []
   },
   "outputs": [
    {
     "ename": "NameError",
     "evalue": "name 'characters_data' is not defined",
     "output_type": "error",
     "traceback": [
      "\u001b[0;31m---------------------------------------------------------------------------\u001b[0m",
      "\u001b[0;31mNameError\u001b[0m                                 Traceback (most recent call last)",
      "Cell \u001b[0;32mIn[147], line 3\u001b[0m\n\u001b[1;32m      1\u001b[0m \u001b[38;5;66;03m# group the movies by year\u001b[39;00m\n\u001b[1;32m      2\u001b[0m \u001b[38;5;66;03m#characters_data['release_date'] = pd.to_datetime(characters_data['release_date'])\u001b[39;00m\n\u001b[0;32m----> 3\u001b[0m characters_grouped_by_year \u001b[38;5;241m=\u001b[39m \u001b[43mcharacters_data\u001b[49m\u001b[38;5;241m.\u001b[39mgroupby(characters_data[\u001b[38;5;124m'\u001b[39m\u001b[38;5;124mrelease_date\u001b[39m\u001b[38;5;124m'\u001b[39m])\n\u001b[1;32m      5\u001b[0m \u001b[38;5;66;03m# Calculate the proportion of men and women per year\u001b[39;00m\n\u001b[1;32m      6\u001b[0m proportion_female \u001b[38;5;241m=\u001b[39m characters_grouped_by_year[\u001b[38;5;124m'\u001b[39m\u001b[38;5;124mactor_gender\u001b[39m\u001b[38;5;124m'\u001b[39m]\u001b[38;5;241m.\u001b[39mapply(\u001b[38;5;28;01mlambda\u001b[39;00m x: (x \u001b[38;5;241m==\u001b[39m \u001b[38;5;124m'\u001b[39m\u001b[38;5;124mF\u001b[39m\u001b[38;5;124m'\u001b[39m)\u001b[38;5;241m.\u001b[39msum() \u001b[38;5;241m/\u001b[39m \u001b[38;5;28mlen\u001b[39m(x))\n",
      "\u001b[0;31mNameError\u001b[0m: name 'characters_data' is not defined"
     ]
    }
   ],
   "source": [
    "# group the movies by year\n",
    "#characters_data['release_date'] = pd.to_datetime(characters_data['release_date'])\n",
    "characters_grouped_by_year = characters_data.groupby(characters_data['release_date'])\n",
    "\n",
    "# Calculate the proportion of men and women per year\n",
    "proportion_female = characters_grouped_by_year['actor_gender'].apply(lambda x: (x == 'F').sum() / len(x))\n",
    "proportion_male = 1 - proportion_female\n",
    "\n",
    "# Plotting the proportion of men vs women per year as a stacked bar chart\n",
    "plt.figure(figsize=(12, 6))\n",
    "plt.bar(proportion_male.index, proportion_male.values, bottom=proportion_female.values, label='Male actors', color='skyblue')\n",
    "plt.bar(proportion_female.index, proportion_female.values, label='Female actors', color='pink')\n",
    "plt.title('Proportion of Men vs Women in Movies per Year', fontsize=14)\n",
    "plt.xlabel('Year', fontsize=12)\n",
    "plt.ylabel('Proportion of total actors', fontsize=12)\n",
    "plt.legend()\n",
    "plt.show()"
   ]
  },
  {
   "cell_type": "markdown",
   "metadata": {},
   "source": [
    "Interestingly, the proportion of women over the decades stayed fairly constant, close to 40%. This constrasts with what we expected as we would think that women representation would get better over the years.  **Questions for the group: should we remove data from before 1910 as so low that doesn't make sense?**"
   ]
  },
  {
   "cell_type": "markdown",
   "metadata": {},
   "source": [
    "Nevertheless, this result doesn't mean that each movie has approximately 40% of women in their cast. This result might be biased by movies that have an extremely low/high proportion of women versus movies that have a balanced actors cast. To determine if that is the case, let's plot the proportion of movies per year that have 0-25% women, 25-50%, 50-75% or 75-100% women. Are female actors represented equally in every movies or is there a discrepency between movies released in the same year?"
   ]
  },
  {
   "cell_type": "code",
   "execution_count": 148,
   "metadata": {
    "collapsed": false,
    "jupyter": {
     "outputs_hidden": false
    },
    "tags": []
   },
   "outputs": [
    {
     "ename": "NameError",
     "evalue": "name 'characters_grouped_by_year' is not defined",
     "output_type": "error",
     "traceback": [
      "\u001b[0;31m---------------------------------------------------------------------------\u001b[0m",
      "\u001b[0;31mNameError\u001b[0m                                 Traceback (most recent call last)",
      "Cell \u001b[0;32mIn[148], line 2\u001b[0m\n\u001b[1;32m      1\u001b[0m \u001b[38;5;66;03m# number of movies per year\u001b[39;00m\n\u001b[0;32m----> 2\u001b[0m number_movies_per_year_character \u001b[38;5;241m=\u001b[39m \u001b[43mcharacters_grouped_by_year\u001b[49m\u001b[38;5;241m.\u001b[39msize()\n\u001b[1;32m      4\u001b[0m \u001b[38;5;66;03m# group by year and by movie\u001b[39;00m\n\u001b[1;32m      5\u001b[0m characters_grouped_by_year_and_movie \u001b[38;5;241m=\u001b[39m characters_data\u001b[38;5;241m.\u001b[39mgroupby([characters_data[\u001b[38;5;124m'\u001b[39m\u001b[38;5;124mrelease_date\u001b[39m\u001b[38;5;124m'\u001b[39m], \u001b[38;5;124m'\u001b[39m\u001b[38;5;124mname\u001b[39m\u001b[38;5;124m'\u001b[39m])\n",
      "\u001b[0;31mNameError\u001b[0m: name 'characters_grouped_by_year' is not defined"
     ]
    }
   ],
   "source": [
    "# number of movies per year\n",
    "number_movies_per_year_character = characters_grouped_by_year.size()\n",
    "\n",
    "# group by year and by movie\n",
    "characters_grouped_by_year_and_movie = characters_data.groupby([characters_data['release_date'], 'name'])\n",
    "\n",
    "# Calculate the proportion of men and women per year per movie\n",
    "proportion_female_per_movie = characters_grouped_by_year_and_movie['actor_gender'].apply(lambda x: (x == 'F').sum() / len(x))\n",
    "proportion_male_per_movie = 1 - proportion_female_per_movie\n",
    "\n",
    "# Convert the Series to a DataFrame for easier data handling in later analysis\n",
    "female_proportions = proportion_female_per_movie.reset_index()\n",
    "\n",
    "# Rename the columns if needed\n",
    "female_proportions.columns = ['release_date', 'name', 'proportion_female']"
   ]
  },
  {
   "cell_type": "code",
   "execution_count": 149,
   "metadata": {
    "collapsed": false,
    "jupyter": {
     "outputs_hidden": false
    },
    "tags": []
   },
   "outputs": [
    {
     "ename": "NameError",
     "evalue": "name 'female_proportions' is not defined",
     "output_type": "error",
     "traceback": [
      "\u001b[0;31m---------------------------------------------------------------------------\u001b[0m",
      "\u001b[0;31mNameError\u001b[0m                                 Traceback (most recent call last)",
      "Cell \u001b[0;32mIn[149], line 8\u001b[0m\n\u001b[1;32m      5\u001b[0m above_75_per_year \u001b[38;5;241m=\u001b[39m []\n\u001b[1;32m      7\u001b[0m \u001b[38;5;66;03m# Iterate through each year in the index of female_proportions\u001b[39;00m\n\u001b[0;32m----> 8\u001b[0m \u001b[38;5;28;01mfor\u001b[39;00m year, proportions \u001b[38;5;129;01min\u001b[39;00m \u001b[43mfemale_proportions\u001b[49m\u001b[38;5;241m.\u001b[39mgroupby(\u001b[38;5;124m'\u001b[39m\u001b[38;5;124mrelease_date\u001b[39m\u001b[38;5;124m'\u001b[39m):\n\u001b[1;32m      9\u001b[0m \n\u001b[1;32m     10\u001b[0m     \u001b[38;5;66;03m# Count movies in different categories for the current year\u001b[39;00m\n\u001b[1;32m     11\u001b[0m     below_25 \u001b[38;5;241m=\u001b[39m \u001b[38;5;28mlen\u001b[39m(proportions[proportions[\u001b[38;5;124m'\u001b[39m\u001b[38;5;124mproportion_female\u001b[39m\u001b[38;5;124m'\u001b[39m] \u001b[38;5;241m<\u001b[39m\u001b[38;5;241m=\u001b[39m \u001b[38;5;241m0.25\u001b[39m])\n\u001b[1;32m     12\u001b[0m     quarter_50 \u001b[38;5;241m=\u001b[39m \u001b[38;5;28mlen\u001b[39m(proportions[(proportions[\u001b[38;5;124m'\u001b[39m\u001b[38;5;124mproportion_female\u001b[39m\u001b[38;5;124m'\u001b[39m] \u001b[38;5;241m>\u001b[39m \u001b[38;5;241m0.25\u001b[39m) \u001b[38;5;241m&\u001b[39m (proportions[\u001b[38;5;124m'\u001b[39m\u001b[38;5;124mproportion_female\u001b[39m\u001b[38;5;124m'\u001b[39m] \u001b[38;5;241m<\u001b[39m\u001b[38;5;241m=\u001b[39m \u001b[38;5;241m0.5\u001b[39m)])\n",
      "\u001b[0;31mNameError\u001b[0m: name 'female_proportions' is not defined"
     ]
    }
   ],
   "source": [
    "#Lists to store in which category each movie belongs to per year\n",
    "below_25_per_year = []\n",
    "quarter_50_per_year = []\n",
    "half_75_per_year = []\n",
    "above_75_per_year = []\n",
    "\n",
    "# Iterate through each year in the index of female_proportions\n",
    "for year, proportions in female_proportions.groupby('release_date'):\n",
    "\n",
    "    # Count movies in different categories for the current year\n",
    "    below_25 = len(proportions[proportions['proportion_female'] <= 0.25])\n",
    "    quarter_50 = len(proportions[(proportions['proportion_female'] > 0.25) & (proportions['proportion_female'] <= 0.5)])\n",
    "    half_75 = len(proportions[(proportions['proportion_female'] > 0.5) & (proportions['proportion_female'] <= 0.75)])\n",
    "    above_75 = len(proportions[proportions['proportion_female'] > 0.75])\n",
    "\n",
    "    # Calculate proportions for each category\n",
    "    total_movies = len(proportions)\n",
    "    proportion_below_25 = below_25 / total_movies\n",
    "    proportion_quarter_50 = quarter_50 / total_movies\n",
    "    proportion_half_75 = half_75 / total_movies\n",
    "    proportion_above_75 = above_75 / total_movies\n",
    "\n",
    "    # Append proportions to respective lists\n",
    "    below_25_per_year.append(proportion_below_25)\n",
    "    quarter_50_per_year.append(proportion_quarter_50)\n",
    "    half_75_per_year.append(proportion_half_75)\n",
    "    above_75_per_year.append(proportion_above_75)\n"
   ]
  },
  {
   "cell_type": "code",
   "execution_count": 150,
   "metadata": {
    "collapsed": false,
    "jupyter": {
     "outputs_hidden": false
    },
    "tags": []
   },
   "outputs": [
    {
     "ename": "NameError",
     "evalue": "name 'female_proportions' is not defined",
     "output_type": "error",
     "traceback": [
      "\u001b[0;31m---------------------------------------------------------------------------\u001b[0m",
      "\u001b[0;31mNameError\u001b[0m                                 Traceback (most recent call last)",
      "Cell \u001b[0;32mIn[150], line 2\u001b[0m\n\u001b[1;32m      1\u001b[0m \u001b[38;5;66;03m# Extract unique years from the 'release_date' column of the female_proportions DataFrame\u001b[39;00m\n\u001b[0;32m----> 2\u001b[0m unique_years \u001b[38;5;241m=\u001b[39m \u001b[43mfemale_proportions\u001b[49m[\u001b[38;5;124m'\u001b[39m\u001b[38;5;124mrelease_date\u001b[39m\u001b[38;5;124m'\u001b[39m]\u001b[38;5;241m.\u001b[39munique()\n\u001b[1;32m      4\u001b[0m \u001b[38;5;66;03m# Convert the unique years to a list\u001b[39;00m\n\u001b[1;32m      5\u001b[0m years \u001b[38;5;241m=\u001b[39m \u001b[38;5;28mlist\u001b[39m(unique_years)\n",
      "\u001b[0;31mNameError\u001b[0m: name 'female_proportions' is not defined"
     ]
    }
   ],
   "source": [
    "# Extract unique years from the 'release_date' column of the female_proportions DataFrame\n",
    "unique_years = female_proportions['release_date'].unique()\n",
    "\n",
    "# Convert the unique years to a list\n",
    "years = list(unique_years)\n",
    "\n",
    "# Data for stack plot\n",
    "categories = ['Below 25%', '25-50%', '50-75%', 'Above 75%']\n",
    "data = [below_25_per_year, quarter_50_per_year, half_75_per_year, above_75_per_year]\n",
    "\n",
    "# Create a stack plot\n",
    "plt.figure(figsize=(10, 6))\n",
    "plt.stackplot(years, data, labels=categories, alpha=0.8)\n",
    "plt.xlabel('Year')\n",
    "plt.ylabel('Proportion of movies in a given year')\n",
    "plt.title('Proportion of Movies with Different Percentages of Female Actors')\n",
    "plt.legend(loc='upper left')\n",
    "plt.show()"
   ]
  },
  {
   "cell_type": "markdown",
   "metadata": {},
   "source": [
    "We can observe that a vast majority of movies have less than 50% of women in their cast. Actually, over the years, a vast majority of movies (approximately 80%) have less than 50% female actors in their cast. Thus, even though overall the proportion of women seems to be close to 40% over the years, their are largely underrepresented in the vast majority of movies."
   ]
  },
  {
   "cell_type": "markdown",
   "metadata": {},
   "source": [
    "**What's the age difference of female actors in movies compared to male actors over the years? Are female actors significantly younger than male actors?**"
   ]
  },
  {
   "cell_type": "code",
   "execution_count": 151,
   "metadata": {
    "collapsed": false,
    "jupyter": {
     "outputs_hidden": false
    },
    "tags": []
   },
   "outputs": [
    {
     "ename": "NameError",
     "evalue": "name 'characters_data' is not defined",
     "output_type": "error",
     "traceback": [
      "\u001b[0;31m---------------------------------------------------------------------------\u001b[0m",
      "\u001b[0;31mNameError\u001b[0m                                 Traceback (most recent call last)",
      "Cell \u001b[0;32mIn[151], line 2\u001b[0m\n\u001b[1;32m      1\u001b[0m \u001b[38;5;66;03m# drop the actors with NaN as age but also actors with negative ages (which appeared in 1910)\u001b[39;00m\n\u001b[0;32m----> 2\u001b[0m character_age \u001b[38;5;241m=\u001b[39m \u001b[43mcharacters_data\u001b[49m\u001b[38;5;241m.\u001b[39mdropna(subset\u001b[38;5;241m=\u001b[39m[\u001b[38;5;124m'\u001b[39m\u001b[38;5;124mactor_age\u001b[39m\u001b[38;5;124m'\u001b[39m])\u001b[38;5;241m.\u001b[39mcopy()\n\u001b[1;32m      3\u001b[0m character_age \u001b[38;5;241m=\u001b[39m character_age[character_age[\u001b[38;5;124m'\u001b[39m\u001b[38;5;124mactor_age\u001b[39m\u001b[38;5;124m'\u001b[39m] \u001b[38;5;241m>\u001b[39m\u001b[38;5;241m=\u001b[39m \u001b[38;5;241m0\u001b[39m]\n",
      "\u001b[0;31mNameError\u001b[0m: name 'characters_data' is not defined"
     ]
    }
   ],
   "source": [
    "# drop the actors with NaN as age but also actors with negative ages (which appeared in 1910)\n",
    "character_age = characters_data.dropna(subset=['actor_age']).copy()\n",
    "character_age = character_age[character_age['actor_age'] >= 0] # remove actors with a negative age"
   ]
  },
  {
   "cell_type": "code",
   "execution_count": 152,
   "metadata": {
    "collapsed": false,
    "jupyter": {
     "outputs_hidden": false
    },
    "tags": []
   },
   "outputs": [
    {
     "ename": "NameError",
     "evalue": "name 'character_age' is not defined",
     "output_type": "error",
     "traceback": [
      "\u001b[0;31m---------------------------------------------------------------------------\u001b[0m",
      "\u001b[0;31mNameError\u001b[0m                                 Traceback (most recent call last)",
      "Cell \u001b[0;32mIn[152], line 2\u001b[0m\n\u001b[1;32m      1\u001b[0m \u001b[38;5;66;03m# Group by year and gender\u001b[39;00m\n\u001b[0;32m----> 2\u001b[0m characters_age_by_year_gender \u001b[38;5;241m=\u001b[39m \u001b[43mcharacter_age\u001b[49m\u001b[38;5;241m.\u001b[39mgroupby([character_age[\u001b[38;5;124m'\u001b[39m\u001b[38;5;124mrelease_date\u001b[39m\u001b[38;5;124m'\u001b[39m], \u001b[38;5;124m'\u001b[39m\u001b[38;5;124mactor_gender\u001b[39m\u001b[38;5;124m'\u001b[39m])\n\u001b[1;32m      4\u001b[0m \u001b[38;5;66;03m# Calculate average age and standard deviation of age for each gender per year\u001b[39;00m\n\u001b[1;32m      5\u001b[0m gender_age_stats_per_year \u001b[38;5;241m=\u001b[39m characters_age_by_year_gender[\u001b[38;5;124m'\u001b[39m\u001b[38;5;124mactor_age\u001b[39m\u001b[38;5;124m'\u001b[39m]\u001b[38;5;241m.\u001b[39magg([\u001b[38;5;124m'\u001b[39m\u001b[38;5;124mmean\u001b[39m\u001b[38;5;124m'\u001b[39m, \u001b[38;5;124m'\u001b[39m\u001b[38;5;124msem\u001b[39m\u001b[38;5;124m'\u001b[39m])\n",
      "\u001b[0;31mNameError\u001b[0m: name 'character_age' is not defined"
     ]
    }
   ],
   "source": [
    "# Group by year and gender\n",
    "characters_age_by_year_gender = character_age.groupby([character_age['release_date'], 'actor_gender'])\n",
    "\n",
    "# Calculate average age and standard deviation of age for each gender per year\n",
    "gender_age_stats_per_year = characters_age_by_year_gender['actor_age'].agg(['mean', 'sem'])\n",
    "\n",
    "# Reset the index to make the grouped columns accessible for further analysis or visualization\n",
    "gender_age_stats_per_year.reset_index(inplace=True)\n"
   ]
  },
  {
   "cell_type": "code",
   "execution_count": 153,
   "metadata": {
    "collapsed": false,
    "jupyter": {
     "outputs_hidden": false
    },
    "tags": []
   },
   "outputs": [
    {
     "ename": "NameError",
     "evalue": "name 'gender_age_stats_per_year' is not defined",
     "output_type": "error",
     "traceback": [
      "\u001b[0;31m---------------------------------------------------------------------------\u001b[0m",
      "\u001b[0;31mNameError\u001b[0m                                 Traceback (most recent call last)",
      "Cell \u001b[0;32mIn[153], line 2\u001b[0m\n\u001b[1;32m      1\u001b[0m \u001b[38;5;66;03m# Filter data for men and women separately for easier handling\u001b[39;00m\n\u001b[0;32m----> 2\u001b[0m men_data \u001b[38;5;241m=\u001b[39m \u001b[43mgender_age_stats_per_year\u001b[49m[gender_age_stats_per_year[\u001b[38;5;124m'\u001b[39m\u001b[38;5;124mactor_gender\u001b[39m\u001b[38;5;124m'\u001b[39m] \u001b[38;5;241m==\u001b[39m \u001b[38;5;124m'\u001b[39m\u001b[38;5;124mM\u001b[39m\u001b[38;5;124m'\u001b[39m]\u001b[38;5;241m.\u001b[39mcopy()\n\u001b[1;32m      3\u001b[0m women_data \u001b[38;5;241m=\u001b[39m gender_age_stats_per_year[gender_age_stats_per_year[\u001b[38;5;124m'\u001b[39m\u001b[38;5;124mactor_gender\u001b[39m\u001b[38;5;124m'\u001b[39m] \u001b[38;5;241m==\u001b[39m \u001b[38;5;124m'\u001b[39m\u001b[38;5;124mF\u001b[39m\u001b[38;5;124m'\u001b[39m]\u001b[38;5;241m.\u001b[39mcopy()\n\u001b[1;32m      5\u001b[0m \u001b[38;5;66;03m# Calculate 95% confidence interval for men\u001b[39;00m\n",
      "\u001b[0;31mNameError\u001b[0m: name 'gender_age_stats_per_year' is not defined"
     ]
    }
   ],
   "source": [
    "# Filter data for men and women separately for easier handling\n",
    "men_data = gender_age_stats_per_year[gender_age_stats_per_year['actor_gender'] == 'M'].copy()\n",
    "women_data = gender_age_stats_per_year[gender_age_stats_per_year['actor_gender'] == 'F'].copy()\n",
    "\n",
    "# Calculate 95% confidence interval for men\n",
    "men_data['lower_bound'] = men_data['mean'] - 1.96 * men_data['sem']\n",
    "men_data['upper_bound'] = men_data['mean'] + 1.96 * men_data['sem']\n",
    "\n",
    "# Calculate 95% confidence interval for women\n",
    "women_data['lower_bound'] = women_data['mean'] - 1.96 * women_data['sem']\n",
    "women_data['upper_bound'] = women_data['mean'] + 1.96 * women_data['sem']\n",
    "\n",
    "# Plotting for men\n",
    "plt.figure(figsize=(10, 6))\n",
    "plt.plot(men_data['release_date'], men_data['mean'], label='Men Mean Age', color='skyblue')\n",
    "plt.fill_between(men_data['release_date'], men_data['lower_bound'], men_data['upper_bound'], alpha=0.3, color='skyblue')\n",
    "\n",
    "# Plotting for women\n",
    "plt.plot(women_data['release_date'], women_data['mean'], label='Women Mean Age', color='pink')\n",
    "plt.fill_between(women_data['release_date'], women_data['lower_bound'], women_data['upper_bound'], alpha=0.3, color='pink')\n",
    "plt.xlabel('Year')\n",
    "plt.ylabel('Average age of actors')\n",
    "plt.title('Average age of actors per year per gender with 95% Confidence Interval')\n",
    "plt.legend()\n",
    "plt.grid(True)\n",
    "plt.show()"
   ]
  },
  {
   "cell_type": "markdown",
   "metadata": {},
   "source": [
    "Throughout the years, female actors are significantly younger than men at the 5% significance level.\n"
   ]
  },
  {
   "cell_type": "markdown",
   "metadata": {},
   "source": [
    "**TO DO: MERGE WITH THE PERSONNAS TO ANALYSE**\n",
    "regarder les roles opposés (dumb blonde vs genius) et voir si plus représenté dans un genre + enlever les genre ou ça fait pas sens de comparer genre (e.g. films de guerre, documentaires... car ce sont des évènements historique donc on peut rien y faire))"
   ]
  },
  {
   "cell_type": "markdown",
   "metadata": {},
   "source": [
    "## Personas Analysis"
   ]
  },
  {
   "cell_type": "markdown",
   "metadata": {},
   "source": [
    "**What personnas are associated with movie characters interpreted by male and female actors? Are female characters (so female actors) mostly associated woth beauty, stupidity, weakness and sexualized and men mostly associated with heroism, adventure, strenght...?**"
   ]
  },
  {
   "cell_type": "code",
   "execution_count": 154,
   "metadata": {
    "collapsed": false,
    "jupyter": {
     "outputs_hidden": false
    },
    "tags": []
   },
   "outputs": [
    {
     "ename": "NameError",
     "evalue": "name 'characters_data' is not defined",
     "output_type": "error",
     "traceback": [
      "\u001b[0;31m---------------------------------------------------------------------------\u001b[0m",
      "\u001b[0;31mNameError\u001b[0m                                 Traceback (most recent call last)",
      "Cell \u001b[0;32mIn[154], line 2\u001b[0m\n\u001b[1;32m      1\u001b[0m \u001b[38;5;66;03m# For the following analysis, drop all the characters that don't have personnas\u001b[39;00m\n\u001b[0;32m----> 2\u001b[0m characters_data_personnas_noNA \u001b[38;5;241m=\u001b[39m \u001b[43mcharacters_data\u001b[49m\u001b[38;5;241m.\u001b[39mdropna(subset\u001b[38;5;241m=\u001b[39m[\u001b[38;5;124m'\u001b[39m\u001b[38;5;124mpersonnas\u001b[39m\u001b[38;5;124m'\u001b[39m])\u001b[38;5;241m.\u001b[39mcopy()\n\u001b[1;32m      3\u001b[0m display(characters_data_personnas_noNA)\n",
      "\u001b[0;31mNameError\u001b[0m: name 'characters_data' is not defined"
     ]
    }
   ],
   "source": [
    "# For the following analysis, drop all the characters that don't have personnas\n",
    "characters_data_personnas_noNA = characters_data.dropna(subset=['personnas']).copy()\n",
    "display(characters_data_personnas_noNA)"
   ]
  },
  {
   "cell_type": "markdown",
   "metadata": {},
   "source": [
    "From the size of the datasets, we can see that one personnas has been dropped because there were no matches between the freebase_character_actor_mapID in the characters data.\n"
   ]
  },
  {
   "cell_type": "code",
   "execution_count": 155,
   "metadata": {
    "collapsed": false,
    "jupyter": {
     "outputs_hidden": false
    },
    "tags": []
   },
   "outputs": [
    {
     "ename": "NameError",
     "evalue": "name 'characters_data_personnas_noNA' is not defined",
     "output_type": "error",
     "traceback": [
      "\u001b[0;31m---------------------------------------------------------------------------\u001b[0m",
      "\u001b[0;31mNameError\u001b[0m                                 Traceback (most recent call last)",
      "Cell \u001b[0;32mIn[155], line 2\u001b[0m\n\u001b[1;32m      1\u001b[0m \u001b[38;5;66;03m# Check values in the \"actor_gender\" column to make sure it is populated\u001b[39;00m\n\u001b[0;32m----> 2\u001b[0m \u001b[43mcharacters_data_personnas_noNA\u001b[49m\u001b[38;5;241m.\u001b[39mloc[characters_data_personnas_noNA\u001b[38;5;241m.\u001b[39mactor_gender\u001b[38;5;241m.\u001b[39misna(), \u001b[38;5;124m\"\u001b[39m\u001b[38;5;124mactor_gender\u001b[39m\u001b[38;5;124m\"\u001b[39m] \u001b[38;5;241m=\u001b[39m \u001b[38;5;124m\"\u001b[39m\u001b[38;5;124mNA\u001b[39m\u001b[38;5;124m\"\u001b[39m\n\u001b[1;32m      3\u001b[0m display(characters_data_personnas_noNA\u001b[38;5;241m.\u001b[39mgroupby(\u001b[38;5;124m\"\u001b[39m\u001b[38;5;124mactor_gender\u001b[39m\u001b[38;5;124m\"\u001b[39m)\u001b[38;5;241m.\u001b[39mcount()\u001b[38;5;241m.\u001b[39mactor_name)\n",
      "\u001b[0;31mNameError\u001b[0m: name 'characters_data_personnas_noNA' is not defined"
     ]
    }
   ],
   "source": [
    "# Check values in the \"actor_gender\" column to make sure it is populated\n",
    "characters_data_personnas_noNA.loc[characters_data_personnas_noNA.actor_gender.isna(), \"actor_gender\"] = \"NA\"\n",
    "display(characters_data_personnas_noNA.groupby(\"actor_gender\").count().actor_name)"
   ]
  },
  {
   "cell_type": "markdown",
   "metadata": {},
   "source": [
    "From this very simple line, we can already see that out of the 500 characters, only 69 are played by women, which is already a poor representation."
   ]
  },
  {
   "cell_type": "markdown",
   "metadata": {},
   "source": []
  },
  {
   "cell_type": "code",
   "execution_count": 62,
   "metadata": {
    "collapsed": false,
    "jupyter": {
     "outputs_hidden": false
    }
   },
   "outputs": [],
   "source": [
    "# split the dataframe in 2: one for males and one for women, which is easier for the subsequent analysis\n",
    "male_personnas_data = characters_data_personnas_noNA[characters_data_personnas_noNA['actor_gender'] == 'M'].copy()\n",
    "female_personnas_data = characters_data_personnas_noNA[characters_data_personnas_noNA['actor_gender'] == 'F'].copy()"
   ]
  },
  {
   "cell_type": "code",
   "execution_count": 63,
   "metadata": {
    "collapsed": false,
    "jupyter": {
     "outputs_hidden": false
    }
   },
   "outputs": [
    {
     "data": {
      "text/plain": [
       "personnas\n",
       "dumb_blonde                 9\n",
       "brainless_beauty            7\n",
       "final_girl                  6\n",
       "chanteuse                   6\n",
       "prima_donna                 5\n",
       "granola_person              4\n",
       "broken_bird                 4\n",
       "valley_girl                 3\n",
       "ophelia                     3\n",
       "eccentric_mentor            2\n",
       "junkie_prophet              2\n",
       "doormat                     1\n",
       "adventurer_archaeologist    1\n",
       "storyteller                 1\n",
       "klutz                       1\n",
       "heartbroken_badass          1\n",
       "ditz                        1\n",
       "classy_cat_burglar          1\n",
       "bully                       1\n",
       "Name: count, dtype: int64"
      ]
     },
     "execution_count": 63,
     "metadata": {},
     "output_type": "execute_result"
    }
   ],
   "source": [
    "# print the female personnas with their number of occurance\n",
    "unique_female_personnas_counts = female_personnas_data[\"personnas\"].explode().value_counts()\n",
    "# Sort the unique_personnas_counts Series by the count in descending order\n",
    "sorted_female_personnas_counts = unique_female_personnas_counts.sort_values(ascending=False)\n",
    "sorted_female_personnas_counts"
   ]
  },
  {
   "cell_type": "code",
   "execution_count": 64,
   "metadata": {
    "collapsed": false,
    "jupyter": {
     "outputs_hidden": false
    }
   },
   "outputs": [
    {
     "name": "stdout",
     "output_type": "stream",
     "text": [
      "personnas\n",
      "corrupt_corporate_executive    23\n",
      "crazy_jealous_guy              21\n",
      "psycho_for_hire                14\n",
      "father_to_his_men              13\n",
      "byronic_hero                   13\n",
      "stoner                         11\n",
      "master_swordsman                9\n",
      "hitman_with_a_heart             9\n",
      "arrogant_kungfu_guy             8\n",
      "bounty_hunter                   8\n",
      "evil_prince                     7\n",
      "fastest_gun_in_the_west         7\n",
      "dirty_cop                       7\n",
      "hardboiled_detective            7\n",
      "surfer_dude                     6\n",
      "retired_outlaw                  6\n",
      "young_gun                       6\n",
      "egomaniac_hunter                6\n",
      "tranquil_fury                   6\n",
      "big_man_on_campus               6\n",
      "Name: count, dtype: int64\n"
     ]
    }
   ],
   "source": [
    "# Do the same for men\n",
    "unique_male_personnas_counts = male_personnas_data[\"personnas\"].explode().value_counts()\n",
    "# Sort the unique_personnas_counts Series by the count in descending order\n",
    "sorted_male_personnas_counts = unique_male_personnas_counts.sort_values(ascending=False)\n",
    "print(sorted_male_personnas_counts.head(20))"
   ]
  },
  {
   "cell_type": "code",
   "execution_count": 65,
   "metadata": {
    "collapsed": false,
    "jupyter": {
     "outputs_hidden": false
    }
   },
   "outputs": [
    {
     "data": {
      "text/html": [
       "<div>\n",
       "<style scoped>\n",
       "    .dataframe tbody tr th:only-of-type {\n",
       "        vertical-align: middle;\n",
       "    }\n",
       "\n",
       "    .dataframe tbody tr th {\n",
       "        vertical-align: top;\n",
       "    }\n",
       "\n",
       "    .dataframe thead th {\n",
       "        text-align: right;\n",
       "    }\n",
       "</style>\n",
       "<table border=\"1\" class=\"dataframe\">\n",
       "  <thead>\n",
       "    <tr style=\"text-align: right;\">\n",
       "      <th></th>\n",
       "      <th>personna</th>\n",
       "      <th>female_count</th>\n",
       "      <th>male_count</th>\n",
       "      <th>association_with_F_compared_to_M</th>\n",
       "    </tr>\n",
       "  </thead>\n",
       "  <tbody>\n",
       "    <tr>\n",
       "      <th>0</th>\n",
       "      <td>eccentric_mentor</td>\n",
       "      <td>2</td>\n",
       "      <td>3</td>\n",
       "      <td>4.056497</td>\n",
       "    </tr>\n",
       "    <tr>\n",
       "      <th>1</th>\n",
       "      <td>adventurer_archaeologist</td>\n",
       "      <td>1</td>\n",
       "      <td>3</td>\n",
       "      <td>2.028249</td>\n",
       "    </tr>\n",
       "    <tr>\n",
       "      <th>2</th>\n",
       "      <td>storyteller</td>\n",
       "      <td>1</td>\n",
       "      <td>3</td>\n",
       "      <td>2.028249</td>\n",
       "    </tr>\n",
       "    <tr>\n",
       "      <th>3</th>\n",
       "      <td>brainless_beauty</td>\n",
       "      <td>7</td>\n",
       "      <td>4</td>\n",
       "      <td>10.648305</td>\n",
       "    </tr>\n",
       "    <tr>\n",
       "      <th>4</th>\n",
       "      <td>bully</td>\n",
       "      <td>1</td>\n",
       "      <td>2</td>\n",
       "      <td>3.042373</td>\n",
       "    </tr>\n",
       "    <tr>\n",
       "      <th>5</th>\n",
       "      <td>heartbroken_badass</td>\n",
       "      <td>1</td>\n",
       "      <td>2</td>\n",
       "      <td>3.042373</td>\n",
       "    </tr>\n",
       "    <tr>\n",
       "      <th>6</th>\n",
       "      <td>klutz</td>\n",
       "      <td>1</td>\n",
       "      <td>1</td>\n",
       "      <td>6.084746</td>\n",
       "    </tr>\n",
       "    <tr>\n",
       "      <th>7</th>\n",
       "      <td>broken_bird</td>\n",
       "      <td>4</td>\n",
       "      <td>1</td>\n",
       "      <td>24.338983</td>\n",
       "    </tr>\n",
       "    <tr>\n",
       "      <th>8</th>\n",
       "      <td>ditz</td>\n",
       "      <td>1</td>\n",
       "      <td>5</td>\n",
       "      <td>1.216949</td>\n",
       "    </tr>\n",
       "    <tr>\n",
       "      <th>9</th>\n",
       "      <td>doormat</td>\n",
       "      <td>1</td>\n",
       "      <td>3</td>\n",
       "      <td>2.028249</td>\n",
       "    </tr>\n",
       "    <tr>\n",
       "      <th>10</th>\n",
       "      <td>granola_person</td>\n",
       "      <td>4</td>\n",
       "      <td>4</td>\n",
       "      <td>6.084746</td>\n",
       "    </tr>\n",
       "    <tr>\n",
       "      <th>11</th>\n",
       "      <td>dumb_blonde</td>\n",
       "      <td>9</td>\n",
       "      <td>1</td>\n",
       "      <td>54.762712</td>\n",
       "    </tr>\n",
       "  </tbody>\n",
       "</table>\n",
       "</div>"
      ],
      "text/plain": [
       "                    personna  female_count  male_count  \\\n",
       "0           eccentric_mentor             2           3   \n",
       "1   adventurer_archaeologist             1           3   \n",
       "2                storyteller             1           3   \n",
       "3           brainless_beauty             7           4   \n",
       "4                      bully             1           2   \n",
       "5         heartbroken_badass             1           2   \n",
       "6                      klutz             1           1   \n",
       "7                broken_bird             4           1   \n",
       "8                       ditz             1           5   \n",
       "9                    doormat             1           3   \n",
       "10            granola_person             4           4   \n",
       "11               dumb_blonde             9           1   \n",
       "\n",
       "    association_with_F_compared_to_M  \n",
       "0                           4.056497  \n",
       "1                           2.028249  \n",
       "2                           2.028249  \n",
       "3                          10.648305  \n",
       "4                           3.042373  \n",
       "5                           3.042373  \n",
       "6                           6.084746  \n",
       "7                          24.338983  \n",
       "8                           1.216949  \n",
       "9                           2.028249  \n",
       "10                          6.084746  \n",
       "11                         54.762712  "
      ]
     },
     "metadata": {},
     "output_type": "display_data"
    }
   ],
   "source": [
    "# Extract the index (unique 'personnas') from both DataFrames\n",
    "female_personnas = sorted_female_personnas_counts.index\n",
    "male_personnas = sorted_male_personnas_counts.index\n",
    "\n",
    "# Find the intersection between the two sets of 'personnas'\n",
    "common_personnas = set(female_personnas) & set(male_personnas)\n",
    "\n",
    "# Create a list of with the common personnas and their count in the male and female data\n",
    "common_personnas_data = [\n",
    "    {\n",
    "        'personna': personna,\n",
    "        'female_count': sorted_female_personnas_counts.get(personna, 0),\n",
    "        'male_count': sorted_male_personnas_counts.get(personna, 0),\n",
    "        'association_with_F_compared_to_M' : (sorted_female_personnas_counts.get(personna, 0)/len(female_personnas_data)) / (sorted_male_personnas_counts.get(personna, 0)/len(male_personnas_data))\n",
    "    }\n",
    "    for personna in common_personnas\n",
    "]\n",
    "\n",
    "# Create a DataFrame from the list of dictionaries\n",
    "common_personnas_df = pd.DataFrame(common_personnas_data)\n",
    "display(common_personnas_df)"
   ]
  },
  {
   "cell_type": "markdown",
   "metadata": {},
   "source": [
    "This dataframe shows which personnas are common for male and female as well as the count of each gender. The last colomn normalizes the counts to be able to compare them between females and males (as there are 69 females vs 431 males). It is sticking how \"dumb_blond\" is more than 64 times more for associated with women than men. Overall, terms with a bad connotation (broken_bird, dumb_blonde, brainless_beauty or bully) are much more associated to women than men. However, it is important to remember that the analysis is made only on 500 characters.\n",
    "\n"
   ]
  }
 ],
 "metadata": {
  "kernelspec": {
   "display_name": "Python 3 (ipykernel)",
   "language": "python",
   "name": "python3"
  },
  "language_info": {
   "codemirror_mode": {
    "name": "ipython",
    "version": 3
   },
   "file_extension": ".py",
   "mimetype": "text/x-python",
   "name": "python",
   "nbconvert_exporter": "python",
   "pygments_lexer": "ipython3",
   "version": "3.9.18"
  }
 },
 "nbformat": 4,
 "nbformat_minor": 4
}
