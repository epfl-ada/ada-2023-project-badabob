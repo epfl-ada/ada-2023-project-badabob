{
 "cells": [
  {
   "cell_type": "markdown",
   "source": [
    "# Data Creation, Exploration and Filtering"
   ],
   "metadata": {
    "collapsed": false
   }
  },
  {
   "cell_type": "code",
   "execution_count": null,
   "metadata": {
    "collapsed": true,
    "pycharm": {
     "is_executing": true
    }
   },
   "outputs": [],
   "source": [
    "%load_ext autoreload\n",
    "%autoreload 2\n",
    "import seaborn as sns\n",
    "import math\n",
    "import pandas as pd\n",
    "import ast\n",
    "import numpy as np\n",
    "import matplotlib.pyplot as plt\n",
    "import json\n",
    "from helpers import *\n",
    "data_folder = './DATA/'"
   ]
  },
  {
   "cell_type": "markdown",
   "source": [
    "# Historical Timeline\n",
    "In our analysis we want to see how representation of women in american movies might be impacted by historical events. We therefore need to retrieve a history timeline. We decided to use the timeline on https://www.history.com/topics/womens-history/womens-history-us-timeline since it contains major events related to women's history in the US."
   ],
   "metadata": {
    "collapsed": false
   }
  },
  {
   "cell_type": "code",
   "execution_count": null,
   "outputs": [],
   "source": [
    "get_history_timeline()"
   ],
   "metadata": {
    "collapsed": false,
    "pycharm": {
     "is_executing": true
    }
   }
  },
  {
   "cell_type": "markdown",
   "source": [
    "## Importing raw data"
   ],
   "metadata": {
    "collapsed": false
   }
  },
  {
   "cell_type": "code",
   "execution_count": null,
   "outputs": [],
   "source": [
    "movies_metadata = pd.read_csv(data_folder+'movie.metadata.tsv', header=None, sep='\\t', names=['wikipedia_ID','freebase_ID','name','release_date', 'box_office_revenue', 'runtime', 'languages', 'countries', 'genre'], parse_dates=False)\n",
    "movies_metadata.head(5)"
   ],
   "metadata": {
    "collapsed": false,
    "pycharm": {
     "is_executing": true
    }
   }
  },
  {
   "cell_type": "code",
   "execution_count": null,
   "outputs": [],
   "source": [
    "character_metadata = pd.read_csv(data_folder+'character.metadata.tsv', header=None, sep='\\t', names=['wikipedia_ID','freebase_ID','release_date', 'character_name', 'actor_birthday', 'actor_gender', 'actor_height', 'actor_ethnicity', 'actor_name' , 'actor_age','freebase_character_actor_mapID', 'freebase_character_ID', 'freebase_actor_ID' ], parse_dates=False)\n",
    "character_metadata.head(5)"
   ],
   "metadata": {
    "collapsed": false,
    "pycharm": {
     "is_executing": true
    }
   }
  },
  {
   "cell_type": "code",
   "execution_count": null,
   "outputs": [],
   "source": [
    "plot_summaries = pd.read_csv(data_folder+'plot_summaries.txt',sep='\\t', header=None, names=['wikipedia_ID', 'plot_summary'] )\n",
    "plot_summaries.head()"
   ],
   "metadata": {
    "collapsed": false,
    "pycharm": {
     "is_executing": true
    }
   }
  },
  {
   "cell_type": "markdown",
   "source": [
    "## Movie dataset: Filtering"
   ],
   "metadata": {
    "collapsed": false
   }
  },
  {
   "cell_type": "markdown",
   "source": [
    "**How many movies do we have?**"
   ],
   "metadata": {
    "collapsed": false
   }
  },
  {
   "cell_type": "code",
   "execution_count": null,
   "outputs": [],
   "source": [
    "number_of_data= movies_metadata.count()\n",
    "number_of_data"
   ],
   "metadata": {
    "collapsed": false,
    "pycharm": {
     "is_executing": true
    }
   }
  },
  {
   "cell_type": "markdown",
   "source": [
    "**Where is data mostly missing ?**"
   ],
   "metadata": {
    "collapsed": false
   }
  },
  {
   "cell_type": "code",
   "execution_count": null,
   "outputs": [],
   "source": [
    "proportion_of_each_data = number_of_data/number_of_data['wikipedia_ID']*100\n",
    "proportion_of_each_data"
   ],
   "metadata": {
    "collapsed": false,
    "pycharm": {
     "is_executing": true
    }
   }
  },
  {
   "cell_type": "markdown",
   "source": [
    "We see that the box office column is a column with a lot of missing data, it is only present for 10% of movies. This will not impact our analysis as we are not planning on using the box office as a metric.\n",
    "One caveat of these results is that an empty list will not be considered as a missing. So for languages, countries and genres this percentages do not really represent the missing data."
   ],
   "metadata": {
    "collapsed": false
   }
  },
  {
   "cell_type": "markdown",
   "source": [
    "Given we will perform our analysis on American movies we will only keep the data for movies from the US"
   ],
   "metadata": {
    "collapsed": false
   }
  },
  {
   "cell_type": "code",
   "execution_count": null,
   "outputs": [],
   "source": [
    "us_movies_metadata = movies_metadata[movies_metadata['countries'].str.contains('United States of America', case=False)].copy()\n",
    "us_movies_metadata"
   ],
   "metadata": {
    "collapsed": false,
    "pycharm": {
     "is_executing": true
    }
   }
  },
  {
   "cell_type": "markdown",
   "source": [
    "How many movies did we keep?"
   ],
   "metadata": {
    "collapsed": false
   }
  },
  {
   "cell_type": "code",
   "execution_count": null,
   "outputs": [],
   "source": [
    "print(us_movies_metadata.count())"
   ],
   "metadata": {
    "collapsed": false,
    "pycharm": {
     "is_executing": true
    }
   }
  },
  {
   "cell_type": "code",
   "execution_count": null,
   "outputs": [],
   "source": [
    "print('Total Number of movies', number_of_data.wikipedia_ID)\n",
    "print('Number of non-US movies', number_of_data.wikipedia_ID - us_movies_metadata.wikipedia_ID.count())"
   ],
   "metadata": {
    "collapsed": false,
    "pycharm": {
     "is_executing": true
    }
   }
  },
  {
   "cell_type": "code",
   "execution_count": null,
   "outputs": [],
   "source": [
    "#Let's remove the dictionaries from the countries, the genre and languages of our data\n",
    "us_movies_metadata['countries'] = us_movies_metadata['countries'].apply(lambda x: list(ast.literal_eval(x).values()))\n",
    "us_movies_metadata['genre'] = us_movies_metadata['genre'].apply(lambda x: list(ast.literal_eval(x).values()))\n",
    "us_movies_metadata['languages'] = us_movies_metadata['languages'].apply(lambda x: list(ast.literal_eval(x).values()))\n",
    "\n",
    "# convert dates to same format and remove movies with unknown movie release dates\n",
    "us_movies_metadata['release_date'] = us_movies_metadata['release_date'].astype(str)\n",
    "us_movies_metadata['release_date'] = pd.to_datetime(us_movies_metadata['release_date'],format='mixed', errors='coerce')\n",
    "us_movies_metadata = us_movies_metadata.dropna(subset=['release_date']).copy()"
   ],
   "metadata": {
    "collapsed": false,
    "pycharm": {
     "is_executing": true
    }
   }
  },
  {
   "cell_type": "markdown",
   "source": [
    "Let's see what languages we still have in our data"
   ],
   "metadata": {
    "collapsed": false
   }
  },
  {
   "cell_type": "code",
   "execution_count": null,
   "outputs": [],
   "source": [
    "us_movies_metadata[\"languages\"].explode().unique()"
   ],
   "metadata": {
    "collapsed": false,
    "pycharm": {
     "is_executing": true
    }
   }
  },
  {
   "cell_type": "markdown",
   "source": [
    "Of interest for us are: English Language, Silent Film, American English, Old English Language (for example Indian English is not very relevant for our analysis, as well as native american languages like Navajo or Hawaiian language). So let us remove any movie that doesn't have English Language, Silent Film, American English, Old English Language, or American Sign Language as one of their language"
   ],
   "metadata": {
    "collapsed": false
   }
  },
  {
   "cell_type": "code",
   "execution_count": null,
   "outputs": [],
   "source": [
    "us_english_movies_metadata = us_movies_metadata[movies_metadata['languages'].str.contains('English Language' or 'Silent Film' or 'American English' or 'Old English Language' or 'American Sign Language', case=False)].copy()"
   ],
   "metadata": {
    "collapsed": false,
    "pycharm": {
     "is_executing": true
    }
   }
  },
  {
   "cell_type": "markdown",
   "source": [
    "Did we remove any movies by doing that?"
   ],
   "metadata": {
    "collapsed": false
   }
  },
  {
   "cell_type": "code",
   "execution_count": null,
   "outputs": [],
   "source": [
    "print('We had',us_movies_metadata.wikipedia_ID.count(), 'movies in our U.S data frame')\n",
    "print('We now have', us_english_movies_metadata.wikipedia_ID.count(), 'in our English US data frame')\n",
    "print('So there are',us_movies_metadata.wikipedia_ID.count()-us_english_movies_metadata.wikipedia_ID.count(), 'movies that were from the US but not in any of the languages we decided to consider.')\n",
    "print('We also see that in the movies we removed, there are', np.sum(us_movies_metadata['languages'].apply(lambda x: len(x)==0)), 'movies that lack languages. For the next milestone we will thus find out the languages of these movies to complete the dataset.')"
   ],
   "metadata": {
    "collapsed": false,
    "pycharm": {
     "is_executing": true
    }
   }
  },
  {
   "cell_type": "markdown",
   "source": [
    "**Now let us have a look at the genres we have in our dataset**"
   ],
   "metadata": {
    "collapsed": false
   }
  },
  {
   "cell_type": "code",
   "execution_count": null,
   "outputs": [],
   "source": [
    "us_english_movies_metadata[\"genre\"].explode().unique()"
   ],
   "metadata": {
    "collapsed": false,
    "pycharm": {
     "is_executing": true
    }
   }
  },
  {
   "cell_type": "markdown",
   "source": [
    "As we can see we have a massive amount (342) of genres, so at some point we will need to filter or chose certain genres to analyze."
   ],
   "metadata": {
    "collapsed": false
   }
  },
  {
   "cell_type": "markdown",
   "source": [
    "\n",
    "**Plot of the number of movies per year**"
   ],
   "metadata": {
    "collapsed": false
   }
  },
  {
   "cell_type": "code",
   "execution_count": null,
   "outputs": [],
   "source": [
    "#us_english_movies_metadata['release_date'] = pd.to_datetime(us_english_movies_metadata['release_date'],format='mixed', errors='coerce')\n",
    "#us_english_movies_metadata"
   ],
   "metadata": {
    "collapsed": false,
    "pycharm": {
     "is_executing": true
    }
   }
  },
  {
   "cell_type": "code",
   "execution_count": null,
   "outputs": [],
   "source": [
    "# Group movies by release year\n",
    "movies_grouped_by_year = us_english_movies_metadata.groupby(us_english_movies_metadata['release_date'].dt.year)\n",
    "\n",
    "#number of movies per year\n",
    "number_movies_per_year = movies_grouped_by_year.size()\n",
    "\n",
    "plt.figure(figsize=(10, 6))\n",
    "number_movies_per_year.plot(kind='line', color = 'cornflowerblue')\n",
    "plt.title('Number of Movies Released per Year')\n",
    "plt.xlabel('Year')\n",
    "plt.ylabel('Number of Movies')\n",
    "plt.grid(True)\n",
    "plt.show()"
   ],
   "metadata": {
    "collapsed": false,
    "pycharm": {
     "is_executing": true
    }
   }
  },
  {
   "cell_type": "markdown",
   "source": [
    "We can see on this plot that before 1912 we have very little movies. We will thus only keep movies from 1912 and later years."
   ],
   "metadata": {
    "collapsed": false
   }
  },
  {
   "cell_type": "code",
   "execution_count": null,
   "outputs": [],
   "source": [
    "us_english_movies_metadata = us_english_movies_metadata[us_english_movies_metadata['release_date'].dt.year >= 1912]"
   ],
   "metadata": {
    "collapsed": false,
    "pycharm": {
     "is_executing": true
    }
   }
  },
  {
   "cell_type": "markdown",
   "source": [
    "Let us merge this movies dataframe with the synopses"
   ],
   "metadata": {
    "collapsed": false
   }
  },
  {
   "cell_type": "code",
   "execution_count": null,
   "outputs": [],
   "source": [
    "us_english_movies_synopsis = pd.merge(us_english_movies_metadata, plot_summaries, how='left', on = 'wikipedia_ID')"
   ],
   "metadata": {
    "collapsed": false,
    "pycharm": {
     "is_executing": true
    }
   }
  },
  {
   "cell_type": "code",
   "execution_count": null,
   "outputs": [],
   "source": [
    "us_english_movies_synopsis"
   ],
   "metadata": {
    "collapsed": false,
    "pycharm": {
     "is_executing": true
    }
   }
  },
  {
   "cell_type": "markdown",
   "source": [
    "Do we have a lot of missing summaries?"
   ],
   "metadata": {
    "collapsed": false
   }
  },
  {
   "cell_type": "code",
   "execution_count": null,
   "outputs": [],
   "source": [
    "missing_plot = us_english_movies_synopsis['plot_summary'].isna().sum()\n",
    "number_of_movies = len(us_english_movies_synopsis['plot_summary'])\n",
    "print('We only have', number_of_movies- missing_plot, 'movies out of',number_of_movies, \"with a summary, which means we only have 60.59% of the movies with the plotline. However, the plot summary analysis might be too costly to run on a lot of summaries. It might therefore be reasonable not to complete the missing plot summaries.\" )"
   ],
   "metadata": {
    "collapsed": false,
    "pycharm": {
     "is_executing": true
    }
   }
  },
  {
   "cell_type": "markdown",
   "source": [
    "# Character Dataset: Filtering"
   ],
   "metadata": {
    "collapsed": false
   }
  },
  {
   "cell_type": "markdown",
   "source": [
    "Let's start by checking the completeness of the character dataset:"
   ],
   "metadata": {
    "collapsed": false
   }
  },
  {
   "cell_type": "code",
   "execution_count": null,
   "outputs": [],
   "source": [
    "number_of_data_character= character_metadata.count()\n",
    "proportion_of_each_data_character = number_of_data_character/number_of_data_character['wikipedia_ID']*100\n",
    "proportion_of_each_data_character"
   ],
   "metadata": {
    "collapsed": false,
    "pycharm": {
     "is_executing": true
    }
   }
  },
  {
   "cell_type": "markdown",
   "source": [
    "The data seems pretty complete regarding the release date of the movies, actor's gender and actor's age. Nevertheless, we need  to complete the dataset with more character's name to be able to analyze deeper the personnas associated with them and use this result in our analysis. getting also more data on actors' ethnicity would also be of choice as this will allow us to extend our analysis to other minorities such as people of color."
   ],
   "metadata": {
    "collapsed": false
   }
  },
  {
   "cell_type": "code",
   "execution_count": null,
   "outputs": [],
   "source": [
    "# remove unknown release dates\n",
    "character_metadata = character_metadata.dropna(subset='release_date')\n",
    "# convert the release_date to a date format (YYYY/MM/DD but any date that initially only has a year will be converted to YYYY/01/01)\n",
    "character_metadata['release_date'] = character_metadata['release_date'].astype(str)\n",
    "#character_metadata['actor_birthday'] = character_metadata['actor_birthday'].astype(str)\n",
    "character_metadata['release_date'] = pd.to_datetime(character_metadata['release_date'], format = 'mixed', errors='coerce').dt.year\n",
    "#character_metadata['actor_birthday'] = pd.to_datetime(character_metadata['actor_birthday'], format = 'mixed', errors='coerce').dt.year"
   ],
   "metadata": {
    "collapsed": false,
    "pycharm": {
     "is_executing": true
    }
   }
  },
  {
   "cell_type": "markdown",
   "source": [
    "First we will only keep the characters related to the movies we previously filtered"
   ],
   "metadata": {
    "collapsed": false
   }
  },
  {
   "cell_type": "code",
   "execution_count": null,
   "outputs": [],
   "source": [
    "us_movie_mask = character_metadata['wikipedia_ID'].isin(us_english_movies_metadata['wikipedia_ID'])\n",
    "character_metadata = character_metadata[us_movie_mask]"
   ],
   "metadata": {
    "collapsed": false,
    "pycharm": {
     "is_executing": true
    }
   }
  },
  {
   "cell_type": "markdown",
   "source": [
    "Let's filter the character metadata to remove actors with a gender differing from F or M. However, let's first explore the values that \"gender\" take."
   ],
   "metadata": {
    "collapsed": false
   }
  },
  {
   "cell_type": "code",
   "execution_count": null,
   "outputs": [],
   "source": [
    "# Check values in the \"actor_gender\" column\n",
    "character_metadata.loc[character_metadata.actor_gender.isna(), \"actor_gender\"] = \"NA\"\n",
    "display(character_metadata.groupby(\"actor_gender\").count().actor_name)"
   ],
   "metadata": {
    "collapsed": false,
    "pycharm": {
     "is_executing": true
    }
   }
  },
  {
   "cell_type": "markdown",
   "source": [
    "As expected, actor's gender is either F (female), M (male) or NA (not mentionned). Nevertheless, this check was necessary in order to make sure no one identified as non-binary for example. Let's now remove the actors with NA as gender as well as all the characters in movies that have no release date as our analysis is related to time.\n"
   ],
   "metadata": {
    "collapsed": false
   }
  },
  {
   "cell_type": "code",
   "execution_count": null,
   "outputs": [],
   "source": [
    "# remove any value that is not \"F\" or \"M\" in the \"gender\" column or the character metadata, keeps the rest\n",
    "character_metadata_noNA_gender = character_metadata[character_metadata[\"actor_gender\"].isin([\"F\", \"M\"])].copy()\n",
    "# drop the characters in movies with no release date\n",
    "character_metadata_noNA_genderYear = character_metadata_noNA_gender.dropna(subset=['release_date']).copy()\n",
    "\n",
    "display(character_metadata_noNA_genderYear)\n",
    "print('From the original character dataset, we dropped ', character_metadata.shape[0]-character_metadata_noNA_genderYear.shape[0], 'characters either because the movie had no release date or the gender of the actor was not specified, out of ', character_metadata.shape[0], 'characters initially.')"
   ],
   "metadata": {
    "collapsed": false,
    "pycharm": {
     "is_executing": true
    }
   }
  },
  {
   "cell_type": "markdown",
   "source": [
    "### Merging personas with character dataset"
   ],
   "metadata": {
    "collapsed": false
   }
  },
  {
   "cell_type": "code",
   "execution_count": null,
   "outputs": [],
   "source": [
    "# Read the data from the text file, comma is the delimiter\n",
    "personnas_metadata = pd.read_csv(data_folder + 'tvtropes.clusters.txt', names=['personnas', 'data'], header=None, sep='\\t')\n",
    "\n",
    "# Replace single quotes with a placeholder character, to avoid error in parsing\n",
    "personnas_metadata['data'] = personnas_metadata['data'].str.replace(\"'\", \"@@QUOTE@@\")\n",
    "personnas_metadata['data'] = personnas_metadata['data'].apply(lambda x: x.replace(\"@@QUOTE@@\", \"'\"))\n",
    "\n",
    "# Function to load JSON strings\n",
    "def json_loads(x):\n",
    "    try:\n",
    "        return json.loads(x)\n",
    "    except (ValueError, SyntaxError):\n",
    "        print(f\"Error decoding JSON: {x}\")\n",
    "        return None\n",
    "\n",
    "# Parse the JSON-like strings and split them into separate columns\n",
    "personnas_metadata['data'] = personnas_metadata['data'].apply(json_loads)\n",
    "personnas_metadata = pd.concat([personnas_metadata.drop('data', axis=1), personnas_metadata['data'].apply(pd.Series)], axis=1)\n",
    "\n",
    "#Rename the id column so it matches  with the character dataset to be able to merge (information from the README file) --> maps the actor with its character in the character metadata dataset\n",
    "personnas_metadata.rename(columns={'id': 'freebase_character_actor_mapID'}, inplace=True)\n",
    "\n",
    "display(personnas_metadata)"
   ],
   "metadata": {
    "collapsed": false,
    "pycharm": {
     "is_executing": true
    }
   }
  },
  {
   "cell_type": "markdown",
   "source": [
    "Let's merge this data with the character data we have on freebase_character_actor_mapID as this relates the personnas with the actor and the character they play in a specific movie."
   ],
   "metadata": {
    "collapsed": false
   }
  },
  {
   "cell_type": "code",
   "execution_count": null,
   "outputs": [],
   "source": [
    "# only add the column personnas to the characters dataset\n",
    "character_metadata_noNA_genderYear_personnas = character_metadata.merge(personnas_metadata[['freebase_character_actor_mapID', 'personnas']],on=[\"freebase_character_actor_mapID\"],how=\"left\").copy()\n",
    "\n",
    "display(character_metadata_noNA_genderYear_personnas)"
   ],
   "metadata": {
    "collapsed": false,
    "pycharm": {
     "is_executing": true
    }
   }
  },
  {
   "cell_type": "markdown",
   "source": [
    "Finally, we will add the name of the movies to the dataset to facilitate merges with datasets that do not have wikipedia ID."
   ],
   "metadata": {
    "collapsed": false
   }
  },
  {
   "cell_type": "code",
   "execution_count": null,
   "outputs": [],
   "source": [
    "character_metadata_noNA_genderYear_personnas = pd.merge(character_metadata_noNA_genderYear_personnas, movies_metadata[['wikipedia_ID', 'name']], how='left', on='wikipedia_ID')"
   ],
   "metadata": {
    "collapsed": false,
    "pycharm": {
     "is_executing": true
    }
   }
  },
  {
   "cell_type": "markdown",
   "source": [
    "# Complementing the dataset after 2010\n",
    "The provided dataset does not contain information on recent movies. We thus decided to complement it using IMDB data to be able to also perform our analysis in recent years. We have two main datasets to complete: the movie dataset and the character dataset. To do so, we used the data available on https://datasets.imdbws.com/ and the library Cinemagoer that can retrieve information on IMDB."
   ],
   "metadata": {
    "collapsed": false
   }
  },
  {
   "cell_type": "markdown",
   "source": [
    "### A) Complementing movie data\n",
    "To complete the movie dataset we used the following folders need to be downloaded from https://datasets.imdbws.com/, unzipped and placed in the /DATA folder:\n",
    "- title.basics.tsv.gz\n",
    "- title.akas.tsv.gz\n",
    "\n",
    "However, these files are missing a lot information that we need for our analysis (plot summaries, countries, languages). We will therefore also use the library Cinemagoer to retrieve these information. In order to not have too many useless requests to IMDB through Cinemagoer, we use the datasets title.basics and titles.akas to get a list of ID of movies we are interested in."
   ],
   "metadata": {
    "collapsed": false
   }
  },
  {
   "cell_type": "code",
   "execution_count": null,
   "outputs": [],
   "source": [
    "titles_dataset = pd.read_csv(data_folder + 'title.basics.tsv/data.tsv', sep='\\t')\n",
    "movie_IDs = filter_titles_IDs(titles_dataset)"
   ],
   "metadata": {
    "collapsed": false,
    "pycharm": {
     "is_executing": true
    }
   }
  },
  {
   "cell_type": "code",
   "execution_count": null,
   "outputs": [],
   "source": [
    "print(len(movie_IDs)) # we still have 204'389"
   ],
   "metadata": {
    "collapsed": false,
    "pycharm": {
     "is_executing": true
    }
   }
  },
  {
   "cell_type": "markdown",
   "source": [
    "Taking all of these movies from IMDB would take too much time. These IDs contain movies from a lot of different countries and we are only interested in american movies. We do not have the 'country' information in the downloaded datasets but we do have the 'original title' and the 'american title' in the title.akas dataset. We will use this dataset to find movies in which the original title is the same as the american one. Thus we can already remove some movies that we know are probably not american. We will of course keep a lot of non-american movies, but we can filter those out later.\n"
   ],
   "metadata": {
    "collapsed": false
   }
  },
  {
   "cell_type": "code",
   "execution_count": null,
   "outputs": [],
   "source": [
    "titles_akas_dataset = pd.read_csv(data_folder + 'title.akas.tsv/data.tsv', sep='\\t')\n",
    "original_titles = titles_akas_dataset[titles_akas_dataset['isOriginalTitle']==1]['title']\n",
    "# get all only the lines where the title is the same as the original title\n",
    "titles_akas_dataset_filtered = titles_akas_dataset[titles_akas_dataset['title'].isin(original_titles)]\n",
    "# get only the movies where the US title is the same as the original title\n",
    "titles_akas_dataset_filtered = titles_akas_dataset_filtered[titles_akas_dataset_filtered['region'] == 'US']"
   ],
   "metadata": {
    "collapsed": false,
    "pycharm": {
     "is_executing": true
    }
   }
  },
  {
   "cell_type": "code",
   "execution_count": null,
   "outputs": [],
   "source": [
    "# get only IDs that are in both datasets\n",
    "common_ids = titles_akas_dataset_filtered[titles_akas_dataset_filtered['titleId'].isin(movie_IDs)]\n",
    "common_ids = common_ids['titleId'].drop_duplicates()\n",
    "print(len(common_ids)) # 39'595 movies left"
   ],
   "metadata": {
    "collapsed": false,
    "pycharm": {
     "is_executing": true
    }
   }
  },
  {
   "cell_type": "markdown",
   "source": [
    "We will now retrieve information of these 39'595 movies directly from IMDB using Cinemagoer"
   ],
   "metadata": {
    "collapsed": false
   }
  },
  {
   "cell_type": "markdown",
   "source": [
    "!! THE FOLLOWING CELL TAKES A LONG TIME TO RUN !!\n",
    "Since it has already been run once and the data was saved, there is no need to run it anymore and it is thus commented."
   ],
   "metadata": {
    "collapsed": false
   }
  },
  {
   "cell_type": "code",
   "execution_count": null,
   "outputs": [],
   "source": [
    "#get_IMDB_movies_data(common_ids)"
   ],
   "metadata": {
    "collapsed": false,
    "pycharm": {
     "is_executing": true
    }
   }
  },
  {
   "cell_type": "code",
   "execution_count": null,
   "outputs": [],
   "source": [
    "IMDB_movie_data = pd.read_csv(data_folder + 'IMDB_movies_2010-2022.csv')\n",
    "IMDB_movie_data_filtered = filter_IMDB_movie_dataset(IMDB_movie_data)"
   ],
   "metadata": {
    "collapsed": false,
    "pycharm": {
     "is_executing": true
    }
   }
  },
  {
   "cell_type": "code",
   "execution_count": null,
   "outputs": [],
   "source": [
    "IMDB_movie_data_filtered"
   ],
   "metadata": {
    "collapsed": false,
    "pycharm": {
     "is_executing": true
    }
   }
  },
  {
   "cell_type": "markdown",
   "source": [
    "We now have a datasets containing all the needed information on movies from 2010-2022. We just need to merge it with the provided dataset."
   ],
   "metadata": {
    "collapsed": false
   }
  },
  {
   "cell_type": "code",
   "execution_count": null,
   "outputs": [],
   "source": [
    "provided_data = us_english_movies_synopsis\n",
    "# change the release date to just the year to be able to merge more easily and convert it to the same format of the other df\n",
    "provided_data['release_date'] = provided_data['release_date'].dt.year\n",
    "# country and languages are not needed anymore\n",
    "provided_data = provided_data.drop(columns=['languages', 'countries'])\n",
    "IMDB_movie_data_filtered = IMDB_movie_data.drop(columns=['languages', 'countries'])"
   ],
   "metadata": {
    "collapsed": false,
    "pycharm": {
     "is_executing": true
    }
   }
  },
  {
   "cell_type": "code",
   "execution_count": 1,
   "outputs": [
    {
     "ename": "NameError",
     "evalue": "name 'pd' is not defined",
     "output_type": "error",
     "traceback": [
      "\u001B[1;31m---------------------------------------------------------------------------\u001B[0m",
      "\u001B[1;31mNameError\u001B[0m                                 Traceback (most recent call last)",
      "Cell \u001B[1;32mIn[1], line 2\u001B[0m\n\u001B[0;32m      1\u001B[0m \u001B[38;5;66;03m# merge IMDB and provided dataset\u001B[39;00m\n\u001B[1;32m----> 2\u001B[0m movie_data \u001B[38;5;241m=\u001B[39m \u001B[43mpd\u001B[49m\u001B[38;5;241m.\u001B[39mmerge(provided_data, IMDB_movie_data_filtered, on\u001B[38;5;241m=\u001B[39m[\u001B[38;5;124m'\u001B[39m\u001B[38;5;124mname\u001B[39m\u001B[38;5;124m'\u001B[39m, \u001B[38;5;124m'\u001B[39m\u001B[38;5;124mrelease_date\u001B[39m\u001B[38;5;124m'\u001B[39m], how\u001B[38;5;241m=\u001B[39m\u001B[38;5;124m'\u001B[39m\u001B[38;5;124mouter\u001B[39m\u001B[38;5;124m'\u001B[39m)\u001B[38;5;241m.\u001B[39mcopy()\n\u001B[0;32m      3\u001B[0m duplicated_cols \u001B[38;5;241m=\u001B[39m [\u001B[38;5;124m'\u001B[39m\u001B[38;5;124mplot_summary\u001B[39m\u001B[38;5;124m'\u001B[39m, \u001B[38;5;124m'\u001B[39m\u001B[38;5;124mgenre\u001B[39m\u001B[38;5;124m'\u001B[39m]\n\u001B[0;32m      4\u001B[0m movie_data \u001B[38;5;241m=\u001B[39m remove_duplicated_columns(movie_data, duplicated_cols)\n",
      "\u001B[1;31mNameError\u001B[0m: name 'pd' is not defined"
     ]
    }
   ],
   "source": [
    "# merge IMDB and provided dataset\n",
    "movie_data = pd.merge(provided_data, IMDB_movie_data_filtered, on=['name', 'release_date'], how='outer').copy()\n",
    "duplicated_cols = ['plot_summary', 'genre']\n",
    "movie_data = remove_duplicated_columns(movie_data, duplicated_cols)\n",
    "# save data\n",
    "#movie_data.to_csv(data_folder + 'movie_data.csv')"
   ],
   "metadata": {
    "collapsed": false
   }
  },
  {
   "cell_type": "code",
   "execution_count": null,
   "outputs": [],
   "source": [
    "movie_data"
   ],
   "metadata": {
    "collapsed": false
   }
  },
  {
   "cell_type": "markdown",
   "source": [
    "We now have a data sets containing movies until 2022 that is ready for our analysis!\n"
   ],
   "metadata": {
    "collapsed": false
   }
  },
  {
   "cell_type": "markdown",
   "source": [
    "### B) Complementing characters' data\n",
    "To complete the character dataset the following folders need to be downloaded from https://datasets.imdbws.com/, unzipped and placed in the /DATA folder:\n",
    "- title.principals.tsv.gz\n",
    "- name.basics.tsv.gz"
   ],
   "metadata": {
    "collapsed": false
   }
  },
  {
   "cell_type": "code",
   "execution_count": null,
   "outputs": [],
   "source": [
    "# load characters info\n",
    "characters_data = pd.read_csv(data_folder + 'title.principals.tsv/data.tsv', sep='\\t')\n",
    "IMDB_ids = IMDB_movie_data_filtered['IMDB_ID']\n",
    "# only keep characters of the filtered movies\n",
    "characters_data_filtered = clean_IMDB_character_dataset(characters_data, IMDB_ids)"
   ],
   "metadata": {
    "collapsed": false
   }
  },
  {
   "cell_type": "code",
   "execution_count": null,
   "outputs": [],
   "source": [
    "# load actors info\n",
    "actors_data = pd.read_csv(data_folder + 'name.basics.tsv/data.tsv', sep='\\t')\n",
    "# remove useless columns\n",
    "actors_data = actors_data.drop(columns=['deathYear', 'primaryProfession', 'knownForTitles'])"
   ],
   "metadata": {
    "collapsed": false
   }
  },
  {
   "cell_type": "markdown",
   "source": [
    "We now need to merge all the information we have on the characters and the actors. There are some information we still need to add to the dataframe: release date, actor age, movie name. These will be added by merging with the movie dataset created above."
   ],
   "metadata": {
    "collapsed": false
   }
  },
  {
   "cell_type": "code",
   "execution_count": null,
   "outputs": [],
   "source": [
    "# merge actor data and movie data on character data\n",
    "IMDB_characters_data = merge_datasets_characters(characters_data_filtered, actors_data, IMDB_movie_data_filtered)\n",
    "IMDB_characters_data.loc[IMDB_characters_data['character_name'] == '\\\\N', 'character_name'] = None\n",
    "#IMDB_characters_data['release_date'] = IMDB_characters_data['release_date'].astype(float) #so that it's the same type as the provided data"
   ],
   "metadata": {
    "collapsed": false
   }
  },
  {
   "cell_type": "code",
   "execution_count": null,
   "outputs": [],
   "source": [
    "IMDB_characters_data"
   ],
   "metadata": {
    "collapsed": false
   }
  },
  {
   "cell_type": "markdown",
   "source": [
    "We can now merge this IMDB character dataset with the provided character dataset"
   ],
   "metadata": {
    "collapsed": false
   }
  },
  {
   "cell_type": "code",
   "execution_count": null,
   "outputs": [],
   "source": [
    "provided_characters = character_metadata_noNA_genderYear_personnas\n",
    "#change birthday into birth year\n",
    "#provided_characters['actor_birthday'] = [x.year if pd.notna(x) else x for x in provided_characters['actor_birthday']]\n",
    "#provided_characters['release_date'] = provided_characters['release_date'].dt.year"
   ],
   "metadata": {
    "collapsed": false
   }
  },
  {
   "cell_type": "code",
   "execution_count": null,
   "outputs": [],
   "source": [
    "#first put everything in lower case\n",
    "provided_characters['character_name'] = name_to_lowercase(provided_characters, 'character_name')\n",
    "provided_characters['actor_name'] = name_to_lowercase(provided_characters, 'actor_name')\n",
    "IMDB_characters_data['character_name'] = name_to_lowercase(IMDB_characters_data, 'character_name')\n",
    "IMDB_characters_data['actor_name'] = name_to_lowercase(IMDB_characters_data, 'actor_name')\n",
    "#provided_characters['name'] = name_to_lowercase(provided_characters, 'name')\n",
    "#IMDB_characters_data['name'] = name_to_lowercase(IMDB_characters_data, 'name')\n",
    "# merge datasets\n",
    "characters_data = pd.merge(provided_characters, IMDB_characters_data, on=['name', 'character_name', 'actor_name', 'release_date'], how='outer').copy()\n",
    "# remove columns that were duplicated\n",
    "duplicated_cols = ['actor_gender', 'actor_age']\n",
    "characters_data= remove_duplicated_columns(characters_data, duplicated_cols)\n",
    "# save file\n",
    "#characters_data.to_csv(data_folder + 'characters_data.csv', index=False)"
   ],
   "metadata": {
    "collapsed": false
   }
  },
  {
   "cell_type": "code",
   "execution_count": null,
   "outputs": [],
   "source": [
    "characters_data"
   ],
   "metadata": {
    "collapsed": false
   }
  },
  {
   "cell_type": "markdown",
   "source": [
    "## First Analysis of characters"
   ],
   "metadata": {
    "collapsed": false
   }
  },
  {
   "cell_type": "markdown",
   "source": [
    "**What's the proportion of female actors in movies per year?**\n",
    "We wonder if the proportion of female actors' increase over the years, which is what we would expect."
   ],
   "metadata": {
    "collapsed": false
   }
  },
  {
   "cell_type": "code",
   "execution_count": null,
   "outputs": [],
   "source": [
    "# group the movies by year\n",
    "#characters_data['release_date'] = pd.to_datetime(characters_data['release_date'])\n",
    "characters_grouped_by_year = characters_data.groupby(characters_data['release_date'])\n",
    "\n",
    "# Calculate the proportion of men and women per year\n",
    "proportion_female = characters_grouped_by_year['actor_gender'].apply(lambda x: (x == 'F').sum() / len(x))\n",
    "proportion_male = 1 - proportion_female\n",
    "\n",
    "# Plotting the proportion of men vs women per year as a stacked bar chart\n",
    "plt.figure(figsize=(12, 6))\n",
    "plt.bar(proportion_male.index, proportion_male.values, bottom=proportion_female.values, label='Male actors', color='skyblue')\n",
    "plt.bar(proportion_female.index, proportion_female.values, label='Female actors', color='pink')\n",
    "plt.title('Proportion of Men vs Women in Movies per Year', fontsize=14)\n",
    "plt.xlabel('Year', fontsize=12)\n",
    "plt.ylabel('Proportion of total actors', fontsize=12)\n",
    "plt.legend()\n",
    "plt.show()"
   ],
   "metadata": {
    "collapsed": false
   }
  },
  {
   "cell_type": "markdown",
   "source": [
    "Interestingly, the proportion of women over the decades stayed fairly constant, close to 40%. This constrasts with what we expected as we would think that women representation would get better over the years.  **Questions for the group: should we remove data from before 1910 as so low that doesn't make sense?**"
   ],
   "metadata": {
    "collapsed": false
   }
  },
  {
   "cell_type": "markdown",
   "source": [
    "Nevertheless, this result doesn't mean that each movie has approximately 40% of women in their cast. This result might be biased by movies that have an extremely low/high proportion of women versus movies that have a balanced actors cast. To determine if that is the case, let's plot the proportion of movies per year that have 0-25% women, 25-50%, 50-75% or 75-100% women. Are female actors represented equally in every movies or is there a discrepency between movies released in the same year?"
   ],
   "metadata": {
    "collapsed": false
   }
  },
  {
   "cell_type": "code",
   "execution_count": null,
   "outputs": [],
   "source": [
    "# number of movies per year\n",
    "number_movies_per_year_character = characters_grouped_by_year.size()\n",
    "\n",
    "# group by year and by movie\n",
    "characters_grouped_by_year_and_movie = characters_data.groupby([characters_data['release_date'], 'name'])\n",
    "\n",
    "# Calculate the proportion of men and women per year per movie\n",
    "proportion_female_per_movie = characters_grouped_by_year_and_movie['actor_gender'].apply(lambda x: (x == 'F').sum() / len(x))\n",
    "proportion_male_per_movie = 1 - proportion_female_per_movie\n",
    "\n",
    "# Convert the Series to a DataFrame for easier data handling in later analysis\n",
    "female_proportions = proportion_female_per_movie.reset_index()\n",
    "\n",
    "# Rename the columns if needed\n",
    "female_proportions.columns = ['release_date', 'name', 'proportion_female']"
   ],
   "metadata": {
    "collapsed": false
   }
  },
  {
   "cell_type": "code",
   "execution_count": null,
   "outputs": [],
   "source": [
    "#Lists to store in which category each movie belongs to per year\n",
    "below_25_per_year = []\n",
    "quarter_50_per_year = []\n",
    "half_75_per_year = []\n",
    "above_75_per_year = []\n",
    "\n",
    "# Iterate through each year in the index of female_proportions\n",
    "for year, proportions in female_proportions.groupby('release_date'):\n",
    "\n",
    "    # Count movies in different categories for the current year\n",
    "    below_25 = len(proportions[proportions['proportion_female'] <= 0.25])\n",
    "    quarter_50 = len(proportions[(proportions['proportion_female'] > 0.25) & (proportions['proportion_female'] <= 0.5)])\n",
    "    half_75 = len(proportions[(proportions['proportion_female'] > 0.5) & (proportions['proportion_female'] <= 0.75)])\n",
    "    above_75 = len(proportions[proportions['proportion_female'] > 0.75])\n",
    "\n",
    "    # Calculate proportions for each category\n",
    "    total_movies = len(proportions)\n",
    "    proportion_below_25 = below_25 / total_movies\n",
    "    proportion_quarter_50 = quarter_50 / total_movies\n",
    "    proportion_half_75 = half_75 / total_movies\n",
    "    proportion_above_75 = above_75 / total_movies\n",
    "\n",
    "    # Append proportions to respective lists\n",
    "    below_25_per_year.append(proportion_below_25)\n",
    "    quarter_50_per_year.append(proportion_quarter_50)\n",
    "    half_75_per_year.append(proportion_half_75)\n",
    "    above_75_per_year.append(proportion_above_75)\n"
   ],
   "metadata": {
    "collapsed": false
   }
  },
  {
   "cell_type": "code",
   "execution_count": null,
   "outputs": [],
   "source": [
    "# Extract unique years from the 'release_date' column of the female_proportions DataFrame\n",
    "unique_years = female_proportions['release_date'].unique()\n",
    "\n",
    "# Convert the unique years to a list\n",
    "years = list(unique_years)\n",
    "\n",
    "# Data for stack plot\n",
    "categories = ['Below 25%', '25-50%', '50-75%', 'Above 75%']\n",
    "data = [below_25_per_year, quarter_50_per_year, half_75_per_year, above_75_per_year]\n",
    "\n",
    "# Create a stack plot\n",
    "plt.figure(figsize=(10, 6))\n",
    "plt.stackplot(years, data, labels=categories, alpha=0.8)\n",
    "plt.xlabel('Year')\n",
    "plt.ylabel('Proportion of movies in a given year')\n",
    "plt.title('Proportion of Movies with Different Percentages of Female Actors')\n",
    "plt.legend(loc='upper left')\n",
    "plt.show()"
   ],
   "metadata": {
    "collapsed": false
   }
  },
  {
   "cell_type": "markdown",
   "source": [
    "We can observe that a vast majority of movies have less than 50% of women in their cast. Actually, over the years, a vast majority of movies (approximately 80%) have less than 50% female actors in their cast. Thus, even though overall the proportion of women seems to be close to 40% over the years, their are largely underrepresented in the vast majority of movies."
   ],
   "metadata": {
    "collapsed": false
   }
  },
  {
   "cell_type": "markdown",
   "source": [
    "**What's the age difference of female actors in movies compared to male actors over the years? Are female actors significantly younger than male actors?**"
   ],
   "metadata": {
    "collapsed": false
   }
  },
  {
   "cell_type": "code",
   "execution_count": null,
   "outputs": [],
   "source": [
    "# drop the actors with NaN as age but also actors with negative ages (which appeared in 1910)\n",
    "character_age = characters_data.dropna(subset=['actor_age']).copy()\n",
    "character_age = character_age[character_age['actor_age'] >= 0] # remove actors with a negative age"
   ],
   "metadata": {
    "collapsed": false
   }
  },
  {
   "cell_type": "code",
   "execution_count": null,
   "outputs": [],
   "source": [
    "# Group by year and gender\n",
    "characters_age_by_year_gender = character_age.groupby([character_age['release_date'], 'actor_gender'])\n",
    "\n",
    "# Calculate average age and standard deviation of age for each gender per year\n",
    "gender_age_stats_per_year = characters_age_by_year_gender['actor_age'].agg(['mean', 'sem'])\n",
    "\n",
    "# Reset the index to make the grouped columns accessible for further analysis or visualization\n",
    "gender_age_stats_per_year.reset_index(inplace=True)\n"
   ],
   "metadata": {
    "collapsed": false
   }
  },
  {
   "cell_type": "code",
   "execution_count": null,
   "outputs": [],
   "source": [
    "# Filter data for men and women separately for easier handling\n",
    "men_data = gender_age_stats_per_year[gender_age_stats_per_year['actor_gender'] == 'M'].copy()\n",
    "women_data = gender_age_stats_per_year[gender_age_stats_per_year['actor_gender'] == 'F'].copy()\n",
    "\n",
    "# Calculate 95% confidence interval for men\n",
    "men_data['lower_bound'] = men_data['mean'] - 1.96 * men_data['sem']\n",
    "men_data['upper_bound'] = men_data['mean'] + 1.96 * men_data['sem']\n",
    "\n",
    "# Calculate 95% confidence interval for women\n",
    "women_data['lower_bound'] = women_data['mean'] - 1.96 * women_data['sem']\n",
    "women_data['upper_bound'] = women_data['mean'] + 1.96 * women_data['sem']\n",
    "\n",
    "# Plotting for men\n",
    "plt.figure(figsize=(10, 6))\n",
    "plt.plot(men_data['release_date'], men_data['mean'], label='Men Mean Age', color='skyblue')\n",
    "plt.fill_between(men_data['release_date'], men_data['lower_bound'], men_data['upper_bound'], alpha=0.3, color='skyblue')\n",
    "\n",
    "# Plotting for women\n",
    "plt.plot(women_data['release_date'], women_data['mean'], label='Women Mean Age', color='pink')\n",
    "plt.fill_between(women_data['release_date'], women_data['lower_bound'], women_data['upper_bound'], alpha=0.3, color='pink')\n",
    "plt.xlabel('Year')\n",
    "plt.ylabel('Average age of actors')\n",
    "plt.title('Average age of actors per year per gender with 95% Confidence Interval')\n",
    "plt.legend()\n",
    "plt.grid(True)\n",
    "plt.show()"
   ],
   "metadata": {
    "collapsed": false
   }
  },
  {
   "cell_type": "markdown",
   "source": [
    "Throughout the years, female actors are significantly younger than men at the 5% significance level.\n"
   ],
   "metadata": {
    "collapsed": false
   }
  },
  {
   "cell_type": "markdown",
   "source": [
    "**TO DO: MERGE WITH THE PERSONNAS TO ANALYSE**\n",
    "regarder les roles opposés (dumb blonde vs genius) et voir si plus représenté dans un genre + enlever les genre ou ça fait pas sens de comparer genre (e.g. films de guerre, documentaires... car ce sont des évènements historique donc on peut rien y faire))"
   ],
   "metadata": {
    "collapsed": false
   }
  },
  {
   "cell_type": "markdown",
   "source": [
    "## Personas Analysis"
   ],
   "metadata": {
    "collapsed": false
   }
  },
  {
   "cell_type": "markdown",
   "source": [
    "**What personnas are associated with movie characters interpreted by male and female actors? Are female characters (so female actors) mostly associated woth beauty, stupidity, weakness and sexualized and men mostly associated with heroism, adventure, strenght...?**"
   ],
   "metadata": {
    "collapsed": false
   }
  },
  {
   "cell_type": "code",
   "execution_count": null,
   "outputs": [],
   "source": [
    "# For the following analysis, drop all the characters that don't have personnas\n",
    "characters_data_personnas_noNA = characters_data.dropna(subset=['personnas']).copy()\n",
    "display(characters_data_personnas_noNA)"
   ],
   "metadata": {
    "collapsed": false
   }
  },
  {
   "cell_type": "markdown",
   "source": [
    "From the size of the datasets, we can see that one personnas has been dropped because there were no matches between the freebase_character_actor_mapID in the characters data.\n"
   ],
   "metadata": {
    "collapsed": false
   }
  },
  {
   "cell_type": "code",
   "execution_count": null,
   "outputs": [],
   "source": [
    "# Check values in the \"actor_gender\" column to make sure it is populated\n",
    "characters_data_personnas_noNA.loc[characters_data_personnas_noNA.actor_gender.isna(), \"actor_gender\"] = \"NA\"\n",
    "display(characters_data_personnas_noNA.groupby(\"actor_gender\").count().actor_name)"
   ],
   "metadata": {
    "collapsed": false
   }
  },
  {
   "cell_type": "markdown",
   "source": [
    "From this very simple line, we can already see that out of the 500 characters, only 69 are played by women, which is already a poor representation."
   ],
   "metadata": {
    "collapsed": false
   }
  },
  {
   "cell_type": "markdown",
   "source": [],
   "metadata": {
    "collapsed": false
   }
  },
  {
   "cell_type": "code",
   "execution_count": null,
   "outputs": [],
   "source": [
    "# split the dataframe in 2: one for males and one for women, which is easier for the subsequent analysis\n",
    "male_personnas_data = characters_data_personnas_noNA[characters_data_personnas_noNA['actor_gender'] == 'M'].copy()\n",
    "female_personnas_data = characters_data_personnas_noNA[characters_data_personnas_noNA['actor_gender'] == 'F'].copy()"
   ],
   "metadata": {
    "collapsed": false
   }
  },
  {
   "cell_type": "code",
   "execution_count": null,
   "outputs": [],
   "source": [
    "# print the female personnas with their number of occurance\n",
    "unique_female_personnas_counts = female_personnas_data[\"personnas\"].explode().value_counts()\n",
    "# Sort the unique_personnas_counts Series by the count in descending order\n",
    "sorted_female_personnas_counts = unique_female_personnas_counts.sort_values(ascending=False)\n",
    "sorted_female_personnas_counts"
   ],
   "metadata": {
    "collapsed": false
   }
  },
  {
   "cell_type": "code",
   "execution_count": null,
   "outputs": [],
   "source": [
    "# Do the same for men\n",
    "unique_male_personnas_counts = male_personnas_data[\"personnas\"].explode().value_counts()\n",
    "# Sort the unique_personnas_counts Series by the count in descending order\n",
    "sorted_male_personnas_counts = unique_male_personnas_counts.sort_values(ascending=False)\n",
    "print(sorted_male_personnas_counts.head(20))"
   ],
   "metadata": {
    "collapsed": false
   }
  },
  {
   "cell_type": "code",
   "execution_count": null,
   "outputs": [],
   "source": [
    "# Extract the index (unique 'personnas') from both DataFrames\n",
    "female_personnas = sorted_female_personnas_counts.index\n",
    "male_personnas = sorted_male_personnas_counts.index\n",
    "\n",
    "# Find the intersection between the two sets of 'personnas'\n",
    "common_personnas = set(female_personnas) & set(male_personnas)\n",
    "\n",
    "# Create a list of with the common personnas and their count in the male and female data\n",
    "common_personnas_data = [\n",
    "    {\n",
    "        'personna': personna,\n",
    "        'female_count': sorted_female_personnas_counts.get(personna, 0),\n",
    "        'male_count': sorted_male_personnas_counts.get(personna, 0),\n",
    "        'association_with_F_compared_to_M' : (sorted_female_personnas_counts.get(personna, 0)/len(female_personnas_data)) / (sorted_male_personnas_counts.get(personna, 0)/len(male_personnas_data))\n",
    "    }\n",
    "    for personna in common_personnas\n",
    "]\n",
    "\n",
    "# Create a DataFrame from the list of dictionaries\n",
    "common_personnas_df = pd.DataFrame(common_personnas_data)\n",
    "display(common_personnas_df)"
   ],
   "metadata": {
    "collapsed": false
   }
  },
  {
   "cell_type": "markdown",
   "source": [
    "This dataframe shows which personnas are common for male and female as well as the count of each gender. The last colomn normalizes the counts to be able to compare them between females and males (as there are 69 females vs 431 males). It is sticking how \"dumb_blond\" is more than 64 times more for associated with women than men. Overall, terms with a bad connotation (broken_bird, dumb_blonde, brainless_beauty or bully) are much more associated to women than men. However, it is important to remember that the analysis is made only on 500 characters.\n",
    "\n"
   ],
   "metadata": {
    "collapsed": false
   }
  }
 ],
 "metadata": {
  "kernelspec": {
   "display_name": "Python 3",
   "language": "python",
   "name": "python3"
  },
  "language_info": {
   "codemirror_mode": {
    "name": "ipython",
    "version": 2
   },
   "file_extension": ".py",
   "mimetype": "text/x-python",
   "name": "python",
   "nbconvert_exporter": "python",
   "pygments_lexer": "ipython2",
   "version": "2.7.6"
  }
 },
 "nbformat": 4,
 "nbformat_minor": 0
}
