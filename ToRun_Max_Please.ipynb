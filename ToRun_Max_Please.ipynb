{
 "cells": [
  {
   "cell_type": "code",
   "execution_count": 1,
   "id": "9d1fe2a5-416d-47b6-afa4-aa5a98ba9249",
   "metadata": {
    "tags": []
   },
   "outputs": [
    {
     "name": "stderr",
     "output_type": "stream",
     "text": [
      "//anaconda3/envs/ada/lib/python3.9/site-packages/fuzzywuzzy/fuzz.py:11: UserWarning: Using slow pure-python SequenceMatcher. Install python-Levenshtein to remove this warning\n",
      "  warnings.warn('Using slow pure-python SequenceMatcher. Install python-Levenshtein to remove this warning')\n"
     ]
    }
   ],
   "source": [
    "import nltk\n",
    "import pandas as pd\n",
    "from nltk.corpus import stopwords\n",
    "from tqdm import tqdm # Progress bar\n",
    "\n",
    "from fuzzywuzzy import process\n",
    "from nltk.tokenize import word_tokenize"
   ]
  },
  {
   "cell_type": "code",
   "execution_count": null,
   "id": "8fcd260b-25e6-4af2-ad9e-6db0b7656ddf",
   "metadata": {},
   "outputs": [],
   "source": [
    "output_characters_genders_context=pd.read_csv('DATA/output_characters_genders_context.csv')"
   ]
  },
  {
   "cell_type": "markdown",
   "id": "dfc8f1f4-b6b5-4007-ad6a-321f38e28d62",
   "metadata": {},
   "source": [
    "Modif initial fct to keep the id column for later merges "
   ]
  },
  {
   "cell_type": "code",
   "execution_count": 3,
   "id": "c3497bda-f543-47cc-b71f-18117a0d20fb",
   "metadata": {
    "tags": []
   },
   "outputs": [],
   "source": [
    "def extract_words(df, id_col, char_name_col, to_extract):\n",
    "    tokens = pd.Series()\n",
    "    tagged_tokens = []\n",
    "    chunks_array = []\n",
    "    verbs_list = []\n",
    "    adjs_list = []\n",
    "    nouns_list = []\n",
    "    stop_words = set(stopwords.words('english'))\n",
    "\n",
    "    # Create tqdm progress bar for the loop\n",
    "    for index, row in tqdm(df.iterrows(), total=len(df), desc=\"Processing Movies\"):\n",
    "        verbs = []\n",
    "        adjs = []\n",
    "        nouns = []\n",
    "        text = row[to_extract]\n",
    "        associated_w_text = row[char_name_col]\n",
    "        movie_id = row[id_col]\n",
    "        \n",
    "        if type(text) == str:  # To only keep movies with a summary (ignoring NaN)\n",
    "            token = [word for word in nltk.word_tokenize(text) if word.lower() not in stop_words]  # Removing stopwords\n",
    "            tokens[associated_w_text] = token\n",
    "            tagged_tokens.append((movie_id, associated_w_text, nltk.pos_tag(token)))\n",
    "\n",
    "    # Tqdm progress bar for the second loop\n",
    "    for movie_id, associated_w_text, tagged_token in tqdm(tagged_tokens, desc=\"Processing Tokens\", leave=False):\n",
    "        chunks_array.append((movie_id, associated_w_text, nltk.ne_chunk(tagged_token)))\n",
    "\n",
    "        verbs = []\n",
    "        adjs = []\n",
    "        nouns = []\n",
    "\n",
    "        # Categorize\n",
    "        for word, pos_tag in tagged_token:\n",
    "            if pos_tag in verb_tags:\n",
    "                verbs.append(word)\n",
    "            elif pos_tag in adj_tags:\n",
    "                adjs.append(word)\n",
    "            elif pos_tag in noun_tags:\n",
    "                nouns.append(word)\n",
    "\n",
    "        verbs_list.append((movie_id, associated_w_text, verbs))\n",
    "        adjs_list.append((movie_id, associated_w_text, adjs))\n",
    "        nouns_list.append((movie_id, associated_w_text, nouns))\n",
    "\n",
    "    # Returns lists of all verbs, adjectives, and nouns for each movie and raw chunks for each movie\n",
    "    return verbs_list, adjs_list, nouns_list, chunks_array"
   ]
  },
  {
   "cell_type": "code",
   "execution_count": null,
   "id": "7f4bd861-6ba2-4817-9be3-6eb0e0041778",
   "metadata": {},
   "outputs": [],
   "source": [
    "verbs, adjs, nouns, chunks = extract_words(output_characters_genders_context, \"IMDB_ID\", \"character_name\",\"associated_words\")"
   ]
  },
  {
   "cell_type": "code",
   "execution_count": null,
   "id": "b207a5ba-6a7e-4313-9c3f-cd0e4a2ceceb",
   "metadata": {},
   "outputs": [],
   "source": [
    "# Create DataFrames from the lists\n",
    "verbs_df = pd.DataFrame(verbs, columns=['IMDB_ID', 'character_name', 'Verbs'])\n",
    "adjs_df = pd.DataFrame(adjs, columns=['IMDB_ID', 'character_name', 'Adjectives'])\n",
    "nouns_df = pd.DataFrame(nouns, columns=['IMDB_ID', 'character_name', 'Nouns'])\n",
    "chunks_df = pd.DataFrame(chunks, columns=['IMDB_ID', 'character_name', 'Chunks'])"
   ]
  },
  {
   "cell_type": "code",
   "execution_count": null,
   "id": "e50af8cb-758d-40b7-b58d-76430218efb4",
   "metadata": {},
   "outputs": [],
   "source": [
    "# Merge DataFrames on 'IMDB_ID' and 'character_name'\n",
    "final_df = verbs_df.merge(adjs_df, on=['IMDB_ID', 'character_name']) \\\n",
    "                    .merge(nouns_df, on=['IMDB_ID', 'character_name']) \\\n",
    "                    .merge(chunks_df, on=['IMDB_ID', 'character_name'])"
   ]
  },
  {
   "cell_type": "code",
   "execution_count": null,
   "id": "3844eb29-89af-489b-aa8e-1d2580138195",
   "metadata": {},
   "outputs": [],
   "source": [
    "# to have the gender \n",
    "final_df = pd.merge(final_df, output_characters_genders_context[['IMDB_ID', 'character_name', 'gender']], on=['IMDB_ID', 'character_name'], how='left')"
   ]
  },
  {
   "cell_type": "markdown",
   "id": "d751c18f-d88d-4723-b382-f30e3ea0bde4",
   "metadata": {},
   "source": [
    "previous cell gives df with columns IMDB_ID\tcharacter_name\tVerbs\tAdjectives\tNouns\tChunks\tgender"
   ]
  },
  {
   "cell_type": "code",
   "execution_count": null,
   "id": "bcd2c931-00b9-4f45-9384-33de2a4afb01",
   "metadata": {},
   "outputs": [],
   "source": [
    "to_save_df = pd.merge(characters_data, final_df, on=['IMDB_ID', 'character_name'], how='left')"
   ]
  },
  {
   "cell_type": "code",
   "execution_count": null,
   "id": "d23170a1-b722-4d69-bbd2-13e6ec621c46",
   "metadata": {},
   "outputs": [],
   "source": [
    "to_save_df.to_csv('DATA/characters_personas_data.csv', index=False)"
   ]
  },
  {
   "cell_type": "markdown",
   "id": "f10e33ac-2601-479b-87ef-7a9b553ff075",
   "metadata": {},
   "source": [
    "### CA DEVRAIT MARCHER !!!"
   ]
  }
 ],
 "metadata": {
  "kernelspec": {
   "display_name": "Python [conda env:ada] *",
   "language": "python",
   "name": "conda-env-ada-py"
  },
  "language_info": {
   "codemirror_mode": {
    "name": "ipython",
    "version": 3
   },
   "file_extension": ".py",
   "mimetype": "text/x-python",
   "name": "python",
   "nbconvert_exporter": "python",
   "pygments_lexer": "ipython3",
   "version": "3.9.18"
  }
 },
 "nbformat": 4,
 "nbformat_minor": 5
}
