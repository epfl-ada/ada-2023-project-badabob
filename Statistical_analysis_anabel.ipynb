{
 "cells": [
  {
   "cell_type": "code",
   "execution_count": 1,
   "metadata": {
    "collapsed": true
   },
   "outputs": [
    {
     "name": "stderr",
     "output_type": "stream",
     "text": [
      "/Users/anabelsalazardorado/opt/anaconda3/envs/ada/lib/python3.9/site-packages/tqdm/auto.py:21: TqdmWarning: IProgress not found. Please update jupyter and ipywidgets. See https://ipywidgets.readthedocs.io/en/stable/user_install.html\n",
      "  from .autonotebook import tqdm as notebook_tqdm\n",
      "[nltk_data] Downloading package maxent_ne_chunker to\n",
      "[nltk_data]     /Users/anabelsalazardorado/nltk_data...\n",
      "[nltk_data]   Package maxent_ne_chunker is already up-to-date!\n",
      "[nltk_data] Downloading package words to\n",
      "[nltk_data]     /Users/anabelsalazardorado/nltk_data...\n",
      "[nltk_data]   Package words is already up-to-date!\n",
      "[nltk_data] Downloading package averaged_perceptron_tagger to\n",
      "[nltk_data]     /Users/anabelsalazardorado/nltk_data...\n",
      "[nltk_data]   Package averaged_perceptron_tagger is already up-to-\n",
      "[nltk_data]       date!\n",
      "[nltk_data] Downloading package stopwords to\n",
      "[nltk_data]     /Users/anabelsalazardorado/nltk_data...\n",
      "[nltk_data]   Package stopwords is already up-to-date!\n",
      "[nltk_data] Downloading package punkt to\n",
      "[nltk_data]     /Users/anabelsalazardorado/nltk_data...\n",
      "[nltk_data]   Package punkt is already up-to-date!\n"
     ]
    }
   ],
   "source": [
    "import pandas as pd\n",
    "%load_ext autoreload\n",
    "%autoreload 2\n",
    "from helpers import *\n",
    "data_folder = './DATA/'"
   ]
  },
  {
   "cell_type": "markdown",
   "source": [
    "## Table of Contents\n",
    "- [First Analysis of the character data](#section-6)\n",
    "    - [A) Analysis of actors' gender and age](#subsection-6.1)\n",
    "    - [B) Personas Analysis](#subsection-6.2)"
   ],
   "metadata": {
    "collapsed": false
   }
  },
  {
   "cell_type": "markdown",
   "source": [
    "# First Analysis of the character data\n",
    "<a id='section-6'></a>"
   ],
   "metadata": {
    "collapsed": false
   }
  },
  {
   "cell_type": "markdown",
   "source": [
    "## A) Analysis of actors' gender and age\n",
    "<a id='subsection-6.1'></a>"
   ],
   "metadata": {
    "collapsed": false
   }
  },
  {
   "cell_type": "markdown",
   "source": [
    "#### Proportion analysis\n",
    "**What's the proportion of female actors in movies per year?**\n",
    "We wonder if the proportion of female actors' increase over the years, which is what we would expect."
   ],
   "metadata": {
    "collapsed": false
   }
  },
  {
   "cell_type": "code",
   "execution_count": 2,
   "outputs": [
    {
     "name": "stderr",
     "output_type": "stream",
     "text": [
      "/var/folders/59/tl5brg352p5flp89qk_6vy_00000gn/T/ipykernel_1489/3013405229.py:1: DtypeWarning: Columns (2,3,5) have mixed types. Specify dtype option on import or set low_memory=False.\n",
      "  characters_data = pd.read_csv(data_folder+'characters_data.csv')\n"
     ]
    }
   ],
   "source": [
    "characters_data = pd.read_csv(data_folder+'characters_data.csv')\n",
    "#adding the decade for the movies (this should be moved in the data construction)\n",
    "movie_data_final = pd.read_csv(data_folder+'movie_data_final.csv')\n",
    "movie_data_final['decade'] = ((movie_data_final['release_date'].astype(int))//10)*10\n",
    "\n",
    "#doing the same for the characters\n",
    "#importing the final characters dataset\n",
    "final_characters = pd.read_pickle(data_folder+'final.pickle')\n",
    "#adding the decade for analyses (this should also be moved in the data construction)\n",
    "final_characters['decade'] = ((final_characters['release_date'].astype(int))//10)*10"
   ],
   "metadata": {
    "collapsed": false
   }
  },
  {
   "cell_type": "code",
   "execution_count": 18,
   "outputs": [
    {
     "data": {
      "application/vnd.plotly.v1+json": {
       "data": [
        {
         "marker": {
          "color": "hotpink"
         },
         "name": "Female actors",
         "x": [
          2000,
          1930,
          1990,
          1980,
          1910,
          1940,
          1970,
          1950,
          2010,
          1960,
          1920,
          2020
         ],
         "y": [
          0.3215686274509804,
          0.30761154855643047,
          0.2988460895256146,
          0.2809831525501962,
          0.2764921598381386,
          0.2798747063429914,
          0.2744298164287039,
          0.2874323966567074,
          0.3075182653782701,
          0.3214386478752133,
          0.36971092501063313,
          0.4045077105575326
         ],
         "type": "bar"
        },
        {
         "marker": {
          "color": "mediumturquoise"
         },
         "name": "Male actors",
         "x": [
          2000,
          1930,
          1990,
          1980,
          1910,
          1940,
          1970,
          1950,
          2010,
          1960,
          1920,
          2020
         ],
         "y": [
          0.6784313725490196,
          0.6923884514435695,
          0.7011539104743854,
          0.7190168474498038,
          0.7235078401618614,
          0.7201252936570086,
          0.7255701835712961,
          0.7125676033432926,
          0.6924817346217299,
          0.6785613521247866,
          0.6302890749893668,
          0.5954922894424675
         ],
         "type": "bar"
        }
       ],
       "layout": {
        "barmode": "stack",
        "title": {
         "text": "Proportion of Men vs Women in Movies per Decade"
        },
        "xaxis": {
         "title": {
          "text": "Decade"
         }
        },
        "yaxis": {
         "title": {
          "text": "Proportion of total actors"
         }
        },
        "template": {
         "data": {
          "histogram2dcontour": [
           {
            "type": "histogram2dcontour",
            "colorbar": {
             "outlinewidth": 0,
             "ticks": ""
            },
            "colorscale": [
             [
              0.0,
              "#0d0887"
             ],
             [
              0.1111111111111111,
              "#46039f"
             ],
             [
              0.2222222222222222,
              "#7201a8"
             ],
             [
              0.3333333333333333,
              "#9c179e"
             ],
             [
              0.4444444444444444,
              "#bd3786"
             ],
             [
              0.5555555555555556,
              "#d8576b"
             ],
             [
              0.6666666666666666,
              "#ed7953"
             ],
             [
              0.7777777777777778,
              "#fb9f3a"
             ],
             [
              0.8888888888888888,
              "#fdca26"
             ],
             [
              1.0,
              "#f0f921"
             ]
            ]
           }
          ],
          "choropleth": [
           {
            "type": "choropleth",
            "colorbar": {
             "outlinewidth": 0,
             "ticks": ""
            }
           }
          ],
          "histogram2d": [
           {
            "type": "histogram2d",
            "colorbar": {
             "outlinewidth": 0,
             "ticks": ""
            },
            "colorscale": [
             [
              0.0,
              "#0d0887"
             ],
             [
              0.1111111111111111,
              "#46039f"
             ],
             [
              0.2222222222222222,
              "#7201a8"
             ],
             [
              0.3333333333333333,
              "#9c179e"
             ],
             [
              0.4444444444444444,
              "#bd3786"
             ],
             [
              0.5555555555555556,
              "#d8576b"
             ],
             [
              0.6666666666666666,
              "#ed7953"
             ],
             [
              0.7777777777777778,
              "#fb9f3a"
             ],
             [
              0.8888888888888888,
              "#fdca26"
             ],
             [
              1.0,
              "#f0f921"
             ]
            ]
           }
          ],
          "heatmap": [
           {
            "type": "heatmap",
            "colorbar": {
             "outlinewidth": 0,
             "ticks": ""
            },
            "colorscale": [
             [
              0.0,
              "#0d0887"
             ],
             [
              0.1111111111111111,
              "#46039f"
             ],
             [
              0.2222222222222222,
              "#7201a8"
             ],
             [
              0.3333333333333333,
              "#9c179e"
             ],
             [
              0.4444444444444444,
              "#bd3786"
             ],
             [
              0.5555555555555556,
              "#d8576b"
             ],
             [
              0.6666666666666666,
              "#ed7953"
             ],
             [
              0.7777777777777778,
              "#fb9f3a"
             ],
             [
              0.8888888888888888,
              "#fdca26"
             ],
             [
              1.0,
              "#f0f921"
             ]
            ]
           }
          ],
          "heatmapgl": [
           {
            "type": "heatmapgl",
            "colorbar": {
             "outlinewidth": 0,
             "ticks": ""
            },
            "colorscale": [
             [
              0.0,
              "#0d0887"
             ],
             [
              0.1111111111111111,
              "#46039f"
             ],
             [
              0.2222222222222222,
              "#7201a8"
             ],
             [
              0.3333333333333333,
              "#9c179e"
             ],
             [
              0.4444444444444444,
              "#bd3786"
             ],
             [
              0.5555555555555556,
              "#d8576b"
             ],
             [
              0.6666666666666666,
              "#ed7953"
             ],
             [
              0.7777777777777778,
              "#fb9f3a"
             ],
             [
              0.8888888888888888,
              "#fdca26"
             ],
             [
              1.0,
              "#f0f921"
             ]
            ]
           }
          ],
          "contourcarpet": [
           {
            "type": "contourcarpet",
            "colorbar": {
             "outlinewidth": 0,
             "ticks": ""
            }
           }
          ],
          "contour": [
           {
            "type": "contour",
            "colorbar": {
             "outlinewidth": 0,
             "ticks": ""
            },
            "colorscale": [
             [
              0.0,
              "#0d0887"
             ],
             [
              0.1111111111111111,
              "#46039f"
             ],
             [
              0.2222222222222222,
              "#7201a8"
             ],
             [
              0.3333333333333333,
              "#9c179e"
             ],
             [
              0.4444444444444444,
              "#bd3786"
             ],
             [
              0.5555555555555556,
              "#d8576b"
             ],
             [
              0.6666666666666666,
              "#ed7953"
             ],
             [
              0.7777777777777778,
              "#fb9f3a"
             ],
             [
              0.8888888888888888,
              "#fdca26"
             ],
             [
              1.0,
              "#f0f921"
             ]
            ]
           }
          ],
          "surface": [
           {
            "type": "surface",
            "colorbar": {
             "outlinewidth": 0,
             "ticks": ""
            },
            "colorscale": [
             [
              0.0,
              "#0d0887"
             ],
             [
              0.1111111111111111,
              "#46039f"
             ],
             [
              0.2222222222222222,
              "#7201a8"
             ],
             [
              0.3333333333333333,
              "#9c179e"
             ],
             [
              0.4444444444444444,
              "#bd3786"
             ],
             [
              0.5555555555555556,
              "#d8576b"
             ],
             [
              0.6666666666666666,
              "#ed7953"
             ],
             [
              0.7777777777777778,
              "#fb9f3a"
             ],
             [
              0.8888888888888888,
              "#fdca26"
             ],
             [
              1.0,
              "#f0f921"
             ]
            ]
           }
          ],
          "mesh3d": [
           {
            "type": "mesh3d",
            "colorbar": {
             "outlinewidth": 0,
             "ticks": ""
            }
           }
          ],
          "scatter": [
           {
            "marker": {
             "line": {
              "color": "#283442"
             }
            },
            "type": "scatter"
           }
          ],
          "parcoords": [
           {
            "type": "parcoords",
            "line": {
             "colorbar": {
              "outlinewidth": 0,
              "ticks": ""
             }
            }
           }
          ],
          "scatterpolargl": [
           {
            "type": "scatterpolargl",
            "marker": {
             "colorbar": {
              "outlinewidth": 0,
              "ticks": ""
             }
            }
           }
          ],
          "bar": [
           {
            "error_x": {
             "color": "#f2f5fa"
            },
            "error_y": {
             "color": "#f2f5fa"
            },
            "marker": {
             "line": {
              "color": "rgb(17,17,17)",
              "width": 0.5
             },
             "pattern": {
              "fillmode": "overlay",
              "size": 10,
              "solidity": 0.2
             }
            },
            "type": "bar"
           }
          ],
          "scattergeo": [
           {
            "type": "scattergeo",
            "marker": {
             "colorbar": {
              "outlinewidth": 0,
              "ticks": ""
             }
            }
           }
          ],
          "scatterpolar": [
           {
            "type": "scatterpolar",
            "marker": {
             "colorbar": {
              "outlinewidth": 0,
              "ticks": ""
             }
            }
           }
          ],
          "histogram": [
           {
            "marker": {
             "pattern": {
              "fillmode": "overlay",
              "size": 10,
              "solidity": 0.2
             }
            },
            "type": "histogram"
           }
          ],
          "scattergl": [
           {
            "marker": {
             "line": {
              "color": "#283442"
             }
            },
            "type": "scattergl"
           }
          ],
          "scatter3d": [
           {
            "type": "scatter3d",
            "line": {
             "colorbar": {
              "outlinewidth": 0,
              "ticks": ""
             }
            },
            "marker": {
             "colorbar": {
              "outlinewidth": 0,
              "ticks": ""
             }
            }
           }
          ],
          "scattermapbox": [
           {
            "type": "scattermapbox",
            "marker": {
             "colorbar": {
              "outlinewidth": 0,
              "ticks": ""
             }
            }
           }
          ],
          "scatterternary": [
           {
            "type": "scatterternary",
            "marker": {
             "colorbar": {
              "outlinewidth": 0,
              "ticks": ""
             }
            }
           }
          ],
          "scattercarpet": [
           {
            "type": "scattercarpet",
            "marker": {
             "colorbar": {
              "outlinewidth": 0,
              "ticks": ""
             }
            }
           }
          ],
          "carpet": [
           {
            "aaxis": {
             "endlinecolor": "#A2B1C6",
             "gridcolor": "#506784",
             "linecolor": "#506784",
             "minorgridcolor": "#506784",
             "startlinecolor": "#A2B1C6"
            },
            "baxis": {
             "endlinecolor": "#A2B1C6",
             "gridcolor": "#506784",
             "linecolor": "#506784",
             "minorgridcolor": "#506784",
             "startlinecolor": "#A2B1C6"
            },
            "type": "carpet"
           }
          ],
          "table": [
           {
            "cells": {
             "fill": {
              "color": "#506784"
             },
             "line": {
              "color": "rgb(17,17,17)"
             }
            },
            "header": {
             "fill": {
              "color": "#2a3f5f"
             },
             "line": {
              "color": "rgb(17,17,17)"
             }
            },
            "type": "table"
           }
          ],
          "barpolar": [
           {
            "marker": {
             "line": {
              "color": "rgb(17,17,17)",
              "width": 0.5
             },
             "pattern": {
              "fillmode": "overlay",
              "size": 10,
              "solidity": 0.2
             }
            },
            "type": "barpolar"
           }
          ],
          "pie": [
           {
            "automargin": true,
            "type": "pie"
           }
          ]
         },
         "layout": {
          "autotypenumbers": "strict",
          "colorway": [
           "#636efa",
           "#EF553B",
           "#00cc96",
           "#ab63fa",
           "#FFA15A",
           "#19d3f3",
           "#FF6692",
           "#B6E880",
           "#FF97FF",
           "#FECB52"
          ],
          "font": {
           "color": "#f2f5fa"
          },
          "hovermode": "closest",
          "hoverlabel": {
           "align": "left"
          },
          "paper_bgcolor": "rgb(17,17,17)",
          "plot_bgcolor": "rgb(17,17,17)",
          "polar": {
           "bgcolor": "rgb(17,17,17)",
           "angularaxis": {
            "gridcolor": "#506784",
            "linecolor": "#506784",
            "ticks": ""
           },
           "radialaxis": {
            "gridcolor": "#506784",
            "linecolor": "#506784",
            "ticks": ""
           }
          },
          "ternary": {
           "bgcolor": "rgb(17,17,17)",
           "aaxis": {
            "gridcolor": "#506784",
            "linecolor": "#506784",
            "ticks": ""
           },
           "baxis": {
            "gridcolor": "#506784",
            "linecolor": "#506784",
            "ticks": ""
           },
           "caxis": {
            "gridcolor": "#506784",
            "linecolor": "#506784",
            "ticks": ""
           }
          },
          "coloraxis": {
           "colorbar": {
            "outlinewidth": 0,
            "ticks": ""
           }
          },
          "colorscale": {
           "sequential": [
            [
             0.0,
             "#0d0887"
            ],
            [
             0.1111111111111111,
             "#46039f"
            ],
            [
             0.2222222222222222,
             "#7201a8"
            ],
            [
             0.3333333333333333,
             "#9c179e"
            ],
            [
             0.4444444444444444,
             "#bd3786"
            ],
            [
             0.5555555555555556,
             "#d8576b"
            ],
            [
             0.6666666666666666,
             "#ed7953"
            ],
            [
             0.7777777777777778,
             "#fb9f3a"
            ],
            [
             0.8888888888888888,
             "#fdca26"
            ],
            [
             1.0,
             "#f0f921"
            ]
           ],
           "sequentialminus": [
            [
             0.0,
             "#0d0887"
            ],
            [
             0.1111111111111111,
             "#46039f"
            ],
            [
             0.2222222222222222,
             "#7201a8"
            ],
            [
             0.3333333333333333,
             "#9c179e"
            ],
            [
             0.4444444444444444,
             "#bd3786"
            ],
            [
             0.5555555555555556,
             "#d8576b"
            ],
            [
             0.6666666666666666,
             "#ed7953"
            ],
            [
             0.7777777777777778,
             "#fb9f3a"
            ],
            [
             0.8888888888888888,
             "#fdca26"
            ],
            [
             1.0,
             "#f0f921"
            ]
           ],
           "diverging": [
            [
             0,
             "#8e0152"
            ],
            [
             0.1,
             "#c51b7d"
            ],
            [
             0.2,
             "#de77ae"
            ],
            [
             0.3,
             "#f1b6da"
            ],
            [
             0.4,
             "#fde0ef"
            ],
            [
             0.5,
             "#f7f7f7"
            ],
            [
             0.6,
             "#e6f5d0"
            ],
            [
             0.7,
             "#b8e186"
            ],
            [
             0.8,
             "#7fbc41"
            ],
            [
             0.9,
             "#4d9221"
            ],
            [
             1,
             "#276419"
            ]
           ]
          },
          "xaxis": {
           "gridcolor": "#283442",
           "linecolor": "#506784",
           "ticks": "",
           "title": {
            "standoff": 15
           },
           "zerolinecolor": "#283442",
           "automargin": true,
           "zerolinewidth": 2
          },
          "yaxis": {
           "gridcolor": "#283442",
           "linecolor": "#506784",
           "ticks": "",
           "title": {
            "standoff": 15
           },
           "zerolinecolor": "#283442",
           "automargin": true,
           "zerolinewidth": 2
          },
          "scene": {
           "xaxis": {
            "backgroundcolor": "rgb(17,17,17)",
            "gridcolor": "#506784",
            "linecolor": "#506784",
            "showbackground": true,
            "ticks": "",
            "zerolinecolor": "#C8D4E3",
            "gridwidth": 2
           },
           "yaxis": {
            "backgroundcolor": "rgb(17,17,17)",
            "gridcolor": "#506784",
            "linecolor": "#506784",
            "showbackground": true,
            "ticks": "",
            "zerolinecolor": "#C8D4E3",
            "gridwidth": 2
           },
           "zaxis": {
            "backgroundcolor": "rgb(17,17,17)",
            "gridcolor": "#506784",
            "linecolor": "#506784",
            "showbackground": true,
            "ticks": "",
            "zerolinecolor": "#C8D4E3",
            "gridwidth": 2
           }
          },
          "shapedefaults": {
           "line": {
            "color": "#f2f5fa"
           }
          },
          "annotationdefaults": {
           "arrowcolor": "#f2f5fa",
           "arrowhead": 0,
           "arrowwidth": 1
          },
          "geo": {
           "bgcolor": "rgb(17,17,17)",
           "landcolor": "rgb(17,17,17)",
           "subunitcolor": "#506784",
           "showland": true,
           "showlakes": true,
           "lakecolor": "rgb(17,17,17)"
          },
          "title": {
           "x": 0.05
          },
          "updatemenudefaults": {
           "bgcolor": "#506784",
           "borderwidth": 0
          },
          "sliderdefaults": {
           "bgcolor": "#C8D4E3",
           "borderwidth": 1,
           "bordercolor": "rgb(17,17,17)",
           "tickwidth": 0
          },
          "mapbox": {
           "style": "dark"
          }
         }
        }
       },
       "config": {
        "plotlyServerURL": "https://plot.ly"
       }
      }
     },
     "metadata": {},
     "output_type": "display_data"
    }
   ],
   "source": [
    "import plotly.graph_objects as go\n",
    "import plotly.io as pio\n",
    "pio.renderers.default = 'jupyterlab'\n",
    "\n",
    "# interactive plot with plotly:\n",
    "final_characters_grouped_by_decade = final_characters.groupby(final_characters['decade'])\n",
    "\n",
    "# Sample data (replace this with your actual data)\n",
    "decades = final_characters['decade'].unique()\n",
    "proportion_female = final_characters_grouped_by_decade['actor_gender'].apply(lambda x: (x == 'F').sum() / len(x))\n",
    "proportion_male = 1 - proportion_female\n",
    "\n",
    "# Create a DataFrame\n",
    "data = pd.DataFrame({\n",
    "    'Decade': decades,\n",
    "    'Male': proportion_male,\n",
    "    'Female': proportion_female\n",
    "})\n",
    "\n",
    "# Create traces for male and female bars\n",
    "trace_male = go.Bar(x=data['Decade'], y=data['Male'], name='Male actors', marker=dict(color='mediumturquoise'))\n",
    "trace_female = go.Bar(x=data['Decade'], y=data['Female'], name='Female actors', marker=dict(color='hotpink'))\n",
    "\n",
    "# Create layout\n",
    "layout = go.Layout(\n",
    "    title='Proportion of Men vs Women in Movies per Decade',\n",
    "    xaxis=dict(title='Decade'),\n",
    "    yaxis=dict(title='Proportion of total actors'),\n",
    "    barmode='stack'\n",
    ")\n",
    "\n",
    "# Create figure\n",
    "fig = go.Figure(data=[trace_female, trace_male], layout=layout)\n",
    "\n",
    "# Show the interactive plot\n",
    "fig.show()"
   ],
   "metadata": {
    "collapsed": false
   }
  },
  {
   "cell_type": "markdown",
   "source": [
    "Interestingly, the proportion of women over the decades stayed fairly constant, graphically, between 30% and 40%. This contrasts with what we expected as we would think that women representation would get better over the years. Nonetheless, it seems that the proportion of female actors has started to slowly but steadily increase since the 70s. In order to look at this increase we are going to fit a regression line starting in 1970 to model this rise. This will also allow us to estimate when, according to this trend-line, the parity will be reached."
   ],
   "metadata": {
    "collapsed": false
   }
  },
  {
   "cell_type": "code",
   "execution_count": 19,
   "outputs": [
    {
     "name": "stderr",
     "output_type": "stream",
     "text": [
      "/Users/anabelsalazardorado/opt/anaconda3/envs/ada/lib/python3.9/site-packages/seaborn/axisgrid.py:118: UserWarning:\n",
      "\n",
      "The figure layout has changed to tight\n",
      "\n",
      "/Users/anabelsalazardorado/opt/anaconda3/envs/ada/lib/python3.9/site-packages/statsmodels/stats/stattools.py:74: ValueWarning:\n",
      "\n",
      "omni_normtest is not valid with less than 8 observations; 6 samples were given.\n",
      "\n"
     ]
    },
    {
     "name": "stdout",
     "output_type": "stream",
     "text": [
      "                            OLS Regression Results                            \n",
      "==============================================================================\n",
      "Dep. Variable:             proportion   R-squared:                       0.944\n",
      "Model:                            OLS   Adj. R-squared:                  0.929\n",
      "Method:                 Least Squares   F-statistic:                     66.81\n",
      "Date:                Fri, 15 Dec 2023   Prob (F-statistic):            0.00122\n",
      "Time:                        09:04:02   Log-Likelihood:                 18.612\n",
      "No. Observations:                   6   AIC:                            -33.22\n",
      "Df Residuals:                       4   BIC:                            -33.64\n",
      "Df Model:                           1                                         \n",
      "Covariance Type:            nonrobust                                         \n",
      "==============================================================================\n",
      "                 coef    std err          t      P>|t|      [0.025      0.975]\n",
      "------------------------------------------------------------------------------\n",
      "const         -4.8660      0.635     -7.658      0.002      -6.630      -3.102\n",
      "decade         0.0026      0.000      8.174      0.001       0.002       0.003\n",
      "==============================================================================\n",
      "Omnibus:                          nan   Durbin-Watson:                   1.300\n",
      "Prob(Omnibus):                    nan   Jarque-Bera (JB):                0.451\n",
      "Skew:                          -0.497   Prob(JB):                        0.798\n",
      "Kurtosis:                       2.095   Cond. No.                     2.33e+05\n",
      "==============================================================================\n",
      "\n",
      "Notes:\n",
      "[1] Standard Errors assume that the covariance matrix of the errors is correctly specified.\n",
      "[2] The condition number is large, 2.33e+05. This might indicate that there are\n",
      "strong multicollinearity or other numerical problems.\n"
     ]
    },
    {
     "data": {
      "text/plain": "<Figure size 500x500 with 1 Axes>",
      "image/png": "[encoded data removed]"
     },
     "metadata": {},
     "output_type": "display_data"
    }
   ],
   "source": [
    "import statsmodels.api as sm\n",
    "proportions_female_per_decade = pd.DataFrame()\n",
    "proportions_female_per_decade['decade'] = proportion_female.index\n",
    "proportions_female_per_decade['proportion'] = proportion_female.values\n",
    "\n",
    "proportion_female_after1970 = proportions_female_per_decade[proportions_female_per_decade['decade']>=1970]\n",
    "sns.lmplot(proportion_female_after1970, x='decade', y='proportion')\n",
    "\n",
    "# Fit the linear model using statsmodels\n",
    "X = sm.add_constant(proportion_female_after1970['decade'])\n",
    "y = proportion_female_after1970['proportion']\n",
    "model = sm.OLS(y, X).fit()\n",
    "\n",
    "# Print the summary of the linear model\n",
    "print(model.summary())\n",
    "\n",
    "# Show the plot\n",
    "plt.show()"
   ],
   "metadata": {
    "collapsed": false
   }
  },
  {
   "cell_type": "markdown",
   "source": [
    "We see that starting in 1970 there is a small but significant increase (p-value:0.001 and $R^2$: 0.944) per decade: per decade there is a 0.026 increase (0.0026 per year). We decided to only start this regression in 1970 as before that the proportion of women was actually decreasing (see scatter plot) before that, but we’re only interested in the upward trend we have been seeing for the past 50 years. From this it is interesting to predict, when, according to this regression 50-50 representation would occur. We know the intercept (-4.8660) and the slope (0.0026 per year). To find when the 0.5 proportion will be reached we simply need to solve the equation 0.5 = 0.0026x - 4.8660."
   ],
   "metadata": {
    "collapsed": false
   }
  },
  {
   "cell_type": "code",
   "execution_count": 20,
   "outputs": [
    {
     "data": {
      "text/plain": "2063.846153846154"
     },
     "execution_count": 20,
     "metadata": {},
     "output_type": "execute_result"
    }
   ],
   "source": [
    "x_fifty_fifty = (0.5+4.8660)/0.0026\n",
    "x_fifty_fifty"
   ],
   "metadata": {
    "collapsed": false
   }
  },
  {
   "cell_type": "markdown",
   "source": [
    "We see that fifty-fifty men and women representation should theoretically be reached in 2064. One limitation of our analysis, is that of course if we follow the trend-line there would be a point in which there would be a 100% of women representation which is not very realistic in Hollywood."
   ],
   "metadata": {
    "collapsed": false
   }
  },
  {
   "cell_type": "markdown",
   "source": [
    "Nevertheless, this result doesn't mean that each movie has approximately 30-40% of women in their actors cast. This result might be biased by movies that have an extremely low/high proportion of women versus movies that have a balanced actors cast. To determine if that is the case, let's plot the proportion of movies per year that have 0-25% actresses, 25-50%, 50-75% or 75-100% actresses. Are female actors represented equally in every movies or is there a discrepancy between movies released in the same year?"
   ],
   "metadata": {
    "collapsed": false
   }
  },
  {
   "cell_type": "code",
   "execution_count": 21,
   "outputs": [],
   "source": [
    "# number of movies per year\n",
    "number_movies_per_decade_character = final_characters_grouped_by_decade.size()\n",
    "\n",
    "# group by decade and by movie\n",
    "characters_grouped_by_decade_and_movie = final_characters.groupby(['decade', 'name'])\n",
    "\n",
    "# Calculate the proportion of men and women per year per movie\n",
    "proportion_female_per_movie = \\\n",
    "    characters_grouped_by_decade_and_movie['actor_gender'].apply(lambda x: (x == 'F').sum() / len(x))\n",
    "proportion_male_per_movie = 1 - proportion_female_per_movie\n",
    "\n",
    "# Convert the Series to a DataFrame for easier data handling in later analysis\n",
    "female_proportions = proportion_female_per_movie.reset_index()\n",
    "\n",
    "# Rename the columns if needed\n",
    "female_proportions.columns = ['decade', 'name', 'proportion_female']"
   ],
   "metadata": {
    "collapsed": false
   }
  },
  {
   "cell_type": "code",
   "execution_count": 22,
   "outputs": [],
   "source": [
    "#Lists to store in which category each movie belongs to per year\n",
    "below_25_per_decade = []\n",
    "quarter_50_per_decade = []\n",
    "half_75_per_decade = []\n",
    "above_75_per_decade = []\n",
    "\n",
    "# Iterate through each year in the index of female_proportions\n",
    "for decade, proportions in female_proportions.groupby('decade'):\n",
    "    # Count movies in different categories for the current decade\n",
    "    below_25 = len(proportions[proportions['proportion_female'] <= 0.25])\n",
    "    quarter_50 = len(proportions[(proportions['proportion_female'] > 0.25) &\n",
    "                                 (proportions['proportion_female'] <= 0.5)])\n",
    "    half_75 = len(proportions[(proportions['proportion_female'] > 0.5) &\n",
    "                              (proportions['proportion_female'] <= 0.75)])\n",
    "    above_75 = len(proportions[proportions['proportion_female'] > 0.75])\n",
    "\n",
    "    # Calculate proportions for each category\n",
    "    total_movies = len(proportions)\n",
    "    proportion_below_25 = below_25 / total_movies\n",
    "    proportion_quarter_50 = quarter_50 / total_movies\n",
    "    proportion_half_75 = half_75 / total_movies\n",
    "    proportion_above_75 = above_75 / total_movies\n",
    "\n",
    "    # Append proportions to respective lists\n",
    "    below_25_per_decade.append(proportion_below_25)\n",
    "    quarter_50_per_decade.append(proportion_quarter_50)\n",
    "    half_75_per_decade.append(proportion_half_75)\n",
    "    above_75_per_decade.append(proportion_above_75)"
   ],
   "metadata": {
    "collapsed": false
   }
  },
  {
   "cell_type": "code",
   "execution_count": 23,
   "outputs": [
    {
     "data": {
      "application/vnd.plotly.v1+json": {
       "data": [
        {
         "mode": "lines",
         "name": "Below 25%",
         "stackgroup": "one",
         "x": [
          1910,
          1920,
          1930,
          1940,
          1950,
          1960,
          1970,
          1980,
          1990,
          2000,
          2010,
          2020
         ],
         "y": [
          0.4069419509275883,
          0.4700460829493088,
          0.4867524602573808,
          0.5568226504128981,
          0.559612846458425,
          0.536241180243746,
          0.543694400837258,
          0.48513077749910427,
          0.43768115942028984,
          0.4168168168168168,
          0.44875549048316254,
          0.42900195000886365
         ],
         "type": "scatter"
        },
        {
         "mode": "lines",
         "name": "25-50%",
         "stackgroup": "one",
         "x": [
          1910,
          1920,
          1930,
          1940,
          1950,
          1960,
          1970,
          1980,
          1990,
          2000,
          2010,
          2020
         ],
         "y": [
          0.509275882704967,
          0.45687952600395,
          0.42657077971233914,
          0.380652772316162,
          0.38319401671799386,
          0.38293778062860806,
          0.3683935112506541,
          0.4392690791830885,
          0.4557971014492754,
          0.46006006006006006,
          0.37929071091589395,
          0.3580925367842581
         ],
         "type": "scatter"
        },
        {
         "mode": "lines",
         "name": "50-75%",
         "stackgroup": "one",
         "x": [
          1910,
          1920,
          1930,
          1940,
          1950,
          1960,
          1970,
          1980,
          1990,
          2000,
          2010,
          2020
         ],
         "y": [
          0.07719928186714542,
          0.06780776826859776,
          0.06813020439061317,
          0.055053086905230045,
          0.052353717553893536,
          0.06799230275817832,
          0.07378335949764521,
          0.06413471873880329,
          0.09033816425120773,
          0.1039039039039039,
          0.12843663575727998,
          0.1529870590320865
         ],
         "type": "scatter"
        },
        {
         "mode": "lines",
         "name": "Above 75%",
         "stackgroup": "one",
         "x": [
          1910,
          1920,
          1930,
          1940,
          1950,
          1960,
          1970,
          1980,
          1990,
          2000,
          2010,
          2020
         ],
         "y": [
          0.006582884500299222,
          0.005266622778143515,
          0.01854655563966692,
          0.007471490365709791,
          0.004839419269687638,
          0.012828736369467608,
          0.0141287284144427,
          0.01146542457900394,
          0.01618357487922705,
          0.01921921921921922,
          0.043517162843663575,
          0.059918454174791705
         ],
         "type": "scatter"
        }
       ],
       "layout": {
        "legend": {
         "orientation": "v",
         "traceorder": "normal",
         "x": 1.05,
         "y": 1
        },
        "title": {
         "text": "Proportion of Movies with Different Percentages of Female Actors"
        },
        "xaxis": {
         "title": {
          "text": "Decade"
         }
        },
        "yaxis": {
         "title": {
          "text": "Proportion of movies in a given decade"
         }
        },
        "template": {
         "data": {
          "histogram2dcontour": [
           {
            "type": "histogram2dcontour",
            "colorbar": {
             "outlinewidth": 0,
             "ticks": ""
            },
            "colorscale": [
             [
              0.0,
              "#0d0887"
             ],
             [
              0.1111111111111111,
              "#46039f"
             ],
             [
              0.2222222222222222,
              "#7201a8"
             ],
             [
              0.3333333333333333,
              "#9c179e"
             ],
             [
              0.4444444444444444,
              "#bd3786"
             ],
             [
              0.5555555555555556,
              "#d8576b"
             ],
             [
              0.6666666666666666,
              "#ed7953"
             ],
             [
              0.7777777777777778,
              "#fb9f3a"
             ],
             [
              0.8888888888888888,
              "#fdca26"
             ],
             [
              1.0,
              "#f0f921"
             ]
            ]
           }
          ],
          "choropleth": [
           {
            "type": "choropleth",
            "colorbar": {
             "outlinewidth": 0,
             "ticks": ""
            }
           }
          ],
          "histogram2d": [
           {
            "type": "histogram2d",
            "colorbar": {
             "outlinewidth": 0,
             "ticks": ""
            },
            "colorscale": [
             [
              0.0,
              "#0d0887"
             ],
             [
              0.1111111111111111,
              "#46039f"
             ],
             [
              0.2222222222222222,
              "#7201a8"
             ],
             [
              0.3333333333333333,
              "#9c179e"
             ],
             [
              0.4444444444444444,
              "#bd3786"
             ],
             [
              0.5555555555555556,
              "#d8576b"
             ],
             [
              0.6666666666666666,
              "#ed7953"
             ],
             [
              0.7777777777777778,
              "#fb9f3a"
             ],
             [
              0.8888888888888888,
              "#fdca26"
             ],
             [
              1.0,
              "#f0f921"
             ]
            ]
           }
          ],
          "heatmap": [
           {
            "type": "heatmap",
            "colorbar": {
             "outlinewidth": 0,
             "ticks": ""
            },
            "colorscale": [
             [
              0.0,
              "#0d0887"
             ],
             [
              0.1111111111111111,
              "#46039f"
             ],
             [
              0.2222222222222222,
              "#7201a8"
             ],
             [
              0.3333333333333333,
              "#9c179e"
             ],
             [
              0.4444444444444444,
              "#bd3786"
             ],
             [
              0.5555555555555556,
              "#d8576b"
             ],
             [
              0.6666666666666666,
              "#ed7953"
             ],
             [
              0.7777777777777778,
              "#fb9f3a"
             ],
             [
              0.8888888888888888,
              "#fdca26"
             ],
             [
              1.0,
              "#f0f921"
             ]
            ]
           }
          ],
          "heatmapgl": [
           {
            "type": "heatmapgl",
            "colorbar": {
             "outlinewidth": 0,
             "ticks": ""
            },
            "colorscale": [
             [
              0.0,
              "#0d0887"
             ],
             [
              0.1111111111111111,
              "#46039f"
             ],
             [
              0.2222222222222222,
              "#7201a8"
             ],
             [
              0.3333333333333333,
              "#9c179e"
             ],
             [
              0.4444444444444444,
              "#bd3786"
             ],
             [
              0.5555555555555556,
              "#d8576b"
             ],
             [
              0.6666666666666666,
              "#ed7953"
             ],
             [
              0.7777777777777778,
              "#fb9f3a"
             ],
             [
              0.8888888888888888,
              "#fdca26"
             ],
             [
              1.0,
              "#f0f921"
             ]
            ]
           }
          ],
          "contourcarpet": [
           {
            "type": "contourcarpet",
            "colorbar": {
             "outlinewidth": 0,
             "ticks": ""
            }
           }
          ],
          "contour": [
           {
            "type": "contour",
            "colorbar": {
             "outlinewidth": 0,
             "ticks": ""
            },
            "colorscale": [
             [
              0.0,
              "#0d0887"
             ],
             [
              0.1111111111111111,
              "#46039f"
             ],
             [
              0.2222222222222222,
              "#7201a8"
             ],
             [
              0.3333333333333333,
              "#9c179e"
             ],
             [
              0.4444444444444444,
              "#bd3786"
             ],
             [
              0.5555555555555556,
              "#d8576b"
             ],
             [
              0.6666666666666666,
              "#ed7953"
             ],
             [
              0.7777777777777778,
              "#fb9f3a"
             ],
             [
              0.8888888888888888,
              "#fdca26"
             ],
             [
              1.0,
              "#f0f921"
             ]
            ]
           }
          ],
          "surface": [
           {
            "type": "surface",
            "colorbar": {
             "outlinewidth": 0,
             "ticks": ""
            },
            "colorscale": [
             [
              0.0,
              "#0d0887"
             ],
             [
              0.1111111111111111,
              "#46039f"
             ],
             [
              0.2222222222222222,
              "#7201a8"
             ],
             [
              0.3333333333333333,
              "#9c179e"
             ],
             [
              0.4444444444444444,
              "#bd3786"
             ],
             [
              0.5555555555555556,
              "#d8576b"
             ],
             [
              0.6666666666666666,
              "#ed7953"
             ],
             [
              0.7777777777777778,
              "#fb9f3a"
             ],
             [
              0.8888888888888888,
              "#fdca26"
             ],
             [
              1.0,
              "#f0f921"
             ]
            ]
           }
          ],
          "mesh3d": [
           {
            "type": "mesh3d",
            "colorbar": {
             "outlinewidth": 0,
             "ticks": ""
            }
           }
          ],
          "scatter": [
           {
            "marker": {
             "line": {
              "color": "#283442"
             }
            },
            "type": "scatter"
           }
          ],
          "parcoords": [
           {
            "type": "parcoords",
            "line": {
             "colorbar": {
              "outlinewidth": 0,
              "ticks": ""
             }
            }
           }
          ],
          "scatterpolargl": [
           {
            "type": "scatterpolargl",
            "marker": {
             "colorbar": {
              "outlinewidth": 0,
              "ticks": ""
             }
            }
           }
          ],
          "bar": [
           {
            "error_x": {
             "color": "#f2f5fa"
            },
            "error_y": {
             "color": "#f2f5fa"
            },
            "marker": {
             "line": {
              "color": "rgb(17,17,17)",
              "width": 0.5
             },
             "pattern": {
              "fillmode": "overlay",
              "size": 10,
              "solidity": 0.2
             }
            },
            "type": "bar"
           }
          ],
          "scattergeo": [
           {
            "type": "scattergeo",
            "marker": {
             "colorbar": {
              "outlinewidth": 0,
              "ticks": ""
             }
            }
           }
          ],
          "scatterpolar": [
           {
            "type": "scatterpolar",
            "marker": {
             "colorbar": {
              "outlinewidth": 0,
              "ticks": ""
             }
            }
           }
          ],
          "histogram": [
           {
            "marker": {
             "pattern": {
              "fillmode": "overlay",
              "size": 10,
              "solidity": 0.2
             }
            },
            "type": "histogram"
           }
          ],
          "scattergl": [
           {
            "marker": {
             "line": {
              "color": "#283442"
             }
            },
            "type": "scattergl"
           }
          ],
          "scatter3d": [
           {
            "type": "scatter3d",
            "line": {
             "colorbar": {
              "outlinewidth": 0,
              "ticks": ""
             }
            },
            "marker": {
             "colorbar": {
              "outlinewidth": 0,
              "ticks": ""
             }
            }
           }
          ],
          "scattermapbox": [
           {
            "type": "scattermapbox",
            "marker": {
             "colorbar": {
              "outlinewidth": 0,
              "ticks": ""
             }
            }
           }
          ],
          "scatterternary": [
           {
            "type": "scatterternary",
            "marker": {
             "colorbar": {
              "outlinewidth": 0,
              "ticks": ""
             }
            }
           }
          ],
          "scattercarpet": [
           {
            "type": "scattercarpet",
            "marker": {
             "colorbar": {
              "outlinewidth": 0,
              "ticks": ""
             }
            }
           }
          ],
          "carpet": [
           {
            "aaxis": {
             "endlinecolor": "#A2B1C6",
             "gridcolor": "#506784",
             "linecolor": "#506784",
             "minorgridcolor": "#506784",
             "startlinecolor": "#A2B1C6"
            },
            "baxis": {
             "endlinecolor": "#A2B1C6",
             "gridcolor": "#506784",
             "linecolor": "#506784",
             "minorgridcolor": "#506784",
             "startlinecolor": "#A2B1C6"
            },
            "type": "carpet"
           }
          ],
          "table": [
           {
            "cells": {
             "fill": {
              "color": "#506784"
             },
             "line": {
              "color": "rgb(17,17,17)"
             }
            },
            "header": {
             "fill": {
              "color": "#2a3f5f"
             },
             "line": {
              "color": "rgb(17,17,17)"
             }
            },
            "type": "table"
           }
          ],
          "barpolar": [
           {
            "marker": {
             "line": {
              "color": "rgb(17,17,17)",
              "width": 0.5
             },
             "pattern": {
              "fillmode": "overlay",
              "size": 10,
              "solidity": 0.2
             }
            },
            "type": "barpolar"
           }
          ],
          "pie": [
           {
            "automargin": true,
            "type": "pie"
           }
          ]
         },
         "layout": {
          "autotypenumbers": "strict",
          "colorway": [
           "#636efa",
           "#EF553B",
           "#00cc96",
           "#ab63fa",
           "#FFA15A",
           "#19d3f3",
           "#FF6692",
           "#B6E880",
           "#FF97FF",
           "#FECB52"
          ],
          "font": {
           "color": "#f2f5fa"
          },
          "hovermode": "closest",
          "hoverlabel": {
           "align": "left"
          },
          "paper_bgcolor": "rgb(17,17,17)",
          "plot_bgcolor": "rgb(17,17,17)",
          "polar": {
           "bgcolor": "rgb(17,17,17)",
           "angularaxis": {
            "gridcolor": "#506784",
            "linecolor": "#506784",
            "ticks": ""
           },
           "radialaxis": {
            "gridcolor": "#506784",
            "linecolor": "#506784",
            "ticks": ""
           }
          },
          "ternary": {
           "bgcolor": "rgb(17,17,17)",
           "aaxis": {
            "gridcolor": "#506784",
            "linecolor": "#506784",
            "ticks": ""
           },
           "baxis": {
            "gridcolor": "#506784",
            "linecolor": "#506784",
            "ticks": ""
           },
           "caxis": {
            "gridcolor": "#506784",
            "linecolor": "#506784",
            "ticks": ""
           }
          },
          "coloraxis": {
           "colorbar": {
            "outlinewidth": 0,
            "ticks": ""
           }
          },
          "colorscale": {
           "sequential": [
            [
             0.0,
             "#0d0887"
            ],
            [
             0.1111111111111111,
             "#46039f"
            ],
            [
             0.2222222222222222,
             "#7201a8"
            ],
            [
             0.3333333333333333,
             "#9c179e"
            ],
            [
             0.4444444444444444,
             "#bd3786"
            ],
            [
             0.5555555555555556,
             "#d8576b"
            ],
            [
             0.6666666666666666,
             "#ed7953"
            ],
            [
             0.7777777777777778,
             "#fb9f3a"
            ],
            [
             0.8888888888888888,
             "#fdca26"
            ],
            [
             1.0,
             "#f0f921"
            ]
           ],
           "sequentialminus": [
            [
             0.0,
             "#0d0887"
            ],
            [
             0.1111111111111111,
             "#46039f"
            ],
            [
             0.2222222222222222,
             "#7201a8"
            ],
            [
             0.3333333333333333,
             "#9c179e"
            ],
            [
             0.4444444444444444,
             "#bd3786"
            ],
            [
             0.5555555555555556,
             "#d8576b"
            ],
            [
             0.6666666666666666,
             "#ed7953"
            ],
            [
             0.7777777777777778,
             "#fb9f3a"
            ],
            [
             0.8888888888888888,
             "#fdca26"
            ],
            [
             1.0,
             "#f0f921"
            ]
           ],
           "diverging": [
            [
             0,
             "#8e0152"
            ],
            [
             0.1,
             "#c51b7d"
            ],
            [
             0.2,
             "#de77ae"
            ],
            [
             0.3,
             "#f1b6da"
            ],
            [
             0.4,
             "#fde0ef"
            ],
            [
             0.5,
             "#f7f7f7"
            ],
            [
             0.6,
             "#e6f5d0"
            ],
            [
             0.7,
             "#b8e186"
            ],
            [
             0.8,
             "#7fbc41"
            ],
            [
             0.9,
             "#4d9221"
            ],
            [
             1,
             "#276419"
            ]
           ]
          },
          "xaxis": {
           "gridcolor": "#283442",
           "linecolor": "#506784",
           "ticks": "",
           "title": {
            "standoff": 15
           },
           "zerolinecolor": "#283442",
           "automargin": true,
           "zerolinewidth": 2
          },
          "yaxis": {
           "gridcolor": "#283442",
           "linecolor": "#506784",
           "ticks": "",
           "title": {
            "standoff": 15
           },
           "zerolinecolor": "#283442",
           "automargin": true,
           "zerolinewidth": 2
          },
          "scene": {
           "xaxis": {
            "backgroundcolor": "rgb(17,17,17)",
            "gridcolor": "#506784",
            "linecolor": "#506784",
            "showbackground": true,
            "ticks": "",
            "zerolinecolor": "#C8D4E3",
            "gridwidth": 2
           },
           "yaxis": {
            "backgroundcolor": "rgb(17,17,17)",
            "gridcolor": "#506784",
            "linecolor": "#506784",
            "showbackground": true,
            "ticks": "",
            "zerolinecolor": "#C8D4E3",
            "gridwidth": 2
           },
           "zaxis": {
            "backgroundcolor": "rgb(17,17,17)",
            "gridcolor": "#506784",
            "linecolor": "#506784",
            "showbackground": true,
            "ticks": "",
            "zerolinecolor": "#C8D4E3",
            "gridwidth": 2
           }
          },
          "shapedefaults": {
           "line": {
            "color": "#f2f5fa"
           }
          },
          "annotationdefaults": {
           "arrowcolor": "#f2f5fa",
           "arrowhead": 0,
           "arrowwidth": 1
          },
          "geo": {
           "bgcolor": "rgb(17,17,17)",
           "landcolor": "rgb(17,17,17)",
           "subunitcolor": "#506784",
           "showland": true,
           "showlakes": true,
           "lakecolor": "rgb(17,17,17)"
          },
          "title": {
           "x": 0.05
          },
          "updatemenudefaults": {
           "bgcolor": "#506784",
           "borderwidth": 0
          },
          "sliderdefaults": {
           "bgcolor": "#C8D4E3",
           "borderwidth": 1,
           "bordercolor": "rgb(17,17,17)",
           "tickwidth": 0
          },
          "mapbox": {
           "style": "dark"
          }
         }
        }
       },
       "config": {
        "plotlyServerURL": "https://plot.ly"
       }
      }
     },
     "metadata": {},
     "output_type": "display_data"
    }
   ],
   "source": [
    "# Extract unique decades\n",
    "unique_decades = female_proportions['decade'].unique()\n",
    "\n",
    "# Create traces for stack plot\n",
    "traces = []\n",
    "categories = ['Below 25%', '25-50%', '50-75%', 'Above 75%']\n",
    "data = [below_25_per_decade, quarter_50_per_decade, half_75_per_decade, above_75_per_decade]\n",
    "\n",
    "for i, category in enumerate(categories):\n",
    "    trace = go.Scatter(\n",
    "        x=unique_decades,\n",
    "        y=data[i],\n",
    "        mode='lines',\n",
    "        stackgroup='one',\n",
    "        name=category\n",
    "    )\n",
    "    traces.append(trace)\n",
    "\n",
    "# Create layout\n",
    "layout = go.Layout(\n",
    "    title='Proportion of Movies with Different Percentages of Female Actors',\n",
    "    xaxis=dict(title='Decade'),\n",
    "    yaxis=dict(title='Proportion of movies in a given decade'),\n",
    "    legend=dict(x=1.05, y=1, traceorder='normal', orientation='v')\n",
    ")\n",
    "\n",
    "# Create figure\n",
    "fig = go.Figure(data=traces, layout=layout)\n",
    "\n",
    "# Show the interactive plot\n",
    "fig.show()"
   ],
   "metadata": {
    "collapsed": false
   }
  },
  {
   "cell_type": "markdown",
   "source": [
    "We can observe that a vast majority of movies have less than 50% of women actresses in their cast. Actually, over the years, a vast majority of movies (graphically, approximately 85%) have less than 50% female actors in their cast. Thus, even though overall the proportion of women seems to be close to 30-40% over the years, they are largely underrepresented in the vast majority of movies.\n",
    "However, it might be interesting to note that from 2000 onwards there are more movies with a majority of women actors in their cast, miroring the trend of the overall increase in women's proportion in movies"
   ],
   "metadata": {
    "collapsed": false
   }
  },
  {
   "cell_type": "markdown",
   "source": [
    "#### Age analysis\n",
    "**What's the age difference of female actors in movies compared to male actors over the years? Are female actors significantly younger than male actors?**"
   ],
   "metadata": {
    "collapsed": false
   }
  },
  {
   "cell_type": "code",
   "execution_count": 24,
   "outputs": [],
   "source": [
    "# drop the actors with NaN as age but also actors with negative ages (which appeared in 1910)\n",
    "character_age = final_characters.dropna(subset=['actor_age']).copy()\n",
    "character_age = character_age[character_age['actor_age'] >= 0] # remove actors with a negative age"
   ],
   "metadata": {
    "collapsed": false
   }
  },
  {
   "cell_type": "code",
   "execution_count": 25,
   "outputs": [],
   "source": [
    "# Group by decade and gender\n",
    "characters_age_by_decade_gender = character_age.groupby(['decade', 'actor_gender'])\n",
    "\n",
    "# Calculate average age and standard deviation of age for each gender per year\n",
    "gender_age_stats_per_decade = characters_age_by_decade_gender['actor_age'].agg(['mean', 'sem'])\n",
    "\n",
    "# Reset the index to make the grouped columns accessible for further analysis or visualization\n",
    "gender_age_stats_per_decade.reset_index(inplace=True)"
   ],
   "metadata": {
    "collapsed": false
   }
  },
  {
   "cell_type": "code",
   "execution_count": 26,
   "outputs": [],
   "source": [
    "# Filter data for men and women separately for easier handling\n",
    "men_data = gender_age_stats_per_decade[gender_age_stats_per_decade['actor_gender'] == 'M'].copy()\n",
    "women_data = gender_age_stats_per_decade[gender_age_stats_per_decade['actor_gender'] == 'F'].copy()\n",
    "\n",
    "# Calculate 95% confidence interval for men\n",
    "men_data['lower_bound'] = men_data['mean'] - 1.96 * men_data['sem']\n",
    "men_data['upper_bound'] = men_data['mean'] + 1.96 * men_data['sem']\n",
    "\n",
    "# Calculate 95% confidence interval for women\n",
    "women_data['lower_bound'] = women_data['mean'] - 1.96 * women_data['sem']\n",
    "women_data['upper_bound'] = women_data['mean'] + 1.96 * women_data['sem']"
   ],
   "metadata": {
    "collapsed": false
   }
  },
  {
   "cell_type": "code",
   "execution_count": 27,
   "outputs": [
    {
     "data": {
      "application/vnd.plotly.v1+json": {
       "data": [
        {
         "line": {
          "color": "mediumturquoise"
         },
         "mode": "lines",
         "name": "Men Mean Age",
         "x": [
          1910,
          1920,
          1930,
          1940,
          1950,
          1960,
          1970,
          1980,
          1990,
          2000,
          2010,
          2020
         ],
         "y": [
          34.45122148519657,
          35.843238930993216,
          35.36194161097432,
          38.38152698551996,
          40.26345945945946,
          42.17877019139406,
          42.54337098366049,
          41.54482515012363,
          41.484808743169395,
          41.407124681933844,
          43.79687959964675,
          47.791267305644304
         ],
         "type": "scatter"
        },
        {
         "line": {
          "width": 0
         },
         "marker": {
          "color": "#444"
         },
         "mode": "lines",
         "name": "Upper Bound",
         "showlegend": false,
         "x": [
          1910,
          1920,
          1930,
          1940,
          1950,
          1960,
          1970,
          1980,
          1990,
          2000,
          2010,
          2020
         ],
         "y": [
          34.72373046533972,
          36.2413664392562,
          35.649946680933795,
          38.62118510591203,
          40.48787270184262,
          42.45613542444972,
          42.81738163785624,
          41.787147759511264,
          41.67616404257353,
          41.56510354371708,
          44.02478815070611,
          48.29419931658512
         ],
         "type": "scatter"
        },
        {
         "fill": "tonexty",
         "fillcolor": "rgba(173, 216, 230, 0.3)",
         "line": {
          "width": 0
         },
         "marker": {
          "color": "#444"
         },
         "mode": "lines",
         "name": "Lower Bound",
         "showlegend": false,
         "x": [
          1910,
          1920,
          1930,
          1940,
          1950,
          1960,
          1970,
          1980,
          1990,
          2000,
          2010,
          2020
         ],
         "y": [
          34.17871250505342,
          35.445111422730236,
          35.073936541014845,
          38.14186886512789,
          40.039046217076304,
          41.9014049583384,
          42.26936032946473,
          41.30250254073599,
          41.29345344376526,
          41.24914582015061,
          43.56897104858739,
          47.28833529470349
         ],
         "type": "scatter"
        },
        {
         "line": {
          "color": "hotpink"
         },
         "mode": "lines",
         "name": "Women Mean Age",
         "x": [
          1910,
          1920,
          1930,
          1940,
          1950,
          1960,
          1970,
          1980,
          1990,
          2000,
          2010,
          2020
         ],
         "y": [
          28.468584656084655,
          27.59037095501184,
          28.058152293175336,
          30.03170441001192,
          32.20976353928299,
          33.902024820378834,
          35.39109179793591,
          34.96449890040842,
          35.232083145051966,
          35.132676467521634,
          36.83693980104605,
          40.367909238249595
         ],
         "type": "scatter"
        },
        {
         "line": {
          "width": 0
         },
         "marker": {
          "color": "#444"
         },
         "mode": "lines",
         "name": "Upper Bound",
         "showlegend": false,
         "x": [
          1910,
          1920,
          1930,
          1940,
          1950,
          1960,
          1970,
          1980,
          1990,
          2000,
          2010,
          2020
         ],
         "y": [
          28.893096890742246,
          28.038444796343732,
          28.366021573694194,
          30.341860822813068,
          32.53481212548366,
          34.346669532738424,
          35.82121909215156,
          35.30922454211382,
          35.497136369992404,
          35.336948403658084,
          37.124530206829505,
          40.953488763232606
         ],
         "type": "scatter"
        },
        {
         "fill": "tonexty",
         "fillcolor": "rgba(255, 182, 193, 0.3)",
         "line": {
          "width": 0
         },
         "marker": {
          "color": "#444"
         },
         "mode": "lines",
         "name": "Lower Bound",
         "showlegend": false,
         "x": [
          1910,
          1920,
          1930,
          1940,
          1950,
          1960,
          1970,
          1980,
          1990,
          2000,
          2010,
          2020
         ],
         "y": [
          28.044072421427064,
          27.142297113679945,
          27.750283012656478,
          29.72154799721077,
          31.884714953082312,
          33.457380108019244,
          34.960964503720255,
          34.61977325870303,
          34.96702992011153,
          34.92840453138518,
          36.549349395262595,
          39.782329713266584
         ],
         "type": "scatter"
        }
       ],
       "layout": {
        "template": {
         "data": {
          "histogram2dcontour": [
           {
            "type": "histogram2dcontour",
            "colorbar": {
             "outlinewidth": 0,
             "ticks": ""
            },
            "colorscale": [
             [
              0.0,
              "#0d0887"
             ],
             [
              0.1111111111111111,
              "#46039f"
             ],
             [
              0.2222222222222222,
              "#7201a8"
             ],
             [
              0.3333333333333333,
              "#9c179e"
             ],
             [
              0.4444444444444444,
              "#bd3786"
             ],
             [
              0.5555555555555556,
              "#d8576b"
             ],
             [
              0.6666666666666666,
              "#ed7953"
             ],
             [
              0.7777777777777778,
              "#fb9f3a"
             ],
             [
              0.8888888888888888,
              "#fdca26"
             ],
             [
              1.0,
              "#f0f921"
             ]
            ]
           }
          ],
          "choropleth": [
           {
            "type": "choropleth",
            "colorbar": {
             "outlinewidth": 0,
             "ticks": ""
            }
           }
          ],
          "histogram2d": [
           {
            "type": "histogram2d",
            "colorbar": {
             "outlinewidth": 0,
             "ticks": ""
            },
            "colorscale": [
             [
              0.0,
              "#0d0887"
             ],
             [
              0.1111111111111111,
              "#46039f"
             ],
             [
              0.2222222222222222,
              "#7201a8"
             ],
             [
              0.3333333333333333,
              "#9c179e"
             ],
             [
              0.4444444444444444,
              "#bd3786"
             ],
             [
              0.5555555555555556,
              "#d8576b"
             ],
             [
              0.6666666666666666,
              "#ed7953"
             ],
             [
              0.7777777777777778,
              "#fb9f3a"
             ],
             [
              0.8888888888888888,
              "#fdca26"
             ],
             [
              1.0,
              "#f0f921"
             ]
            ]
           }
          ],
          "heatmap": [
           {
            "type": "heatmap",
            "colorbar": {
             "outlinewidth": 0,
             "ticks": ""
            },
            "colorscale": [
             [
              0.0,
              "#0d0887"
             ],
             [
              0.1111111111111111,
              "#46039f"
             ],
             [
              0.2222222222222222,
              "#7201a8"
             ],
             [
              0.3333333333333333,
              "#9c179e"
             ],
             [
              0.4444444444444444,
              "#bd3786"
             ],
             [
              0.5555555555555556,
              "#d8576b"
             ],
             [
              0.6666666666666666,
              "#ed7953"
             ],
             [
              0.7777777777777778,
              "#fb9f3a"
             ],
             [
              0.8888888888888888,
              "#fdca26"
             ],
             [
              1.0,
              "#f0f921"
             ]
            ]
           }
          ],
          "heatmapgl": [
           {
            "type": "heatmapgl",
            "colorbar": {
             "outlinewidth": 0,
             "ticks": ""
            },
            "colorscale": [
             [
              0.0,
              "#0d0887"
             ],
             [
              0.1111111111111111,
              "#46039f"
             ],
             [
              0.2222222222222222,
              "#7201a8"
             ],
             [
              0.3333333333333333,
              "#9c179e"
             ],
             [
              0.4444444444444444,
              "#bd3786"
             ],
             [
              0.5555555555555556,
              "#d8576b"
             ],
             [
              0.6666666666666666,
              "#ed7953"
             ],
             [
              0.7777777777777778,
              "#fb9f3a"
             ],
             [
              0.8888888888888888,
              "#fdca26"
             ],
             [
              1.0,
              "#f0f921"
             ]
            ]
           }
          ],
          "contourcarpet": [
           {
            "type": "contourcarpet",
            "colorbar": {
             "outlinewidth": 0,
             "ticks": ""
            }
           }
          ],
          "contour": [
           {
            "type": "contour",
            "colorbar": {
             "outlinewidth": 0,
             "ticks": ""
            },
            "colorscale": [
             [
              0.0,
              "#0d0887"
             ],
             [
              0.1111111111111111,
              "#46039f"
             ],
             [
              0.2222222222222222,
              "#7201a8"
             ],
             [
              0.3333333333333333,
              "#9c179e"
             ],
             [
              0.4444444444444444,
              "#bd3786"
             ],
             [
              0.5555555555555556,
              "#d8576b"
             ],
             [
              0.6666666666666666,
              "#ed7953"
             ],
             [
              0.7777777777777778,
              "#fb9f3a"
             ],
             [
              0.8888888888888888,
              "#fdca26"
             ],
             [
              1.0,
              "#f0f921"
             ]
            ]
           }
          ],
          "surface": [
           {
            "type": "surface",
            "colorbar": {
             "outlinewidth": 0,
             "ticks": ""
            },
            "colorscale": [
             [
              0.0,
              "#0d0887"
             ],
             [
              0.1111111111111111,
              "#46039f"
             ],
             [
              0.2222222222222222,
              "#7201a8"
             ],
             [
              0.3333333333333333,
              "#9c179e"
             ],
             [
              0.4444444444444444,
              "#bd3786"
             ],
             [
              0.5555555555555556,
              "#d8576b"
             ],
             [
              0.6666666666666666,
              "#ed7953"
             ],
             [
              0.7777777777777778,
              "#fb9f3a"
             ],
             [
              0.8888888888888888,
              "#fdca26"
             ],
             [
              1.0,
              "#f0f921"
             ]
            ]
           }
          ],
          "mesh3d": [
           {
            "type": "mesh3d",
            "colorbar": {
             "outlinewidth": 0,
             "ticks": ""
            }
           }
          ],
          "scatter": [
           {
            "marker": {
             "line": {
              "color": "#283442"
             }
            },
            "type": "scatter"
           }
          ],
          "parcoords": [
           {
            "type": "parcoords",
            "line": {
             "colorbar": {
              "outlinewidth": 0,
              "ticks": ""
             }
            }
           }
          ],
          "scatterpolargl": [
           {
            "type": "scatterpolargl",
            "marker": {
             "colorbar": {
              "outlinewidth": 0,
              "ticks": ""
             }
            }
           }
          ],
          "bar": [
           {
            "error_x": {
             "color": "#f2f5fa"
            },
            "error_y": {
             "color": "#f2f5fa"
            },
            "marker": {
             "line": {
              "color": "rgb(17,17,17)",
              "width": 0.5
             },
             "pattern": {
              "fillmode": "overlay",
              "size": 10,
              "solidity": 0.2
             }
            },
            "type": "bar"
           }
          ],
          "scattergeo": [
           {
            "type": "scattergeo",
            "marker": {
             "colorbar": {
              "outlinewidth": 0,
              "ticks": ""
             }
            }
           }
          ],
          "scatterpolar": [
           {
            "type": "scatterpolar",
            "marker": {
             "colorbar": {
              "outlinewidth": 0,
              "ticks": ""
             }
            }
           }
          ],
          "histogram": [
           {
            "marker": {
             "pattern": {
              "fillmode": "overlay",
              "size": 10,
              "solidity": 0.2
             }
            },
            "type": "histogram"
           }
          ],
          "scattergl": [
           {
            "marker": {
             "line": {
              "color": "#283442"
             }
            },
            "type": "scattergl"
           }
          ],
          "scatter3d": [
           {
            "type": "scatter3d",
            "line": {
             "colorbar": {
              "outlinewidth": 0,
              "ticks": ""
             }
            },
            "marker": {
             "colorbar": {
              "outlinewidth": 0,
              "ticks": ""
             }
            }
           }
          ],
          "scattermapbox": [
           {
            "type": "scattermapbox",
            "marker": {
             "colorbar": {
              "outlinewidth": 0,
              "ticks": ""
             }
            }
           }
          ],
          "scatterternary": [
           {
            "type": "scatterternary",
            "marker": {
             "colorbar": {
              "outlinewidth": 0,
              "ticks": ""
             }
            }
           }
          ],
          "scattercarpet": [
           {
            "type": "scattercarpet",
            "marker": {
             "colorbar": {
              "outlinewidth": 0,
              "ticks": ""
             }
            }
           }
          ],
          "carpet": [
           {
            "aaxis": {
             "endlinecolor": "#A2B1C6",
             "gridcolor": "#506784",
             "linecolor": "#506784",
             "minorgridcolor": "#506784",
             "startlinecolor": "#A2B1C6"
            },
            "baxis": {
             "endlinecolor": "#A2B1C6",
             "gridcolor": "#506784",
             "linecolor": "#506784",
             "minorgridcolor": "#506784",
             "startlinecolor": "#A2B1C6"
            },
            "type": "carpet"
           }
          ],
          "table": [
           {
            "cells": {
             "fill": {
              "color": "#506784"
             },
             "line": {
              "color": "rgb(17,17,17)"
             }
            },
            "header": {
             "fill": {
              "color": "#2a3f5f"
             },
             "line": {
              "color": "rgb(17,17,17)"
             }
            },
            "type": "table"
           }
          ],
          "barpolar": [
           {
            "marker": {
             "line": {
              "color": "rgb(17,17,17)",
              "width": 0.5
             },
             "pattern": {
              "fillmode": "overlay",
              "size": 10,
              "solidity": 0.2
             }
            },
            "type": "barpolar"
           }
          ],
          "pie": [
           {
            "automargin": true,
            "type": "pie"
           }
          ]
         },
         "layout": {
          "autotypenumbers": "strict",
          "colorway": [
           "#636efa",
           "#EF553B",
           "#00cc96",
           "#ab63fa",
           "#FFA15A",
           "#19d3f3",
           "#FF6692",
           "#B6E880",
           "#FF97FF",
           "#FECB52"
          ],
          "font": {
           "color": "#f2f5fa"
          },
          "hovermode": "closest",
          "hoverlabel": {
           "align": "left"
          },
          "paper_bgcolor": "rgb(17,17,17)",
          "plot_bgcolor": "rgb(17,17,17)",
          "polar": {
           "bgcolor": "rgb(17,17,17)",
           "angularaxis": {
            "gridcolor": "#506784",
            "linecolor": "#506784",
            "ticks": ""
           },
           "radialaxis": {
            "gridcolor": "#506784",
            "linecolor": "#506784",
            "ticks": ""
           }
          },
          "ternary": {
           "bgcolor": "rgb(17,17,17)",
           "aaxis": {
            "gridcolor": "#506784",
            "linecolor": "#506784",
            "ticks": ""
           },
           "baxis": {
            "gridcolor": "#506784",
            "linecolor": "#506784",
            "ticks": ""
           },
           "caxis": {
            "gridcolor": "#506784",
            "linecolor": "#506784",
            "ticks": ""
           }
          },
          "coloraxis": {
           "colorbar": {
            "outlinewidth": 0,
            "ticks": ""
           }
          },
          "colorscale": {
           "sequential": [
            [
             0.0,
             "#0d0887"
            ],
            [
             0.1111111111111111,
             "#46039f"
            ],
            [
             0.2222222222222222,
             "#7201a8"
            ],
            [
             0.3333333333333333,
             "#9c179e"
            ],
            [
             0.4444444444444444,
             "#bd3786"
            ],
            [
             0.5555555555555556,
             "#d8576b"
            ],
            [
             0.6666666666666666,
             "#ed7953"
            ],
            [
             0.7777777777777778,
             "#fb9f3a"
            ],
            [
             0.8888888888888888,
             "#fdca26"
            ],
            [
             1.0,
             "#f0f921"
            ]
           ],
           "sequentialminus": [
            [
             0.0,
             "#0d0887"
            ],
            [
             0.1111111111111111,
             "#46039f"
            ],
            [
             0.2222222222222222,
             "#7201a8"
            ],
            [
             0.3333333333333333,
             "#9c179e"
            ],
            [
             0.4444444444444444,
             "#bd3786"
            ],
            [
             0.5555555555555556,
             "#d8576b"
            ],
            [
             0.6666666666666666,
             "#ed7953"
            ],
            [
             0.7777777777777778,
             "#fb9f3a"
            ],
            [
             0.8888888888888888,
             "#fdca26"
            ],
            [
             1.0,
             "#f0f921"
            ]
           ],
           "diverging": [
            [
             0,
             "#8e0152"
            ],
            [
             0.1,
             "#c51b7d"
            ],
            [
             0.2,
             "#de77ae"
            ],
            [
             0.3,
             "#f1b6da"
            ],
            [
             0.4,
             "#fde0ef"
            ],
            [
             0.5,
             "#f7f7f7"
            ],
            [
             0.6,
             "#e6f5d0"
            ],
            [
             0.7,
             "#b8e186"
            ],
            [
             0.8,
             "#7fbc41"
            ],
            [
             0.9,
             "#4d9221"
            ],
            [
             1,
             "#276419"
            ]
           ]
          },
          "xaxis": {
           "gridcolor": "#283442",
           "linecolor": "#506784",
           "ticks": "",
           "title": {
            "standoff": 15
           },
           "zerolinecolor": "#283442",
           "automargin": true,
           "zerolinewidth": 2
          },
          "yaxis": {
           "gridcolor": "#283442",
           "linecolor": "#506784",
           "ticks": "",
           "title": {
            "standoff": 15
           },
           "zerolinecolor": "#283442",
           "automargin": true,
           "zerolinewidth": 2
          },
          "scene": {
           "xaxis": {
            "backgroundcolor": "rgb(17,17,17)",
            "gridcolor": "#506784",
            "linecolor": "#506784",
            "showbackground": true,
            "ticks": "",
            "zerolinecolor": "#C8D4E3",
            "gridwidth": 2
           },
           "yaxis": {
            "backgroundcolor": "rgb(17,17,17)",
            "gridcolor": "#506784",
            "linecolor": "#506784",
            "showbackground": true,
            "ticks": "",
            "zerolinecolor": "#C8D4E3",
            "gridwidth": 2
           },
           "zaxis": {
            "backgroundcolor": "rgb(17,17,17)",
            "gridcolor": "#506784",
            "linecolor": "#506784",
            "showbackground": true,
            "ticks": "",
            "zerolinecolor": "#C8D4E3",
            "gridwidth": 2
           }
          },
          "shapedefaults": {
           "line": {
            "color": "#f2f5fa"
           }
          },
          "annotationdefaults": {
           "arrowcolor": "#f2f5fa",
           "arrowhead": 0,
           "arrowwidth": 1
          },
          "geo": {
           "bgcolor": "rgb(17,17,17)",
           "landcolor": "rgb(17,17,17)",
           "subunitcolor": "#506784",
           "showland": true,
           "showlakes": true,
           "lakecolor": "rgb(17,17,17)"
          },
          "title": {
           "x": 0.05
          },
          "updatemenudefaults": {
           "bgcolor": "#506784",
           "borderwidth": 0
          },
          "sliderdefaults": {
           "bgcolor": "#C8D4E3",
           "borderwidth": 1,
           "bordercolor": "rgb(17,17,17)",
           "tickwidth": 0
          },
          "mapbox": {
           "style": "dark"
          }
         }
        },
        "legend": {
         "x": 0,
         "y": 1,
         "traceorder": "normal",
         "orientation": "h"
        },
        "yaxis": {
         "title": {
          "text": "Age"
         }
        },
        "xaxis": {
         "title": {
          "text": "Decade"
         }
        },
        "title": {
         "text": "Average age of actors per decade per gender with 95% CI"
        },
        "hovermode": "x"
       },
       "config": {
        "plotlyServerURL": "https://plot.ly"
       }
      }
     },
     "metadata": {},
     "output_type": "display_data"
    }
   ],
   "source": [
    "#plot the plot with plotly to have an interactive plot\n",
    "fig = go.Figure([\n",
    "    go.Scatter(\n",
    "        name='Men Mean Age',\n",
    "        x=men_data['decade'],\n",
    "        y=men_data['mean'],\n",
    "        mode='lines',\n",
    "        line=dict(color='mediumturquoise'),\n",
    "    ),\n",
    "    go.Scatter(\n",
    "        name='Upper Bound',\n",
    "        x = men_data['decade'],\n",
    "        y = men_data['upper_bound'],\n",
    "        mode='lines',\n",
    "        marker=dict(color=\"#444\"),\n",
    "        line=dict(width=0),\n",
    "        showlegend=False\n",
    "    ),\n",
    "    go.Scatter(\n",
    "        name='Lower Bound',\n",
    "        x=men_data['decade'],\n",
    "        y=men_data['lower_bound'],\n",
    "        marker=dict(color=\"#444\"),\n",
    "        line=dict(width=0),\n",
    "        mode='lines',\n",
    "        fillcolor='rgba(173, 216, 230, 0.3)',\n",
    "        fill='tonexty',\n",
    "        showlegend=False\n",
    "    ),\n",
    "    go.Scatter(\n",
    "        name='Women Mean Age',\n",
    "        x=women_data['decade'],\n",
    "        y=women_data['mean'],\n",
    "        mode='lines',\n",
    "        line=dict(color='hotpink'),\n",
    "    ),\n",
    "    go.Scatter(\n",
    "        name='Upper Bound',\n",
    "        x = women_data['decade'],\n",
    "        y = women_data['upper_bound'],\n",
    "        mode='lines',\n",
    "        marker=dict(color=\"#444\"),\n",
    "        line=dict(width=0),\n",
    "        showlegend=False\n",
    "    ),\n",
    "    go.Scatter(\n",
    "        name='Lower Bound',\n",
    "        x=women_data['decade'],\n",
    "        y=women_data['lower_bound'],\n",
    "        marker=dict(color=\"#444\"),\n",
    "        line=dict(width=0),\n",
    "        mode='lines',\n",
    "        fillcolor='rgba(255, 182, 193, 0.3)',\n",
    "        fill='tonexty',\n",
    "        showlegend=False\n",
    "    )\n",
    "])\n",
    "\n",
    "# Create figure\n",
    "fig.update_layout(\n",
    "    yaxis_title='Age',\n",
    "    xaxis_title = 'Decade',\n",
    "    title='Average age of actors per decade per gender with 95% CI',\n",
    "    hovermode=\"x\",\n",
    "    legend=dict(x=0, y=1, traceorder='normal', orientation='h')\n",
    "\n",
    ")\n",
    "\n",
    "# Show the interactive plot\n",
    "fig.show()"
   ],
   "metadata": {
    "collapsed": false
   }
  },
  {
   "cell_type": "markdown",
   "source": [
    "Between decades 1910 and 2020, female actors are **significantly** younger than men at the 5% significance level. We can see that the average age of actors increase over time (both for men and women). This might be because of the long career span of actors as they usually play in several movies over the year. Thus, the actors in the 80s might be the same as the ones in the 60s, explaining why the average age of actors increases over time. In order to prove that the age difference is significantly different let's perform a 2-sided independent t-test"
   ],
   "metadata": {
    "collapsed": false
   }
  },
  {
   "cell_type": "code",
   "execution_count": 28,
   "outputs": [
    {
     "name": "stdout",
     "output_type": "stream",
     "text": [
      "Decade: (1910,)\n",
      "T-Statistic: 23.937861450862954\n",
      "P-Value: 6.689216236239643e-123\n",
      "Statistically significant difference\n",
      "\n",
      "Decade: (1920,)\n",
      "T-Statistic: 25.10620178007913\n",
      "P-Value: 1.1566776606663095e-133\n",
      "Statistically significant difference\n",
      "\n",
      "Decade: (1930,)\n",
      "T-Statistic: 31.54907147808617\n",
      "P-Value: 1.2848106654312748e-210\n",
      "Statistically significant difference\n",
      "\n",
      "Decade: (1940,)\n",
      "T-Statistic: 39.800239903459946\n",
      "P-Value: 0.0\n",
      "Statistically significant difference\n",
      "\n",
      "Decade: (1950,)\n",
      "T-Statistic: 39.05407924583143\n",
      "P-Value: 0.0\n",
      "Statistically significant difference\n",
      "\n",
      "Decade: (1960,)\n",
      "T-Statistic: 31.379264192755887\n",
      "P-Value: 1.2900182960965503e-206\n",
      "Statistically significant difference\n",
      "\n",
      "Decade: (1970,)\n",
      "T-Statistic: 27.45803370632024\n",
      "P-Value: 2.5058439602003275e-161\n",
      "Statistically significant difference\n",
      "\n",
      "Decade: (1980,)\n",
      "T-Statistic: 30.066393039129252\n",
      "P-Value: 2.1645515886564586e-194\n",
      "Statistically significant difference\n",
      "\n",
      "Decade: (1990,)\n",
      "T-Statistic: 37.00481366332627\n",
      "P-Value: 6.796412605916962e-294\n",
      "Statistically significant difference\n",
      "\n",
      "Decade: (2000,)\n",
      "T-Statistic: 46.84744144592606\n",
      "P-Value: 0.0\n",
      "Statistically significant difference\n",
      "\n",
      "Decade: (2010,)\n",
      "T-Statistic: 36.72704104337591\n",
      "P-Value: 3.913058683435522e-288\n",
      "Statistically significant difference\n",
      "\n",
      "Decade: (2020,)\n",
      "T-Statistic: 18.625068592311496\n",
      "P-Value: 2.1896823105453145e-75\n",
      "Statistically significant difference\n",
      "\n"
     ]
    }
   ],
   "source": [
    "# Perform a t-test for each decade\n",
    "for decade, group in character_age.groupby(['decade']):\n",
    "    men = group[group['actor_gender'] == 'M']\n",
    "    women = group[group['actor_gender'] == 'F']\n",
    "\n",
    "    # Perform a t-test assuming equal variances\n",
    "    t_statistic, p_value, df = sm.stats.ttest_ind(men['actor_age'], women['actor_age'])\n",
    "\n",
    "    # Print the results\n",
    "    print(f'Decade: {decade}')\n",
    "    print(f'T-Statistic: {t_statistic}')\n",
    "    print(f'P-Value: {p_value}')\n",
    "\n",
    "    # Check significance level (e.g., 0.05)\n",
    "    if p_value < 0.05:\n",
    "        print('Statistically significant difference\\n')\n",
    "    else:\n",
    "        print('No statistically significant difference\\n')"
   ],
   "metadata": {
    "collapsed": false
   }
  },
  {
   "cell_type": "markdown",
   "source": [
    "As we can see for every decade the difference is very statistically significant, meaning we can say there is a difference between the mean age of men and women (reject the null that the mean ages are the same)"
   ],
   "metadata": {
    "collapsed": false
   }
  },
  {
   "cell_type": "markdown",
   "source": [
    "We also made an interactive plot using plotly to show the histograms of age distributions over time of men and women"
   ],
   "metadata": {
    "collapsed": false
   }
  },
  {
   "cell_type": "code",
   "execution_count": 29,
   "outputs": [],
   "source": [
    "import plotly.express as px\n",
    "# Sort unique decades\n",
    "decade_order = sorted(character_age['decade'].unique())\n",
    "\n",
    "# Define a fixed y-axis range\n",
    "fixed_yaxis_range = [0, 1050]\n",
    "\n",
    "# Create the histogram using Plotly Express with a slider for decades\n",
    "fig = px.histogram(\n",
    "    character_age,\n",
    "    x=\"actor_age\",\n",
    "    color=\"actor_gender\",\n",
    "    animation_frame=\"decade\",\n",
    "    labels={\"actor_age\": \"Actor Age\"},\n",
    "    title=\"Age Distribution of Actors by Gender for Each Decade\",\n",
    "    width=1200,\n",
    "    height=600,\n",
    "    barmode=\"overlay\",\n",
    "    histfunc=\"count\",\n",
    "    category_orders={\"decade\": decade_order},\n",
    "    color_discrete_map = {'M': 'mediumturquoise', 'F': 'hotpink'}\n",
    ")\n",
    "\n",
    "# Update layout for better visibility and set fixed y-axis range\n",
    "fig.update_layout(\n",
    "    title_x=0.5,\n",
    "    title_y=0.95,\n",
    ")\n",
    "\n",
    "# Set fixed y-axis range for all subplots\n",
    "for i in range(1, len(decade_order) + 1):\n",
    "    fig.update_yaxes(range=fixed_yaxis_range, row=1, col=i)\n",
    "\n",
    "# Save the plot in an HTML file and open in a new window\n",
    "fig.write_html(\"age_distribution_plot.html\", auto_open=True)"
   ],
   "metadata": {
    "collapsed": false
   }
  },
  {
   "cell_type": "markdown",
   "source": [
    "## B) Personnas Analysis\n",
    "<a id='subsection-6.2'></a>"
   ],
   "metadata": {
    "collapsed": false
   }
  },
  {
   "cell_type": "markdown",
   "source": [
    "**What personas are associated with movie characters interpreted by male and female actors? Are female characters (so female actors) mostly associated with beauty, stupidity, weakness and sexualized and men mostly associated with heroism, adventure, strength...?**"
   ],
   "metadata": {
    "collapsed": false
   }
  },
  {
   "cell_type": "code",
   "execution_count": null,
   "outputs": [],
   "source": [
    "# For the following analysis, drop all the characters that don't have personas\n",
    "characters_data_personnas_noNA = characters_data.dropna(subset=['personnas']).copy()\n",
    "display(characters_data_personnas_noNA)"
   ],
   "metadata": {
    "collapsed": false
   }
  },
  {
   "cell_type": "code",
   "execution_count": 11,
   "outputs": [
    {
     "data": {
      "text/plain": "actor_gender\nF     59\nM    356\nName: actor_name, dtype: int64"
     },
     "metadata": {},
     "output_type": "display_data"
    }
   ],
   "source": [
    "# Check values in the \"actor_gender\" column to make sure it is populated\n",
    "characters_data_personnas_noNA.loc[characters_data_personnas_noNA.actor_gender.isna(), \"actor_gender\"] = \"NA\"\n",
    "display(characters_data_personnas_noNA.groupby(\"actor_gender\").count().actor_name)"
   ],
   "metadata": {
    "collapsed": false
   }
  },
  {
   "cell_type": "markdown",
   "source": [
    "From this very simple line, we can already see that out of the 415 characters, only 59 are played by women, which is already a poor representation."
   ],
   "metadata": {
    "collapsed": false
   }
  },
  {
   "cell_type": "code",
   "execution_count": 12,
   "outputs": [],
   "source": [
    "# split the dataframe in 2: one for males and one for women, which is easier for the subsequent analysis\n",
    "male_personnas_data = characters_data_personnas_noNA[characters_data_personnas_noNA['actor_gender'] == 'M'].copy()\n",
    "female_personnas_data = characters_data_personnas_noNA[characters_data_personnas_noNA['actor_gender'] == 'F'].copy()"
   ],
   "metadata": {
    "collapsed": false
   }
  },
  {
   "cell_type": "code",
   "execution_count": 13,
   "outputs": [
    {
     "data": {
      "text/plain": "personnas\ndumb_blonde                 9\nbrainless_beauty            7\nfinal_girl                  6\nchanteuse                   6\nprima_donna                 5\ngranola_person              4\nbroken_bird                 4\nvalley_girl                 3\nophelia                     3\neccentric_mentor            2\njunkie_prophet              2\ndoormat                     1\nadventurer_archaeologist    1\nstoryteller                 1\nklutz                       1\nheartbroken_badass          1\nditz                        1\nclassy_cat_burglar          1\nbully                       1\nName: count, dtype: int64"
     },
     "execution_count": 13,
     "metadata": {},
     "output_type": "execute_result"
    }
   ],
   "source": [
    "# print the female personas with their number of occurance\n",
    "unique_female_personnas_counts = female_personnas_data[\"personnas\"].explode().value_counts()\n",
    "# Sort the unique_personnas_counts Series by the count in descending order\n",
    "sorted_female_personnas_counts = unique_female_personnas_counts.sort_values(ascending=False)\n",
    "sorted_female_personnas_counts"
   ],
   "metadata": {
    "collapsed": false
   }
  },
  {
   "cell_type": "code",
   "execution_count": 14,
   "outputs": [
    {
     "name": "stdout",
     "output_type": "stream",
     "text": [
      "personnas\n",
      "corrupt_corporate_executive    23\n",
      "crazy_jealous_guy              21\n",
      "psycho_for_hire                14\n",
      "father_to_his_men              13\n",
      "byronic_hero                   12\n",
      "stoner                         11\n",
      "master_swordsman                9\n",
      "hitman_with_a_heart             9\n",
      "arrogant_kungfu_guy             8\n",
      "bounty_hunter                   8\n",
      "evil_prince                     7\n",
      "dirty_cop                       7\n",
      "hardboiled_detective            7\n",
      "tranquil_fury                   6\n",
      "young_gun                       6\n",
      "egomaniac_hunter                6\n",
      "warrior_poet                    6\n",
      "retired_outlaw                  6\n",
      "slacker                         6\n",
      "fastest_gun_in_the_west         6\n",
      "Name: count, dtype: int64\n"
     ]
    }
   ],
   "source": [
    "# Do the same for men\n",
    "unique_male_personnas_counts = male_personnas_data[\"personnas\"].explode().value_counts()\n",
    "# Sort the unique_personnas_counts Series by the count in descending order\n",
    "sorted_male_personnas_counts = unique_male_personnas_counts.sort_values(ascending=False)\n",
    "print(sorted_male_personnas_counts.head(20))"
   ],
   "metadata": {
    "collapsed": false
   }
  },
  {
   "cell_type": "code",
   "execution_count": 15,
   "outputs": [
    {
     "data": {
      "text/plain": "                    personna  female_count  male_count  \\\n0           eccentric_mentor             2           3   \n1                    doormat             1           3   \n2                broken_bird             4           1   \n3           brainless_beauty             7           4   \n4                dumb_blonde             9           1   \n5                      klutz             1           1   \n6                storyteller             1           3   \n7             granola_person             4           4   \n8                       ditz             1           5   \n9   adventurer_archaeologist             1           3   \n10                     bully             1           2   \n11        heartbroken_badass             1           2   \n\n    normalized_ratio_F_to_M  \n0                  4.022599  \n1                  2.011299  \n2                 24.135593  \n3                 10.559322  \n4                 54.305085  \n5                  6.033898  \n6                  2.011299  \n7                  6.033898  \n8                  1.206780  \n9                  2.011299  \n10                 3.016949  \n11                 3.016949  ",
      "text/html": "<div>\n<style scoped>\n    .dataframe tbody tr th:only-of-type {\n        vertical-align: middle;\n    }\n\n    .dataframe tbody tr th {\n        vertical-align: top;\n    }\n\n    .dataframe thead th {\n        text-align: right;\n    }\n</style>\n<table border=\"1\" class=\"dataframe\">\n  <thead>\n    <tr style=\"text-align: right;\">\n      <th></th>\n      <th>personna</th>\n      <th>female_count</th>\n      <th>male_count</th>\n      <th>normalized_ratio_F_to_M</th>\n    </tr>\n  </thead>\n  <tbody>\n    <tr>\n      <th>0</th>\n      <td>eccentric_mentor</td>\n      <td>2</td>\n      <td>3</td>\n      <td>4.022599</td>\n    </tr>\n    <tr>\n      <th>1</th>\n      <td>doormat</td>\n      <td>1</td>\n      <td>3</td>\n      <td>2.011299</td>\n    </tr>\n    <tr>\n      <th>2</th>\n      <td>broken_bird</td>\n      <td>4</td>\n      <td>1</td>\n      <td>24.135593</td>\n    </tr>\n    <tr>\n      <th>3</th>\n      <td>brainless_beauty</td>\n      <td>7</td>\n      <td>4</td>\n      <td>10.559322</td>\n    </tr>\n    <tr>\n      <th>4</th>\n      <td>dumb_blonde</td>\n      <td>9</td>\n      <td>1</td>\n      <td>54.305085</td>\n    </tr>\n    <tr>\n      <th>5</th>\n      <td>klutz</td>\n      <td>1</td>\n      <td>1</td>\n      <td>6.033898</td>\n    </tr>\n    <tr>\n      <th>6</th>\n      <td>storyteller</td>\n      <td>1</td>\n      <td>3</td>\n      <td>2.011299</td>\n    </tr>\n    <tr>\n      <th>7</th>\n      <td>granola_person</td>\n      <td>4</td>\n      <td>4</td>\n      <td>6.033898</td>\n    </tr>\n    <tr>\n      <th>8</th>\n      <td>ditz</td>\n      <td>1</td>\n      <td>5</td>\n      <td>1.206780</td>\n    </tr>\n    <tr>\n      <th>9</th>\n      <td>adventurer_archaeologist</td>\n      <td>1</td>\n      <td>3</td>\n      <td>2.011299</td>\n    </tr>\n    <tr>\n      <th>10</th>\n      <td>bully</td>\n      <td>1</td>\n      <td>2</td>\n      <td>3.016949</td>\n    </tr>\n    <tr>\n      <th>11</th>\n      <td>heartbroken_badass</td>\n      <td>1</td>\n      <td>2</td>\n      <td>3.016949</td>\n    </tr>\n  </tbody>\n</table>\n</div>"
     },
     "metadata": {},
     "output_type": "display_data"
    }
   ],
   "source": [
    "# Extract the index (unique 'personas') from both DataFrames\n",
    "female_personnas = sorted_female_personnas_counts.index\n",
    "male_personnas = sorted_male_personnas_counts.index\n",
    "\n",
    "# Find the intersection between the two sets of 'personas'\n",
    "common_personnas = set(female_personnas) & set(male_personnas)\n",
    "\n",
    "# Create a list of with the common personas and their count in the male and female data\n",
    "common_personnas_data = [\n",
    "    {\n",
    "        'personna': personna,\n",
    "        'female_count': sorted_female_personnas_counts.get(personna, 0),\n",
    "        'male_count': sorted_male_personnas_counts.get(personna, 0),\n",
    "        'normalized_ratio_F_to_M' : (sorted_female_personnas_counts.get(personna, 0)/len(female_personnas_data)) /\n",
    "                                             (sorted_male_personnas_counts.get(personna, 0)/len(male_personnas_data))\n",
    "    }\n",
    "    for personna in common_personnas\n",
    "]\n",
    "\n",
    "# Create a DataFrame from the list of dictionaries\n",
    "common_personnas_df = pd.DataFrame(common_personnas_data)\n",
    "display(common_personnas_df)"
   ],
   "metadata": {
    "collapsed": false
   }
  },
  {
   "cell_type": "markdown",
   "source": [
    "This dataframe shows which personas are common for male and female as well as the count for each gender. The last column normalizes the counts of each personas for each gender and calculates how many times a given personas is more given to women than men. It is sticking how \"dumb_blond\" is more than 54 times more associated with women than men. Overall, terms with a bad connotation (broken_bird, dumb_blonde, brainless_beauty or bully for example) are much more associated to women than men. However, it is important to remember that the analysis is made only on 415 characters and that no statistical analysis were run on this data, which we will do in a later step of this project."
   ],
   "metadata": {
    "collapsed": false
   }
  },
  {
   "cell_type": "markdown",
   "source": [
    "### Main Character Analysis"
   ],
   "metadata": {
    "collapsed": false
   }
  },
  {
   "cell_type": "code",
   "execution_count": 16,
   "outputs": [],
   "source": [
    "main_characters = pd.read_csv(\"DATA/main_characters_20_per_year\")"
   ],
   "metadata": {
    "collapsed": false
   }
  },
  {
   "cell_type": "code",
   "execution_count": 17,
   "outputs": [
    {
     "data": {
      "text/plain": "<Figure size 1000x600 with 1 Axes>",
      "image/png": "[encoded data removed]"
     },
     "metadata": {},
     "output_type": "display_data"
    },
    {
     "name": "stdout",
     "output_type": "stream",
     "text": [
      "LinregressResult(slope=0.0012638536480166587, intercept=-2.2062120412998283, rvalue=0.35378552532318214, pvalue=0.0008951527878777693, stderr=0.0003667591468243959, intercept_stderr=0.7262388633716935)\n"
     ]
    }
   ],
   "source": [
    "gender_list_per_year = main_characters.groupby('release_date')['main character genders'].agg(list).reset_index()\n",
    "gender_list_per_year['gender_ratio'] = \\\n",
    "    gender_list_per_year['main character genders'].apply(calculate_gender_ratio)\n",
    "gender_list_per_year = gender_list_per_year[gender_list_per_year['gender_ratio'].notna()]\n",
    "gender_list_for_plot = gender_list_per_year[20:]\n",
    "plot_gender_ratio(gender_list_for_plot)"
   ],
   "metadata": {
    "collapsed": false
   }
  },
  {
   "cell_type": "markdown",
   "source": [
    "We observe an upwards trend, suggesting that female main characters have increased in popularity. This preliminary analysis is interesting, and we conclude that additional investigation into main characters is warranted.\n",
    "\n",
    "Our method does however present limitations:\n",
    "1) Most mentioned characters does not necessarily mean \"main\" character.\n",
    "2) We do not detect characters that are not mentioned by name (e.g. \"teacher\", \"general\").\n",
    "3) We miss some characters for which the name in the text is not similar enough to the official name.\n",
    "4) We only observe the first 5 sentences of each summary as well as max 20 movies per year.\n",
    "\n",
    "We aim to address these limitations for the final project milestone by reviewing our approach and by running the final pipeline on a larger dataset."
   ],
   "metadata": {
    "collapsed": false
   }
  }
 ],
 "metadata": {
  "kernelspec": {
   "name": "conda-env-ada-py",
   "language": "python",
   "display_name": "Python [conda env:ada] *"
  },
  "language_info": {
   "codemirror_mode": {
    "name": "ipython",
    "version": 2
   },
   "file_extension": ".py",
   "mimetype": "text/x-python",
   "name": "python",
   "nbconvert_exporter": "python",
   "pygments_lexer": "ipython2",
   "version": "2.7.6"
  }
 },
 "nbformat": 4,
 "nbformat_minor": 0
}
