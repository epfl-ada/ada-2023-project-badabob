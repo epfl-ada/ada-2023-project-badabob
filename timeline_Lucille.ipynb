{
 "cells": [
  {
   "cell_type": "code",
   "execution_count": 2,
   "outputs": [
    {
     "name": "stdout",
     "output_type": "stream",
     "text": [
      "The autoreload extension is already loaded. To reload it, use:\n",
      "  %reload_ext autoreload\n"
     ]
    }
   ],
   "source": [
    "%load_ext autoreload\n",
    "%autoreload 2\n",
    "from helpers import *\n",
    "import numpy as np"
   ],
   "metadata": {
    "collapsed": false
   }
  },
  {
   "cell_type": "markdown",
   "source": [
    "# Historical Timeline\n",
    "In our analysis we want to see how representation of women in american movies might be impacted by historical events. We therefore need to retrieve a history timeline. We decided to use the timeline on https://www.history.com/topics/womens-history/womens-history-us-timeline since it contains major events related to women's history in the US."
   ],
   "metadata": {
    "collapsed": false
   }
  },
  {
   "cell_type": "code",
   "execution_count": 2,
   "outputs": [
    {
     "name": "stdout",
     "output_type": "stream",
     "text": [
      "Successfully accessed https://www.history.com/topics/womens-history/womens-history-us-timeline\n",
      "Timeline saved in DATA/timeline.csv\n"
     ]
    }
   ],
   "source": [
    "get_history_timeline()"
   ],
   "metadata": {
    "collapsed": false
   }
  },
  {
   "cell_type": "markdown",
   "source": [
    "# Complementing the dataset after 2010\n",
    "The provided dataset does not contain information on recent movies. We thus decided to complement it using IMDB data to be able to also perform our analysis in recent years. We have two main datasets to complete: the movie dataset and the character dataset. To do so, we used the data available on https://datasets.imdbws.com/ and the library Cinemagoer that can retrieve information on IMDB."
   ],
   "metadata": {
    "collapsed": false
   }
  },
  {
   "cell_type": "markdown",
   "source": [
    "### A) Complementing movie data\n",
    "To complete the movie dataset we used the following folders need to be downloaded from https://datasets.imdbws.com/, unzipped and placed in the /DATA folder:\n",
    "- title.basics.tsv.gz\n",
    "- title.akas.tsv.gz\n",
    "\n",
    "However, these files are missing a lot information that we need for our analysis (plot summaries, countries, languages). We will therefore also use the library Cinemagoer to retrieve these information. In order to not have too many useless requests to IMDB through Cinemagoer, we use the datasets title.basics and titles.akas to get a list of ID of movies we are interested in."
   ],
   "metadata": {
    "collapsed": false
   }
  },
  {
   "cell_type": "code",
   "execution_count": 3,
   "outputs": [
    {
     "name": "stderr",
     "output_type": "stream",
     "text": [
      "C:\\Users\\lucil\\AppData\\Local\\Temp\\ipykernel_25040\\1556621403.py:1: DtypeWarning: Columns (4) have mixed types. Specify dtype option on import or set low_memory=False.\n",
      "  titles_dataset = pd.read_csv('DATA/title.basics.tsv/data.tsv', sep='\\t')\n"
     ]
    }
   ],
   "source": [
    "titles_dataset = pd.read_csv('DATA/title.basics.tsv/data.tsv', sep='\\t')\n",
    "movie_IDs = filter_titles_IDs(titles_dataset)"
   ],
   "metadata": {
    "collapsed": false
   }
  },
  {
   "cell_type": "code",
   "execution_count": 4,
   "outputs": [
    {
     "name": "stdout",
     "output_type": "stream",
     "text": [
      "204389\n"
     ]
    }
   ],
   "source": [
    "print(len(movie_IDs)) # we still have 204'389"
   ],
   "metadata": {
    "collapsed": false
   }
  },
  {
   "cell_type": "markdown",
   "source": [
    "Taking all of these movies from IMDB would take too much time. These IDs contain movies from a lot of different countries and we are only interested in american movies. We do not have the 'country' information in the downloaded datasets but we do have the 'original title' and the 'american title' in the title.akas dataset. We will use this dataset to find movies in which the original title is the same as the american one. Thus we can already remove some movies that we know are probably not american. We will of course keep a lot of non-american movies, but we can filter those out later."
   ],
   "metadata": {
    "collapsed": false
   }
  },
  {
   "cell_type": "code",
   "execution_count": 5,
   "outputs": [
    {
     "name": "stderr",
     "output_type": "stream",
     "text": [
      "C:\\Users\\lucil\\AppData\\Local\\Temp\\ipykernel_25040\\1798172178.py:1: DtypeWarning: Columns (7) have mixed types. Specify dtype option on import or set low_memory=False.\n",
      "  titles_akas_dataset = pd.read_csv('DATA/title.akas.tsv/data.tsv', sep='\\t')\n"
     ]
    }
   ],
   "source": [
    "titles_akas_dataset = pd.read_csv('DATA/title.akas.tsv/data.tsv', sep='\\t')\n",
    "original_titles = titles_akas_dataset[titles_akas_dataset['isOriginalTitle']==1]['title']\n",
    "# get all only the lines where the title is the same as the original title\n",
    "titles_akas_dataset_filtered = titles_akas_dataset[titles_akas_dataset['title'].isin(original_titles)]\n",
    "# get only the movies where the US title is the same as the original title\n",
    "titles_akas_dataset_filtered = titles_akas_dataset_filtered[titles_akas_dataset_filtered['region'] == 'US']"
   ],
   "metadata": {
    "collapsed": false
   }
  },
  {
   "cell_type": "code",
   "execution_count": 6,
   "outputs": [
    {
     "name": "stdout",
     "output_type": "stream",
     "text": [
      "39595\n"
     ]
    }
   ],
   "source": [
    "# get only IDs that are in both datasets\n",
    "common_ids = titles_akas_dataset_filtered[titles_akas_dataset_filtered['titleId'].isin(movie_IDs)]\n",
    "common_ids = common_ids['titleId'].drop_duplicates()\n",
    "print(len(common_ids)) # 39'595 movies left"
   ],
   "metadata": {
    "collapsed": false
   }
  },
  {
   "cell_type": "markdown",
   "source": [
    "We will now retrieve information of these 39'595 movies directly from IMDB using Cinemagoer"
   ],
   "metadata": {
    "collapsed": false
   }
  },
  {
   "cell_type": "markdown",
   "source": [
    "!! THE FOLLOWING CELL TAKES A LONG TIME TO RUN !!\n",
    "Since it has already been run once and the data was saved, there is no need to run it anymore and it is thus commented."
   ],
   "metadata": {
    "collapsed": false
   }
  },
  {
   "cell_type": "code",
   "execution_count": null,
   "outputs": [],
   "source": [
    "# get_IMDB_movies_data(common_ids)"
   ],
   "metadata": {
    "collapsed": false
   }
  },
  {
   "cell_type": "code",
   "execution_count": 8,
   "outputs": [],
   "source": [
    "IMDB_movie_data = pd.read_csv('DATA/IMDB_movies_2010-2022.csv')\n",
    "IMDB_movie_data_filtered = filter_IMDB_movie_dataset(IMDB_movie_data)"
   ],
   "metadata": {
    "collapsed": false
   }
  },
  {
   "cell_type": "code",
   "execution_count": 9,
   "outputs": [
    {
     "data": {
      "text/plain": "      Unnamed: 0     IMDB_ID              name  release_date  \\\n0              1   tt0112502           Bigfoot          2017   \n1              2   tt0172182        Blood Type          2018   \n2              3   tt0195933         Mysteries          2019   \n3              4   tt0293429     Mortal Kombat          2021   \n4              5   tt0297400         Snowblind          2015   \n...          ...         ...               ...           ...   \n1021        1756  tt10544094          The Cold          2019   \n1022        1757  tt10544554  Mechanical Heart          2018   \n1023        1760  tt10545182            Zealot          2019   \n1024        1764  tt10547804       The 27 Club          2020   \n1025        1765  tt10548502          Saturday          2020   \n\n                               languages                    countries  \\\n0                            ['English']            ['United States']   \n1                            ['English']            ['United States']   \n2                            ['English']            ['United States']   \n3     ['English', 'Japanese', 'Chinese']            ['United States']   \n4                            ['English']  ['United States', 'Canada']   \n...                                  ...                          ...   \n1021                         ['English']            ['United States']   \n1022                         ['English']            ['United States']   \n1023                         ['English']            ['United States']   \n1024                         ['English']            ['United States']   \n1025                         ['English']            ['United States']   \n\n                                                  genre  \\\n0                                ['Horror', 'Thriller']   \n1                        ['Comedy', 'Drama', 'Mystery']   \n2                                                   NaN   \n3     ['Action', 'Adventure', 'Fantasy', 'Sci-Fi', '...   \n4                                    ['Crime', 'Drama']   \n...                                                 ...   \n1021                                          ['Drama']   \n1022                                ['Comedy', 'Drama']   \n1023                                         ['Horror']   \n1024                                         ['Comedy']   \n1025                                         ['Comedy']   \n\n                                           plot_summary  \n0     ['A story of a man who, after having been thro...  \n1     ['During a frantic police car chase, a fleeing...  \n2                                                   NaN  \n3     [\"MMA fighter Cole Young seeks out Earth's gre...  \n4     ['Revealing the entrepreneurial ingenuity, par...  \n...                                                 ...  \n1021  ['Four suburban young adults are trapped toget...  \n1022  ['An aging stage actor loses his voice in an a...  \n1023                                                NaN  \n1024  ['When indie pop sensation Imogen Wright belie...  \n1025  [\"Michael finally get a day off from his job, ...  \n\n[1026 rows x 8 columns]",
      "text/html": "<div>\n<style scoped>\n    .dataframe tbody tr th:only-of-type {\n        vertical-align: middle;\n    }\n\n    .dataframe tbody tr th {\n        vertical-align: top;\n    }\n\n    .dataframe thead th {\n        text-align: right;\n    }\n</style>\n<table border=\"1\" class=\"dataframe\">\n  <thead>\n    <tr style=\"text-align: right;\">\n      <th></th>\n      <th>Unnamed: 0</th>\n      <th>IMDB_ID</th>\n      <th>name</th>\n      <th>release_date</th>\n      <th>languages</th>\n      <th>countries</th>\n      <th>genre</th>\n      <th>plot_summary</th>\n    </tr>\n  </thead>\n  <tbody>\n    <tr>\n      <th>0</th>\n      <td>1</td>\n      <td>tt0112502</td>\n      <td>Bigfoot</td>\n      <td>2017</td>\n      <td>['English']</td>\n      <td>['United States']</td>\n      <td>['Horror', 'Thriller']</td>\n      <td>['A story of a man who, after having been thro...</td>\n    </tr>\n    <tr>\n      <th>1</th>\n      <td>2</td>\n      <td>tt0172182</td>\n      <td>Blood Type</td>\n      <td>2018</td>\n      <td>['English']</td>\n      <td>['United States']</td>\n      <td>['Comedy', 'Drama', 'Mystery']</td>\n      <td>['During a frantic police car chase, a fleeing...</td>\n    </tr>\n    <tr>\n      <th>2</th>\n      <td>3</td>\n      <td>tt0195933</td>\n      <td>Mysteries</td>\n      <td>2019</td>\n      <td>['English']</td>\n      <td>['United States']</td>\n      <td>NaN</td>\n      <td>NaN</td>\n    </tr>\n    <tr>\n      <th>3</th>\n      <td>4</td>\n      <td>tt0293429</td>\n      <td>Mortal Kombat</td>\n      <td>2021</td>\n      <td>['English', 'Japanese', 'Chinese']</td>\n      <td>['United States']</td>\n      <td>['Action', 'Adventure', 'Fantasy', 'Sci-Fi', '...</td>\n      <td>[\"MMA fighter Cole Young seeks out Earth's gre...</td>\n    </tr>\n    <tr>\n      <th>4</th>\n      <td>5</td>\n      <td>tt0297400</td>\n      <td>Snowblind</td>\n      <td>2015</td>\n      <td>['English']</td>\n      <td>['United States', 'Canada']</td>\n      <td>['Crime', 'Drama']</td>\n      <td>['Revealing the entrepreneurial ingenuity, par...</td>\n    </tr>\n    <tr>\n      <th>...</th>\n      <td>...</td>\n      <td>...</td>\n      <td>...</td>\n      <td>...</td>\n      <td>...</td>\n      <td>...</td>\n      <td>...</td>\n      <td>...</td>\n    </tr>\n    <tr>\n      <th>1021</th>\n      <td>1756</td>\n      <td>tt10544094</td>\n      <td>The Cold</td>\n      <td>2019</td>\n      <td>['English']</td>\n      <td>['United States']</td>\n      <td>['Drama']</td>\n      <td>['Four suburban young adults are trapped toget...</td>\n    </tr>\n    <tr>\n      <th>1022</th>\n      <td>1757</td>\n      <td>tt10544554</td>\n      <td>Mechanical Heart</td>\n      <td>2018</td>\n      <td>['English']</td>\n      <td>['United States']</td>\n      <td>['Comedy', 'Drama']</td>\n      <td>['An aging stage actor loses his voice in an a...</td>\n    </tr>\n    <tr>\n      <th>1023</th>\n      <td>1760</td>\n      <td>tt10545182</td>\n      <td>Zealot</td>\n      <td>2019</td>\n      <td>['English']</td>\n      <td>['United States']</td>\n      <td>['Horror']</td>\n      <td>NaN</td>\n    </tr>\n    <tr>\n      <th>1024</th>\n      <td>1764</td>\n      <td>tt10547804</td>\n      <td>The 27 Club</td>\n      <td>2020</td>\n      <td>['English']</td>\n      <td>['United States']</td>\n      <td>['Comedy']</td>\n      <td>['When indie pop sensation Imogen Wright belie...</td>\n    </tr>\n    <tr>\n      <th>1025</th>\n      <td>1765</td>\n      <td>tt10548502</td>\n      <td>Saturday</td>\n      <td>2020</td>\n      <td>['English']</td>\n      <td>['United States']</td>\n      <td>['Comedy']</td>\n      <td>[\"Michael finally get a day off from his job, ...</td>\n    </tr>\n  </tbody>\n</table>\n<p>1026 rows × 8 columns</p>\n</div>"
     },
     "execution_count": 9,
     "metadata": {},
     "output_type": "execute_result"
    }
   ],
   "source": [
    "IMDB_movie_data_filtered"
   ],
   "metadata": {
    "collapsed": false
   }
  },
  {
   "cell_type": "markdown",
   "source": [
    "We now have a datasets containing all the needed information on movies from 2010-2022. We just need to merge it with the provided dataset."
   ],
   "metadata": {
    "collapsed": false
   }
  },
  {
   "cell_type": "code",
   "execution_count": 10,
   "outputs": [],
   "source": [
    "provided_data = pd.read_csv('DATA/provided_dataset_cleaned') # TODO: CHANGE WITH VARIABLE NAME\n",
    "# change the release date to just the year to be able to merge more easily and convert it to the same format of the other df\n",
    "provided_data['release_date'] = provided_data['release_date'].str[:4].astype(int)\n",
    "# country and languages are not needed anymore\n",
    "provided_data = provided_data.drop(columns=['languages', 'countries'])\n",
    "IMDB_movie_data_filtered = IMDB_movie_data.drop(columns=['languages', 'countries'])"
   ],
   "metadata": {
    "collapsed": false
   }
  },
  {
   "cell_type": "code",
   "execution_count": 12,
   "outputs": [],
   "source": [
    "# merge IMDB and provided dataset\n",
    "movie_data = pd.merge(provided_data, IMDB_movie_data_filtered, on=['name', 'release_date'], how='outer').copy()\n",
    "duplicated_cols = ['plot_summary', 'genre']\n",
    "movie_data = remove_duplicated_columns(movie_data, duplicated_cols)\n",
    "# save data\n",
    "#movie_data.to_csv('DATA/movie_data.csv')"
   ],
   "metadata": {
    "collapsed": false
   }
  },
  {
   "cell_type": "code",
   "execution_count": 13,
   "outputs": [
    {
     "data": {
      "text/plain": "       wikipedia_ID freebase_ID  \\\n0          975900.0   /m/03vyhn   \n1         3196793.0   /m/08yl5d   \n2        13696889.0  /m/03cfc81   \n3        10408933.0  /m/02qc0j7   \n4          175026.0   /m/017n1p   \n...             ...         ...   \n30822           NaN         NaN   \n30823           NaN         NaN   \n30824           NaN         NaN   \n30825           NaN         NaN   \n30826           NaN         NaN   \n\n                                                    name  release_date  \\\n0                                         Ghosts of Mars          2001   \n1      Getting Away with Murder: The JonBenét Ramsey ...          2000   \n2                                          The Gangsters          1913   \n3                               Alexander's Ragtime Band          1938   \n4                                          Sarah and Son          1930   \n...                                                  ...           ...   \n30822                                           The Cold          2019   \n30823                                   Mechanical Heart          2018   \n30824                                             Zealot          2019   \n30825                                        The 27 Club          2020   \n30826                                           Saturday          2020   \n\n       box_office_revenue  runtime  \\\n0              14010832.0     98.0   \n1                     NaN     95.0   \n2                     NaN     35.0   \n3               3600000.0    106.0   \n4                     NaN     86.0   \n...                   ...      ...   \n30822                 NaN      NaN   \n30823                 NaN      NaN   \n30824                 NaN      NaN   \n30825                 NaN      NaN   \n30826                 NaN      NaN   \n\n                                                   genre  \\\n0      ['Thriller', 'Science Fiction', 'Horror', 'Adv...   \n1      ['Mystery', 'Biographical film', 'Drama', 'Cri...   \n2      ['Short Film', 'Silent film', 'Indie', 'Black-...   \n3               ['Musical', 'Comedy', 'Black-and-white']   \n4                           ['Drama', 'Black-and-white']   \n...                                                  ...   \n30822                                          ['Drama']   \n30823                                ['Comedy', 'Drama']   \n30824                                         ['Horror']   \n30825                                         ['Comedy']   \n30826                                         ['Comedy']   \n\n                                            plot_summary  Unnamed: 0  \\\n0      Set in the second half of the 22nd century, th...         NaN   \n1                                                    NaN         NaN   \n2                                                    NaN         NaN   \n3                                                    NaN         NaN   \n4                                                    NaN         NaN   \n...                                                  ...         ...   \n30822  ['Four suburban young adults are trapped toget...      1756.0   \n30823  ['An aging stage actor loses his voice in an a...      1757.0   \n30824                                                NaN      1760.0   \n30825  ['When indie pop sensation Imogen Wright belie...      1764.0   \n30826  [\"Michael finally get a day off from his job, ...      1765.0   \n\n          IMDB_ID  \n0             NaN  \n1             NaN  \n2             NaN  \n3             NaN  \n4             NaN  \n...           ...  \n30822  tt10544094  \n30823  tt10544554  \n30824  tt10545182  \n30825  tt10547804  \n30826  tt10548502  \n\n[30827 rows x 10 columns]",
      "text/html": "<div>\n<style scoped>\n    .dataframe tbody tr th:only-of-type {\n        vertical-align: middle;\n    }\n\n    .dataframe tbody tr th {\n        vertical-align: top;\n    }\n\n    .dataframe thead th {\n        text-align: right;\n    }\n</style>\n<table border=\"1\" class=\"dataframe\">\n  <thead>\n    <tr style=\"text-align: right;\">\n      <th></th>\n      <th>wikipedia_ID</th>\n      <th>freebase_ID</th>\n      <th>name</th>\n      <th>release_date</th>\n      <th>box_office_revenue</th>\n      <th>runtime</th>\n      <th>genre</th>\n      <th>plot_summary</th>\n      <th>Unnamed: 0</th>\n      <th>IMDB_ID</th>\n    </tr>\n  </thead>\n  <tbody>\n    <tr>\n      <th>0</th>\n      <td>975900.0</td>\n      <td>/m/03vyhn</td>\n      <td>Ghosts of Mars</td>\n      <td>2001</td>\n      <td>14010832.0</td>\n      <td>98.0</td>\n      <td>['Thriller', 'Science Fiction', 'Horror', 'Adv...</td>\n      <td>Set in the second half of the 22nd century, th...</td>\n      <td>NaN</td>\n      <td>NaN</td>\n    </tr>\n    <tr>\n      <th>1</th>\n      <td>3196793.0</td>\n      <td>/m/08yl5d</td>\n      <td>Getting Away with Murder: The JonBenét Ramsey ...</td>\n      <td>2000</td>\n      <td>NaN</td>\n      <td>95.0</td>\n      <td>['Mystery', 'Biographical film', 'Drama', 'Cri...</td>\n      <td>NaN</td>\n      <td>NaN</td>\n      <td>NaN</td>\n    </tr>\n    <tr>\n      <th>2</th>\n      <td>13696889.0</td>\n      <td>/m/03cfc81</td>\n      <td>The Gangsters</td>\n      <td>1913</td>\n      <td>NaN</td>\n      <td>35.0</td>\n      <td>['Short Film', 'Silent film', 'Indie', 'Black-...</td>\n      <td>NaN</td>\n      <td>NaN</td>\n      <td>NaN</td>\n    </tr>\n    <tr>\n      <th>3</th>\n      <td>10408933.0</td>\n      <td>/m/02qc0j7</td>\n      <td>Alexander's Ragtime Band</td>\n      <td>1938</td>\n      <td>3600000.0</td>\n      <td>106.0</td>\n      <td>['Musical', 'Comedy', 'Black-and-white']</td>\n      <td>NaN</td>\n      <td>NaN</td>\n      <td>NaN</td>\n    </tr>\n    <tr>\n      <th>4</th>\n      <td>175026.0</td>\n      <td>/m/017n1p</td>\n      <td>Sarah and Son</td>\n      <td>1930</td>\n      <td>NaN</td>\n      <td>86.0</td>\n      <td>['Drama', 'Black-and-white']</td>\n      <td>NaN</td>\n      <td>NaN</td>\n      <td>NaN</td>\n    </tr>\n    <tr>\n      <th>...</th>\n      <td>...</td>\n      <td>...</td>\n      <td>...</td>\n      <td>...</td>\n      <td>...</td>\n      <td>...</td>\n      <td>...</td>\n      <td>...</td>\n      <td>...</td>\n      <td>...</td>\n    </tr>\n    <tr>\n      <th>30822</th>\n      <td>NaN</td>\n      <td>NaN</td>\n      <td>The Cold</td>\n      <td>2019</td>\n      <td>NaN</td>\n      <td>NaN</td>\n      <td>['Drama']</td>\n      <td>['Four suburban young adults are trapped toget...</td>\n      <td>1756.0</td>\n      <td>tt10544094</td>\n    </tr>\n    <tr>\n      <th>30823</th>\n      <td>NaN</td>\n      <td>NaN</td>\n      <td>Mechanical Heart</td>\n      <td>2018</td>\n      <td>NaN</td>\n      <td>NaN</td>\n      <td>['Comedy', 'Drama']</td>\n      <td>['An aging stage actor loses his voice in an a...</td>\n      <td>1757.0</td>\n      <td>tt10544554</td>\n    </tr>\n    <tr>\n      <th>30824</th>\n      <td>NaN</td>\n      <td>NaN</td>\n      <td>Zealot</td>\n      <td>2019</td>\n      <td>NaN</td>\n      <td>NaN</td>\n      <td>['Horror']</td>\n      <td>NaN</td>\n      <td>1760.0</td>\n      <td>tt10545182</td>\n    </tr>\n    <tr>\n      <th>30825</th>\n      <td>NaN</td>\n      <td>NaN</td>\n      <td>The 27 Club</td>\n      <td>2020</td>\n      <td>NaN</td>\n      <td>NaN</td>\n      <td>['Comedy']</td>\n      <td>['When indie pop sensation Imogen Wright belie...</td>\n      <td>1764.0</td>\n      <td>tt10547804</td>\n    </tr>\n    <tr>\n      <th>30826</th>\n      <td>NaN</td>\n      <td>NaN</td>\n      <td>Saturday</td>\n      <td>2020</td>\n      <td>NaN</td>\n      <td>NaN</td>\n      <td>['Comedy']</td>\n      <td>[\"Michael finally get a day off from his job, ...</td>\n      <td>1765.0</td>\n      <td>tt10548502</td>\n    </tr>\n  </tbody>\n</table>\n<p>30827 rows × 10 columns</p>\n</div>"
     },
     "execution_count": 13,
     "metadata": {},
     "output_type": "execute_result"
    }
   ],
   "source": [
    "movie_data"
   ],
   "metadata": {
    "collapsed": false
   }
  },
  {
   "cell_type": "markdown",
   "source": [
    "We now have a data sets containing movies until 2022 that is ready for our analysis!"
   ],
   "metadata": {
    "collapsed": false
   }
  },
  {
   "cell_type": "markdown",
   "source": [
    "### B) Complementing characters' data\n",
    "To complete the character dataset the following folders need to be downloaded from https://datasets.imdbws.com/, unzipped and placed in the /DATA folder:\n",
    "- title.principals.tsv.gz\n",
    "- name.basics.tsv.gz"
   ],
   "metadata": {
    "collapsed": false
   }
  },
  {
   "cell_type": "code",
   "execution_count": 14,
   "outputs": [
    {
     "name": "stderr",
     "output_type": "stream",
     "text": [
      "C:\\Users\\lucil\\OneDrive\\Documents\\EPFL\\MA3\\ADA\\ada-2023-project-badabob\\helpers.py:180: SettingWithCopyWarning: \n",
      "A value is trying to be set on a copy of a slice from a DataFrame.\n",
      "Try using .loc[row_indexer,col_indexer] = value instead\n",
      "\n",
      "See the caveats in the documentation: https://pandas.pydata.org/pandas-docs/stable/user_guide/indexing.html#returning-a-view-versus-a-copy\n",
      "  characters_data.loc[characters_data['category'] == 'actor', 'actor_gender'] = 'M'\n"
     ]
    }
   ],
   "source": [
    "# load characters info\n",
    "characters_data = pd.read_csv('DATA/title.principals.tsv/data.tsv', sep='\\t')\n",
    "IMDB_ids = IMDB_movie_data_filtered['IMDB_ID']\n",
    "# only keep characters of the filtered movies\n",
    "characters_data_filtered = clean_IMDB_character_dataset(characters_data, IMDB_ids)"
   ],
   "metadata": {
    "collapsed": false
   }
  },
  {
   "cell_type": "code",
   "execution_count": 15,
   "outputs": [],
   "source": [
    "# load actors info\n",
    "actors_data = pd.read_csv('DATA/name.basics.tsv/data.tsv', sep='\\t')\n",
    "# remove useless columns\n",
    "actors_data = actors_data.drop(columns=['deathYear', 'primaryProfession', 'knownForTitles'])"
   ],
   "metadata": {
    "collapsed": false
   }
  },
  {
   "cell_type": "markdown",
   "source": [
    "We now need to merge all the information we have on the characters and the actors. There are some information we still need to add to the dataframe: release date, actor age, movie name. These will be added by merging with the movie dataset created above."
   ],
   "metadata": {
    "collapsed": false
   }
  },
  {
   "cell_type": "code",
   "execution_count": 17,
   "outputs": [],
   "source": [
    "# merge actor data and movie data on character data\n",
    "IMDB_characters_data = merge_datasets_characters(characters_data_filtered, actors_data, IMDB_movie_data_filtered)\n",
    "IMDB_characters_data.loc[IMDB_characters_data['character_name'] == '\\\\N', 'character_name'] = None\n",
    "IMDB_characters_data['release_date'] = IMDB_characters_data['release_date'].astype(float) #so that it's the same type as the provided data"
   ],
   "metadata": {
    "collapsed": false
   }
  },
  {
   "cell_type": "code",
   "execution_count": 18,
   "outputs": [
    {
     "data": {
      "text/plain": "         IMDB_ID actor_IMDB_ID   character_name actor_gender  \\\n0      tt0172182     nm0182661          Bum Joe            M   \n1      tt0172182     nm0500098         Tiffanie            F   \n2      tt0172182     nm0090981             Chad            M   \n3      tt0172182     nm0001730         Mrs. Dow            F   \n4      tt0293429     nm1167985       Cole Young            M   \n...          ...           ...              ...          ...   \n3123  tt10548502    nm10791665  Jehovah Witness            M   \n3124  tt10548502    nm10437154            Black            M   \n3125  tt10548502    nm10791663           Roland            M   \n3126  tt10548502     nm8820193             Earl            M   \n3127  tt10548502     nm9656262           Denise            F   \n\n            actor_name  actor_birthday  Unnamed: 0           name  \\\n0       Nicolas Coster          1933.0           2     Blood Type   \n1         Hudson Leick          1969.0           2     Blood Type   \n2     Wolfgang Bodison          1966.0           2     Blood Type   \n3      Deborah Shelton          1948.0           2     Blood Type   \n4            Lewis Tan             NaN           4  Mortal Kombat   \n...                ...             ...         ...            ...   \n3123       D.J. Gibson             NaN        1765       Saturday   \n3124  Rodney H. Glover             NaN        1765       Saturday   \n3125    Deitrick Greer             NaN        1765       Saturday   \n3126    Cecil M. Henry             NaN        1765       Saturday   \n3127      Sha'ron Lynn             NaN        1765       Saturday   \n\n      release_date  actor_age  \n0           2018.0       85.0  \n1           2018.0       49.0  \n2           2018.0       52.0  \n3           2018.0       70.0  \n4           2021.0        NaN  \n...            ...        ...  \n3123        2020.0        NaN  \n3124        2020.0        NaN  \n3125        2020.0        NaN  \n3126        2020.0        NaN  \n3127        2020.0        NaN  \n\n[3128 rows x 10 columns]",
      "text/html": "<div>\n<style scoped>\n    .dataframe tbody tr th:only-of-type {\n        vertical-align: middle;\n    }\n\n    .dataframe tbody tr th {\n        vertical-align: top;\n    }\n\n    .dataframe thead th {\n        text-align: right;\n    }\n</style>\n<table border=\"1\" class=\"dataframe\">\n  <thead>\n    <tr style=\"text-align: right;\">\n      <th></th>\n      <th>IMDB_ID</th>\n      <th>actor_IMDB_ID</th>\n      <th>character_name</th>\n      <th>actor_gender</th>\n      <th>actor_name</th>\n      <th>actor_birthday</th>\n      <th>Unnamed: 0</th>\n      <th>name</th>\n      <th>release_date</th>\n      <th>actor_age</th>\n    </tr>\n  </thead>\n  <tbody>\n    <tr>\n      <th>0</th>\n      <td>tt0172182</td>\n      <td>nm0182661</td>\n      <td>Bum Joe</td>\n      <td>M</td>\n      <td>Nicolas Coster</td>\n      <td>1933.0</td>\n      <td>2</td>\n      <td>Blood Type</td>\n      <td>2018.0</td>\n      <td>85.0</td>\n    </tr>\n    <tr>\n      <th>1</th>\n      <td>tt0172182</td>\n      <td>nm0500098</td>\n      <td>Tiffanie</td>\n      <td>F</td>\n      <td>Hudson Leick</td>\n      <td>1969.0</td>\n      <td>2</td>\n      <td>Blood Type</td>\n      <td>2018.0</td>\n      <td>49.0</td>\n    </tr>\n    <tr>\n      <th>2</th>\n      <td>tt0172182</td>\n      <td>nm0090981</td>\n      <td>Chad</td>\n      <td>M</td>\n      <td>Wolfgang Bodison</td>\n      <td>1966.0</td>\n      <td>2</td>\n      <td>Blood Type</td>\n      <td>2018.0</td>\n      <td>52.0</td>\n    </tr>\n    <tr>\n      <th>3</th>\n      <td>tt0172182</td>\n      <td>nm0001730</td>\n      <td>Mrs. Dow</td>\n      <td>F</td>\n      <td>Deborah Shelton</td>\n      <td>1948.0</td>\n      <td>2</td>\n      <td>Blood Type</td>\n      <td>2018.0</td>\n      <td>70.0</td>\n    </tr>\n    <tr>\n      <th>4</th>\n      <td>tt0293429</td>\n      <td>nm1167985</td>\n      <td>Cole Young</td>\n      <td>M</td>\n      <td>Lewis Tan</td>\n      <td>NaN</td>\n      <td>4</td>\n      <td>Mortal Kombat</td>\n      <td>2021.0</td>\n      <td>NaN</td>\n    </tr>\n    <tr>\n      <th>...</th>\n      <td>...</td>\n      <td>...</td>\n      <td>...</td>\n      <td>...</td>\n      <td>...</td>\n      <td>...</td>\n      <td>...</td>\n      <td>...</td>\n      <td>...</td>\n      <td>...</td>\n    </tr>\n    <tr>\n      <th>3123</th>\n      <td>tt10548502</td>\n      <td>nm10791665</td>\n      <td>Jehovah Witness</td>\n      <td>M</td>\n      <td>D.J. Gibson</td>\n      <td>NaN</td>\n      <td>1765</td>\n      <td>Saturday</td>\n      <td>2020.0</td>\n      <td>NaN</td>\n    </tr>\n    <tr>\n      <th>3124</th>\n      <td>tt10548502</td>\n      <td>nm10437154</td>\n      <td>Black</td>\n      <td>M</td>\n      <td>Rodney H. Glover</td>\n      <td>NaN</td>\n      <td>1765</td>\n      <td>Saturday</td>\n      <td>2020.0</td>\n      <td>NaN</td>\n    </tr>\n    <tr>\n      <th>3125</th>\n      <td>tt10548502</td>\n      <td>nm10791663</td>\n      <td>Roland</td>\n      <td>M</td>\n      <td>Deitrick Greer</td>\n      <td>NaN</td>\n      <td>1765</td>\n      <td>Saturday</td>\n      <td>2020.0</td>\n      <td>NaN</td>\n    </tr>\n    <tr>\n      <th>3126</th>\n      <td>tt10548502</td>\n      <td>nm8820193</td>\n      <td>Earl</td>\n      <td>M</td>\n      <td>Cecil M. Henry</td>\n      <td>NaN</td>\n      <td>1765</td>\n      <td>Saturday</td>\n      <td>2020.0</td>\n      <td>NaN</td>\n    </tr>\n    <tr>\n      <th>3127</th>\n      <td>tt10548502</td>\n      <td>nm9656262</td>\n      <td>Denise</td>\n      <td>F</td>\n      <td>Sha'ron Lynn</td>\n      <td>NaN</td>\n      <td>1765</td>\n      <td>Saturday</td>\n      <td>2020.0</td>\n      <td>NaN</td>\n    </tr>\n  </tbody>\n</table>\n<p>3128 rows × 10 columns</p>\n</div>"
     },
     "execution_count": 18,
     "metadata": {},
     "output_type": "execute_result"
    }
   ],
   "source": [
    "IMDB_characters_data"
   ],
   "metadata": {
    "collapsed": false
   }
  },
  {
   "cell_type": "markdown",
   "source": [
    "We can now merge this IMDB character dataset with the provided character dataset"
   ],
   "metadata": {
    "collapsed": false
   }
  },
  {
   "cell_type": "code",
   "execution_count": 19,
   "outputs": [],
   "source": [
    "#provided_characters = character_metadata_noNA_genderYear_personnas #TODO: replace by variable name\n",
    "provided_characters = pd.read_csv('DATA/US_movies_with_movie_names')\n",
    "#change birthday into birth year\n",
    "provided_characters['actor_birthday'] = provided_characters['actor_birthday'].str[:4].astype(float)\n",
    "provided_characters['release_date'] = provided_characters['release_date'].str[:4].astype(float)"
   ],
   "metadata": {
    "collapsed": false
   }
  },
  {
   "cell_type": "code",
   "execution_count": 22,
   "outputs": [],
   "source": [
    "#first put everything in lower case\n",
    "provided_characters['character_name'] = name_to_lowercase(provided_characters, 'character_name')\n",
    "provided_characters['actor_name'] = name_to_lowercase(provided_characters, 'actor_name')\n",
    "IMDB_characters_data['character_name'] = name_to_lowercase(IMDB_characters_data, 'character_name')\n",
    "IMDB_characters_data['actor_name'] = name_to_lowercase(IMDB_characters_data, 'actor_name')\n",
    "# merge datasets\n",
    "characters_data = pd.merge(provided_characters, IMDB_characters_data, on=['name', 'character_name', 'actor_name', 'release_date'], how='outer').copy()\n",
    "# remove columns that were duplicated\n",
    "duplicated_cols = ['actor_birthday', 'actor_gender', 'actor_age']\n",
    "characters_data= remove_duplicated_columns(characters_data, duplicated_cols)\n",
    "# save file\n",
    "#characters_data.to_csv('DATA/characters_data.csv', index=False)"
   ],
   "metadata": {
    "collapsed": false
   }
  },
  {
   "cell_type": "code",
   "execution_count": 23,
   "outputs": [
    {
     "data": {
      "text/plain": "        wikipedia_ID freebase_ID  release_date              character_name  \\\n0           975900.0   /m/03vyhn        2001.0                    akooshay   \n1           975900.0   /m/03vyhn        2001.0  lieutenant melanie ballard   \n2           975900.0   /m/03vyhn        2001.0         desolation williams   \n3           975900.0   /m/03vyhn        2001.0          sgt jericho butler   \n4           975900.0   /m/03vyhn        2001.0             bashira kincaid   \n...              ...         ...           ...                         ...   \n398294           NaN         NaN        2020.0             jehovah witness   \n398295           NaN         NaN        2020.0                       black   \n398296           NaN         NaN        2020.0                      roland   \n398297           NaN         NaN        2020.0                        earl   \n398298           NaN         NaN        2020.0                      denise   \n\n        actor_birthday actor_gender  actor_height actor_ethnicity  \\\n0               1958.0            F         1.620             NaN   \n1               1974.0            F         1.780      /m/044038p   \n2               1969.0            M         1.727         /m/0x67   \n3               1967.0            M         1.750             NaN   \n4               1977.0            F         1.650             NaN   \n...                ...          ...           ...             ...   \n398294             NaN            M           NaN             NaN   \n398295             NaN            M           NaN             NaN   \n398296             NaN            M           NaN             NaN   \n398297             NaN            M           NaN             NaN   \n398298             NaN            F           NaN             NaN   \n\n                actor_name  actor_age freebase_character_actor_mapID  \\\n0           wanda de jesus       42.0                     /m/0bgchxw   \n1       natasha henstridge       27.0                      /m/0jys3m   \n2                 ice cube       32.0                      /m/0jys3g   \n3            jason statham       33.0                     /m/02vchl6   \n4              clea duvall       23.0                     /m/02vbb3r   \n...                    ...        ...                            ...   \n398294         d.j. gibson        NaN                            NaN   \n398295    rodney h. glover        NaN                            NaN   \n398296      deitrick greer        NaN                            NaN   \n398297      cecil m. henry        NaN                            NaN   \n398298        sha'ron lynn        NaN                            NaN   \n\n       freebase_character_ID freebase_actor_ID personnas            name  \\\n0                 /m/0bgcj3x        /m/03wcfv7       NaN  Ghosts of Mars   \n1                 /m/0bgchn4         /m/0346l4       NaN  Ghosts of Mars   \n2                 /m/0bgchn_        /m/01vw26l       NaN  Ghosts of Mars   \n3                 /m/0bgchnq         /m/034hyc       NaN  Ghosts of Mars   \n4                 /m/0bgchp9         /m/01y9xg       NaN  Ghosts of Mars   \n...                      ...               ...       ...             ...   \n398294                   NaN               NaN       NaN        Saturday   \n398295                   NaN               NaN       NaN        Saturday   \n398296                   NaN               NaN       NaN        Saturday   \n398297                   NaN               NaN       NaN        Saturday   \n398298                   NaN               NaN       NaN        Saturday   \n\n           IMDB_ID actor_IMDB_ID  Unnamed: 0  \n0              NaN           NaN         NaN  \n1              NaN           NaN         NaN  \n2              NaN           NaN         NaN  \n3              NaN           NaN         NaN  \n4              NaN           NaN         NaN  \n...            ...           ...         ...  \n398294  tt10548502    nm10791665      1765.0  \n398295  tt10548502    nm10437154      1765.0  \n398296  tt10548502    nm10791663      1765.0  \n398297  tt10548502     nm8820193      1765.0  \n398298  tt10548502     nm9656262      1765.0  \n\n[398299 rows x 18 columns]",
      "text/html": "<div>\n<style scoped>\n    .dataframe tbody tr th:only-of-type {\n        vertical-align: middle;\n    }\n\n    .dataframe tbody tr th {\n        vertical-align: top;\n    }\n\n    .dataframe thead th {\n        text-align: right;\n    }\n</style>\n<table border=\"1\" class=\"dataframe\">\n  <thead>\n    <tr style=\"text-align: right;\">\n      <th></th>\n      <th>wikipedia_ID</th>\n      <th>freebase_ID</th>\n      <th>release_date</th>\n      <th>character_name</th>\n      <th>actor_birthday</th>\n      <th>actor_gender</th>\n      <th>actor_height</th>\n      <th>actor_ethnicity</th>\n      <th>actor_name</th>\n      <th>actor_age</th>\n      <th>freebase_character_actor_mapID</th>\n      <th>freebase_character_ID</th>\n      <th>freebase_actor_ID</th>\n      <th>personnas</th>\n      <th>name</th>\n      <th>IMDB_ID</th>\n      <th>actor_IMDB_ID</th>\n      <th>Unnamed: 0</th>\n    </tr>\n  </thead>\n  <tbody>\n    <tr>\n      <th>0</th>\n      <td>975900.0</td>\n      <td>/m/03vyhn</td>\n      <td>2001.0</td>\n      <td>akooshay</td>\n      <td>1958.0</td>\n      <td>F</td>\n      <td>1.620</td>\n      <td>NaN</td>\n      <td>wanda de jesus</td>\n      <td>42.0</td>\n      <td>/m/0bgchxw</td>\n      <td>/m/0bgcj3x</td>\n      <td>/m/03wcfv7</td>\n      <td>NaN</td>\n      <td>Ghosts of Mars</td>\n      <td>NaN</td>\n      <td>NaN</td>\n      <td>NaN</td>\n    </tr>\n    <tr>\n      <th>1</th>\n      <td>975900.0</td>\n      <td>/m/03vyhn</td>\n      <td>2001.0</td>\n      <td>lieutenant melanie ballard</td>\n      <td>1974.0</td>\n      <td>F</td>\n      <td>1.780</td>\n      <td>/m/044038p</td>\n      <td>natasha henstridge</td>\n      <td>27.0</td>\n      <td>/m/0jys3m</td>\n      <td>/m/0bgchn4</td>\n      <td>/m/0346l4</td>\n      <td>NaN</td>\n      <td>Ghosts of Mars</td>\n      <td>NaN</td>\n      <td>NaN</td>\n      <td>NaN</td>\n    </tr>\n    <tr>\n      <th>2</th>\n      <td>975900.0</td>\n      <td>/m/03vyhn</td>\n      <td>2001.0</td>\n      <td>desolation williams</td>\n      <td>1969.0</td>\n      <td>M</td>\n      <td>1.727</td>\n      <td>/m/0x67</td>\n      <td>ice cube</td>\n      <td>32.0</td>\n      <td>/m/0jys3g</td>\n      <td>/m/0bgchn_</td>\n      <td>/m/01vw26l</td>\n      <td>NaN</td>\n      <td>Ghosts of Mars</td>\n      <td>NaN</td>\n      <td>NaN</td>\n      <td>NaN</td>\n    </tr>\n    <tr>\n      <th>3</th>\n      <td>975900.0</td>\n      <td>/m/03vyhn</td>\n      <td>2001.0</td>\n      <td>sgt jericho butler</td>\n      <td>1967.0</td>\n      <td>M</td>\n      <td>1.750</td>\n      <td>NaN</td>\n      <td>jason statham</td>\n      <td>33.0</td>\n      <td>/m/02vchl6</td>\n      <td>/m/0bgchnq</td>\n      <td>/m/034hyc</td>\n      <td>NaN</td>\n      <td>Ghosts of Mars</td>\n      <td>NaN</td>\n      <td>NaN</td>\n      <td>NaN</td>\n    </tr>\n    <tr>\n      <th>4</th>\n      <td>975900.0</td>\n      <td>/m/03vyhn</td>\n      <td>2001.0</td>\n      <td>bashira kincaid</td>\n      <td>1977.0</td>\n      <td>F</td>\n      <td>1.650</td>\n      <td>NaN</td>\n      <td>clea duvall</td>\n      <td>23.0</td>\n      <td>/m/02vbb3r</td>\n      <td>/m/0bgchp9</td>\n      <td>/m/01y9xg</td>\n      <td>NaN</td>\n      <td>Ghosts of Mars</td>\n      <td>NaN</td>\n      <td>NaN</td>\n      <td>NaN</td>\n    </tr>\n    <tr>\n      <th>...</th>\n      <td>...</td>\n      <td>...</td>\n      <td>...</td>\n      <td>...</td>\n      <td>...</td>\n      <td>...</td>\n      <td>...</td>\n      <td>...</td>\n      <td>...</td>\n      <td>...</td>\n      <td>...</td>\n      <td>...</td>\n      <td>...</td>\n      <td>...</td>\n      <td>...</td>\n      <td>...</td>\n      <td>...</td>\n      <td>...</td>\n    </tr>\n    <tr>\n      <th>398294</th>\n      <td>NaN</td>\n      <td>NaN</td>\n      <td>2020.0</td>\n      <td>jehovah witness</td>\n      <td>NaN</td>\n      <td>M</td>\n      <td>NaN</td>\n      <td>NaN</td>\n      <td>d.j. gibson</td>\n      <td>NaN</td>\n      <td>NaN</td>\n      <td>NaN</td>\n      <td>NaN</td>\n      <td>NaN</td>\n      <td>Saturday</td>\n      <td>tt10548502</td>\n      <td>nm10791665</td>\n      <td>1765.0</td>\n    </tr>\n    <tr>\n      <th>398295</th>\n      <td>NaN</td>\n      <td>NaN</td>\n      <td>2020.0</td>\n      <td>black</td>\n      <td>NaN</td>\n      <td>M</td>\n      <td>NaN</td>\n      <td>NaN</td>\n      <td>rodney h. glover</td>\n      <td>NaN</td>\n      <td>NaN</td>\n      <td>NaN</td>\n      <td>NaN</td>\n      <td>NaN</td>\n      <td>Saturday</td>\n      <td>tt10548502</td>\n      <td>nm10437154</td>\n      <td>1765.0</td>\n    </tr>\n    <tr>\n      <th>398296</th>\n      <td>NaN</td>\n      <td>NaN</td>\n      <td>2020.0</td>\n      <td>roland</td>\n      <td>NaN</td>\n      <td>M</td>\n      <td>NaN</td>\n      <td>NaN</td>\n      <td>deitrick greer</td>\n      <td>NaN</td>\n      <td>NaN</td>\n      <td>NaN</td>\n      <td>NaN</td>\n      <td>NaN</td>\n      <td>Saturday</td>\n      <td>tt10548502</td>\n      <td>nm10791663</td>\n      <td>1765.0</td>\n    </tr>\n    <tr>\n      <th>398297</th>\n      <td>NaN</td>\n      <td>NaN</td>\n      <td>2020.0</td>\n      <td>earl</td>\n      <td>NaN</td>\n      <td>M</td>\n      <td>NaN</td>\n      <td>NaN</td>\n      <td>cecil m. henry</td>\n      <td>NaN</td>\n      <td>NaN</td>\n      <td>NaN</td>\n      <td>NaN</td>\n      <td>NaN</td>\n      <td>Saturday</td>\n      <td>tt10548502</td>\n      <td>nm8820193</td>\n      <td>1765.0</td>\n    </tr>\n    <tr>\n      <th>398298</th>\n      <td>NaN</td>\n      <td>NaN</td>\n      <td>2020.0</td>\n      <td>denise</td>\n      <td>NaN</td>\n      <td>F</td>\n      <td>NaN</td>\n      <td>NaN</td>\n      <td>sha'ron lynn</td>\n      <td>NaN</td>\n      <td>NaN</td>\n      <td>NaN</td>\n      <td>NaN</td>\n      <td>NaN</td>\n      <td>Saturday</td>\n      <td>tt10548502</td>\n      <td>nm9656262</td>\n      <td>1765.0</td>\n    </tr>\n  </tbody>\n</table>\n<p>398299 rows × 18 columns</p>\n</div>"
     },
     "execution_count": 23,
     "metadata": {},
     "output_type": "execute_result"
    }
   ],
   "source": [
    "characters_data"
   ],
   "metadata": {
    "collapsed": false
   }
  }
 ],
 "metadata": {
  "kernelspec": {
   "display_name": "Python 3",
   "language": "python",
   "name": "python3"
  },
  "language_info": {
   "codemirror_mode": {
    "name": "ipython",
    "version": 2
   },
   "file_extension": ".py",
   "mimetype": "text/x-python",
   "name": "python",
   "nbconvert_exporter": "python",
   "pygments_lexer": "ipython2",
   "version": "2.7.6"
  }
 },
 "nbformat": 4,
 "nbformat_minor": 0
}
