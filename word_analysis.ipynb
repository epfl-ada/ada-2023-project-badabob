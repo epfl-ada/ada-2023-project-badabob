{
 "cells": [
  {
   "cell_type": "markdown",
   "source": [
    "# Analysis of words in summaries to determine character actions [Work in progress]"
   ],
   "metadata": {
    "collapsed": false
   }
  },
  {
   "cell_type": "code",
   "execution_count": 16,
   "metadata": {
    "collapsed": true
   },
   "outputs": [],
   "source": [
    "import nltk\n",
    "import pandas as pd\n",
    "from nltk.corpus import stopwords\n",
    "from tqdm import tqdm # Progress bar"
   ]
  },
  {
   "cell_type": "code",
   "execution_count": 17,
   "outputs": [],
   "source": [
    "## Uncomment cell on first run\n",
    "#nltk.download('maxent_ne_chunker')\n",
    "#nltk.download('words')\n",
    "#nltk.download('averaged_perceptron_tagger')\n",
    "#nltk.download('stopwords')"
   ],
   "metadata": {
    "collapsed": false
   }
  },
  {
   "cell_type": "code",
   "execution_count": 18,
   "outputs": [],
   "source": [
    "data=pd.read_csv('DATA/movie_data.csv')"
   ],
   "metadata": {
    "collapsed": false
   }
  },
  {
   "cell_type": "code",
   "execution_count": 19,
   "outputs": [],
   "source": [
    "## Subset of data to test the model\n",
    "data_test=data.head(100)"
   ],
   "metadata": {
    "collapsed": false
   }
  },
  {
   "cell_type": "code",
   "execution_count": 20,
   "outputs": [
    {
     "data": {
      "text/plain": "      IMDB_ID  wikipedia_ID freebase_ID  box_office_revenue  runtime  \\\n0   tt0228333      975900.0   /m/03vyhn          14010832.0     98.0   \n1   tt0245916     3196793.0   /m/08yl5d                 NaN     95.0   \n2   tt0002894    13696889.0  /m/03cfc81                 NaN     35.0   \n3   tt0029852    10408933.0  /m/02qc0j7           3600000.0    106.0   \n4   tt0021335      175026.0   /m/017n1p                 NaN     86.0   \n..        ...           ...         ...                 ...      ...   \n95  tt0065825    27365295.0  /m/0bb_l75                 NaN     95.0   \n96  tt0865556     6703617.0   /m/0gj6pd         127906624.0    105.0   \n97  tt0427342    14294670.0  /m/03c_p7d                 NaN     92.0   \n98  tt0019466    22466518.0  /m/05zp19b                 NaN     19.0   \n99  tt0099191    20545821.0  /m/0523g9d                 NaN      NaN   \n\n                                                 name  release_date  \\\n0                                      Ghosts of Mars        2001.0   \n1   Getting Away with Murder: The JonBenét Ramsey ...        2000.0   \n2                                       The Gangsters        1913.0   \n3                            Alexander's Ragtime Band        1938.0   \n4                                       Sarah and Son        1930.0   \n..                                                ...           ...   \n95                                         Hell Boats        1970.0   \n96                              The Forbidden Kingdom        2008.0   \n97                                 Heart of the Storm        2004.0   \n98                                        There It Is        1928.0   \n99                              Burning Down Tomorrow        1990.0   \n\n                                                genre  \\\n0   ['Thriller', 'Adventure', 'Horror', 'Action', ...   \n1                   ['Biography', 'Drama', 'Mystery']   \n2                                 ['Comedy', 'Indie']   \n3                               ['Musical', 'Comedy']   \n4                                           ['Drama']   \n..                                                ...   \n95                                      ['Adventure']   \n96  ['Action', 'Romance Film', 'Fantasy', 'Adventu...   \n97             ['Psychological thriller', 'Thriller']   \n98                                                 []   \n99                           ['Indie', 'Documentary']   \n\n                                         plot_summary  \n0   Set in the second half of the 22nd century, th...  \n1                                                 NaN  \n2                                                 NaN  \n3                                                 NaN  \n4                                                 NaN  \n..                                                ...  \n95  In 1941 Lt. Commander Jeffords, an American se...  \n96  In this film, which is based loosely on the an...  \n97                                                NaN  \n98                                                NaN  \n99                                                NaN  \n\n[100 rows x 9 columns]",
      "text/html": "<div>\n<style scoped>\n    .dataframe tbody tr th:only-of-type {\n        vertical-align: middle;\n    }\n\n    .dataframe tbody tr th {\n        vertical-align: top;\n    }\n\n    .dataframe thead th {\n        text-align: right;\n    }\n</style>\n<table border=\"1\" class=\"dataframe\">\n  <thead>\n    <tr style=\"text-align: right;\">\n      <th></th>\n      <th>IMDB_ID</th>\n      <th>wikipedia_ID</th>\n      <th>freebase_ID</th>\n      <th>box_office_revenue</th>\n      <th>runtime</th>\n      <th>name</th>\n      <th>release_date</th>\n      <th>genre</th>\n      <th>plot_summary</th>\n    </tr>\n  </thead>\n  <tbody>\n    <tr>\n      <th>0</th>\n      <td>tt0228333</td>\n      <td>975900.0</td>\n      <td>/m/03vyhn</td>\n      <td>14010832.0</td>\n      <td>98.0</td>\n      <td>Ghosts of Mars</td>\n      <td>2001.0</td>\n      <td>['Thriller', 'Adventure', 'Horror', 'Action', ...</td>\n      <td>Set in the second half of the 22nd century, th...</td>\n    </tr>\n    <tr>\n      <th>1</th>\n      <td>tt0245916</td>\n      <td>3196793.0</td>\n      <td>/m/08yl5d</td>\n      <td>NaN</td>\n      <td>95.0</td>\n      <td>Getting Away with Murder: The JonBenét Ramsey ...</td>\n      <td>2000.0</td>\n      <td>['Biography', 'Drama', 'Mystery']</td>\n      <td>NaN</td>\n    </tr>\n    <tr>\n      <th>2</th>\n      <td>tt0002894</td>\n      <td>13696889.0</td>\n      <td>/m/03cfc81</td>\n      <td>NaN</td>\n      <td>35.0</td>\n      <td>The Gangsters</td>\n      <td>1913.0</td>\n      <td>['Comedy', 'Indie']</td>\n      <td>NaN</td>\n    </tr>\n    <tr>\n      <th>3</th>\n      <td>tt0029852</td>\n      <td>10408933.0</td>\n      <td>/m/02qc0j7</td>\n      <td>3600000.0</td>\n      <td>106.0</td>\n      <td>Alexander's Ragtime Band</td>\n      <td>1938.0</td>\n      <td>['Musical', 'Comedy']</td>\n      <td>NaN</td>\n    </tr>\n    <tr>\n      <th>4</th>\n      <td>tt0021335</td>\n      <td>175026.0</td>\n      <td>/m/017n1p</td>\n      <td>NaN</td>\n      <td>86.0</td>\n      <td>Sarah and Son</td>\n      <td>1930.0</td>\n      <td>['Drama']</td>\n      <td>NaN</td>\n    </tr>\n    <tr>\n      <th>...</th>\n      <td>...</td>\n      <td>...</td>\n      <td>...</td>\n      <td>...</td>\n      <td>...</td>\n      <td>...</td>\n      <td>...</td>\n      <td>...</td>\n      <td>...</td>\n    </tr>\n    <tr>\n      <th>95</th>\n      <td>tt0065825</td>\n      <td>27365295.0</td>\n      <td>/m/0bb_l75</td>\n      <td>NaN</td>\n      <td>95.0</td>\n      <td>Hell Boats</td>\n      <td>1970.0</td>\n      <td>['Adventure']</td>\n      <td>In 1941 Lt. Commander Jeffords, an American se...</td>\n    </tr>\n    <tr>\n      <th>96</th>\n      <td>tt0865556</td>\n      <td>6703617.0</td>\n      <td>/m/0gj6pd</td>\n      <td>127906624.0</td>\n      <td>105.0</td>\n      <td>The Forbidden Kingdom</td>\n      <td>2008.0</td>\n      <td>['Action', 'Romance Film', 'Fantasy', 'Adventu...</td>\n      <td>In this film, which is based loosely on the an...</td>\n    </tr>\n    <tr>\n      <th>97</th>\n      <td>tt0427342</td>\n      <td>14294670.0</td>\n      <td>/m/03c_p7d</td>\n      <td>NaN</td>\n      <td>92.0</td>\n      <td>Heart of the Storm</td>\n      <td>2004.0</td>\n      <td>['Psychological thriller', 'Thriller']</td>\n      <td>NaN</td>\n    </tr>\n    <tr>\n      <th>98</th>\n      <td>tt0019466</td>\n      <td>22466518.0</td>\n      <td>/m/05zp19b</td>\n      <td>NaN</td>\n      <td>19.0</td>\n      <td>There It Is</td>\n      <td>1928.0</td>\n      <td>[]</td>\n      <td>NaN</td>\n    </tr>\n    <tr>\n      <th>99</th>\n      <td>tt0099191</td>\n      <td>20545821.0</td>\n      <td>/m/0523g9d</td>\n      <td>NaN</td>\n      <td>NaN</td>\n      <td>Burning Down Tomorrow</td>\n      <td>1990.0</td>\n      <td>['Indie', 'Documentary']</td>\n      <td>NaN</td>\n    </tr>\n  </tbody>\n</table>\n<p>100 rows × 9 columns</p>\n</div>"
     },
     "execution_count": 20,
     "metadata": {},
     "output_type": "execute_result"
    }
   ],
   "source": [
    "data_test"
   ],
   "metadata": {
    "collapsed": false
   }
  },
  {
   "cell_type": "markdown",
   "source": [],
   "metadata": {
    "collapsed": false
   }
  },
  {
   "cell_type": "code",
   "execution_count": 21,
   "outputs": [
    {
     "data": {
      "text/plain": "['Set',\n 'in',\n 'the',\n 'second',\n 'half',\n 'of',\n 'the',\n '22nd',\n 'century',\n ',',\n 'the',\n 'film',\n 'depicts',\n 'Mars',\n 'as',\n 'a',\n 'planet',\n 'that',\n 'has',\n 'been',\n '84',\n '%',\n 'terraformed',\n ',',\n 'allowing',\n 'humans',\n 'to',\n 'walk',\n 'on',\n 'the',\n 'surface',\n 'without',\n 'wearing',\n 'pressure',\n 'suits',\n '.',\n 'The',\n 'Martian',\n 'society',\n 'has',\n 'become',\n 'largely',\n 'matriarchal',\n ',',\n 'with',\n 'women',\n 'in',\n 'most',\n 'positions',\n 'of',\n 'authority',\n '.',\n 'The',\n 'story',\n 'concerns',\n 'a',\n 'police',\n 'officer',\n ',',\n 'Melanie',\n 'Ballard',\n ',',\n 'second',\n 'in',\n 'command',\n 'of',\n 'a',\n 'small',\n 'team',\n 'alongside',\n 'Sergeant',\n 'Jericho',\n 'sent',\n 'to',\n 'pick',\n 'up',\n 'and',\n 'transport',\n 'a',\n 'prisoner',\n 'named',\n 'Desolation',\n 'Williams',\n '.',\n 'Arriving',\n 'at',\n 'the',\n 'remote',\n 'mining',\n 'town',\n 'where',\n 'Williams',\n 'is',\n 'being',\n 'held',\n ',',\n 'Ballard',\n 'finds',\n 'virtually',\n 'all',\n 'of',\n 'the',\n 'people',\n 'missing',\n '.',\n 'She',\n 'learns',\n 'that',\n 'the',\n 'miners',\n 'had',\n 'discovered',\n 'an',\n 'underground',\n 'doorway',\n 'created',\n 'by',\n 'an',\n 'ancient',\n 'Martian',\n 'civilization',\n '.',\n 'When',\n 'the',\n 'door',\n 'was',\n 'opened',\n 'it',\n 'released',\n '``',\n 'ghosts',\n ',',\n \"''\",\n 'disembodied',\n 'spirits',\n 'which',\n 'possessed',\n 'the',\n 'miners',\n '.',\n 'Violence',\n 'ensues',\n ',',\n 'as',\n 'the',\n 'possessed',\n 'miners',\n 'commit',\n 'horrific',\n 'acts',\n 'of',\n 'death',\n 'and',\n 'destruction',\n ',',\n 'as',\n 'well',\n 'as',\n 'self-mutilation',\n '.',\n 'With',\n 'their',\n 'team',\n 'leader',\n 'Helena',\n 'Bradock',\n 'murdered',\n ',',\n 'Ballard',\n 'must',\n 'fight',\n 'off',\n 'the',\n 'attacking',\n 'miners',\n ',',\n 'escape',\n 'the',\n 'town',\n ',',\n 'and',\n 'destroy',\n 'the',\n 'ghosts',\n ',',\n 'if',\n 'possible',\n '.',\n 'Unfortunately',\n ',',\n 'her',\n 'intentions',\n 'are',\n 'complicated',\n 'by',\n 'the',\n 'fact',\n 'that',\n 'killing',\n 'a',\n 'possessed',\n 'human',\n 'merely',\n 'releases',\n 'the',\n 'Martian',\n 'spirit',\n 'to',\n 'possess',\n 'another',\n 'human',\n '.',\n 'The',\n 'team',\n 'eventually',\n 'decides',\n 'to',\n 'blow',\n 'up',\n 'a',\n 'nuclear',\n 'reactor',\n 'to',\n 'try',\n 'and',\n 'vaporize',\n 'all',\n 'of',\n 'the',\n 'ghosts',\n '.',\n 'At',\n 'several',\n 'points',\n 'in',\n 'the',\n 'film',\n 'Sergeant',\n 'Jericho',\n 'shows',\n 'a',\n 'romantic',\n 'interest',\n 'in',\n 'Ballard',\n ',',\n 'mostly',\n 'unreciprocated',\n '.',\n 'Ballard',\n \"'s\",\n 'crew',\n 'along',\n 'with',\n 'survivors',\n 'who',\n 'manage',\n 'to',\n 'gather',\n 'in',\n 'the',\n 'jail',\n 'are',\n 'eventually',\n 'wiped',\n 'out',\n 'by',\n 'the',\n 'miners',\n 'after',\n 'many',\n 'fierce',\n 'battles',\n 'and',\n 'events',\n ',',\n 'leaving',\n 'only',\n 'her',\n 'and',\n 'Williams',\n 'after',\n 'Sergeant',\n 'Jericho',\n 'and',\n 'the',\n 'other',\n 'remaining',\n 'officers',\n 'and',\n 'the',\n 'two',\n 'operators',\n 'of',\n 'the',\n 'train',\n 'are',\n 'killed',\n 'upon',\n 'returning',\n 'from',\n 'a',\n 'brief',\n 'retreat',\n 'to',\n 'finish',\n 'the',\n 'fight',\n '.',\n 'Not',\n 'wanting',\n 'the',\n 'authorities',\n 'to',\n 'blame',\n 'the',\n 'massacre',\n 'on',\n 'him',\n ',',\n 'he',\n 'handcuffs',\n 'Ballard',\n 'to',\n 'her',\n 'cot',\n 'and',\n 'escapes',\n 'from',\n 'the',\n 'train',\n ',',\n 'leaving',\n 'her',\n 'to',\n 'return',\n 'home',\n 'and',\n 'deliver',\n 'her',\n 'report',\n ',',\n 'which',\n 'is',\n 'received',\n 'with',\n 'skepticism',\n 'by',\n 'her',\n 'superiors',\n '.',\n 'While',\n 'Ballard',\n 'recuperates',\n 'at',\n 'a',\n 'hospital',\n ',',\n 'the',\n 'released',\n 'spirits',\n ',',\n 'who',\n 'were',\n \"n't\",\n 'destroyed',\n 'after',\n 'all',\n ',',\n 'attack',\n 'the',\n 'city',\n '.',\n 'The',\n 'end',\n 'scene',\n 'sets',\n 'the',\n 'movie',\n 'up',\n 'for',\n 'a',\n 'sequel',\n 'as',\n 'Williams',\n 'returns',\n 'to',\n 'team',\n 'up',\n 'with',\n 'Ballard',\n 'to',\n 'fight',\n 'the',\n 'possessed',\n '.']"
     },
     "execution_count": 21,
     "metadata": {},
     "output_type": "execute_result"
    }
   ],
   "source": [
    "token=nltk.word_tokenize(data_test.plot_summary[0])\n",
    "token"
   ],
   "metadata": {
    "collapsed": false
   }
  },
  {
   "cell_type": "code",
   "execution_count": 22,
   "outputs": [
    {
     "data": {
      "text/plain": "[('Set', 'NN'),\n ('in', 'IN'),\n ('the', 'DT'),\n ('second', 'JJ'),\n ('half', 'NN'),\n ('of', 'IN'),\n ('the', 'DT'),\n ('22nd', 'JJ'),\n ('century', 'NN'),\n (',', ','),\n ('the', 'DT'),\n ('film', 'NN'),\n ('depicts', 'VBZ'),\n ('Mars', 'NNP'),\n ('as', 'IN'),\n ('a', 'DT'),\n ('planet', 'NN'),\n ('that', 'WDT'),\n ('has', 'VBZ'),\n ('been', 'VBN'),\n ('84', 'CD'),\n ('%', 'NN'),\n ('terraformed', 'VBN'),\n (',', ','),\n ('allowing', 'VBG'),\n ('humans', 'NNS'),\n ('to', 'TO'),\n ('walk', 'VB'),\n ('on', 'IN'),\n ('the', 'DT'),\n ('surface', 'NN'),\n ('without', 'IN'),\n ('wearing', 'VBG'),\n ('pressure', 'NN'),\n ('suits', 'NNS'),\n ('.', '.'),\n ('The', 'DT'),\n ('Martian', 'JJ'),\n ('society', 'NN'),\n ('has', 'VBZ'),\n ('become', 'VBN'),\n ('largely', 'RB'),\n ('matriarchal', 'JJ'),\n (',', ','),\n ('with', 'IN'),\n ('women', 'NNS'),\n ('in', 'IN'),\n ('most', 'JJS'),\n ('positions', 'NNS'),\n ('of', 'IN'),\n ('authority', 'NN'),\n ('.', '.'),\n ('The', 'DT'),\n ('story', 'NN'),\n ('concerns', 'VBZ'),\n ('a', 'DT'),\n ('police', 'NN'),\n ('officer', 'NN'),\n (',', ','),\n ('Melanie', 'NNP'),\n ('Ballard', 'NNP'),\n (',', ','),\n ('second', 'JJ'),\n ('in', 'IN'),\n ('command', 'NN'),\n ('of', 'IN'),\n ('a', 'DT'),\n ('small', 'JJ'),\n ('team', 'NN'),\n ('alongside', 'RB'),\n ('Sergeant', 'NNP'),\n ('Jericho', 'NNP'),\n ('sent', 'VBD'),\n ('to', 'TO'),\n ('pick', 'VB'),\n ('up', 'RP'),\n ('and', 'CC'),\n ('transport', 'VB'),\n ('a', 'DT'),\n ('prisoner', 'NN'),\n ('named', 'VBN'),\n ('Desolation', 'NNP'),\n ('Williams', 'NNP'),\n ('.', '.'),\n ('Arriving', 'VBG'),\n ('at', 'IN'),\n ('the', 'DT'),\n ('remote', 'JJ'),\n ('mining', 'NN'),\n ('town', 'NN'),\n ('where', 'WRB'),\n ('Williams', 'NNP'),\n ('is', 'VBZ'),\n ('being', 'VBG'),\n ('held', 'VBN'),\n (',', ','),\n ('Ballard', 'NNP'),\n ('finds', 'VBZ'),\n ('virtually', 'RB'),\n ('all', 'DT'),\n ('of', 'IN'),\n ('the', 'DT'),\n ('people', 'NNS'),\n ('missing', 'VBG'),\n ('.', '.'),\n ('She', 'PRP'),\n ('learns', 'VBZ'),\n ('that', 'IN'),\n ('the', 'DT'),\n ('miners', 'NNS'),\n ('had', 'VBD'),\n ('discovered', 'VBN'),\n ('an', 'DT'),\n ('underground', 'JJ'),\n ('doorway', 'NN'),\n ('created', 'VBN'),\n ('by', 'IN'),\n ('an', 'DT'),\n ('ancient', 'JJ'),\n ('Martian', 'JJ'),\n ('civilization', 'NN'),\n ('.', '.'),\n ('When', 'WRB'),\n ('the', 'DT'),\n ('door', 'NN'),\n ('was', 'VBD'),\n ('opened', 'VBN'),\n ('it', 'PRP'),\n ('released', 'VBD'),\n ('``', '``'),\n ('ghosts', 'NNS'),\n (',', ','),\n (\"''\", \"''\"),\n ('disembodied', 'VBD'),\n ('spirits', 'NNS'),\n ('which', 'WDT'),\n ('possessed', 'VBD'),\n ('the', 'DT'),\n ('miners', 'NNS'),\n ('.', '.'),\n ('Violence', 'NN'),\n ('ensues', 'NNS'),\n (',', ','),\n ('as', 'IN'),\n ('the', 'DT'),\n ('possessed', 'JJ'),\n ('miners', 'NNS'),\n ('commit', 'VBP'),\n ('horrific', 'JJ'),\n ('acts', 'NNS'),\n ('of', 'IN'),\n ('death', 'NN'),\n ('and', 'CC'),\n ('destruction', 'NN'),\n (',', ','),\n ('as', 'RB'),\n ('well', 'RB'),\n ('as', 'IN'),\n ('self-mutilation', 'NN'),\n ('.', '.'),\n ('With', 'IN'),\n ('their', 'PRP$'),\n ('team', 'NN'),\n ('leader', 'NN'),\n ('Helena', 'NNP'),\n ('Bradock', 'NNP'),\n ('murdered', 'VBD'),\n (',', ','),\n ('Ballard', 'NNP'),\n ('must', 'MD'),\n ('fight', 'VB'),\n ('off', 'RP'),\n ('the', 'DT'),\n ('attacking', 'VBG'),\n ('miners', 'NNS'),\n (',', ','),\n ('escape', 'VBP'),\n ('the', 'DT'),\n ('town', 'NN'),\n (',', ','),\n ('and', 'CC'),\n ('destroy', 'VB'),\n ('the', 'DT'),\n ('ghosts', 'NNS'),\n (',', ','),\n ('if', 'IN'),\n ('possible', 'JJ'),\n ('.', '.'),\n ('Unfortunately', 'RB'),\n (',', ','),\n ('her', 'PRP'),\n ('intentions', 'NNS'),\n ('are', 'VBP'),\n ('complicated', 'VBN'),\n ('by', 'IN'),\n ('the', 'DT'),\n ('fact', 'NN'),\n ('that', 'IN'),\n ('killing', 'VBG'),\n ('a', 'DT'),\n ('possessed', 'JJ'),\n ('human', 'NN'),\n ('merely', 'RB'),\n ('releases', 'VBZ'),\n ('the', 'DT'),\n ('Martian', 'JJ'),\n ('spirit', 'NN'),\n ('to', 'TO'),\n ('possess', 'VB'),\n ('another', 'DT'),\n ('human', 'JJ'),\n ('.', '.'),\n ('The', 'DT'),\n ('team', 'NN'),\n ('eventually', 'RB'),\n ('decides', 'VBZ'),\n ('to', 'TO'),\n ('blow', 'VB'),\n ('up', 'RP'),\n ('a', 'DT'),\n ('nuclear', 'JJ'),\n ('reactor', 'NN'),\n ('to', 'TO'),\n ('try', 'VB'),\n ('and', 'CC'),\n ('vaporize', 'VB'),\n ('all', 'DT'),\n ('of', 'IN'),\n ('the', 'DT'),\n ('ghosts', 'NNS'),\n ('.', '.'),\n ('At', 'IN'),\n ('several', 'JJ'),\n ('points', 'NNS'),\n ('in', 'IN'),\n ('the', 'DT'),\n ('film', 'NN'),\n ('Sergeant', 'NNP'),\n ('Jericho', 'NNP'),\n ('shows', 'VBZ'),\n ('a', 'DT'),\n ('romantic', 'JJ'),\n ('interest', 'NN'),\n ('in', 'IN'),\n ('Ballard', 'NNP'),\n (',', ','),\n ('mostly', 'RB'),\n ('unreciprocated', 'JJ'),\n ('.', '.'),\n ('Ballard', 'NNP'),\n (\"'s\", 'POS'),\n ('crew', 'NN'),\n ('along', 'IN'),\n ('with', 'IN'),\n ('survivors', 'NNS'),\n ('who', 'WP'),\n ('manage', 'VBP'),\n ('to', 'TO'),\n ('gather', 'VB'),\n ('in', 'IN'),\n ('the', 'DT'),\n ('jail', 'NN'),\n ('are', 'VBP'),\n ('eventually', 'RB'),\n ('wiped', 'VBN'),\n ('out', 'RP'),\n ('by', 'IN'),\n ('the', 'DT'),\n ('miners', 'NNS'),\n ('after', 'IN'),\n ('many', 'JJ'),\n ('fierce', 'JJ'),\n ('battles', 'NNS'),\n ('and', 'CC'),\n ('events', 'NNS'),\n (',', ','),\n ('leaving', 'VBG'),\n ('only', 'RB'),\n ('her', 'PRP$'),\n ('and', 'CC'),\n ('Williams', 'NNP'),\n ('after', 'IN'),\n ('Sergeant', 'NNP'),\n ('Jericho', 'NNP'),\n ('and', 'CC'),\n ('the', 'DT'),\n ('other', 'JJ'),\n ('remaining', 'VBG'),\n ('officers', 'NNS'),\n ('and', 'CC'),\n ('the', 'DT'),\n ('two', 'CD'),\n ('operators', 'NNS'),\n ('of', 'IN'),\n ('the', 'DT'),\n ('train', 'NN'),\n ('are', 'VBP'),\n ('killed', 'VBN'),\n ('upon', 'IN'),\n ('returning', 'VBG'),\n ('from', 'IN'),\n ('a', 'DT'),\n ('brief', 'JJ'),\n ('retreat', 'NN'),\n ('to', 'TO'),\n ('finish', 'VB'),\n ('the', 'DT'),\n ('fight', 'NN'),\n ('.', '.'),\n ('Not', 'RB'),\n ('wanting', 'VBG'),\n ('the', 'DT'),\n ('authorities', 'NNS'),\n ('to', 'TO'),\n ('blame', 'VB'),\n ('the', 'DT'),\n ('massacre', 'NN'),\n ('on', 'IN'),\n ('him', 'PRP'),\n (',', ','),\n ('he', 'PRP'),\n ('handcuffs', 'VBZ'),\n ('Ballard', 'NNP'),\n ('to', 'TO'),\n ('her', 'PRP$'),\n ('cot', 'NN'),\n ('and', 'CC'),\n ('escapes', 'NNS'),\n ('from', 'IN'),\n ('the', 'DT'),\n ('train', 'NN'),\n (',', ','),\n ('leaving', 'VBG'),\n ('her', 'PRP$'),\n ('to', 'TO'),\n ('return', 'VB'),\n ('home', 'NN'),\n ('and', 'CC'),\n ('deliver', 'VB'),\n ('her', 'PRP$'),\n ('report', 'NN'),\n (',', ','),\n ('which', 'WDT'),\n ('is', 'VBZ'),\n ('received', 'VBN'),\n ('with', 'IN'),\n ('skepticism', 'NN'),\n ('by', 'IN'),\n ('her', 'PRP$'),\n ('superiors', 'NNS'),\n ('.', '.'),\n ('While', 'IN'),\n ('Ballard', 'NNP'),\n ('recuperates', 'VBZ'),\n ('at', 'IN'),\n ('a', 'DT'),\n ('hospital', 'NN'),\n (',', ','),\n ('the', 'DT'),\n ('released', 'JJ'),\n ('spirits', 'NNS'),\n (',', ','),\n ('who', 'WP'),\n ('were', 'VBD'),\n (\"n't\", 'RB'),\n ('destroyed', 'VBN'),\n ('after', 'IN'),\n ('all', 'DT'),\n (',', ','),\n ('attack', 'VBP'),\n ('the', 'DT'),\n ('city', 'NN'),\n ('.', '.'),\n ('The', 'DT'),\n ('end', 'NN'),\n ('scene', 'NN'),\n ('sets', 'VBZ'),\n ('the', 'DT'),\n ('movie', 'NN'),\n ('up', 'RP'),\n ('for', 'IN'),\n ('a', 'DT'),\n ('sequel', 'NN'),\n ('as', 'IN'),\n ('Williams', 'NNP'),\n ('returns', 'VBZ'),\n ('to', 'TO'),\n ('team', 'VB'),\n ('up', 'RP'),\n ('with', 'IN'),\n ('Ballard', 'NNP'),\n ('to', 'TO'),\n ('fight', 'VB'),\n ('the', 'DT'),\n ('possessed', 'VBN'),\n ('.', '.')]"
     },
     "execution_count": 22,
     "metadata": {},
     "output_type": "execute_result"
    }
   ],
   "source": [
    "tagged_tokens = nltk.pos_tag(token)\n",
    "tagged_tokens"
   ],
   "metadata": {
    "collapsed": false
   }
  },
  {
   "cell_type": "code",
   "execution_count": 23,
   "outputs": [],
   "source": [
    "chunks=nltk.ne_chunk(tagged_tokens)"
   ],
   "metadata": {
    "collapsed": false
   }
  },
  {
   "cell_type": "code",
   "execution_count": 24,
   "outputs": [
    {
     "data": {
      "text/plain": "'DT'"
     },
     "execution_count": 24,
     "metadata": {},
     "output_type": "execute_result"
    }
   ],
   "source": [
    "chunks[2][1]"
   ],
   "metadata": {
    "collapsed": false
   }
  },
  {
   "cell_type": "code",
   "execution_count": 25,
   "outputs": [
    {
     "name": "stdout",
     "output_type": "stream",
     "text": [
      "(GPE Set/NN)\n",
      "('in', 'IN')\n",
      "('the', 'DT')\n",
      "('second', 'JJ')\n",
      "('half', 'NN')\n",
      "('of', 'IN')\n",
      "('the', 'DT')\n",
      "('22nd', 'JJ')\n",
      "('century', 'NN')\n",
      "(',', ',')\n",
      "('the', 'DT')\n",
      "('film', 'NN')\n",
      "('depicts', 'VBZ')\n",
      "(PERSON Mars/NNP)\n",
      "('as', 'IN')\n",
      "('a', 'DT')\n",
      "('planet', 'NN')\n",
      "('that', 'WDT')\n",
      "('has', 'VBZ')\n",
      "('been', 'VBN')\n",
      "('84', 'CD')\n",
      "('%', 'NN')\n",
      "('terraformed', 'VBN')\n",
      "(',', ',')\n",
      "('allowing', 'VBG')\n",
      "('humans', 'NNS')\n",
      "('to', 'TO')\n",
      "('walk', 'VB')\n",
      "('on', 'IN')\n",
      "('the', 'DT')\n",
      "('surface', 'NN')\n",
      "('without', 'IN')\n",
      "('wearing', 'VBG')\n",
      "('pressure', 'NN')\n",
      "('suits', 'NNS')\n",
      "('.', '.')\n",
      "('The', 'DT')\n",
      "(GPE Martian/JJ)\n",
      "('society', 'NN')\n",
      "('has', 'VBZ')\n",
      "('become', 'VBN')\n",
      "('largely', 'RB')\n",
      "('matriarchal', 'JJ')\n",
      "(',', ',')\n",
      "('with', 'IN')\n",
      "('women', 'NNS')\n",
      "('in', 'IN')\n",
      "('most', 'JJS')\n",
      "('positions', 'NNS')\n",
      "('of', 'IN')\n",
      "('authority', 'NN')\n",
      "('.', '.')\n",
      "('The', 'DT')\n",
      "('story', 'NN')\n",
      "('concerns', 'VBZ')\n",
      "('a', 'DT')\n",
      "('police', 'NN')\n",
      "('officer', 'NN')\n",
      "(',', ',')\n",
      "(PERSON Melanie/NNP Ballard/NNP)\n",
      "(',', ',')\n",
      "('second', 'JJ')\n",
      "('in', 'IN')\n",
      "('command', 'NN')\n",
      "('of', 'IN')\n",
      "('a', 'DT')\n",
      "('small', 'JJ')\n",
      "('team', 'NN')\n",
      "('alongside', 'RB')\n",
      "(ORGANIZATION Sergeant/NNP Jericho/NNP)\n",
      "('sent', 'VBD')\n",
      "('to', 'TO')\n",
      "('pick', 'VB')\n",
      "('up', 'RP')\n",
      "('and', 'CC')\n",
      "('transport', 'VB')\n",
      "('a', 'DT')\n",
      "('prisoner', 'NN')\n",
      "('named', 'VBN')\n",
      "(PERSON Desolation/NNP Williams/NNP)\n",
      "('.', '.')\n",
      "('Arriving', 'VBG')\n",
      "('at', 'IN')\n",
      "('the', 'DT')\n",
      "('remote', 'JJ')\n",
      "('mining', 'NN')\n",
      "('town', 'NN')\n",
      "('where', 'WRB')\n",
      "(PERSON Williams/NNP)\n",
      "('is', 'VBZ')\n",
      "('being', 'VBG')\n",
      "('held', 'VBN')\n",
      "(',', ',')\n",
      "(PERSON Ballard/NNP)\n",
      "('finds', 'VBZ')\n",
      "('virtually', 'RB')\n",
      "('all', 'DT')\n",
      "('of', 'IN')\n",
      "('the', 'DT')\n",
      "('people', 'NNS')\n",
      "('missing', 'VBG')\n",
      "('.', '.')\n",
      "('She', 'PRP')\n",
      "('learns', 'VBZ')\n",
      "('that', 'IN')\n",
      "('the', 'DT')\n",
      "('miners', 'NNS')\n",
      "('had', 'VBD')\n",
      "('discovered', 'VBN')\n",
      "('an', 'DT')\n",
      "('underground', 'JJ')\n",
      "('doorway', 'NN')\n",
      "('created', 'VBN')\n",
      "('by', 'IN')\n",
      "('an', 'DT')\n",
      "('ancient', 'JJ')\n",
      "(GPE Martian/JJ)\n",
      "('civilization', 'NN')\n",
      "('.', '.')\n",
      "('When', 'WRB')\n",
      "('the', 'DT')\n",
      "('door', 'NN')\n",
      "('was', 'VBD')\n",
      "('opened', 'VBN')\n",
      "('it', 'PRP')\n",
      "('released', 'VBD')\n",
      "('``', '``')\n",
      "('ghosts', 'NNS')\n",
      "(',', ',')\n",
      "(\"''\", \"''\")\n",
      "('disembodied', 'VBD')\n",
      "('spirits', 'NNS')\n",
      "('which', 'WDT')\n",
      "('possessed', 'VBD')\n",
      "('the', 'DT')\n",
      "('miners', 'NNS')\n",
      "('.', '.')\n",
      "('Violence', 'NN')\n",
      "('ensues', 'NNS')\n",
      "(',', ',')\n",
      "('as', 'IN')\n",
      "('the', 'DT')\n",
      "('possessed', 'JJ')\n",
      "('miners', 'NNS')\n",
      "('commit', 'VBP')\n",
      "('horrific', 'JJ')\n",
      "('acts', 'NNS')\n",
      "('of', 'IN')\n",
      "('death', 'NN')\n",
      "('and', 'CC')\n",
      "('destruction', 'NN')\n",
      "(',', ',')\n",
      "('as', 'RB')\n",
      "('well', 'RB')\n",
      "('as', 'IN')\n",
      "('self-mutilation', 'NN')\n",
      "('.', '.')\n",
      "('With', 'IN')\n",
      "('their', 'PRP$')\n",
      "('team', 'NN')\n",
      "('leader', 'NN')\n",
      "(PERSON Helena/NNP Bradock/NNP)\n",
      "('murdered', 'VBD')\n",
      "(',', ',')\n",
      "(PERSON Ballard/NNP)\n",
      "('must', 'MD')\n",
      "('fight', 'VB')\n",
      "('off', 'RP')\n",
      "('the', 'DT')\n",
      "('attacking', 'VBG')\n",
      "('miners', 'NNS')\n",
      "(',', ',')\n",
      "('escape', 'VBP')\n",
      "('the', 'DT')\n",
      "('town', 'NN')\n",
      "(',', ',')\n",
      "('and', 'CC')\n",
      "('destroy', 'VB')\n",
      "('the', 'DT')\n",
      "('ghosts', 'NNS')\n",
      "(',', ',')\n",
      "('if', 'IN')\n",
      "('possible', 'JJ')\n",
      "('.', '.')\n",
      "('Unfortunately', 'RB')\n",
      "(',', ',')\n",
      "('her', 'PRP')\n",
      "('intentions', 'NNS')\n",
      "('are', 'VBP')\n",
      "('complicated', 'VBN')\n",
      "('by', 'IN')\n",
      "('the', 'DT')\n",
      "('fact', 'NN')\n",
      "('that', 'IN')\n",
      "('killing', 'VBG')\n",
      "('a', 'DT')\n",
      "('possessed', 'JJ')\n",
      "('human', 'NN')\n",
      "('merely', 'RB')\n",
      "('releases', 'VBZ')\n",
      "('the', 'DT')\n",
      "(GPE Martian/JJ)\n",
      "('spirit', 'NN')\n",
      "('to', 'TO')\n",
      "('possess', 'VB')\n",
      "('another', 'DT')\n",
      "('human', 'JJ')\n",
      "('.', '.')\n",
      "('The', 'DT')\n",
      "('team', 'NN')\n",
      "('eventually', 'RB')\n",
      "('decides', 'VBZ')\n",
      "('to', 'TO')\n",
      "('blow', 'VB')\n",
      "('up', 'RP')\n",
      "('a', 'DT')\n",
      "('nuclear', 'JJ')\n",
      "('reactor', 'NN')\n",
      "('to', 'TO')\n",
      "('try', 'VB')\n",
      "('and', 'CC')\n",
      "('vaporize', 'VB')\n",
      "('all', 'DT')\n",
      "('of', 'IN')\n",
      "('the', 'DT')\n",
      "('ghosts', 'NNS')\n",
      "('.', '.')\n",
      "('At', 'IN')\n",
      "('several', 'JJ')\n",
      "('points', 'NNS')\n",
      "('in', 'IN')\n",
      "('the', 'DT')\n",
      "('film', 'NN')\n",
      "(PERSON Sergeant/NNP Jericho/NNP)\n",
      "('shows', 'VBZ')\n",
      "('a', 'DT')\n",
      "('romantic', 'JJ')\n",
      "('interest', 'NN')\n",
      "('in', 'IN')\n",
      "(GPE Ballard/NNP)\n",
      "(',', ',')\n",
      "('mostly', 'RB')\n",
      "('unreciprocated', 'JJ')\n",
      "('.', '.')\n",
      "(PERSON Ballard/NNP)\n",
      "(\"'s\", 'POS')\n",
      "('crew', 'NN')\n",
      "('along', 'IN')\n",
      "('with', 'IN')\n",
      "('survivors', 'NNS')\n",
      "('who', 'WP')\n",
      "('manage', 'VBP')\n",
      "('to', 'TO')\n",
      "('gather', 'VB')\n",
      "('in', 'IN')\n",
      "('the', 'DT')\n",
      "('jail', 'NN')\n",
      "('are', 'VBP')\n",
      "('eventually', 'RB')\n",
      "('wiped', 'VBN')\n",
      "('out', 'RP')\n",
      "('by', 'IN')\n",
      "('the', 'DT')\n",
      "('miners', 'NNS')\n",
      "('after', 'IN')\n",
      "('many', 'JJ')\n",
      "('fierce', 'JJ')\n",
      "('battles', 'NNS')\n",
      "('and', 'CC')\n",
      "('events', 'NNS')\n",
      "(',', ',')\n",
      "('leaving', 'VBG')\n",
      "('only', 'RB')\n",
      "('her', 'PRP$')\n",
      "('and', 'CC')\n",
      "(PERSON Williams/NNP)\n",
      "('after', 'IN')\n",
      "(ORGANIZATION Sergeant/NNP Jericho/NNP)\n",
      "('and', 'CC')\n",
      "('the', 'DT')\n",
      "('other', 'JJ')\n",
      "('remaining', 'VBG')\n",
      "('officers', 'NNS')\n",
      "('and', 'CC')\n",
      "('the', 'DT')\n",
      "('two', 'CD')\n",
      "('operators', 'NNS')\n",
      "('of', 'IN')\n",
      "('the', 'DT')\n",
      "('train', 'NN')\n",
      "('are', 'VBP')\n",
      "('killed', 'VBN')\n",
      "('upon', 'IN')\n",
      "('returning', 'VBG')\n",
      "('from', 'IN')\n",
      "('a', 'DT')\n",
      "('brief', 'JJ')\n",
      "('retreat', 'NN')\n",
      "('to', 'TO')\n",
      "('finish', 'VB')\n",
      "('the', 'DT')\n",
      "('fight', 'NN')\n",
      "('.', '.')\n",
      "('Not', 'RB')\n",
      "('wanting', 'VBG')\n",
      "('the', 'DT')\n",
      "('authorities', 'NNS')\n",
      "('to', 'TO')\n",
      "('blame', 'VB')\n",
      "('the', 'DT')\n",
      "('massacre', 'NN')\n",
      "('on', 'IN')\n",
      "('him', 'PRP')\n",
      "(',', ',')\n",
      "('he', 'PRP')\n",
      "('handcuffs', 'VBZ')\n",
      "(PERSON Ballard/NNP)\n",
      "('to', 'TO')\n",
      "('her', 'PRP$')\n",
      "('cot', 'NN')\n",
      "('and', 'CC')\n",
      "('escapes', 'NNS')\n",
      "('from', 'IN')\n",
      "('the', 'DT')\n",
      "('train', 'NN')\n",
      "(',', ',')\n",
      "('leaving', 'VBG')\n",
      "('her', 'PRP$')\n",
      "('to', 'TO')\n",
      "('return', 'VB')\n",
      "('home', 'NN')\n",
      "('and', 'CC')\n",
      "('deliver', 'VB')\n",
      "('her', 'PRP$')\n",
      "('report', 'NN')\n",
      "(',', ',')\n",
      "('which', 'WDT')\n",
      "('is', 'VBZ')\n",
      "('received', 'VBN')\n",
      "('with', 'IN')\n",
      "('skepticism', 'NN')\n",
      "('by', 'IN')\n",
      "('her', 'PRP$')\n",
      "('superiors', 'NNS')\n",
      "('.', '.')\n",
      "('While', 'IN')\n",
      "(PERSON Ballard/NNP)\n",
      "('recuperates', 'VBZ')\n",
      "('at', 'IN')\n",
      "('a', 'DT')\n",
      "('hospital', 'NN')\n",
      "(',', ',')\n",
      "('the', 'DT')\n",
      "('released', 'JJ')\n",
      "('spirits', 'NNS')\n",
      "(',', ',')\n",
      "('who', 'WP')\n",
      "('were', 'VBD')\n",
      "(\"n't\", 'RB')\n",
      "('destroyed', 'VBN')\n",
      "('after', 'IN')\n",
      "('all', 'DT')\n",
      "(',', ',')\n",
      "('attack', 'VBP')\n",
      "('the', 'DT')\n",
      "('city', 'NN')\n",
      "('.', '.')\n",
      "('The', 'DT')\n",
      "('end', 'NN')\n",
      "('scene', 'NN')\n",
      "('sets', 'VBZ')\n",
      "('the', 'DT')\n",
      "('movie', 'NN')\n",
      "('up', 'RP')\n",
      "('for', 'IN')\n",
      "('a', 'DT')\n",
      "('sequel', 'NN')\n",
      "('as', 'IN')\n",
      "(PERSON Williams/NNP)\n",
      "('returns', 'VBZ')\n",
      "('to', 'TO')\n",
      "('team', 'VB')\n",
      "('up', 'RP')\n",
      "('with', 'IN')\n",
      "(PERSON Ballard/NNP)\n",
      "('to', 'TO')\n",
      "('fight', 'VB')\n",
      "('the', 'DT')\n",
      "('possessed', 'VBN')\n",
      "('.', '.')\n"
     ]
    }
   ],
   "source": [
    "for chunk in chunks:\n",
    "    print(chunk)"
   ],
   "metadata": {
    "collapsed": false
   }
  },
  {
   "cell_type": "markdown",
   "source": [
    "The list of all the abbreviations https://www.ling.upenn.edu/courses/Fall_2003/ling001/penn_treebank_pos.html\n",
    "The verbs are given by :\n",
    "- VB\n",
    "- VBD\n",
    "- VBG\n",
    "- VBN\n",
    "- VBP\n",
    "- VBZ\n",
    "\n",
    "The adjectives are given by :\n",
    "\n",
    "- JJ\n",
    "- JJR\n",
    "- JJS\n",
    "\n",
    "The nouns are given by:\n",
    "- NN\n",
    "- NNS\n",
    "- NNP\n",
    "- NNPS"
   ],
   "metadata": {
    "collapsed": false
   }
  },
  {
   "cell_type": "code",
   "execution_count": 26,
   "outputs": [],
   "source": [
    "verb_tags=['VB','VBD','VBG','VBN','VBP','VBZ']\n",
    "adj_tags=['JJ','JJR','JJS']\n",
    "noun_tags=['NN','NNS','NNP','NNPS']"
   ],
   "metadata": {
    "collapsed": false
   }
  },
  {
   "cell_type": "markdown",
   "source": [
    "## Pipeline to extract verbs, adjectives and nouns from the plot summary"
   ],
   "metadata": {
    "collapsed": false
   }
  },
  {
   "cell_type": "markdown",
   "source": [
    "As stopwords appear very frequently in the text they mask the important words. We therefore remove them from the text."
   ],
   "metadata": {
    "collapsed": false
   }
  },
  {
   "cell_type": "markdown",
   "source": [
    "# Once this function is finalized move it to helpers.py file (and comment it correctly)"
   ],
   "metadata": {
    "collapsed": false
   }
  },
  {
   "cell_type": "code",
   "execution_count": 27,
   "outputs": [],
   "source": [
    "def extract_words(df):\n",
    "    tokens = pd.Series()\n",
    "    tagged_tokens = []\n",
    "    chunks_array = []\n",
    "    verbs_list = []\n",
    "    adjs_list = []\n",
    "    nouns_list = []\n",
    "    stop_words = set(stopwords.words('english'))\n",
    "\n",
    "    # Create tqdm progress bar for the loop\n",
    "    for index, row in tqdm(df.iterrows(), total=len(df), desc=\"Processing Movies\"):\n",
    "        verbs = []\n",
    "        adjs = []\n",
    "        nouns = []\n",
    "        summary = row['plot_summary']\n",
    "        movie_id = row['IMDB_ID']\n",
    "\n",
    "        if type(summary) == str:  # To only keep movies with a summary (ignoring NaN)\n",
    "            token = [word for word in nltk.word_tokenize(summary) if word.lower() not in stop_words]  # Removing stopwords\n",
    "            tokens[movie_id] = token\n",
    "            tagged_tokens.append((movie_id, nltk.pos_tag(token)))\n",
    "\n",
    "    # Tqdm progress bar for the second loop\n",
    "    for movie_id, tagged_token in tqdm(tagged_tokens, desc=\"Processing Tokens\", leave=False):\n",
    "        chunks_array.append((movie_id, nltk.ne_chunk(tagged_token)))\n",
    "\n",
    "        verbs = []\n",
    "        adjs = []\n",
    "        nouns = []\n",
    "\n",
    "        # Categorize\n",
    "        for word, pos_tag in nltk.pos_tag(token):\n",
    "            if pos_tag in verb_tags:\n",
    "                verbs.append((movie_id, word))\n",
    "            elif pos_tag in adj_tags:\n",
    "                adjs.append((movie_id, word))\n",
    "            elif pos_tag in noun_tags:\n",
    "                nouns.append((movie_id, word))\n",
    "\n",
    "        verbs_list.append((movie_id, verbs))\n",
    "        adjs_list.append((movie_id, adjs))\n",
    "        nouns_list.append((movie_id, nouns))\n",
    "\n",
    "    # Returns lists of all verbs, adjectives, and nouns for each movie and raw chunks for each movie\n",
    "    return verbs_list, adjs_list, nouns_list, chunks_array"
   ],
   "metadata": {
    "collapsed": false
   }
  },
  {
   "cell_type": "markdown",
   "source": [
    "### Testing code on full dataset"
   ],
   "metadata": {
    "collapsed": false
   }
  },
  {
   "cell_type": "code",
   "execution_count": 28,
   "outputs": [],
   "source": [
    "# Takes some time to run (~30min) , results are saved as dataframes in the variables below and exported as csv & pickle files\n",
    "# verbs, adjs, nouns, chunks = extract_words(data)"
   ],
   "metadata": {
    "collapsed": false
   }
  },
  {
   "cell_type": "code",
   "execution_count": 46,
   "outputs": [],
   "source": [
    "# Create DataFrames from the lists\n",
    "verbs_df = pd.DataFrame(verbs, columns=['IMDB_ID', 'Verbs'])\n",
    "adjs_df = pd.DataFrame(adjs, columns=['IMDB_ID', 'Adjectives'])\n",
    "nouns_df = pd.DataFrame(nouns, columns=['IMDB_ID', 'Nouns'])\n",
    "chunks_df = pd.DataFrame(chunks, columns=['IMDB_ID', 'Chunks'])\n",
    "\n",
    "# Merge the DataFrames on 'IMDB_ID'\n",
    "merged_df = verbs_df.merge(adjs_df).merge(nouns_df).merge(chunks_df)"
   ],
   "metadata": {
    "collapsed": false
   }
  },
  {
   "cell_type": "code",
   "execution_count": 47,
   "outputs": [
    {
     "data": {
      "text/plain": "         IMDB_ID                                              Verbs  \\\n0      tt0228333  [(tt0228333, islands), (tt0228333, tens), (tt0...   \n1      tt0119548  [(tt0119548, islands), (tt0119548, tens), (tt0...   \n2      tt0058331  [(tt0058331, islands), (tt0058331, tens), (tt0...   \n3      tt0892904  [(tt0892904, islands), (tt0892904, tens), (tt0...   \n4      tt0255819  [(tt0255819, islands), (tt0255819, tens), (tt0...   \n...          ...                                                ...   \n40633  tt9913056  [(tt9913056, islands), (tt9913056, tens), (tt9...   \n40634  tt9913288  [(tt9913288, islands), (tt9913288, tens), (tt9...   \n40635  tt9914522  [(tt9914522, islands), (tt9914522, tens), (tt9...   \n40636  tt9914582  [(tt9914582, islands), (tt9914582, tens), (tt9...   \n40637  tt9914642  [(tt9914642, islands), (tt9914642, tens), (tt9...   \n\n                                              Adjectives  \\\n0      [(tt0228333, powerful), (tt0228333, visual), (...   \n1      [(tt0119548, powerful), (tt0119548, visual), (...   \n2      [(tt0058331, powerful), (tt0058331, visual), (...   \n3      [(tt0892904, powerful), (tt0892904, visual), (...   \n4      [(tt0255819, powerful), (tt0255819, visual), (...   \n...                                                  ...   \n40633  [(tt9913056, powerful), (tt9913056, visual), (...   \n40634  [(tt9913288, powerful), (tt9913288, visual), (...   \n40635  [(tt9914522, powerful), (tt9914522, visual), (...   \n40636  [(tt9914582, powerful), (tt9914582, visual), (...   \n40637  [(tt9914642, powerful), (tt9914642, visual), (...   \n\n                                                   Nouns  \\\n0      [(tt0228333, [), (tt0228333, ALBATROSS), (tt02...   \n1      [(tt0119548, [), (tt0119548, ALBATROSS), (tt01...   \n2      [(tt0058331, [), (tt0058331, ALBATROSS), (tt00...   \n3      [(tt0892904, [), (tt0892904, ALBATROSS), (tt08...   \n4      [(tt0255819, [), (tt0255819, ALBATROSS), (tt02...   \n...                                                  ...   \n40633  [(tt9913056, [), (tt9913056, ALBATROSS), (tt99...   \n40634  [(tt9913288, [), (tt9913288, ALBATROSS), (tt99...   \n40635  [(tt9914522, [), (tt9914522, ALBATROSS), (tt99...   \n40636  [(tt9914582, [), (tt9914582, ALBATROSS), (tt99...   \n40637  [(tt9914642, [), (tt9914642, ALBATROSS), (tt99...   \n\n                                                  Chunks  \n0      [[(Set, NNP)], (second, JJ), (half, NN), (22nd...  \n1      [[(Adam, NNP)], (,, ,), [(San, NNP)], (Francis...  \n2      [(film, NN), (opens, VBZ), [(Mary, NNP), (Popp...  \n3      [([, JJ), (``, ``), (Forty-year-old, JJ), (Jim...  \n4      [(young, JJ), (20-year-old, CD), (named, VBN),...  \n...                                                  ...  \n40633  [([, NN), (``, ``), (remote, JJ), (volcanic, J...  \n40634  [([, NN), (``, ``), [(Charlie, NNP), (Porter, ...  \n40635  [([, JJ), (``, ``), [(Mackenzie, NNP), (Holden...  \n40636  [([, JJ), ('Documentary, CD), (following, VBG)...  \n40637  [([, NN), (``, ``), [(ALBATROSS, NNP)], (power...  \n\n[40638 rows x 5 columns]",
      "text/html": "<div>\n<style scoped>\n    .dataframe tbody tr th:only-of-type {\n        vertical-align: middle;\n    }\n\n    .dataframe tbody tr th {\n        vertical-align: top;\n    }\n\n    .dataframe thead th {\n        text-align: right;\n    }\n</style>\n<table border=\"1\" class=\"dataframe\">\n  <thead>\n    <tr style=\"text-align: right;\">\n      <th></th>\n      <th>IMDB_ID</th>\n      <th>Verbs</th>\n      <th>Adjectives</th>\n      <th>Nouns</th>\n      <th>Chunks</th>\n    </tr>\n  </thead>\n  <tbody>\n    <tr>\n      <th>0</th>\n      <td>tt0228333</td>\n      <td>[(tt0228333, islands), (tt0228333, tens), (tt0...</td>\n      <td>[(tt0228333, powerful), (tt0228333, visual), (...</td>\n      <td>[(tt0228333, [), (tt0228333, ALBATROSS), (tt02...</td>\n      <td>[[(Set, NNP)], (second, JJ), (half, NN), (22nd...</td>\n    </tr>\n    <tr>\n      <th>1</th>\n      <td>tt0119548</td>\n      <td>[(tt0119548, islands), (tt0119548, tens), (tt0...</td>\n      <td>[(tt0119548, powerful), (tt0119548, visual), (...</td>\n      <td>[(tt0119548, [), (tt0119548, ALBATROSS), (tt01...</td>\n      <td>[[(Adam, NNP)], (,, ,), [(San, NNP)], (Francis...</td>\n    </tr>\n    <tr>\n      <th>2</th>\n      <td>tt0058331</td>\n      <td>[(tt0058331, islands), (tt0058331, tens), (tt0...</td>\n      <td>[(tt0058331, powerful), (tt0058331, visual), (...</td>\n      <td>[(tt0058331, [), (tt0058331, ALBATROSS), (tt00...</td>\n      <td>[(film, NN), (opens, VBZ), [(Mary, NNP), (Popp...</td>\n    </tr>\n    <tr>\n      <th>3</th>\n      <td>tt0892904</td>\n      <td>[(tt0892904, islands), (tt0892904, tens), (tt0...</td>\n      <td>[(tt0892904, powerful), (tt0892904, visual), (...</td>\n      <td>[(tt0892904, [), (tt0892904, ALBATROSS), (tt08...</td>\n      <td>[([, JJ), (``, ``), (Forty-year-old, JJ), (Jim...</td>\n    </tr>\n    <tr>\n      <th>4</th>\n      <td>tt0255819</td>\n      <td>[(tt0255819, islands), (tt0255819, tens), (tt0...</td>\n      <td>[(tt0255819, powerful), (tt0255819, visual), (...</td>\n      <td>[(tt0255819, [), (tt0255819, ALBATROSS), (tt02...</td>\n      <td>[(young, JJ), (20-year-old, CD), (named, VBN),...</td>\n    </tr>\n    <tr>\n      <th>...</th>\n      <td>...</td>\n      <td>...</td>\n      <td>...</td>\n      <td>...</td>\n      <td>...</td>\n    </tr>\n    <tr>\n      <th>40633</th>\n      <td>tt9913056</td>\n      <td>[(tt9913056, islands), (tt9913056, tens), (tt9...</td>\n      <td>[(tt9913056, powerful), (tt9913056, visual), (...</td>\n      <td>[(tt9913056, [), (tt9913056, ALBATROSS), (tt99...</td>\n      <td>[([, NN), (``, ``), (remote, JJ), (volcanic, J...</td>\n    </tr>\n    <tr>\n      <th>40634</th>\n      <td>tt9913288</td>\n      <td>[(tt9913288, islands), (tt9913288, tens), (tt9...</td>\n      <td>[(tt9913288, powerful), (tt9913288, visual), (...</td>\n      <td>[(tt9913288, [), (tt9913288, ALBATROSS), (tt99...</td>\n      <td>[([, NN), (``, ``), [(Charlie, NNP), (Porter, ...</td>\n    </tr>\n    <tr>\n      <th>40635</th>\n      <td>tt9914522</td>\n      <td>[(tt9914522, islands), (tt9914522, tens), (tt9...</td>\n      <td>[(tt9914522, powerful), (tt9914522, visual), (...</td>\n      <td>[(tt9914522, [), (tt9914522, ALBATROSS), (tt99...</td>\n      <td>[([, JJ), (``, ``), [(Mackenzie, NNP), (Holden...</td>\n    </tr>\n    <tr>\n      <th>40636</th>\n      <td>tt9914582</td>\n      <td>[(tt9914582, islands), (tt9914582, tens), (tt9...</td>\n      <td>[(tt9914582, powerful), (tt9914582, visual), (...</td>\n      <td>[(tt9914582, [), (tt9914582, ALBATROSS), (tt99...</td>\n      <td>[([, JJ), ('Documentary, CD), (following, VBG)...</td>\n    </tr>\n    <tr>\n      <th>40637</th>\n      <td>tt9914642</td>\n      <td>[(tt9914642, islands), (tt9914642, tens), (tt9...</td>\n      <td>[(tt9914642, powerful), (tt9914642, visual), (...</td>\n      <td>[(tt9914642, [), (tt9914642, ALBATROSS), (tt99...</td>\n      <td>[([, NN), (``, ``), [(ALBATROSS, NNP)], (power...</td>\n    </tr>\n  </tbody>\n</table>\n<p>40638 rows × 5 columns</p>\n</div>"
     },
     "execution_count": 47,
     "metadata": {},
     "output_type": "execute_result"
    }
   ],
   "source": [
    "merged_df"
   ],
   "metadata": {
    "collapsed": false
   }
  },
  {
   "cell_type": "code",
   "execution_count": 49,
   "outputs": [],
   "source": [
    "# Export the DataFrames as csv files\n",
    "merged_df.to_csv('DATA/words.csv', index=False)"
   ],
   "metadata": {
    "collapsed": false
   }
  },
  {
   "cell_type": "code",
   "execution_count": 52,
   "outputs": [],
   "source": [
    "# Export the DataFrames as pickle files\n",
    "merged_df.to_pickle('pickles/words.pickle')"
   ],
   "metadata": {
    "collapsed": false
   }
  },
  {
   "cell_type": "markdown",
   "source": [
    "The outputs (pickle and csv) can be downloaded at https://drive.switch.ch/index.php/s/U5ntGAtMkXWi9yn. They are not pushed onto the repository as they are too large (>100MB)"
   ],
   "metadata": {
    "collapsed": false
   }
  },
  {
   "cell_type": "code",
   "execution_count": 3,
   "outputs": [],
   "source": [
    "# Import datafrom pickle file\n",
    "merged_df = pd.read_pickle('pickles/words.pickle')"
   ],
   "metadata": {
    "collapsed": false
   }
  },
  {
   "cell_type": "markdown",
   "source": [
    "## Assigning genders to characters"
   ],
   "metadata": {
    "collapsed": false
   }
  },
  {
   "cell_type": "code",
   "execution_count": 5,
   "outputs": [],
   "source": [
    "characters_data=pd.read_csv('DATA/characters_data.csv',low_memory=False)"
   ],
   "metadata": {
    "collapsed": false
   }
  },
  {
   "cell_type": "code",
   "execution_count": 6,
   "outputs": [
    {
     "data": {
      "text/plain": "        character_ID  wikipedia_ID freebase_ID actor_ethnicity  \\\n0                  1      975900.0   /m/03vyhn             NaN   \n1                  2      975900.0   /m/03vyhn      /m/044038p   \n2                  3      975900.0   /m/03vyhn         /m/0x67   \n3                  4      975900.0   /m/03vyhn             NaN   \n4                  5      975900.0   /m/03vyhn             NaN   \n...              ...           ...         ...             ...   \n336453        336454           NaN         NaN             NaN   \n336454        336455           NaN         NaN             NaN   \n336455        336456           NaN         NaN             NaN   \n336456        336457           NaN         NaN             NaN   \n336457        336458           NaN         NaN             NaN   \n\n                actor_name personnas    IMDB_ID              character_name  \\\n0           wanda de jesus       NaN  tt0228333                    Akooshay   \n1       natasha henstridge       NaN  tt0228333  Lieutenant Melanie Ballard   \n2                 ice cube       NaN  tt0228333         Desolation Williams   \n3            jason statham       NaN  tt0228333          Sgt Jericho Butler   \n4              clea duvall       NaN  tt0228333             Bashira Kincaid   \n...                    ...       ...        ...                         ...   \n336453       caleb silvers       NaN  tt9914522                        Evan   \n336454    bethany hazelitt       NaN  tt9914522                   Mackenzie   \n336455        joshua bootz       NaN  tt9914522                  Evan's dad   \n336456         vince camaj       NaN  tt9914522                        Todd   \n336457      sandra gendjar       NaN  tt9914522                      Kelsey   \n\n       actor_gender  box_office_revenue                    name  release_date  \\\n0                 F                 NaN          Ghosts of Mars        2001.0   \n1                 F          14010832.0          Ghosts of Mars        2001.0   \n2                 M          14010832.0          Ghosts of Mars        2001.0   \n3                 M          14010832.0          Ghosts of Mars        2001.0   \n4                 F                 NaN          Ghosts of Mars        2001.0   \n...             ...                 ...                     ...           ...   \n336453            M                 NaN  The Holden Family Plan        2019.0   \n336454            F                 NaN  The Holden Family Plan        2019.0   \n336455            M                 NaN  The Holden Family Plan        2019.0   \n336456            M                 NaN  The Holden Family Plan        2019.0   \n336457            F                 NaN  The Holden Family Plan        2019.0   \n\n        actor_age  \n0            42.0  \n1            27.0  \n2            32.0  \n3            34.0  \n4            23.0  \n...           ...  \n336453       24.0  \n336454       29.0  \n336455        NaN  \n336456        NaN  \n336457        NaN  \n\n[336458 rows x 13 columns]",
      "text/html": "<div>\n<style scoped>\n    .dataframe tbody tr th:only-of-type {\n        vertical-align: middle;\n    }\n\n    .dataframe tbody tr th {\n        vertical-align: top;\n    }\n\n    .dataframe thead th {\n        text-align: right;\n    }\n</style>\n<table border=\"1\" class=\"dataframe\">\n  <thead>\n    <tr style=\"text-align: right;\">\n      <th></th>\n      <th>character_ID</th>\n      <th>wikipedia_ID</th>\n      <th>freebase_ID</th>\n      <th>actor_ethnicity</th>\n      <th>actor_name</th>\n      <th>personnas</th>\n      <th>IMDB_ID</th>\n      <th>character_name</th>\n      <th>actor_gender</th>\n      <th>box_office_revenue</th>\n      <th>name</th>\n      <th>release_date</th>\n      <th>actor_age</th>\n    </tr>\n  </thead>\n  <tbody>\n    <tr>\n      <th>0</th>\n      <td>1</td>\n      <td>975900.0</td>\n      <td>/m/03vyhn</td>\n      <td>NaN</td>\n      <td>wanda de jesus</td>\n      <td>NaN</td>\n      <td>tt0228333</td>\n      <td>Akooshay</td>\n      <td>F</td>\n      <td>NaN</td>\n      <td>Ghosts of Mars</td>\n      <td>2001.0</td>\n      <td>42.0</td>\n    </tr>\n    <tr>\n      <th>1</th>\n      <td>2</td>\n      <td>975900.0</td>\n      <td>/m/03vyhn</td>\n      <td>/m/044038p</td>\n      <td>natasha henstridge</td>\n      <td>NaN</td>\n      <td>tt0228333</td>\n      <td>Lieutenant Melanie Ballard</td>\n      <td>F</td>\n      <td>14010832.0</td>\n      <td>Ghosts of Mars</td>\n      <td>2001.0</td>\n      <td>27.0</td>\n    </tr>\n    <tr>\n      <th>2</th>\n      <td>3</td>\n      <td>975900.0</td>\n      <td>/m/03vyhn</td>\n      <td>/m/0x67</td>\n      <td>ice cube</td>\n      <td>NaN</td>\n      <td>tt0228333</td>\n      <td>Desolation Williams</td>\n      <td>M</td>\n      <td>14010832.0</td>\n      <td>Ghosts of Mars</td>\n      <td>2001.0</td>\n      <td>32.0</td>\n    </tr>\n    <tr>\n      <th>3</th>\n      <td>4</td>\n      <td>975900.0</td>\n      <td>/m/03vyhn</td>\n      <td>NaN</td>\n      <td>jason statham</td>\n      <td>NaN</td>\n      <td>tt0228333</td>\n      <td>Sgt Jericho Butler</td>\n      <td>M</td>\n      <td>14010832.0</td>\n      <td>Ghosts of Mars</td>\n      <td>2001.0</td>\n      <td>34.0</td>\n    </tr>\n    <tr>\n      <th>4</th>\n      <td>5</td>\n      <td>975900.0</td>\n      <td>/m/03vyhn</td>\n      <td>NaN</td>\n      <td>clea duvall</td>\n      <td>NaN</td>\n      <td>tt0228333</td>\n      <td>Bashira Kincaid</td>\n      <td>F</td>\n      <td>NaN</td>\n      <td>Ghosts of Mars</td>\n      <td>2001.0</td>\n      <td>23.0</td>\n    </tr>\n    <tr>\n      <th>...</th>\n      <td>...</td>\n      <td>...</td>\n      <td>...</td>\n      <td>...</td>\n      <td>...</td>\n      <td>...</td>\n      <td>...</td>\n      <td>...</td>\n      <td>...</td>\n      <td>...</td>\n      <td>...</td>\n      <td>...</td>\n      <td>...</td>\n    </tr>\n    <tr>\n      <th>336453</th>\n      <td>336454</td>\n      <td>NaN</td>\n      <td>NaN</td>\n      <td>NaN</td>\n      <td>caleb silvers</td>\n      <td>NaN</td>\n      <td>tt9914522</td>\n      <td>Evan</td>\n      <td>M</td>\n      <td>NaN</td>\n      <td>The Holden Family Plan</td>\n      <td>2019.0</td>\n      <td>24.0</td>\n    </tr>\n    <tr>\n      <th>336454</th>\n      <td>336455</td>\n      <td>NaN</td>\n      <td>NaN</td>\n      <td>NaN</td>\n      <td>bethany hazelitt</td>\n      <td>NaN</td>\n      <td>tt9914522</td>\n      <td>Mackenzie</td>\n      <td>F</td>\n      <td>NaN</td>\n      <td>The Holden Family Plan</td>\n      <td>2019.0</td>\n      <td>29.0</td>\n    </tr>\n    <tr>\n      <th>336455</th>\n      <td>336456</td>\n      <td>NaN</td>\n      <td>NaN</td>\n      <td>NaN</td>\n      <td>joshua bootz</td>\n      <td>NaN</td>\n      <td>tt9914522</td>\n      <td>Evan's dad</td>\n      <td>M</td>\n      <td>NaN</td>\n      <td>The Holden Family Plan</td>\n      <td>2019.0</td>\n      <td>NaN</td>\n    </tr>\n    <tr>\n      <th>336456</th>\n      <td>336457</td>\n      <td>NaN</td>\n      <td>NaN</td>\n      <td>NaN</td>\n      <td>vince camaj</td>\n      <td>NaN</td>\n      <td>tt9914522</td>\n      <td>Todd</td>\n      <td>M</td>\n      <td>NaN</td>\n      <td>The Holden Family Plan</td>\n      <td>2019.0</td>\n      <td>NaN</td>\n    </tr>\n    <tr>\n      <th>336457</th>\n      <td>336458</td>\n      <td>NaN</td>\n      <td>NaN</td>\n      <td>NaN</td>\n      <td>sandra gendjar</td>\n      <td>NaN</td>\n      <td>tt9914522</td>\n      <td>Kelsey</td>\n      <td>F</td>\n      <td>NaN</td>\n      <td>The Holden Family Plan</td>\n      <td>2019.0</td>\n      <td>NaN</td>\n    </tr>\n  </tbody>\n</table>\n<p>336458 rows × 13 columns</p>\n</div>"
     },
     "execution_count": 6,
     "metadata": {},
     "output_type": "execute_result"
    }
   ],
   "source": [
    "characters_data"
   ],
   "metadata": {
    "collapsed": false
   }
  },
  {
   "cell_type": "code",
   "execution_count": 15,
   "outputs": [
    {
     "name": "stdout",
     "output_type": "stream",
     "text": [
      "Number of missing genders: 4.55%\n"
     ]
    }
   ],
   "source": [
    "# Count number of nans in gender column\n",
    "missing_gender_percentage = 100 * characters_data['actor_gender'].isna().sum() / len(characters_data.index)\n",
    "print(f\"Number of missing genders: {missing_gender_percentage:.2f}%\")"
   ],
   "metadata": {
    "collapsed": false
   }
  },
  {
   "cell_type": "markdown",
   "source": [
    "The number of missing genders is reasonable, it is therefore not necessary to predict them for the rest of the analysis. If it later comes out that this is required packages such as gender-guesser (https://pypi.org/project/gender-guesser/) can be used"
   ],
   "metadata": {
    "collapsed": false
   }
  },
  {
   "cell_type": "code",
   "execution_count": null,
   "outputs": [],
   "source": [],
   "metadata": {
    "collapsed": false
   }
  }
 ],
 "metadata": {
  "kernelspec": {
   "display_name": "Python 3",
   "language": "python",
   "name": "python3"
  },
  "language_info": {
   "codemirror_mode": {
    "name": "ipython",
    "version": 2
   },
   "file_extension": ".py",
   "mimetype": "text/x-python",
   "name": "python",
   "nbconvert_exporter": "python",
   "pygments_lexer": "ipython2",
   "version": "2.7.6"
  }
 },
 "nbformat": 4,
 "nbformat_minor": 0
}
