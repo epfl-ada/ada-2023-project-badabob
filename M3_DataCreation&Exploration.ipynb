{
 "cells": [
  {
   "cell_type": "markdown",
   "metadata": {},
   "source": [
    "# Data Creation, Exploration and Filtering"
   ]
  },
  {
   "cell_type": "code",
   "execution_count": 1,
   "metadata": {
    "tags": []
   },
   "outputs": [
    {
     "name": "stderr",
     "output_type": "stream",
     "text": [
      "C:\\Users\\lucil\\anaconda3\\envs\\ada\\lib\\site-packages\\tqdm\\auto.py:21: TqdmWarning: IProgress not found. Please update jupyter and ipywidgets. See https://ipywidgets.readthedocs.io/en/stable/user_install.html\n",
      "  from .autonotebook import tqdm as notebook_tqdm\n",
      "C:\\Users\\lucil\\anaconda3\\envs\\ada\\lib\\site-packages\\fuzzywuzzy\\fuzz.py:11: UserWarning: Using slow pure-python SequenceMatcher. Install python-Levenshtein to remove this warning\n",
      "  warnings.warn('Using slow pure-python SequenceMatcher. Install python-Levenshtein to remove this warning')\n",
      "[nltk_data] Downloading package maxent_ne_chunker to\n",
      "[nltk_data]     C:\\Users\\lucil\\AppData\\Roaming\\nltk_data...\n",
      "[nltk_data]   Package maxent_ne_chunker is already up-to-date!\n",
      "[nltk_data] Downloading package words to\n",
      "[nltk_data]     C:\\Users\\lucil\\AppData\\Roaming\\nltk_data...\n",
      "[nltk_data]   Package words is already up-to-date!\n",
      "[nltk_data] Downloading package averaged_perceptron_tagger to\n",
      "[nltk_data]     C:\\Users\\lucil\\AppData\\Roaming\\nltk_data...\n",
      "[nltk_data]   Package averaged_perceptron_tagger is already up-to-\n",
      "[nltk_data]       date!\n",
      "[nltk_data] Downloading package stopwords to\n",
      "[nltk_data]     C:\\Users\\lucil\\AppData\\Roaming\\nltk_data...\n",
      "[nltk_data]   Package stopwords is already up-to-date!\n",
      "[nltk_data] Downloading package punkt to\n",
      "[nltk_data]     C:\\Users\\lucil\\AppData\\Roaming\\nltk_data...\n",
      "[nltk_data]   Package punkt is already up-to-date!\n"
     ]
    }
   ],
   "source": [
    "%load_ext autoreload\n",
    "%autoreload 2\n",
    "from helpers import *\n",
    "data_folder = './DATA/'"
   ]
  },
  {
   "cell_type": "markdown",
   "metadata": {},
   "source": [
    "## Table of Contents\n",
    "1. [Historical Timeline](#section-1)\n",
    "2. [Importing raw data](#section-2)\n",
    "3. [Movie dataset: Filtering](#section-3)\n",
    "4. [Character Dataset: Filtering](#section-4)\n",
    "   1. [Merging personas with character dataset](#subsection-4.1)\n",
    "5. [Complementing the dataset after 2010](#section-5)\n",
    "   1. [Adding IMDB IDs to provided datasets](#subsection-5.1)\n",
    "   2. [Complementing movie data](#subsection-5.2)\n",
    "   3. [Adding popularity index](#subsection-5.3)\n",
    "   4. [Complementing and cleaning up the genres of the movie data](#subsection-5.4)\n",
    "   5. [Complementing characters' data](#subsection-5.5)\n",
    "6. [Identifying main characters](#section-6)\n",
    "7. [Personas preprocessing](#section-7)"
   ]
  },
  {
   "cell_type": "markdown",
   "metadata": {},
   "source": [
    "# 1) Historical Timeline\n",
    "<a id='section-1'></a>\n",
    "In our analysis we want to see how representation of women in american movies might be impacted by historical events. We therefore need to retrieve a history timeline. We decided to use the timeline from https://www.history.com/topics/womens-history/womens-history-us-timeline since it contains major events related to women's history in the US."
   ]
  },
  {
   "cell_type": "code",
   "execution_count": 2,
   "metadata": {
    "collapsed": false,
    "jupyter": {
     "outputs_hidden": false
    },
    "tags": []
   },
   "outputs": [
    {
     "name": "stdout",
     "output_type": "stream",
     "text": [
      "Successfully accessed https://www.history.com/topics/womens-history/womens-history-us-timeline\n",
      "Timeline saved in DATA/timeline.csv\n"
     ]
    }
   ],
   "source": [
    "get_history_timeline()"
   ]
  },
  {
   "cell_type": "markdown",
   "metadata": {},
   "source": [
    "# 2) Importing raw data\n",
    "<a id='section-2'></a>"
   ]
  },
  {
   "cell_type": "code",
   "execution_count": 3,
   "metadata": {
    "collapsed": false,
    "jupyter": {
     "outputs_hidden": false
    },
    "tags": []
   },
   "outputs": [
    {
     "data": {
      "text/plain": "   wikipedia_ID freebase_ID  \\\n0        975900   /m/03vyhn   \n1       3196793   /m/08yl5d   \n2      28463795  /m/0crgdbh   \n3       9363483  /m/0285_cd   \n4        261236   /m/01mrr1   \n\n                                                name release_date  \\\n0                                     Ghosts of Mars   2001-08-24   \n1  Getting Away with Murder: The JonBenét Ramsey ...   2000-02-16   \n2                                        Brun bitter         1988   \n3                                   White Of The Eye         1987   \n4                                  A Woman in Flames         1983   \n\n   box_office_revenue  runtime                           languages  \\\n0          14010832.0     98.0  {\"/m/02h40lc\": \"English Language\"}   \n1                 NaN     95.0  {\"/m/02h40lc\": \"English Language\"}   \n2                 NaN     83.0  {\"/m/05f_3\": \"Norwegian Language\"}   \n3                 NaN    110.0  {\"/m/02h40lc\": \"English Language\"}   \n4                 NaN    106.0   {\"/m/04306rv\": \"German Language\"}   \n\n                                   countries  \\\n0  {\"/m/09c7w0\": \"United States of America\"}   \n1  {\"/m/09c7w0\": \"United States of America\"}   \n2                     {\"/m/05b4w\": \"Norway\"}   \n3             {\"/m/07ssc\": \"United Kingdom\"}   \n4                    {\"/m/0345h\": \"Germany\"}   \n\n                                               genre  \n0  {\"/m/01jfsb\": \"Thriller\", \"/m/06n90\": \"Science...  \n1  {\"/m/02n4kr\": \"Mystery\", \"/m/03bxz7\": \"Biograp...  \n2  {\"/m/0lsxr\": \"Crime Fiction\", \"/m/07s9rl0\": \"D...  \n3  {\"/m/01jfsb\": \"Thriller\", \"/m/0glj9q\": \"Erotic...  \n4                            {\"/m/07s9rl0\": \"Drama\"}  ",
      "text/html": "<div>\n<style scoped>\n    .dataframe tbody tr th:only-of-type {\n        vertical-align: middle;\n    }\n\n    .dataframe tbody tr th {\n        vertical-align: top;\n    }\n\n    .dataframe thead th {\n        text-align: right;\n    }\n</style>\n<table border=\"1\" class=\"dataframe\">\n  <thead>\n    <tr style=\"text-align: right;\">\n      <th></th>\n      <th>wikipedia_ID</th>\n      <th>freebase_ID</th>\n      <th>name</th>\n      <th>release_date</th>\n      <th>box_office_revenue</th>\n      <th>runtime</th>\n      <th>languages</th>\n      <th>countries</th>\n      <th>genre</th>\n    </tr>\n  </thead>\n  <tbody>\n    <tr>\n      <th>0</th>\n      <td>975900</td>\n      <td>/m/03vyhn</td>\n      <td>Ghosts of Mars</td>\n      <td>2001-08-24</td>\n      <td>14010832.0</td>\n      <td>98.0</td>\n      <td>{\"/m/02h40lc\": \"English Language\"}</td>\n      <td>{\"/m/09c7w0\": \"United States of America\"}</td>\n      <td>{\"/m/01jfsb\": \"Thriller\", \"/m/06n90\": \"Science...</td>\n    </tr>\n    <tr>\n      <th>1</th>\n      <td>3196793</td>\n      <td>/m/08yl5d</td>\n      <td>Getting Away with Murder: The JonBenét Ramsey ...</td>\n      <td>2000-02-16</td>\n      <td>NaN</td>\n      <td>95.0</td>\n      <td>{\"/m/02h40lc\": \"English Language\"}</td>\n      <td>{\"/m/09c7w0\": \"United States of America\"}</td>\n      <td>{\"/m/02n4kr\": \"Mystery\", \"/m/03bxz7\": \"Biograp...</td>\n    </tr>\n    <tr>\n      <th>2</th>\n      <td>28463795</td>\n      <td>/m/0crgdbh</td>\n      <td>Brun bitter</td>\n      <td>1988</td>\n      <td>NaN</td>\n      <td>83.0</td>\n      <td>{\"/m/05f_3\": \"Norwegian Language\"}</td>\n      <td>{\"/m/05b4w\": \"Norway\"}</td>\n      <td>{\"/m/0lsxr\": \"Crime Fiction\", \"/m/07s9rl0\": \"D...</td>\n    </tr>\n    <tr>\n      <th>3</th>\n      <td>9363483</td>\n      <td>/m/0285_cd</td>\n      <td>White Of The Eye</td>\n      <td>1987</td>\n      <td>NaN</td>\n      <td>110.0</td>\n      <td>{\"/m/02h40lc\": \"English Language\"}</td>\n      <td>{\"/m/07ssc\": \"United Kingdom\"}</td>\n      <td>{\"/m/01jfsb\": \"Thriller\", \"/m/0glj9q\": \"Erotic...</td>\n    </tr>\n    <tr>\n      <th>4</th>\n      <td>261236</td>\n      <td>/m/01mrr1</td>\n      <td>A Woman in Flames</td>\n      <td>1983</td>\n      <td>NaN</td>\n      <td>106.0</td>\n      <td>{\"/m/04306rv\": \"German Language\"}</td>\n      <td>{\"/m/0345h\": \"Germany\"}</td>\n      <td>{\"/m/07s9rl0\": \"Drama\"}</td>\n    </tr>\n  </tbody>\n</table>\n</div>"
     },
     "execution_count": 3,
     "metadata": {},
     "output_type": "execute_result"
    }
   ],
   "source": [
    "movies_metadata = pd.read_csv(data_folder+'movie.metadata.tsv', header=None, sep='\\t',\n",
    "                              names=['wikipedia_ID','freebase_ID','name','release_date',\n",
    "                                     'box_office_revenue', 'runtime', 'languages', 'countries', 'genre'],\n",
    "                              parse_dates=False)\n",
    "movies_metadata.head(5)"
   ]
  },
  {
   "cell_type": "code",
   "execution_count": 4,
   "metadata": {
    "collapsed": false,
    "jupyter": {
     "outputs_hidden": false
    },
    "tags": []
   },
   "outputs": [
    {
     "data": {
      "text/plain": "   wikipedia_ID freebase_ID release_date              character_name  \\\n0        975900   /m/03vyhn   2001-08-24                    Akooshay   \n1        975900   /m/03vyhn   2001-08-24  Lieutenant Melanie Ballard   \n2        975900   /m/03vyhn   2001-08-24         Desolation Williams   \n3        975900   /m/03vyhn   2001-08-24          Sgt Jericho Butler   \n4        975900   /m/03vyhn   2001-08-24             Bashira Kincaid   \n\n  actor_birthday actor_gender  actor_height actor_ethnicity  \\\n0     1958-08-26            F         1.620             NaN   \n1     1974-08-15            F         1.780      /m/044038p   \n2     1969-06-15            M         1.727         /m/0x67   \n3     1967-09-12            M         1.750             NaN   \n4     1977-09-25            F         1.650             NaN   \n\n           actor_name  actor_age freebase_character_actor_mapID  \\\n0      Wanda De Jesus       42.0                     /m/0bgchxw   \n1  Natasha Henstridge       27.0                      /m/0jys3m   \n2            Ice Cube       32.0                      /m/0jys3g   \n3       Jason Statham       33.0                     /m/02vchl6   \n4         Clea DuVall       23.0                     /m/02vbb3r   \n\n  freebase_character_ID freebase_actor_ID  \n0            /m/0bgcj3x        /m/03wcfv7  \n1            /m/0bgchn4         /m/0346l4  \n2            /m/0bgchn_        /m/01vw26l  \n3            /m/0bgchnq         /m/034hyc  \n4            /m/0bgchp9         /m/01y9xg  ",
      "text/html": "<div>\n<style scoped>\n    .dataframe tbody tr th:only-of-type {\n        vertical-align: middle;\n    }\n\n    .dataframe tbody tr th {\n        vertical-align: top;\n    }\n\n    .dataframe thead th {\n        text-align: right;\n    }\n</style>\n<table border=\"1\" class=\"dataframe\">\n  <thead>\n    <tr style=\"text-align: right;\">\n      <th></th>\n      <th>wikipedia_ID</th>\n      <th>freebase_ID</th>\n      <th>release_date</th>\n      <th>character_name</th>\n      <th>actor_birthday</th>\n      <th>actor_gender</th>\n      <th>actor_height</th>\n      <th>actor_ethnicity</th>\n      <th>actor_name</th>\n      <th>actor_age</th>\n      <th>freebase_character_actor_mapID</th>\n      <th>freebase_character_ID</th>\n      <th>freebase_actor_ID</th>\n    </tr>\n  </thead>\n  <tbody>\n    <tr>\n      <th>0</th>\n      <td>975900</td>\n      <td>/m/03vyhn</td>\n      <td>2001-08-24</td>\n      <td>Akooshay</td>\n      <td>1958-08-26</td>\n      <td>F</td>\n      <td>1.620</td>\n      <td>NaN</td>\n      <td>Wanda De Jesus</td>\n      <td>42.0</td>\n      <td>/m/0bgchxw</td>\n      <td>/m/0bgcj3x</td>\n      <td>/m/03wcfv7</td>\n    </tr>\n    <tr>\n      <th>1</th>\n      <td>975900</td>\n      <td>/m/03vyhn</td>\n      <td>2001-08-24</td>\n      <td>Lieutenant Melanie Ballard</td>\n      <td>1974-08-15</td>\n      <td>F</td>\n      <td>1.780</td>\n      <td>/m/044038p</td>\n      <td>Natasha Henstridge</td>\n      <td>27.0</td>\n      <td>/m/0jys3m</td>\n      <td>/m/0bgchn4</td>\n      <td>/m/0346l4</td>\n    </tr>\n    <tr>\n      <th>2</th>\n      <td>975900</td>\n      <td>/m/03vyhn</td>\n      <td>2001-08-24</td>\n      <td>Desolation Williams</td>\n      <td>1969-06-15</td>\n      <td>M</td>\n      <td>1.727</td>\n      <td>/m/0x67</td>\n      <td>Ice Cube</td>\n      <td>32.0</td>\n      <td>/m/0jys3g</td>\n      <td>/m/0bgchn_</td>\n      <td>/m/01vw26l</td>\n    </tr>\n    <tr>\n      <th>3</th>\n      <td>975900</td>\n      <td>/m/03vyhn</td>\n      <td>2001-08-24</td>\n      <td>Sgt Jericho Butler</td>\n      <td>1967-09-12</td>\n      <td>M</td>\n      <td>1.750</td>\n      <td>NaN</td>\n      <td>Jason Statham</td>\n      <td>33.0</td>\n      <td>/m/02vchl6</td>\n      <td>/m/0bgchnq</td>\n      <td>/m/034hyc</td>\n    </tr>\n    <tr>\n      <th>4</th>\n      <td>975900</td>\n      <td>/m/03vyhn</td>\n      <td>2001-08-24</td>\n      <td>Bashira Kincaid</td>\n      <td>1977-09-25</td>\n      <td>F</td>\n      <td>1.650</td>\n      <td>NaN</td>\n      <td>Clea DuVall</td>\n      <td>23.0</td>\n      <td>/m/02vbb3r</td>\n      <td>/m/0bgchp9</td>\n      <td>/m/01y9xg</td>\n    </tr>\n  </tbody>\n</table>\n</div>"
     },
     "execution_count": 4,
     "metadata": {},
     "output_type": "execute_result"
    }
   ],
   "source": [
    "character_metadata = pd.read_csv(data_folder+'character.metadata.tsv', header=None, sep='\\t',\n",
    "                                 names=['wikipedia_ID','freebase_ID','release_date', 'character_name',\n",
    "                                        'actor_birthday', 'actor_gender', 'actor_height', 'actor_ethnicity',\n",
    "                                        'actor_name' , 'actor_age','freebase_character_actor_mapID',\n",
    "                                        'freebase_character_ID', 'freebase_actor_ID' ], parse_dates=False)\n",
    "character_metadata.head(5)"
   ]
  },
  {
   "cell_type": "code",
   "execution_count": 5,
   "metadata": {
    "collapsed": false,
    "jupyter": {
     "outputs_hidden": false
    },
    "tags": []
   },
   "outputs": [
    {
     "data": {
      "text/plain": "   wikipedia_ID                                       plot_summary\n0      23890098  Shlykov, a hard-working taxi driver and Lyosha...\n1      31186339  The nation of Panem consists of a wealthy Capi...\n2      20663735  Poovalli Induchoodan  is sentenced for six yea...\n3       2231378  The Lemon Drop Kid , a New York City swindler,...\n4        595909  Seventh-day Adventist Church pastor Michael Ch...",
      "text/html": "<div>\n<style scoped>\n    .dataframe tbody tr th:only-of-type {\n        vertical-align: middle;\n    }\n\n    .dataframe tbody tr th {\n        vertical-align: top;\n    }\n\n    .dataframe thead th {\n        text-align: right;\n    }\n</style>\n<table border=\"1\" class=\"dataframe\">\n  <thead>\n    <tr style=\"text-align: right;\">\n      <th></th>\n      <th>wikipedia_ID</th>\n      <th>plot_summary</th>\n    </tr>\n  </thead>\n  <tbody>\n    <tr>\n      <th>0</th>\n      <td>23890098</td>\n      <td>Shlykov, a hard-working taxi driver and Lyosha...</td>\n    </tr>\n    <tr>\n      <th>1</th>\n      <td>31186339</td>\n      <td>The nation of Panem consists of a wealthy Capi...</td>\n    </tr>\n    <tr>\n      <th>2</th>\n      <td>20663735</td>\n      <td>Poovalli Induchoodan  is sentenced for six yea...</td>\n    </tr>\n    <tr>\n      <th>3</th>\n      <td>2231378</td>\n      <td>The Lemon Drop Kid , a New York City swindler,...</td>\n    </tr>\n    <tr>\n      <th>4</th>\n      <td>595909</td>\n      <td>Seventh-day Adventist Church pastor Michael Ch...</td>\n    </tr>\n  </tbody>\n</table>\n</div>"
     },
     "execution_count": 5,
     "metadata": {},
     "output_type": "execute_result"
    }
   ],
   "source": [
    "plot_summaries = pd.read_csv(data_folder+'plot_summaries.txt',sep='\\t', header=None,\n",
    "                             names=['wikipedia_ID', 'plot_summary'] )\n",
    "plot_summaries.head()"
   ]
  },
  {
   "cell_type": "markdown",
   "metadata": {},
   "source": [
    "# 3) Movie dataset: Filtering\n",
    "<a id='section-3'></a>"
   ]
  },
  {
   "cell_type": "markdown",
   "metadata": {},
   "source": [
    "### How many movies do we have?"
   ]
  },
  {
   "cell_type": "code",
   "execution_count": 6,
   "metadata": {
    "collapsed": false,
    "jupyter": {
     "outputs_hidden": false
    },
    "tags": []
   },
   "outputs": [
    {
     "data": {
      "text/plain": "wikipedia_ID          81741\nfreebase_ID           81741\nname                  81741\nrelease_date          74839\nbox_office_revenue     8401\nruntime               61291\nlanguages             81741\ncountries             81741\ngenre                 81741\ndtype: int64"
     },
     "execution_count": 6,
     "metadata": {},
     "output_type": "execute_result"
    }
   ],
   "source": [
    "number_of_data= movies_metadata.count()\n",
    "number_of_data"
   ]
  },
  {
   "cell_type": "markdown",
   "metadata": {},
   "source": [
    "#### Where is data mostly missing ?"
   ]
  },
  {
   "cell_type": "code",
   "execution_count": 7,
   "metadata": {
    "collapsed": false,
    "jupyter": {
     "outputs_hidden": false
    },
    "tags": []
   },
   "outputs": [
    {
     "data": {
      "text/plain": "wikipedia_ID          100.000000\nfreebase_ID           100.000000\nname                  100.000000\nrelease_date           91.556257\nbox_office_revenue     10.277584\nruntime                74.981955\nlanguages             100.000000\ncountries             100.000000\ngenre                 100.000000\ndtype: float64"
     },
     "execution_count": 7,
     "metadata": {},
     "output_type": "execute_result"
    }
   ],
   "source": [
    "proportion_of_each_data = number_of_data/number_of_data['wikipedia_ID']*100\n",
    "proportion_of_each_data"
   ]
  },
  {
   "cell_type": "markdown",
   "metadata": {},
   "source": [
    "We see that the box office column is a column with a lot of missing data, it is only present for 10% of movies. This will not impact our analysis as we are not planning on using the box office as a metric.\n",
    "One caveat of these results is that an empty list will not be considered as a missing. So for languages, countries and genres this percentages do not really represent the missing data."
   ]
  },
  {
   "cell_type": "markdown",
   "metadata": {},
   "source": [
    "Given we will perform our analysis on American movies we will only keep the data for movies from the US"
   ]
  },
  {
   "cell_type": "code",
   "execution_count": 8,
   "metadata": {
    "collapsed": false,
    "jupyter": {
     "outputs_hidden": false
    },
    "tags": []
   },
   "outputs": [
    {
     "data": {
      "text/plain": "       wikipedia_ID freebase_ID  \\\n0            975900   /m/03vyhn   \n1           3196793   /m/08yl5d   \n5          13696889  /m/03cfc81   \n7          10408933  /m/02qc0j7   \n10           175026   /m/017n1p   \n...             ...         ...   \n81725       1918494   /m/0660qx   \n81726        664006   /m/030xw6   \n81727      24209227  /m/07k5mlk   \n81736      35228177  /m/0j7hxnt   \n81738       9971909  /m/02pygw1   \n\n                                                    name release_date  \\\n0                                         Ghosts of Mars   2001-08-24   \n1      Getting Away with Murder: The JonBenét Ramsey ...   2000-02-16   \n5                                          The Gangsters   1913-05-29   \n7                               Alexander's Ragtime Band   1938-08-16   \n10                                         Sarah and Son         1930   \n...                                                  ...          ...   \n81725                                     State and Main   2000-08-26   \n81726                                      Guilty as Sin   1993-06-04   \n81727                   The Time, the Place and the Girl         1946   \n81736                           Mermaids: The Body Found   2011-03-19   \n81738                                  Another Nice Mess   1972-09-22   \n\n       box_office_revenue  runtime  \\\n0              14010832.0     98.0   \n1                     NaN     95.0   \n5                     NaN     35.0   \n7               3600000.0    106.0   \n10                    NaN     86.0   \n...                   ...      ...   \n81725           6944471.0    106.0   \n81726          22886222.0    107.0   \n81727                 NaN    105.0   \n81736                 NaN    120.0   \n81738                 NaN     66.0   \n\n                                               languages  \\\n0                     {\"/m/02h40lc\": \"English Language\"}   \n1                     {\"/m/02h40lc\": \"English Language\"}   \n5      {\"/m/06ppq\": \"Silent film\", \"/m/02h40lc\": \"Eng...   \n7                     {\"/m/02h40lc\": \"English Language\"}   \n10                    {\"/m/02h40lc\": \"English Language\"}   \n...                                                  ...   \n81725  {\"/m/02bjrlw\": \"Italian Language\", \"/m/02h40lc...   \n81726                                                 {}   \n81727                 {\"/m/02h40lc\": \"English Language\"}   \n81736                 {\"/m/02h40lc\": \"English Language\"}   \n81738                 {\"/m/02h40lc\": \"English Language\"}   \n\n                                               countries  \\\n0              {\"/m/09c7w0\": \"United States of America\"}   \n1              {\"/m/09c7w0\": \"United States of America\"}   \n5              {\"/m/09c7w0\": \"United States of America\"}   \n7              {\"/m/09c7w0\": \"United States of America\"}   \n10             {\"/m/09c7w0\": \"United States of America\"}   \n...                                                  ...   \n81725  {\"/m/0f8l9c\": \"France\", \"/m/09c7w0\": \"United S...   \n81726          {\"/m/09c7w0\": \"United States of America\"}   \n81727          {\"/m/09c7w0\": \"United States of America\"}   \n81736          {\"/m/09c7w0\": \"United States of America\"}   \n81738          {\"/m/09c7w0\": \"United States of America\"}   \n\n                                                   genre  \n0      {\"/m/01jfsb\": \"Thriller\", \"/m/06n90\": \"Science...  \n1      {\"/m/02n4kr\": \"Mystery\", \"/m/03bxz7\": \"Biograp...  \n5      {\"/m/02hmvc\": \"Short Film\", \"/m/06ppq\": \"Silen...  \n7      {\"/m/04t36\": \"Musical\", \"/m/01z4y\": \"Comedy\", ...  \n10     {\"/m/07s9rl0\": \"Drama\", \"/m/01g6gs\": \"Black-an...  \n...                                                  ...  \n81725  {\"/m/0gf28\": \"Parody\", \"/m/09n5t_\": \"Americana...  \n81726  {\"/m/01jfsb\": \"Thriller\", \"/m/0glj9q\": \"Erotic...  \n81727  {\"/m/05p553\": \"Comedy film\", \"/m/02l7c8\": \"Rom...  \n81736                            {\"/m/07s9rl0\": \"Drama\"}  \n81738       {\"/m/06nbt\": \"Satire\", \"/m/01z4y\": \"Comedy\"}  \n\n[34408 rows x 9 columns]",
      "text/html": "<div>\n<style scoped>\n    .dataframe tbody tr th:only-of-type {\n        vertical-align: middle;\n    }\n\n    .dataframe tbody tr th {\n        vertical-align: top;\n    }\n\n    .dataframe thead th {\n        text-align: right;\n    }\n</style>\n<table border=\"1\" class=\"dataframe\">\n  <thead>\n    <tr style=\"text-align: right;\">\n      <th></th>\n      <th>wikipedia_ID</th>\n      <th>freebase_ID</th>\n      <th>name</th>\n      <th>release_date</th>\n      <th>box_office_revenue</th>\n      <th>runtime</th>\n      <th>languages</th>\n      <th>countries</th>\n      <th>genre</th>\n    </tr>\n  </thead>\n  <tbody>\n    <tr>\n      <th>0</th>\n      <td>975900</td>\n      <td>/m/03vyhn</td>\n      <td>Ghosts of Mars</td>\n      <td>2001-08-24</td>\n      <td>14010832.0</td>\n      <td>98.0</td>\n      <td>{\"/m/02h40lc\": \"English Language\"}</td>\n      <td>{\"/m/09c7w0\": \"United States of America\"}</td>\n      <td>{\"/m/01jfsb\": \"Thriller\", \"/m/06n90\": \"Science...</td>\n    </tr>\n    <tr>\n      <th>1</th>\n      <td>3196793</td>\n      <td>/m/08yl5d</td>\n      <td>Getting Away with Murder: The JonBenét Ramsey ...</td>\n      <td>2000-02-16</td>\n      <td>NaN</td>\n      <td>95.0</td>\n      <td>{\"/m/02h40lc\": \"English Language\"}</td>\n      <td>{\"/m/09c7w0\": \"United States of America\"}</td>\n      <td>{\"/m/02n4kr\": \"Mystery\", \"/m/03bxz7\": \"Biograp...</td>\n    </tr>\n    <tr>\n      <th>5</th>\n      <td>13696889</td>\n      <td>/m/03cfc81</td>\n      <td>The Gangsters</td>\n      <td>1913-05-29</td>\n      <td>NaN</td>\n      <td>35.0</td>\n      <td>{\"/m/06ppq\": \"Silent film\", \"/m/02h40lc\": \"Eng...</td>\n      <td>{\"/m/09c7w0\": \"United States of America\"}</td>\n      <td>{\"/m/02hmvc\": \"Short Film\", \"/m/06ppq\": \"Silen...</td>\n    </tr>\n    <tr>\n      <th>7</th>\n      <td>10408933</td>\n      <td>/m/02qc0j7</td>\n      <td>Alexander's Ragtime Band</td>\n      <td>1938-08-16</td>\n      <td>3600000.0</td>\n      <td>106.0</td>\n      <td>{\"/m/02h40lc\": \"English Language\"}</td>\n      <td>{\"/m/09c7w0\": \"United States of America\"}</td>\n      <td>{\"/m/04t36\": \"Musical\", \"/m/01z4y\": \"Comedy\", ...</td>\n    </tr>\n    <tr>\n      <th>10</th>\n      <td>175026</td>\n      <td>/m/017n1p</td>\n      <td>Sarah and Son</td>\n      <td>1930</td>\n      <td>NaN</td>\n      <td>86.0</td>\n      <td>{\"/m/02h40lc\": \"English Language\"}</td>\n      <td>{\"/m/09c7w0\": \"United States of America\"}</td>\n      <td>{\"/m/07s9rl0\": \"Drama\", \"/m/01g6gs\": \"Black-an...</td>\n    </tr>\n    <tr>\n      <th>...</th>\n      <td>...</td>\n      <td>...</td>\n      <td>...</td>\n      <td>...</td>\n      <td>...</td>\n      <td>...</td>\n      <td>...</td>\n      <td>...</td>\n      <td>...</td>\n    </tr>\n    <tr>\n      <th>81725</th>\n      <td>1918494</td>\n      <td>/m/0660qx</td>\n      <td>State and Main</td>\n      <td>2000-08-26</td>\n      <td>6944471.0</td>\n      <td>106.0</td>\n      <td>{\"/m/02bjrlw\": \"Italian Language\", \"/m/02h40lc...</td>\n      <td>{\"/m/0f8l9c\": \"France\", \"/m/09c7w0\": \"United S...</td>\n      <td>{\"/m/0gf28\": \"Parody\", \"/m/09n5t_\": \"Americana...</td>\n    </tr>\n    <tr>\n      <th>81726</th>\n      <td>664006</td>\n      <td>/m/030xw6</td>\n      <td>Guilty as Sin</td>\n      <td>1993-06-04</td>\n      <td>22886222.0</td>\n      <td>107.0</td>\n      <td>{}</td>\n      <td>{\"/m/09c7w0\": \"United States of America\"}</td>\n      <td>{\"/m/01jfsb\": \"Thriller\", \"/m/0glj9q\": \"Erotic...</td>\n    </tr>\n    <tr>\n      <th>81727</th>\n      <td>24209227</td>\n      <td>/m/07k5mlk</td>\n      <td>The Time, the Place and the Girl</td>\n      <td>1946</td>\n      <td>NaN</td>\n      <td>105.0</td>\n      <td>{\"/m/02h40lc\": \"English Language\"}</td>\n      <td>{\"/m/09c7w0\": \"United States of America\"}</td>\n      <td>{\"/m/05p553\": \"Comedy film\", \"/m/02l7c8\": \"Rom...</td>\n    </tr>\n    <tr>\n      <th>81736</th>\n      <td>35228177</td>\n      <td>/m/0j7hxnt</td>\n      <td>Mermaids: The Body Found</td>\n      <td>2011-03-19</td>\n      <td>NaN</td>\n      <td>120.0</td>\n      <td>{\"/m/02h40lc\": \"English Language\"}</td>\n      <td>{\"/m/09c7w0\": \"United States of America\"}</td>\n      <td>{\"/m/07s9rl0\": \"Drama\"}</td>\n    </tr>\n    <tr>\n      <th>81738</th>\n      <td>9971909</td>\n      <td>/m/02pygw1</td>\n      <td>Another Nice Mess</td>\n      <td>1972-09-22</td>\n      <td>NaN</td>\n      <td>66.0</td>\n      <td>{\"/m/02h40lc\": \"English Language\"}</td>\n      <td>{\"/m/09c7w0\": \"United States of America\"}</td>\n      <td>{\"/m/06nbt\": \"Satire\", \"/m/01z4y\": \"Comedy\"}</td>\n    </tr>\n  </tbody>\n</table>\n<p>34408 rows × 9 columns</p>\n</div>"
     },
     "execution_count": 8,
     "metadata": {},
     "output_type": "execute_result"
    }
   ],
   "source": [
    "us_movies_metadata = movies_metadata[movies_metadata['countries'].str.contains('United States of America',\n",
    "                                                                               case=False)].copy()\n",
    "us_movies_metadata"
   ]
  },
  {
   "cell_type": "markdown",
   "metadata": {},
   "source": [
    "How many movies did we keep?"
   ]
  },
  {
   "cell_type": "code",
   "execution_count": 9,
   "metadata": {
    "collapsed": false,
    "jupyter": {
     "outputs_hidden": false
    },
    "tags": []
   },
   "outputs": [
    {
     "name": "stdout",
     "output_type": "stream",
     "text": [
      "wikipedia_ID          34408\n",
      "freebase_ID           34408\n",
      "name                  34408\n",
      "release_date          33197\n",
      "box_office_revenue     6936\n",
      "runtime               29509\n",
      "languages             34408\n",
      "countries             34408\n",
      "genre                 34408\n",
      "dtype: int64\n"
     ]
    }
   ],
   "source": [
    "print(us_movies_metadata.count())"
   ]
  },
  {
   "cell_type": "code",
   "execution_count": 10,
   "metadata": {
    "collapsed": false,
    "jupyter": {
     "outputs_hidden": false
    },
    "tags": []
   },
   "outputs": [
    {
     "name": "stdout",
     "output_type": "stream",
     "text": [
      "Total Number of movies 81741\n",
      "Number of non-US movies 47333\n"
     ]
    }
   ],
   "source": [
    "print('Total Number of movies', number_of_data.wikipedia_ID)\n",
    "print('Number of non-US movies', number_of_data.wikipedia_ID - us_movies_metadata.wikipedia_ID.count())"
   ]
  },
  {
   "cell_type": "code",
   "execution_count": 11,
   "metadata": {
    "collapsed": false,
    "jupyter": {
     "outputs_hidden": false
    },
    "tags": []
   },
   "outputs": [],
   "source": [
    "#Let's remove the dictionaries from the countries, the genre and languages of our data\n",
    "us_movies_metadata['countries'] = us_movies_metadata['countries'].apply(lambda x:\n",
    "                                                                        list(ast.literal_eval(x).values()))\n",
    "us_movies_metadata['genre'] = us_movies_metadata['genre'].apply(lambda x:\n",
    "                                                                list(ast.literal_eval(x).values()))\n",
    "us_movies_metadata['languages'] = us_movies_metadata['languages'].apply(lambda x:\n",
    "                                                                        list(ast.literal_eval(x).values()))\n",
    "\n",
    "# convert dates to same format and remove movies with unknown movie release dates\n",
    "us_movies_metadata['release_date'] = us_movies_metadata['release_date'].astype(str)\n",
    "us_movies_metadata['release_date'] = pd.to_datetime(us_movies_metadata['release_date'],\n",
    "                                                    format='mixed', errors='coerce')\n",
    "us_movies_metadata = us_movies_metadata.dropna(subset=['release_date']).copy()"
   ]
  },
  {
   "cell_type": "markdown",
   "metadata": {},
   "source": [
    "Let's see what languages we still have in our data."
   ]
  },
  {
   "cell_type": "code",
   "execution_count": 12,
   "metadata": {
    "collapsed": false,
    "jupyter": {
     "outputs_hidden": false
    },
    "tags": []
   },
   "outputs": [
    {
     "data": {
      "text/plain": "array(['English Language', 'Silent film', nan, 'Spanish Language',\n       'Greek Language', 'Swahili Language', 'French Language',\n       'Standard Mandarin', 'Standard Cantonese', 'Italian Language',\n       'Japanese Language', 'American English', 'German Language',\n       'Arabic Language', 'Czech Language', 'Slovak Language',\n       'Thai Language', 'Portuguese Language', 'Polish Language',\n       'Tibetan languages', 'Mandarin Chinese', 'Cantonese',\n       'Standard Tibetan', 'Chinese language', 'Swedish Language',\n       'Hungarian language', 'Russian Language', 'Dutch Language',\n       'Persian Language', 'Irish', 'American Sign Language',\n       'Tagalog language', 'Filipino language', 'Xhosa Language',\n       'Afrikaans Language', 'Urdu Language', 'Hebrew Language',\n       'Tamil Language', 'Latin Language', 'Turkish Language',\n       'Hindi Language', 'Serbo-Croatian', 'Croatian language',\n       'Serbian language', 'Kannada Language', 'Punjabi language',\n       'Bengali Language', 'Yiddish Language', 'Navajo Language',\n       'Algonquin Language', 'Ukrainian Language', 'Aramaic language',\n       'Vietnamese Language', 'Esperanto Language', 'Danish Language',\n       'Romanian Language', 'Maya, Yucatán Language', 'Quechua',\n       'Korean Language', 'Bulgarian Language', 'Welsh Language',\n       'Finnish Language', 'Old English language', 'Icelandic Language',\n       'Apache, Western Language', 'Kurdish language',\n       'Macedonian Language', 'Estonian Language', 'Amharic Language',\n       'Lithuanian language', 'Armenian Language', 'Gaelic',\n       'Albanian language', 'Malay Language', 'Sioux language',\n       'Pawnee Language', 'Corsican Language', 'Hopi Language',\n       'Pashto language', 'Dari', 'Aboriginal Malay languages',\n       'Norwegian Language', 'Kinyarwanda language', 'Mende Language',\n       'Assyrian Neo-Aramaic Language', 'Gujarati Language',\n       'Egyptian, Ancient', 'Sanskrit Language', 'Zulu Language',\n       'Ancient Greek', 'Scottish Gaelic language', 'Tok Pisin Language',\n       'Crow Language', 'Bosnian language', 'Cheyenne Language',\n       'Somali Language', 'Hawaiian language', 'Galician Language',\n       'Sinhala Language', 'French Sign Language', 'Sumerian',\n       'Georgian Language', 'France', 'Wolof Language',\n       'Swiss German Language', 'Australian English', 'Telugu language',\n       'Malayalam Language', 'Sicilian Language', 'Cree language',\n       'Māori language', 'Korean Sign Language', 'Luxembourgish language',\n       'Krio Language', 'Mongolian language', 'Indian English',\n       'Khmer language', 'Cebuano language', 'Plautdietsch Language',\n       'Nepali Language', 'German', 'Klingon language', 'Akan Language',\n       'Shanghainese', 'Indonesian Language', 'Hmong language', 'Deutsch',\n       'Italian', 'Sotho language', 'Chewa language', 'Mohawk Language',\n       'Napoletano-Calabrese Language', 'Burmese Language',\n       'Brazilian Portuguese', 'Assyrian language', 'Romani language',\n       'Inuktitut', 'Min Nan', 'Taiwanese', 'Papiamento language',\n       'Tzotzil language', 'Nahuatl languages', 'Kuna language',\n       'Hausa Language'], dtype=object)"
     },
     "execution_count": 12,
     "metadata": {},
     "output_type": "execute_result"
    }
   ],
   "source": [
    "us_movies_metadata[\"languages\"].explode().unique()"
   ]
  },
  {
   "cell_type": "markdown",
   "metadata": {},
   "source": [
    "Of interest for us are: English Language, Silent Film, American English, Old English Language (for example Indian English is not very relevant for our analysis, as well as native american languages like Navajo or Hawaiian language). So let us remove any movie that doesn't have English Language, Silent Film, American English, Old English Language, or American Sign Language as one of their language. We will also keep movies that do not have any languages. When we complete the dataset using IMDB, we will get the languages of these movies and keep them if they are in E\n",
    "nglish."
   ]
  },
  {
   "cell_type": "code",
   "execution_count": 13,
   "metadata": {
    "collapsed": false,
    "jupyter": {
     "outputs_hidden": false
    },
    "tags": []
   },
   "outputs": [],
   "source": [
    "# Assuming us_movies_metadata is your DataFrame\n",
    "desired_languages = ['English Language', 'Silent Film', 'American English', 'Old English Language',\n",
    "                     'American Sign Language']\n",
    "\n",
    "# Keep rows with desired languages or empty list\n",
    "us_english_movies_metadata = us_movies_metadata[us_movies_metadata['languages'].apply(lambda x:\n",
    "                                                                                      any(lang in x for lang in\n",
    "                                                                                          desired_languages) or not x)].copy()"
   ]
  },
  {
   "cell_type": "markdown",
   "metadata": {},
   "source": [
    "Did we remove any movies by doing that?"
   ]
  },
  {
   "cell_type": "code",
   "execution_count": 14,
   "metadata": {
    "collapsed": false,
    "jupyter": {
     "outputs_hidden": false
    },
    "tags": []
   },
   "outputs": [
    {
     "name": "stdout",
     "output_type": "stream",
     "text": [
      "We had 33197 movies in our U.S data frame\n",
      "We now have 32886 in our English US data frame\n",
      "So there are 311 movies that were from the US but not in any of the languages we decided to consider.\n",
      "We also see that there are 3022 movies that lack languages.\n"
     ]
    }
   ],
   "source": [
    "print('We had',us_movies_metadata.wikipedia_ID.count(), 'movies in our U.S data frame')\n",
    "print('We now have', us_english_movies_metadata.wikipedia_ID.count(), 'in our English US data frame')\n",
    "print('So there are',us_movies_metadata.wikipedia_ID.count()-us_english_movies_metadata.wikipedia_ID.count(),\n",
    "      'movies that were from the US but not in any of the languages we decided to consider.')\n",
    "print('We also see that there are',\n",
    "      np.sum(us_english_movies_metadata['languages'].apply(lambda x: len(x)==0)),\n",
    "      'movies that lack languages.')"
   ]
  },
  {
   "cell_type": "markdown",
   "metadata": {},
   "source": [
    "#### Now let us have a look at the genres we have in our dataset"
   ]
  },
  {
   "cell_type": "code",
   "execution_count": 15,
   "metadata": {
    "collapsed": false,
    "jupyter": {
     "outputs_hidden": false
    },
    "tags": []
   },
   "outputs": [
    {
     "data": {
      "text/plain": "array(['Thriller', 'Science Fiction', 'Horror', 'Adventure',\n       'Supernatural', 'Action', 'Space western', 'Mystery',\n       'Biographical film', 'Drama', 'Crime Drama', 'Short Film',\n       'Silent film', 'Indie', 'Black-and-white', 'Comedy', 'Musical',\n       'Romantic comedy', 'Ensemble Film', 'Comedy-drama',\n       'Romantic drama', 'Romance Film', \"Children's/Family\", 'Fantasy',\n       'Family Film', \"Children's Fantasy\", 'Future noir',\n       'Erotic thriller', 'Film adaptation', 'Crime Fiction',\n       'Coming of age', 'Psychological thriller', 'Suspense',\n       'Crime Thriller', 'Black comedy', 'Marriage Drama', 'Western',\n       'Parody', 'Mockumentary', 'Fan film', 'War film', 'Epic',\n       'Biopic [feature]', 'Historical Epic', 'Action/Adventure',\n       'Costume drama', 'Historical fiction', 'Culture & Society',\n       'Biography', 'Documentary', 'Christmas movie', 'Television movie',\n       'Action Comedy', 'Cult', 'Blaxploitation', 'Martial Arts Film',\n       'Epic Western', 'Softcore Porn', 'Sexploitation', 'B-movie',\n       'Zombie Film', 'Action Thrillers', 'Comedy film', 'Slasher',\n       'Film noir', 'Social issues', 'Satire', 'Legal drama',\n       'Courtroom Drama', 'New Hollywood', 'Musical Drama',\n       'Family Drama', 'Gangster Film', 'Crime Comedy', 'Monster movie',\n       'Natural horror films', 'Creature Film', 'Gender Issues', 'LGBT',\n       'Political thriller', 'Political drama', 'Melodrama', 'Americana',\n       'Detective fiction', 'Detective', 'Music', 'Concert film',\n       'History', 'Sci-Fi Horror', 'Horror Comedy', 'Childhood Drama',\n       'Docudrama', 'Teen', 'Gothic Film', 'Disaster', 'Musical comedy',\n       'Family-Oriented Adventure', 'Escape Film', 'Prison',\n       'Superhero movie', 'Spy', 'Animation', 'Combat Films', 'Wuxia',\n       'Fantasy Adventure', 'Period piece', 'Chinese Movies',\n       'Political cinema', 'Slapstick', 'Erotic Drama', 'Erotica',\n       'Sports', 'Tragedy', 'Buddy film', 'Time travel',\n       'Pornographic movie', 'Sword and sorcery', 'World cinema',\n       'Gross-out film', 'Gross out', 'Historical drama', 'Doomsday film',\n       'Plague', 'Propaganda film', 'Screwball comedy', 'Comedy Western',\n       'Rockumentary', 'Gay', 'Gay Interest', 'Gay Themed', 'Film à clef',\n       'Feminist Film', nan, 'Pre-Code', 'Juvenile Delinquency Film',\n       'Natural disaster', 'Dance', 'Movie serial', 'Comedy of manners',\n       \"Children's\", 'Comedy horror', 'Remake', 'Media Satire',\n       'Computer Animation', 'Dogme 95', 'Fantasy Comedy', 'Law & Crime',\n       'Stop motion', 'Art film', 'Roadshow theatrical release',\n       'Sex comedy', 'Holiday Film', 'Heavenly Comedy', 'Road movie',\n       'Auto racing', 'Heist', 'Japanese Movies', 'Experimental film',\n       'Surrealism', 'Avant-garde', 'Archaeology', 'Romantic fantasy',\n       'Religious Film', 'Biker Film', 'Comedy of Errors', 'Absurdism',\n       'Domestic Comedy', 'Slice of life story', 'Hardcore pornography',\n       'Adult', 'Existentialism', 'Animated Musical', 'Cavalry Film',\n       'Haunted House Film', 'Costume Adventure', 'Adventure Comedy',\n       'Space opera', 'Dystopia', 'Animals', 'Addiction Drama',\n       'Anthropology', 'Educational', 'Chase Movie', 'Extreme Sports',\n       'Christian film', 'Hagiography', 'Social problem film',\n       'Superhero', 'Anti-war', 'Anti-war film', 'Gay pornography',\n       'Environmental Science',\n       'Apocalyptic and post-apocalyptic fiction',\n       'Airplanes and airports', 'Alien Film', 'Animal Picture',\n       'Animated cartoon', 'Film & Television History', 'Hybrid Western',\n       'Inspirational Drama', 'Revisionist Western', 'Medical fiction',\n       'Stand-up comedy', 'Jungle Film', 'Fairy tale', 'Punk rock',\n       'Libraries and librarians', 'Workplace Comedy', 'Caper story',\n       'Swashbuckler films', 'Demonic child', 'Illnesses & Disabilities',\n       'Expressionism', 'Early Black Cinema', 'Political satire',\n       'Comedy Thriller', 'Interpersonal Relationships', 'Whodunit',\n       'Sword and sorcery films', 'B-Western', 'Filmed Play', 'Northern',\n       'Hip hop movies', 'Film', 'Roadshow/Carny', 'Exploitation',\n       'Nature', 'Travel', 'Mumblecore', 'Glamorized Spy Film',\n       \"Children's Entertainment\", 'Star vehicle', 'Business',\n       'Journalism', 'Graphic & Applied Arts', 'Camp', 'Boxing', 'Anime',\n       'Sword and Sandal', 'Sci-Fi Adventure', 'Alien invasion',\n       'Sponsored film', 'Foreign legion', 'Pornography',\n       'Heaven-Can-Wait Fantasies', 'Tragicomedy',\n       'Women in prison films', 'Stoner film', 'Baseball', 'Prison film',\n       'Monster', 'Conspiracy fiction', 'Master Criminal Films',\n       'Jukebox musical', 'Indian Western', 'Mythological Fantasy',\n       'Road-Horror', 'Werewolf fiction', 'Neo-noir',\n       'Private military company', 'Finance & Investing', 'Computers',\n       'Backstage Musical', 'Movies About Gladiators', 'Horse racing',\n       'Nuclear warfare', 'Inventions & Innovations',\n       'Instrumental Music', 'Archives and records', 'Psycho-biddy',\n       'Filipino Movies', 'Outlaw biker film', 'Prison escape',\n       'Spaghetti Western', 'Z movie', 'News', 'Beach Film',\n       'Live action', 'Education', 'Health & Fitness',\n       'Science fiction Western', 'Bloopers & Candid Camera',\n       'Media Studies', 'Crime', 'Costume Horror', 'Psychological horror',\n       'Albino bias', 'Mondo film', 'Family & Personal Relationships',\n       'Steampunk', 'Buddy cop', 'Fantasy Drama', 'Sci-Fi Thriller',\n       'Courtroom Comedy', 'Language & Literature', 'Operetta',\n       'Cyberpunk', 'Coming-of-age film', 'Historical Documentaries',\n       'Cold War', 'Essay Film', 'British Empire Film', 'World History',\n       'Splatter film', \"Children's Issues\", 'Female buddy film',\n       'Race movie', 'Breakdance', 'Acid western', 'War effort',\n       'Bollywood', 'Reboot', 'Humour', 'School story',\n       'Sci Fi Pictures original films', 'Gulf War', 'Outlaw',\n       'Feature film', 'Kafkaesque', 'Vampire movies', 'Goat gland',\n       'Therimin music', 'Beach Party film', 'Fictional film',\n       'Singing cowboy', 'Point of view shot', 'Clay animation',\n       'Parkour in popular culture', 'Patriotic film', 'Anthology',\n       'Chick flick', 'Ealing Comedies', 'Samurai cinema',\n       'Political Documetary', 'Ninja movie', 'Statutory rape', 'Giallo',\n       'British New Wave', 'Supermarionation', 'Period Horror',\n       'The Netherlands in World War II', 'Revisionist Fairy Tale'],\n      dtype=object)"
     },
     "execution_count": 15,
     "metadata": {},
     "output_type": "execute_result"
    }
   ],
   "source": [
    "us_english_movies_metadata[\"genre\"].explode().unique()"
   ]
  },
  {
   "cell_type": "markdown",
   "metadata": {},
   "source": [
    "As we can see we have a massive amount (342) of genres, so at some point we will need to filter or chose certain genres to analyze."
   ]
  },
  {
   "cell_type": "markdown",
   "metadata": {},
   "source": [
    "#### Plot of the number of movies per year"
   ]
  },
  {
   "cell_type": "code",
   "execution_count": 16,
   "metadata": {
    "collapsed": false,
    "jupyter": {
     "outputs_hidden": false
    },
    "tags": []
   },
   "outputs": [
    {
     "data": {
      "text/plain": "<Figure size 1000x600 with 1 Axes>",
      "image/png": "[encoded data removed]"
     },
     "metadata": {},
     "output_type": "display_data"
    }
   ],
   "source": [
    "# Group movies by release year\n",
    "movies_grouped_by_year = us_english_movies_metadata.groupby(us_english_movies_metadata['release_date'].dt.year)\n",
    "\n",
    "#number of movies per year\n",
    "number_movies_per_year = movies_grouped_by_year.size()\n",
    "\n",
    "plt.figure(figsize=(10, 6))\n",
    "number_movies_per_year.plot(kind='line', color = 'cornflowerblue')\n",
    "plt.title('Number of Movies Released per Year')\n",
    "plt.xlabel('Year')\n",
    "plt.ylabel('Number of Movies')\n",
    "plt.grid(True)\n",
    "plt.show()"
   ]
  },
  {
   "cell_type": "markdown",
   "metadata": {},
   "source": [
    "We can see on this plot that before 1912 we have very little movies. We will thus only keep movies from 1912 and later years."
   ]
  },
  {
   "cell_type": "code",
   "execution_count": 17,
   "metadata": {
    "collapsed": false,
    "jupyter": {
     "outputs_hidden": false
    },
    "tags": []
   },
   "outputs": [],
   "source": [
    "us_english_movies_metadata = us_english_movies_metadata[us_english_movies_metadata['release_date'].dt.year >= 1912]"
   ]
  },
  {
   "cell_type": "markdown",
   "metadata": {},
   "source": [
    "Let us merge this movies dataframe with the synopses"
   ]
  },
  {
   "cell_type": "code",
   "execution_count": 18,
   "metadata": {
    "collapsed": false,
    "jupyter": {
     "outputs_hidden": false
    },
    "tags": []
   },
   "outputs": [],
   "source": [
    "us_english_movies_synopsis = pd.merge(us_english_movies_metadata, plot_summaries, how='left',\n",
    "                                      on = 'wikipedia_ID')"
   ]
  },
  {
   "cell_type": "code",
   "execution_count": 19,
   "metadata": {
    "collapsed": false,
    "jupyter": {
     "outputs_hidden": false
    },
    "tags": []
   },
   "outputs": [
    {
     "data": {
      "text/plain": "       wikipedia_ID freebase_ID  \\\n0            975900   /m/03vyhn   \n1           3196793   /m/08yl5d   \n2          13696889  /m/03cfc81   \n3          10408933  /m/02qc0j7   \n4            175026   /m/017n1p   \n...             ...         ...   \n32692       1918494   /m/0660qx   \n32693        664006   /m/030xw6   \n32694      24209227  /m/07k5mlk   \n32695      35228177  /m/0j7hxnt   \n32696       9971909  /m/02pygw1   \n\n                                                    name release_date  \\\n0                                         Ghosts of Mars   2001-08-24   \n1      Getting Away with Murder: The JonBenét Ramsey ...   2000-02-16   \n2                                          The Gangsters   1913-05-29   \n3                               Alexander's Ragtime Band   1938-08-16   \n4                                          Sarah and Son   1930-01-01   \n...                                                  ...          ...   \n32692                                     State and Main   2000-08-26   \n32693                                      Guilty as Sin   1993-06-04   \n32694                   The Time, the Place and the Girl   1946-01-01   \n32695                           Mermaids: The Body Found   2011-03-19   \n32696                                  Another Nice Mess   1972-09-22   \n\n       box_office_revenue  runtime                             languages  \\\n0              14010832.0     98.0                    [English Language]   \n1                     NaN     95.0                    [English Language]   \n2                     NaN     35.0       [Silent film, English Language]   \n3               3600000.0    106.0                    [English Language]   \n4                     NaN     86.0                    [English Language]   \n...                   ...      ...                                   ...   \n32692           6944471.0    106.0  [Italian Language, English Language]   \n32693          22886222.0    107.0                                    []   \n32694                 NaN    105.0                    [English Language]   \n32695                 NaN    120.0                    [English Language]   \n32696                 NaN     66.0                    [English Language]   \n\n                                countries  \\\n0              [United States of America]   \n1              [United States of America]   \n2              [United States of America]   \n3              [United States of America]   \n4              [United States of America]   \n...                                   ...   \n32692  [France, United States of America]   \n32693          [United States of America]   \n32694          [United States of America]   \n32695          [United States of America]   \n32696          [United States of America]   \n\n                                                   genre  \\\n0      [Thriller, Science Fiction, Horror, Adventure,...   \n1       [Mystery, Biographical film, Drama, Crime Drama]   \n2      [Short Film, Silent film, Indie, Black-and-whi...   \n3                     [Musical, Comedy, Black-and-white]   \n4                               [Drama, Black-and-white]   \n...                                                  ...   \n32692                        [Parody, Americana, Comedy]   \n32693  [Thriller, Erotic thriller, Psychological thri...   \n32694               [Comedy film, Romance Film, Musical]   \n32695                                            [Drama]   \n32696                                   [Satire, Comedy]   \n\n                                            plot_summary  \n0      Set in the second half of the 22nd century, th...  \n1                                                    NaN  \n2                                                    NaN  \n3                                                    NaN  \n4                                                    NaN  \n...                                                  ...  \n32692  Havoc is wrought on the inhabitants of a small...  \n32693  Jennifer Haines  is an up-and-coming Chicago a...  \n32694                                                NaN  \n32695  Two former National Oceanic Atmospheric Admini...  \n32696                                                NaN  \n\n[32697 rows x 10 columns]",
      "text/html": "<div>\n<style scoped>\n    .dataframe tbody tr th:only-of-type {\n        vertical-align: middle;\n    }\n\n    .dataframe tbody tr th {\n        vertical-align: top;\n    }\n\n    .dataframe thead th {\n        text-align: right;\n    }\n</style>\n<table border=\"1\" class=\"dataframe\">\n  <thead>\n    <tr style=\"text-align: right;\">\n      <th></th>\n      <th>wikipedia_ID</th>\n      <th>freebase_ID</th>\n      <th>name</th>\n      <th>release_date</th>\n      <th>box_office_revenue</th>\n      <th>runtime</th>\n      <th>languages</th>\n      <th>countries</th>\n      <th>genre</th>\n      <th>plot_summary</th>\n    </tr>\n  </thead>\n  <tbody>\n    <tr>\n      <th>0</th>\n      <td>975900</td>\n      <td>/m/03vyhn</td>\n      <td>Ghosts of Mars</td>\n      <td>2001-08-24</td>\n      <td>14010832.0</td>\n      <td>98.0</td>\n      <td>[English Language]</td>\n      <td>[United States of America]</td>\n      <td>[Thriller, Science Fiction, Horror, Adventure,...</td>\n      <td>Set in the second half of the 22nd century, th...</td>\n    </tr>\n    <tr>\n      <th>1</th>\n      <td>3196793</td>\n      <td>/m/08yl5d</td>\n      <td>Getting Away with Murder: The JonBenét Ramsey ...</td>\n      <td>2000-02-16</td>\n      <td>NaN</td>\n      <td>95.0</td>\n      <td>[English Language]</td>\n      <td>[United States of America]</td>\n      <td>[Mystery, Biographical film, Drama, Crime Drama]</td>\n      <td>NaN</td>\n    </tr>\n    <tr>\n      <th>2</th>\n      <td>13696889</td>\n      <td>/m/03cfc81</td>\n      <td>The Gangsters</td>\n      <td>1913-05-29</td>\n      <td>NaN</td>\n      <td>35.0</td>\n      <td>[Silent film, English Language]</td>\n      <td>[United States of America]</td>\n      <td>[Short Film, Silent film, Indie, Black-and-whi...</td>\n      <td>NaN</td>\n    </tr>\n    <tr>\n      <th>3</th>\n      <td>10408933</td>\n      <td>/m/02qc0j7</td>\n      <td>Alexander's Ragtime Band</td>\n      <td>1938-08-16</td>\n      <td>3600000.0</td>\n      <td>106.0</td>\n      <td>[English Language]</td>\n      <td>[United States of America]</td>\n      <td>[Musical, Comedy, Black-and-white]</td>\n      <td>NaN</td>\n    </tr>\n    <tr>\n      <th>4</th>\n      <td>175026</td>\n      <td>/m/017n1p</td>\n      <td>Sarah and Son</td>\n      <td>1930-01-01</td>\n      <td>NaN</td>\n      <td>86.0</td>\n      <td>[English Language]</td>\n      <td>[United States of America]</td>\n      <td>[Drama, Black-and-white]</td>\n      <td>NaN</td>\n    </tr>\n    <tr>\n      <th>...</th>\n      <td>...</td>\n      <td>...</td>\n      <td>...</td>\n      <td>...</td>\n      <td>...</td>\n      <td>...</td>\n      <td>...</td>\n      <td>...</td>\n      <td>...</td>\n      <td>...</td>\n    </tr>\n    <tr>\n      <th>32692</th>\n      <td>1918494</td>\n      <td>/m/0660qx</td>\n      <td>State and Main</td>\n      <td>2000-08-26</td>\n      <td>6944471.0</td>\n      <td>106.0</td>\n      <td>[Italian Language, English Language]</td>\n      <td>[France, United States of America]</td>\n      <td>[Parody, Americana, Comedy]</td>\n      <td>Havoc is wrought on the inhabitants of a small...</td>\n    </tr>\n    <tr>\n      <th>32693</th>\n      <td>664006</td>\n      <td>/m/030xw6</td>\n      <td>Guilty as Sin</td>\n      <td>1993-06-04</td>\n      <td>22886222.0</td>\n      <td>107.0</td>\n      <td>[]</td>\n      <td>[United States of America]</td>\n      <td>[Thriller, Erotic thriller, Psychological thri...</td>\n      <td>Jennifer Haines  is an up-and-coming Chicago a...</td>\n    </tr>\n    <tr>\n      <th>32694</th>\n      <td>24209227</td>\n      <td>/m/07k5mlk</td>\n      <td>The Time, the Place and the Girl</td>\n      <td>1946-01-01</td>\n      <td>NaN</td>\n      <td>105.0</td>\n      <td>[English Language]</td>\n      <td>[United States of America]</td>\n      <td>[Comedy film, Romance Film, Musical]</td>\n      <td>NaN</td>\n    </tr>\n    <tr>\n      <th>32695</th>\n      <td>35228177</td>\n      <td>/m/0j7hxnt</td>\n      <td>Mermaids: The Body Found</td>\n      <td>2011-03-19</td>\n      <td>NaN</td>\n      <td>120.0</td>\n      <td>[English Language]</td>\n      <td>[United States of America]</td>\n      <td>[Drama]</td>\n      <td>Two former National Oceanic Atmospheric Admini...</td>\n    </tr>\n    <tr>\n      <th>32696</th>\n      <td>9971909</td>\n      <td>/m/02pygw1</td>\n      <td>Another Nice Mess</td>\n      <td>1972-09-22</td>\n      <td>NaN</td>\n      <td>66.0</td>\n      <td>[English Language]</td>\n      <td>[United States of America]</td>\n      <td>[Satire, Comedy]</td>\n      <td>NaN</td>\n    </tr>\n  </tbody>\n</table>\n<p>32697 rows × 10 columns</p>\n</div>"
     },
     "execution_count": 19,
     "metadata": {},
     "output_type": "execute_result"
    }
   ],
   "source": [
    "us_english_movies_synopsis"
   ]
  },
  {
   "cell_type": "markdown",
   "metadata": {},
   "source": [
    "Do we have a lot of missing summaries?"
   ]
  },
  {
   "cell_type": "code",
   "execution_count": 20,
   "metadata": {
    "collapsed": false,
    "jupyter": {
     "outputs_hidden": false
    },
    "tags": []
   },
   "outputs": [
    {
     "name": "stdout",
     "output_type": "stream",
     "text": [
      "We have 20086 movies out of 32697 with a summary, which means we only have 61.43071229776432 % of the movies with the plotline. However, the plot summary analysis might be too costly to run on a lot of summaries. It might therefore be reasonable not to complete the missing plot summaries.\n"
     ]
    }
   ],
   "source": [
    "missing_plot = us_english_movies_synopsis['plot_summary'].isna().sum()\n",
    "number_of_movies = len(us_english_movies_synopsis['plot_summary'])\n",
    "print('We have', number_of_movies- missing_plot, 'movies out of',number_of_movies,\n",
    "      \"with a summary, which means we only have\", (number_of_movies- missing_plot)*100/number_of_movies ,\n",
    "      \"% of the movies with the plotline. However, the plot summary analysis might be too costly to run on \",\n",
    "      \"a lot of summaries. It might therefore be reasonable not to complete the missing plot summaries.\" )"
   ]
  },
  {
   "cell_type": "markdown",
   "metadata": {},
   "source": [
    "# 4) Character Dataset: Filtering\n",
    "<a id='section-4'></a>"
   ]
  },
  {
   "cell_type": "markdown",
   "metadata": {},
   "source": [
    "Let's start by checking the completeness of the character dataset:"
   ]
  },
  {
   "cell_type": "code",
   "execution_count": 21,
   "metadata": {
    "collapsed": false,
    "jupyter": {
     "outputs_hidden": false
    },
    "tags": []
   },
   "outputs": [
    {
     "data": {
      "text/plain": "wikipedia_ID                      100.000000\nfreebase_ID                       100.000000\nrelease_date                       97.782186\ncharacter_name                     42.779512\nactor_birthday                     76.447237\nactor_gender                       89.879712\nactor_height                       34.354260\nactor_ethnicity                    23.533458\nactor_name                         99.727516\nactor_age                          64.915936\nfreebase_character_actor_mapID    100.000000\nfreebase_character_ID              42.781731\nfreebase_actor_ID                  99.819158\ndtype: float64"
     },
     "execution_count": 21,
     "metadata": {},
     "output_type": "execute_result"
    }
   ],
   "source": [
    "number_of_data_character= character_metadata.count()\n",
    "proportion_of_each_data_character = number_of_data_character/number_of_data_character['wikipedia_ID']*100\n",
    "proportion_of_each_data_character"
   ]
  },
  {
   "cell_type": "markdown",
   "metadata": {},
   "source": [
    "The data seems pretty complete regarding the release date of the movies, actor's gender and actor's age. Nevertheless, we need  to complete the dataset with more character's name to be able to analyze deeper the personas associated with them and use this result in our analysis."
   ]
  },
  {
   "cell_type": "code",
   "execution_count": 22,
   "metadata": {
    "collapsed": false,
    "jupyter": {
     "outputs_hidden": false
    },
    "tags": []
   },
   "outputs": [],
   "source": [
    "# remove unknown release dates\n",
    "character_metadata = character_metadata.dropna(subset='release_date')\n",
    "# convert the release_date to a date format (YYYY/MM/DD\n",
    "# but any date that initially only has a year will be converted to YYYY/01/01)\n",
    "character_metadata['release_date'] = character_metadata['release_date'].astype(str)\n",
    "character_metadata['release_date'] = pd.to_datetime(character_metadata['release_date'], format = 'mixed',\n",
    "                                                    errors='coerce').dt.year"
   ]
  },
  {
   "cell_type": "markdown",
   "metadata": {},
   "source": [
    "First we will only keep the characters related to the movies we previously filtered"
   ]
  },
  {
   "cell_type": "code",
   "execution_count": 23,
   "metadata": {
    "collapsed": false,
    "jupyter": {
     "outputs_hidden": false
    },
    "tags": []
   },
   "outputs": [],
   "source": [
    "us_movie_mask = character_metadata['wikipedia_ID'].isin(us_english_movies_metadata['wikipedia_ID'])\n",
    "character_metadata = character_metadata[us_movie_mask]"
   ]
  },
  {
   "cell_type": "markdown",
   "metadata": {},
   "source": [
    "Let's filter the character metadata to remove actors with a gender differing from F or M. However, let's first explore the values that \"gender\" take."
   ]
  },
  {
   "cell_type": "code",
   "execution_count": 24,
   "metadata": {
    "collapsed": false,
    "jupyter": {
     "outputs_hidden": false
    },
    "tags": []
   },
   "outputs": [
    {
     "data": {
      "text/plain": "actor_gender\nF      71386\nM     149059\nNA     19155\nName: actor_name, dtype: int64"
     },
     "metadata": {},
     "output_type": "display_data"
    }
   ],
   "source": [
    "# Check values in the \"actor_gender\" column\n",
    "character_metadata.loc[character_metadata.actor_gender.isna(), \"actor_gender\"] = \"NA\"\n",
    "display(character_metadata.groupby(\"actor_gender\").count().actor_name)"
   ]
  },
  {
   "cell_type": "markdown",
   "metadata": {},
   "source": [
    "As expected, actor's gender is either F (female), M (male) or NA (not mentionned). Nevertheless, this check was necessary in order to make sure no one identified as non-binary for example. Let's now remove the actors with NA as gender as well as all the characters in movies that have no release date as our analysis is related to time.\n"
   ]
  },
  {
   "cell_type": "code",
   "execution_count": 25,
   "metadata": {
    "collapsed": false,
    "jupyter": {
     "outputs_hidden": false
    },
    "tags": []
   },
   "outputs": [
    {
     "data": {
      "text/plain": "        wikipedia_ID freebase_ID  release_date              character_name  \\\n0             975900   /m/03vyhn        2001.0                    Akooshay   \n1             975900   /m/03vyhn        2001.0  Lieutenant Melanie Ballard   \n2             975900   /m/03vyhn        2001.0         Desolation Williams   \n3             975900   /m/03vyhn        2001.0          Sgt Jericho Butler   \n4             975900   /m/03vyhn        2001.0             Bashira Kincaid   \n...              ...         ...           ...                         ...   \n450638      30553937  /m/0g9ts5h        1998.0          Restaurant Manager   \n450639      30553937  /m/0g9ts5h        1998.0                       Julia   \n450640       7223293   /m/0kv0xs        1925.0                         NaN   \n450641       9971909  /m/02pygw1        1972.0                         NaN   \n450642       9971909  /m/02pygw1        1972.0                         NaN   \n\n       actor_birthday actor_gender  actor_height actor_ethnicity  \\\n0          1958-08-26            F         1.620             NaN   \n1          1974-08-15            F         1.780      /m/044038p   \n2          1969-06-15            M         1.727         /m/0x67   \n3          1967-09-12            M         1.750             NaN   \n4          1977-09-25            F         1.650             NaN   \n...               ...          ...           ...             ...   \n450638            NaN            M           NaN             NaN   \n450639     1975-10-10            F           NaN             NaN   \n450640     1894-02-28            M           NaN             NaN   \n450641     1938-11-26            M           NaN             NaN   \n450642     1918-10-02            M           NaN             NaN   \n\n                actor_name  actor_age freebase_character_actor_mapID  \\\n0           Wanda De Jesus       42.0                     /m/0bgchxw   \n1       Natasha Henstridge       27.0                      /m/0jys3m   \n2                 Ice Cube       32.0                      /m/0jys3g   \n3            Jason Statham       33.0                     /m/02vchl6   \n4              Clea DuVall       23.0                     /m/02vbb3r   \n...                    ...        ...                            ...   \n450638        Randy Harris        NaN                     /m/0jxtsx5   \n450639      Natalie Ramsey       22.0                     /m/0jxtsw7   \n450640           Sid Smith        NaN                     /m/02vcw0s   \n450641         Rich Little       33.0                     /m/02vbk4r   \n450642         Herb Voland       53.0                     /m/0ggdv2_   \n\n       freebase_character_ID freebase_actor_ID  \n0                 /m/0bgcj3x        /m/03wcfv7  \n1                 /m/0bgchn4         /m/0346l4  \n2                 /m/0bgchn_        /m/01vw26l  \n3                 /m/0bgchnq         /m/034hyc  \n4                 /m/0bgchp9         /m/01y9xg  \n...                      ...               ...  \n450638            /m/0jxtsx8        /m/0jxtsxh  \n450639            /m/0jxtswb        /m/027dt0m  \n450640                   NaN        /m/02qrq5t  \n450641                   NaN         /m/03m6t5  \n450642                   NaN        /m/02qylb9  \n\n[220446 rows x 13 columns]",
      "text/html": "<div>\n<style scoped>\n    .dataframe tbody tr th:only-of-type {\n        vertical-align: middle;\n    }\n\n    .dataframe tbody tr th {\n        vertical-align: top;\n    }\n\n    .dataframe thead th {\n        text-align: right;\n    }\n</style>\n<table border=\"1\" class=\"dataframe\">\n  <thead>\n    <tr style=\"text-align: right;\">\n      <th></th>\n      <th>wikipedia_ID</th>\n      <th>freebase_ID</th>\n      <th>release_date</th>\n      <th>character_name</th>\n      <th>actor_birthday</th>\n      <th>actor_gender</th>\n      <th>actor_height</th>\n      <th>actor_ethnicity</th>\n      <th>actor_name</th>\n      <th>actor_age</th>\n      <th>freebase_character_actor_mapID</th>\n      <th>freebase_character_ID</th>\n      <th>freebase_actor_ID</th>\n    </tr>\n  </thead>\n  <tbody>\n    <tr>\n      <th>0</th>\n      <td>975900</td>\n      <td>/m/03vyhn</td>\n      <td>2001.0</td>\n      <td>Akooshay</td>\n      <td>1958-08-26</td>\n      <td>F</td>\n      <td>1.620</td>\n      <td>NaN</td>\n      <td>Wanda De Jesus</td>\n      <td>42.0</td>\n      <td>/m/0bgchxw</td>\n      <td>/m/0bgcj3x</td>\n      <td>/m/03wcfv7</td>\n    </tr>\n    <tr>\n      <th>1</th>\n      <td>975900</td>\n      <td>/m/03vyhn</td>\n      <td>2001.0</td>\n      <td>Lieutenant Melanie Ballard</td>\n      <td>1974-08-15</td>\n      <td>F</td>\n      <td>1.780</td>\n      <td>/m/044038p</td>\n      <td>Natasha Henstridge</td>\n      <td>27.0</td>\n      <td>/m/0jys3m</td>\n      <td>/m/0bgchn4</td>\n      <td>/m/0346l4</td>\n    </tr>\n    <tr>\n      <th>2</th>\n      <td>975900</td>\n      <td>/m/03vyhn</td>\n      <td>2001.0</td>\n      <td>Desolation Williams</td>\n      <td>1969-06-15</td>\n      <td>M</td>\n      <td>1.727</td>\n      <td>/m/0x67</td>\n      <td>Ice Cube</td>\n      <td>32.0</td>\n      <td>/m/0jys3g</td>\n      <td>/m/0bgchn_</td>\n      <td>/m/01vw26l</td>\n    </tr>\n    <tr>\n      <th>3</th>\n      <td>975900</td>\n      <td>/m/03vyhn</td>\n      <td>2001.0</td>\n      <td>Sgt Jericho Butler</td>\n      <td>1967-09-12</td>\n      <td>M</td>\n      <td>1.750</td>\n      <td>NaN</td>\n      <td>Jason Statham</td>\n      <td>33.0</td>\n      <td>/m/02vchl6</td>\n      <td>/m/0bgchnq</td>\n      <td>/m/034hyc</td>\n    </tr>\n    <tr>\n      <th>4</th>\n      <td>975900</td>\n      <td>/m/03vyhn</td>\n      <td>2001.0</td>\n      <td>Bashira Kincaid</td>\n      <td>1977-09-25</td>\n      <td>F</td>\n      <td>1.650</td>\n      <td>NaN</td>\n      <td>Clea DuVall</td>\n      <td>23.0</td>\n      <td>/m/02vbb3r</td>\n      <td>/m/0bgchp9</td>\n      <td>/m/01y9xg</td>\n    </tr>\n    <tr>\n      <th>...</th>\n      <td>...</td>\n      <td>...</td>\n      <td>...</td>\n      <td>...</td>\n      <td>...</td>\n      <td>...</td>\n      <td>...</td>\n      <td>...</td>\n      <td>...</td>\n      <td>...</td>\n      <td>...</td>\n      <td>...</td>\n      <td>...</td>\n    </tr>\n    <tr>\n      <th>450638</th>\n      <td>30553937</td>\n      <td>/m/0g9ts5h</td>\n      <td>1998.0</td>\n      <td>Restaurant Manager</td>\n      <td>NaN</td>\n      <td>M</td>\n      <td>NaN</td>\n      <td>NaN</td>\n      <td>Randy Harris</td>\n      <td>NaN</td>\n      <td>/m/0jxtsx5</td>\n      <td>/m/0jxtsx8</td>\n      <td>/m/0jxtsxh</td>\n    </tr>\n    <tr>\n      <th>450639</th>\n      <td>30553937</td>\n      <td>/m/0g9ts5h</td>\n      <td>1998.0</td>\n      <td>Julia</td>\n      <td>1975-10-10</td>\n      <td>F</td>\n      <td>NaN</td>\n      <td>NaN</td>\n      <td>Natalie Ramsey</td>\n      <td>22.0</td>\n      <td>/m/0jxtsw7</td>\n      <td>/m/0jxtswb</td>\n      <td>/m/027dt0m</td>\n    </tr>\n    <tr>\n      <th>450640</th>\n      <td>7223293</td>\n      <td>/m/0kv0xs</td>\n      <td>1925.0</td>\n      <td>NaN</td>\n      <td>1894-02-28</td>\n      <td>M</td>\n      <td>NaN</td>\n      <td>NaN</td>\n      <td>Sid Smith</td>\n      <td>NaN</td>\n      <td>/m/02vcw0s</td>\n      <td>NaN</td>\n      <td>/m/02qrq5t</td>\n    </tr>\n    <tr>\n      <th>450641</th>\n      <td>9971909</td>\n      <td>/m/02pygw1</td>\n      <td>1972.0</td>\n      <td>NaN</td>\n      <td>1938-11-26</td>\n      <td>M</td>\n      <td>NaN</td>\n      <td>NaN</td>\n      <td>Rich Little</td>\n      <td>33.0</td>\n      <td>/m/02vbk4r</td>\n      <td>NaN</td>\n      <td>/m/03m6t5</td>\n    </tr>\n    <tr>\n      <th>450642</th>\n      <td>9971909</td>\n      <td>/m/02pygw1</td>\n      <td>1972.0</td>\n      <td>NaN</td>\n      <td>1918-10-02</td>\n      <td>M</td>\n      <td>NaN</td>\n      <td>NaN</td>\n      <td>Herb Voland</td>\n      <td>53.0</td>\n      <td>/m/0ggdv2_</td>\n      <td>NaN</td>\n      <td>/m/02qylb9</td>\n    </tr>\n  </tbody>\n</table>\n<p>220446 rows × 13 columns</p>\n</div>"
     },
     "metadata": {},
     "output_type": "display_data"
    },
    {
     "name": "stdout",
     "output_type": "stream",
     "text": [
      "From the original character dataset, we dropped  19869 characters either because the movie had no release date or the gender of the actor was not specified, out of  240315 characters initially.\n"
     ]
    }
   ],
   "source": [
    "# remove any value that is not \"F\" or \"M\" in the \"gender\" column or the character metadata, keeps the rest\n",
    "character_metadata_noNA_gender = character_metadata[character_metadata[\"actor_gender\"].isin([\"F\", \"M\"])].copy()\n",
    "# drop the characters in movies with no release date\n",
    "character_metadata_noNA_genderYear = character_metadata_noNA_gender.dropna(subset=['release_date']).copy()\n",
    "\n",
    "display(character_metadata_noNA_genderYear)\n",
    "print('From the original character dataset, we dropped ',\n",
    "      character_metadata.shape[0]-character_metadata_noNA_genderYear.shape[0],\n",
    "      'characters either because the movie had no release date or the ',\n",
    "      'gender of the actor was not specified, out of ', character_metadata.shape[0],\n",
    "      'characters initially.')"
   ]
  },
  {
   "cell_type": "markdown",
   "source": [
    "## 4.1) Merging personas with character dataset\n",
    "<a id='subsection-4.1'></a>"
   ],
   "metadata": {
    "collapsed": false
   }
  },
  {
   "cell_type": "code",
   "execution_count": 26,
   "outputs": [
    {
     "data": {
      "text/plain": "                   personnas                               char  \\\n0    absent_minded_professor          Professor Philip Brainard   \n1    absent_minded_professor                 Professor Keenbean   \n2    absent_minded_professor                 Dr. Reinhardt Lane   \n3    absent_minded_professor                 Dr. Harold Medford   \n4    absent_minded_professor                     Daniel Jackson   \n..                       ...                                ...   \n496                young_gun                        Morgan Earp   \n497                young_gun                      Colorado Ryan   \n498                young_gun                         Tom Sawyer   \n499                young_gun  William H. 'Billy the Kid' Bonney   \n500                young_gun                               Jake   \n\n                                     movie freebase_character_actor_mapID  \\\n0                                  Flubber                      /m/0jy9q0   \n1                              Richie Rich                     /m/02vchl3   \n2                               The Shadow                      /m/0k6fkc   \n3                                    Them!                      /m/0k6_br   \n4                                 Stargate                      /m/0k3rhh   \n..                                     ...                            ...   \n496                              Tombstone                      /m/0k776f   \n497                              Rio Bravo                      /m/0k2kqg   \n498  The League of Extraordinary Gentlemen                      /m/0k5nsh   \n499                          Young Guns II                     /m/03lrjk0   \n500                              Silverado                      /m/0k39jj   \n\n               actor  \n0     Robin Williams  \n1    Michael McShane  \n2       Ian McKellen  \n3       Edmund Gwenn  \n4       James Spader  \n..               ...  \n496      Bill Paxton  \n497     Ricky Nelson  \n498       Shane West  \n499   Emilio Estevez  \n500    Kevin Costner  \n\n[501 rows x 5 columns]",
      "text/html": "<div>\n<style scoped>\n    .dataframe tbody tr th:only-of-type {\n        vertical-align: middle;\n    }\n\n    .dataframe tbody tr th {\n        vertical-align: top;\n    }\n\n    .dataframe thead th {\n        text-align: right;\n    }\n</style>\n<table border=\"1\" class=\"dataframe\">\n  <thead>\n    <tr style=\"text-align: right;\">\n      <th></th>\n      <th>personnas</th>\n      <th>char</th>\n      <th>movie</th>\n      <th>freebase_character_actor_mapID</th>\n      <th>actor</th>\n    </tr>\n  </thead>\n  <tbody>\n    <tr>\n      <th>0</th>\n      <td>absent_minded_professor</td>\n      <td>Professor Philip Brainard</td>\n      <td>Flubber</td>\n      <td>/m/0jy9q0</td>\n      <td>Robin Williams</td>\n    </tr>\n    <tr>\n      <th>1</th>\n      <td>absent_minded_professor</td>\n      <td>Professor Keenbean</td>\n      <td>Richie Rich</td>\n      <td>/m/02vchl3</td>\n      <td>Michael McShane</td>\n    </tr>\n    <tr>\n      <th>2</th>\n      <td>absent_minded_professor</td>\n      <td>Dr. Reinhardt Lane</td>\n      <td>The Shadow</td>\n      <td>/m/0k6fkc</td>\n      <td>Ian McKellen</td>\n    </tr>\n    <tr>\n      <th>3</th>\n      <td>absent_minded_professor</td>\n      <td>Dr. Harold Medford</td>\n      <td>Them!</td>\n      <td>/m/0k6_br</td>\n      <td>Edmund Gwenn</td>\n    </tr>\n    <tr>\n      <th>4</th>\n      <td>absent_minded_professor</td>\n      <td>Daniel Jackson</td>\n      <td>Stargate</td>\n      <td>/m/0k3rhh</td>\n      <td>James Spader</td>\n    </tr>\n    <tr>\n      <th>...</th>\n      <td>...</td>\n      <td>...</td>\n      <td>...</td>\n      <td>...</td>\n      <td>...</td>\n    </tr>\n    <tr>\n      <th>496</th>\n      <td>young_gun</td>\n      <td>Morgan Earp</td>\n      <td>Tombstone</td>\n      <td>/m/0k776f</td>\n      <td>Bill Paxton</td>\n    </tr>\n    <tr>\n      <th>497</th>\n      <td>young_gun</td>\n      <td>Colorado Ryan</td>\n      <td>Rio Bravo</td>\n      <td>/m/0k2kqg</td>\n      <td>Ricky Nelson</td>\n    </tr>\n    <tr>\n      <th>498</th>\n      <td>young_gun</td>\n      <td>Tom Sawyer</td>\n      <td>The League of Extraordinary Gentlemen</td>\n      <td>/m/0k5nsh</td>\n      <td>Shane West</td>\n    </tr>\n    <tr>\n      <th>499</th>\n      <td>young_gun</td>\n      <td>William H. 'Billy the Kid' Bonney</td>\n      <td>Young Guns II</td>\n      <td>/m/03lrjk0</td>\n      <td>Emilio Estevez</td>\n    </tr>\n    <tr>\n      <th>500</th>\n      <td>young_gun</td>\n      <td>Jake</td>\n      <td>Silverado</td>\n      <td>/m/0k39jj</td>\n      <td>Kevin Costner</td>\n    </tr>\n  </tbody>\n</table>\n<p>501 rows × 5 columns</p>\n</div>"
     },
     "metadata": {},
     "output_type": "display_data"
    }
   ],
   "source": [
    "# Read the data from the text file, comma is the delimiter\n",
    "personnas_metadata = pd.read_csv(data_folder + 'tvtropes.clusters.txt', names=['personnas', 'data'],\n",
    "                                 header=None, sep='\\t')\n",
    "\n",
    "# Replace single quotes with a placeholder character, to avoid error in parsing\n",
    "personnas_metadata['data'] = personnas_metadata['data'].str.replace(\"'\", \"@@QUOTE@@\")\n",
    "personnas_metadata['data'] = personnas_metadata['data'].apply(lambda x: x.replace(\"@@QUOTE@@\", \"'\"))\n",
    "\n",
    "# Function to load JSON strings\n",
    "def json_loads(x):\n",
    "    try:\n",
    "        return json.loads(x)\n",
    "    except (ValueError, SyntaxError):\n",
    "        print(f\"Error decoding JSON: {x}\")\n",
    "        return None\n",
    "\n",
    "# Parse the JSON-like strings and split them into separate columns\n",
    "personnas_metadata['data'] = personnas_metadata['data'].apply(json_loads)\n",
    "personnas_metadata = pd.concat([personnas_metadata.drop('data', axis=1),\n",
    "                                personnas_metadata['data'].apply(pd.Series)], axis=1)\n",
    "\n",
    "#Rename the id column so it matches with the character dataset to be able\n",
    "# to merge (information from the README file) --> maps the actor with its character in\n",
    "# the character metadata dataset\n",
    "personnas_metadata.rename(columns={'id': 'freebase_character_actor_mapID'}, inplace=True)\n",
    "\n",
    "display(personnas_metadata)"
   ],
   "metadata": {
    "collapsed": false
   }
  },
  {
   "cell_type": "markdown",
   "source": [
    "Let's merge this data with the character data we have on freebase_character_actor_mapID as this relates the personas with the actor and the character they play in a specific movie."
   ],
   "metadata": {
    "collapsed": false
   }
  },
  {
   "cell_type": "code",
   "execution_count": 27,
   "outputs": [
    {
     "data": {
      "text/plain": "        wikipedia_ID freebase_ID  release_date              character_name  \\\n0             975900   /m/03vyhn        2001.0                    Akooshay   \n1             975900   /m/03vyhn        2001.0  Lieutenant Melanie Ballard   \n2             975900   /m/03vyhn        2001.0         Desolation Williams   \n3             975900   /m/03vyhn        2001.0          Sgt Jericho Butler   \n4             975900   /m/03vyhn        2001.0             Bashira Kincaid   \n...              ...         ...           ...                         ...   \n240361      30553937  /m/0g9ts5h        1998.0          Restaurant Manager   \n240362      30553937  /m/0g9ts5h        1998.0                       Julia   \n240363       7223293   /m/0kv0xs        1925.0                         NaN   \n240364       9971909  /m/02pygw1        1972.0                         NaN   \n240365       9971909  /m/02pygw1        1972.0                         NaN   \n\n       actor_birthday actor_gender  actor_height actor_ethnicity  \\\n0          1958-08-26            F         1.620             NaN   \n1          1974-08-15            F         1.780      /m/044038p   \n2          1969-06-15            M         1.727         /m/0x67   \n3          1967-09-12            M         1.750             NaN   \n4          1977-09-25            F         1.650             NaN   \n...               ...          ...           ...             ...   \n240361            NaN            M           NaN             NaN   \n240362     1975-10-10            F           NaN             NaN   \n240363     1894-02-28            M           NaN             NaN   \n240364     1938-11-26            M           NaN             NaN   \n240365     1918-10-02            M           NaN             NaN   \n\n                actor_name  actor_age freebase_character_actor_mapID  \\\n0           Wanda De Jesus       42.0                     /m/0bgchxw   \n1       Natasha Henstridge       27.0                      /m/0jys3m   \n2                 Ice Cube       32.0                      /m/0jys3g   \n3            Jason Statham       33.0                     /m/02vchl6   \n4              Clea DuVall       23.0                     /m/02vbb3r   \n...                    ...        ...                            ...   \n240361        Randy Harris        NaN                     /m/0jxtsx5   \n240362      Natalie Ramsey       22.0                     /m/0jxtsw7   \n240363           Sid Smith        NaN                     /m/02vcw0s   \n240364         Rich Little       33.0                     /m/02vbk4r   \n240365         Herb Voland       53.0                     /m/0ggdv2_   \n\n       freebase_character_ID freebase_actor_ID personnas  \n0                 /m/0bgcj3x        /m/03wcfv7       NaN  \n1                 /m/0bgchn4         /m/0346l4       NaN  \n2                 /m/0bgchn_        /m/01vw26l       NaN  \n3                 /m/0bgchnq         /m/034hyc       NaN  \n4                 /m/0bgchp9         /m/01y9xg       NaN  \n...                      ...               ...       ...  \n240361            /m/0jxtsx8        /m/0jxtsxh       NaN  \n240362            /m/0jxtswb        /m/027dt0m       NaN  \n240363                   NaN        /m/02qrq5t       NaN  \n240364                   NaN         /m/03m6t5       NaN  \n240365                   NaN        /m/02qylb9       NaN  \n\n[240366 rows x 14 columns]",
      "text/html": "<div>\n<style scoped>\n    .dataframe tbody tr th:only-of-type {\n        vertical-align: middle;\n    }\n\n    .dataframe tbody tr th {\n        vertical-align: top;\n    }\n\n    .dataframe thead th {\n        text-align: right;\n    }\n</style>\n<table border=\"1\" class=\"dataframe\">\n  <thead>\n    <tr style=\"text-align: right;\">\n      <th></th>\n      <th>wikipedia_ID</th>\n      <th>freebase_ID</th>\n      <th>release_date</th>\n      <th>character_name</th>\n      <th>actor_birthday</th>\n      <th>actor_gender</th>\n      <th>actor_height</th>\n      <th>actor_ethnicity</th>\n      <th>actor_name</th>\n      <th>actor_age</th>\n      <th>freebase_character_actor_mapID</th>\n      <th>freebase_character_ID</th>\n      <th>freebase_actor_ID</th>\n      <th>personnas</th>\n    </tr>\n  </thead>\n  <tbody>\n    <tr>\n      <th>0</th>\n      <td>975900</td>\n      <td>/m/03vyhn</td>\n      <td>2001.0</td>\n      <td>Akooshay</td>\n      <td>1958-08-26</td>\n      <td>F</td>\n      <td>1.620</td>\n      <td>NaN</td>\n      <td>Wanda De Jesus</td>\n      <td>42.0</td>\n      <td>/m/0bgchxw</td>\n      <td>/m/0bgcj3x</td>\n      <td>/m/03wcfv7</td>\n      <td>NaN</td>\n    </tr>\n    <tr>\n      <th>1</th>\n      <td>975900</td>\n      <td>/m/03vyhn</td>\n      <td>2001.0</td>\n      <td>Lieutenant Melanie Ballard</td>\n      <td>1974-08-15</td>\n      <td>F</td>\n      <td>1.780</td>\n      <td>/m/044038p</td>\n      <td>Natasha Henstridge</td>\n      <td>27.0</td>\n      <td>/m/0jys3m</td>\n      <td>/m/0bgchn4</td>\n      <td>/m/0346l4</td>\n      <td>NaN</td>\n    </tr>\n    <tr>\n      <th>2</th>\n      <td>975900</td>\n      <td>/m/03vyhn</td>\n      <td>2001.0</td>\n      <td>Desolation Williams</td>\n      <td>1969-06-15</td>\n      <td>M</td>\n      <td>1.727</td>\n      <td>/m/0x67</td>\n      <td>Ice Cube</td>\n      <td>32.0</td>\n      <td>/m/0jys3g</td>\n      <td>/m/0bgchn_</td>\n      <td>/m/01vw26l</td>\n      <td>NaN</td>\n    </tr>\n    <tr>\n      <th>3</th>\n      <td>975900</td>\n      <td>/m/03vyhn</td>\n      <td>2001.0</td>\n      <td>Sgt Jericho Butler</td>\n      <td>1967-09-12</td>\n      <td>M</td>\n      <td>1.750</td>\n      <td>NaN</td>\n      <td>Jason Statham</td>\n      <td>33.0</td>\n      <td>/m/02vchl6</td>\n      <td>/m/0bgchnq</td>\n      <td>/m/034hyc</td>\n      <td>NaN</td>\n    </tr>\n    <tr>\n      <th>4</th>\n      <td>975900</td>\n      <td>/m/03vyhn</td>\n      <td>2001.0</td>\n      <td>Bashira Kincaid</td>\n      <td>1977-09-25</td>\n      <td>F</td>\n      <td>1.650</td>\n      <td>NaN</td>\n      <td>Clea DuVall</td>\n      <td>23.0</td>\n      <td>/m/02vbb3r</td>\n      <td>/m/0bgchp9</td>\n      <td>/m/01y9xg</td>\n      <td>NaN</td>\n    </tr>\n    <tr>\n      <th>...</th>\n      <td>...</td>\n      <td>...</td>\n      <td>...</td>\n      <td>...</td>\n      <td>...</td>\n      <td>...</td>\n      <td>...</td>\n      <td>...</td>\n      <td>...</td>\n      <td>...</td>\n      <td>...</td>\n      <td>...</td>\n      <td>...</td>\n      <td>...</td>\n    </tr>\n    <tr>\n      <th>240361</th>\n      <td>30553937</td>\n      <td>/m/0g9ts5h</td>\n      <td>1998.0</td>\n      <td>Restaurant Manager</td>\n      <td>NaN</td>\n      <td>M</td>\n      <td>NaN</td>\n      <td>NaN</td>\n      <td>Randy Harris</td>\n      <td>NaN</td>\n      <td>/m/0jxtsx5</td>\n      <td>/m/0jxtsx8</td>\n      <td>/m/0jxtsxh</td>\n      <td>NaN</td>\n    </tr>\n    <tr>\n      <th>240362</th>\n      <td>30553937</td>\n      <td>/m/0g9ts5h</td>\n      <td>1998.0</td>\n      <td>Julia</td>\n      <td>1975-10-10</td>\n      <td>F</td>\n      <td>NaN</td>\n      <td>NaN</td>\n      <td>Natalie Ramsey</td>\n      <td>22.0</td>\n      <td>/m/0jxtsw7</td>\n      <td>/m/0jxtswb</td>\n      <td>/m/027dt0m</td>\n      <td>NaN</td>\n    </tr>\n    <tr>\n      <th>240363</th>\n      <td>7223293</td>\n      <td>/m/0kv0xs</td>\n      <td>1925.0</td>\n      <td>NaN</td>\n      <td>1894-02-28</td>\n      <td>M</td>\n      <td>NaN</td>\n      <td>NaN</td>\n      <td>Sid Smith</td>\n      <td>NaN</td>\n      <td>/m/02vcw0s</td>\n      <td>NaN</td>\n      <td>/m/02qrq5t</td>\n      <td>NaN</td>\n    </tr>\n    <tr>\n      <th>240364</th>\n      <td>9971909</td>\n      <td>/m/02pygw1</td>\n      <td>1972.0</td>\n      <td>NaN</td>\n      <td>1938-11-26</td>\n      <td>M</td>\n      <td>NaN</td>\n      <td>NaN</td>\n      <td>Rich Little</td>\n      <td>33.0</td>\n      <td>/m/02vbk4r</td>\n      <td>NaN</td>\n      <td>/m/03m6t5</td>\n      <td>NaN</td>\n    </tr>\n    <tr>\n      <th>240365</th>\n      <td>9971909</td>\n      <td>/m/02pygw1</td>\n      <td>1972.0</td>\n      <td>NaN</td>\n      <td>1918-10-02</td>\n      <td>M</td>\n      <td>NaN</td>\n      <td>NaN</td>\n      <td>Herb Voland</td>\n      <td>53.0</td>\n      <td>/m/0ggdv2_</td>\n      <td>NaN</td>\n      <td>/m/02qylb9</td>\n      <td>NaN</td>\n    </tr>\n  </tbody>\n</table>\n<p>240366 rows × 14 columns</p>\n</div>"
     },
     "metadata": {},
     "output_type": "display_data"
    }
   ],
   "source": [
    "# only add the column personas to the characters dataset\n",
    "character_metadata_noNA_genderYear_personnas = \\\n",
    "    character_metadata.merge(personnas_metadata[['freebase_character_actor_mapID', 'personnas']],\n",
    "                             on=[\"freebase_character_actor_mapID\"],how=\"left\").copy()\n",
    "\n",
    "display(character_metadata_noNA_genderYear_personnas)"
   ],
   "metadata": {
    "collapsed": false
   }
  },
  {
   "cell_type": "markdown",
   "source": [
    "Finally, we will add the name of the movies to the dataset to facilitate merges with datasets that do not have wikipedia ID."
   ],
   "metadata": {
    "collapsed": false
   }
  },
  {
   "cell_type": "code",
   "execution_count": 28,
   "outputs": [],
   "source": [
    "character_metadata_noNA_genderYear_personnas = \\\n",
    "    pd.merge(character_metadata_noNA_genderYear_personnas, movies_metadata[['wikipedia_ID', 'name']],\n",
    "             how='left', on='wikipedia_ID')"
   ],
   "metadata": {
    "collapsed": false
   }
  },
  {
   "cell_type": "markdown",
   "metadata": {},
   "source": [
    "# 5) Complementing the dataset after 2010\n",
    "<a id='section-5'></a>\n",
    "The provided dataset does not contain information on recent movies. We thus decided to complement it using IMDB data to be able to also perform our analysis in recent years. We have two main datasets to complete: the movie dataset and the character dataset. To do so, we used the data available on https://datasets.imdbws.com/ and the library Cinemagoer that can retrieve information on IMDB. Since the data retrieved from IMDB contains IMDB IDs but not wikipedia nor freebase IDs, we additionally retrieved IMDB IDs from the movies in our original dataset on wikipedia. This allows to have a common ID in both datasets to perform the merges."
   ]
  },
  {
   "cell_type": "markdown",
   "source": [
    "## 5.1) Adding IMDB IDs to the provided datasets\n",
    "<a id='subsection-5.1'></a>\n",
    "We queried wikidata using SPARQL to retrieve IMDB IDs and freebase IDs of all movies on wikidata. Since we can also find box office revenues on wikidata, we also fetched them. The query sometimes crashes (if connection to server fails). In this case, the query will be made again after 5s. To make things easier, the query was run just once and the resulting dataframe saved in DATA/wiki_queries.csv."
   ],
   "metadata": {
    "collapsed": false
   }
  },
  {
   "cell_type": "code",
   "execution_count": 29,
   "outputs": [],
   "source": [
    "# retrieves IMDB ID and freebase IDs and optionally title of the movie\n",
    "#wiki_df = wikipedia_query()\n",
    "wiki_df = pd.read_csv('DATA/wiki_queries.csv')"
   ],
   "metadata": {
    "collapsed": false
   }
  },
  {
   "cell_type": "code",
   "execution_count": 30,
   "outputs": [
    {
     "data": {
      "text/plain": "                                             work    IMDB_ID freebase_ID  \\\n0           http://www.wikidata.org/entity/Q59438  tt0138874   /m/06hzfh   \n1           http://www.wikidata.org/entity/Q59495  tt1582637  /m/043jmht   \n2           http://www.wikidata.org/entity/Q59498  tt1919090  /m/0h12xt7   \n3           http://www.wikidata.org/entity/Q59501  tt0187601  /m/0gkr4xj   \n4           http://www.wikidata.org/entity/Q59502  tt0304547  /m/0gkrct_   \n...                                           ...        ...         ...   \n294479  http://www.wikidata.org/entity/Q107412021  tt0433488         NaN   \n294480  http://www.wikidata.org/entity/Q108039791  tt8021662         NaN   \n294481  http://www.wikidata.org/entity/Q108157614  tt1664859         NaN   \n294482  http://www.wikidata.org/entity/Q109810251  tt0218896         NaN   \n294483  http://www.wikidata.org/entity/Q117756689  tt1322884         NaN   \n\n        box_office_revenue  \n0                      NaN  \n1                      NaN  \n2                      NaN  \n3                      NaN  \n4                      NaN  \n...                    ...  \n294479                 NaN  \n294480                 NaN  \n294481                 NaN  \n294482                 NaN  \n294483                 NaN  \n\n[294484 rows x 4 columns]",
      "text/html": "<div>\n<style scoped>\n    .dataframe tbody tr th:only-of-type {\n        vertical-align: middle;\n    }\n\n    .dataframe tbody tr th {\n        vertical-align: top;\n    }\n\n    .dataframe thead th {\n        text-align: right;\n    }\n</style>\n<table border=\"1\" class=\"dataframe\">\n  <thead>\n    <tr style=\"text-align: right;\">\n      <th></th>\n      <th>work</th>\n      <th>IMDB_ID</th>\n      <th>freebase_ID</th>\n      <th>box_office_revenue</th>\n    </tr>\n  </thead>\n  <tbody>\n    <tr>\n      <th>0</th>\n      <td>http://www.wikidata.org/entity/Q59438</td>\n      <td>tt0138874</td>\n      <td>/m/06hzfh</td>\n      <td>NaN</td>\n    </tr>\n    <tr>\n      <th>1</th>\n      <td>http://www.wikidata.org/entity/Q59495</td>\n      <td>tt1582637</td>\n      <td>/m/043jmht</td>\n      <td>NaN</td>\n    </tr>\n    <tr>\n      <th>2</th>\n      <td>http://www.wikidata.org/entity/Q59498</td>\n      <td>tt1919090</td>\n      <td>/m/0h12xt7</td>\n      <td>NaN</td>\n    </tr>\n    <tr>\n      <th>3</th>\n      <td>http://www.wikidata.org/entity/Q59501</td>\n      <td>tt0187601</td>\n      <td>/m/0gkr4xj</td>\n      <td>NaN</td>\n    </tr>\n    <tr>\n      <th>4</th>\n      <td>http://www.wikidata.org/entity/Q59502</td>\n      <td>tt0304547</td>\n      <td>/m/0gkrct_</td>\n      <td>NaN</td>\n    </tr>\n    <tr>\n      <th>...</th>\n      <td>...</td>\n      <td>...</td>\n      <td>...</td>\n      <td>...</td>\n    </tr>\n    <tr>\n      <th>294479</th>\n      <td>http://www.wikidata.org/entity/Q107412021</td>\n      <td>tt0433488</td>\n      <td>NaN</td>\n      <td>NaN</td>\n    </tr>\n    <tr>\n      <th>294480</th>\n      <td>http://www.wikidata.org/entity/Q108039791</td>\n      <td>tt8021662</td>\n      <td>NaN</td>\n      <td>NaN</td>\n    </tr>\n    <tr>\n      <th>294481</th>\n      <td>http://www.wikidata.org/entity/Q108157614</td>\n      <td>tt1664859</td>\n      <td>NaN</td>\n      <td>NaN</td>\n    </tr>\n    <tr>\n      <th>294482</th>\n      <td>http://www.wikidata.org/entity/Q109810251</td>\n      <td>tt0218896</td>\n      <td>NaN</td>\n      <td>NaN</td>\n    </tr>\n    <tr>\n      <th>294483</th>\n      <td>http://www.wikidata.org/entity/Q117756689</td>\n      <td>tt1322884</td>\n      <td>NaN</td>\n      <td>NaN</td>\n    </tr>\n  </tbody>\n</table>\n<p>294484 rows × 4 columns</p>\n</div>"
     },
     "execution_count": 30,
     "metadata": {},
     "output_type": "execute_result"
    }
   ],
   "source": [
    "wiki_df"
   ],
   "metadata": {
    "collapsed": false
   }
  },
  {
   "cell_type": "markdown",
   "source": [
    "We now add the IMDB IDs found of wikipedia to their corresponding movie in both our datasets. We also add the box-office revenues to the movie dataset."
   ],
   "metadata": {
    "collapsed": false
   }
  },
  {
   "cell_type": "code",
   "execution_count": 31,
   "outputs": [],
   "source": [
    "# first remove movies that do not have a freebase ID\n",
    "df_to_merge = wiki_df[wiki_df['freebase_ID'].notna()]\n",
    "# merge datasets\n",
    "provided_movie_data_full = pd.merge(us_english_movies_synopsis,\n",
    "                                    df_to_merge[['IMDB_ID', 'freebase_ID', 'box_office_revenue']], how='left',\n",
    "                                    on='freebase_ID')\n",
    "provided_movie_data_full = remove_duplicated_columns(provided_movie_data_full, ['box_office_revenue'])\n",
    "provided_character_data_full = pd.merge(character_metadata_noNA_genderYear_personnas,\n",
    "                                        wiki_df[['IMDB_ID', 'freebase_ID']], how='left', on='freebase_ID')"
   ],
   "metadata": {
    "collapsed": false
   }
  },
  {
   "cell_type": "markdown",
   "source": [
    "IMDB ID will therefore be used as the unique identifier of movies from now on. This means that movies for which we were not able to find the IMDB ID needs to be removed from our dataset. Before doing so, let's check how much data would be deleted."
   ],
   "metadata": {
    "collapsed": false
   }
  },
  {
   "cell_type": "code",
   "execution_count": 32,
   "outputs": [
    {
     "name": "stdout",
     "output_type": "stream",
     "text": [
      "2372 movies would be deleted\n",
      "10439 characters would be deleted\n"
     ]
    }
   ],
   "source": [
    "movie_data_noIMDB = provided_movie_data_full[provided_movie_data_full['IMDB_ID'].isna()]\n",
    "print(f'{movie_data_noIMDB.shape[0]} movies would be deleted')\n",
    "character_data_noIMDB = provided_character_data_full[provided_character_data_full['IMDB_ID'].isna()]\n",
    "print(f'{character_data_noIMDB.shape[0]} characters would be deleted')"
   ],
   "metadata": {
    "collapsed": false
   }
  },
  {
   "cell_type": "markdown",
   "source": [
    "This seems like a lot, but it also depends on the repartition of the deleted data throughout the years."
   ],
   "metadata": {
    "collapsed": false
   }
  },
  {
   "cell_type": "code",
   "execution_count": 33,
   "outputs": [
    {
     "data": {
      "text/plain": "<Figure size 1000x600 with 1 Axes>",
      "image/png": "[encoded data removed]"
     },
     "metadata": {},
     "output_type": "display_data"
    }
   ],
   "source": [
    "# Group movies by release year\n",
    "movies_grouped_by_year = us_english_movies_metadata.\\\n",
    "    groupby(us_english_movies_metadata['release_date'].dt.year)\n",
    "\n",
    "#number of movies per year\n",
    "number_movies_per_year = movies_grouped_by_year.size()\n",
    "\n",
    "plt.figure(figsize=(10, 6))\n",
    "number_movies_per_year.plot(kind='line', color = 'cornflowerblue', label='Total movies')\n",
    "\n",
    "\n",
    "# Group movies by release year\n",
    "movies_removed_by_year = movie_data_noIMDB.groupby(movie_data_noIMDB['release_date'].dt.year)\n",
    "\n",
    "#number of movies per year\n",
    "number_movies_removed_per_year = movies_removed_by_year.size()\n",
    "\n",
    "number_movies_removed_per_year.plot(kind='line', color = 'red', label='Movies to remove')\n",
    "plt.title('Comparison of movies to remove and total number of movies per year')\n",
    "plt.xlabel('Year')\n",
    "plt.ylabel('Number of Movies')\n",
    "plt.grid(True)\n",
    "plt.show()"
   ],
   "metadata": {
    "collapsed": false
   }
  },
  {
   "cell_type": "code",
   "execution_count": 34,
   "outputs": [
    {
     "data": {
      "text/plain": "<Figure size 1000x600 with 1 Axes>",
      "image/png": "[encoded data removed]"
     },
     "metadata": {},
     "output_type": "display_data"
    }
   ],
   "source": [
    "# Group movies by release year\n",
    "char_grouped_by_year = character_metadata_noNA_genderYear_personnas.groupby(character_metadata_noNA_genderYear_personnas['release_date'])\n",
    "\n",
    "#number of movies per year\n",
    "number_char_per_year = char_grouped_by_year.size()\n",
    "\n",
    "plt.figure(figsize=(10, 6))\n",
    "number_char_per_year.plot(kind='line', color = 'cornflowerblue', label='total characters')\n",
    "\n",
    "\n",
    "# Group movies by release year\n",
    "char_removed_by_year = character_data_noIMDB.groupby(character_data_noIMDB['release_date'])\n",
    "\n",
    "#number of movies per year\n",
    "number_char_removed_per_year = char_removed_by_year.size()\n",
    "\n",
    "number_char_removed_per_year.plot(kind='line', color = 'red', label='characters to remove')\n",
    "plt.title('Comparison of characters to remove and total number of characters per year')\n",
    "plt.xlabel('Year')\n",
    "plt.ylabel('Number of Characters')\n",
    "plt.grid(True)\n",
    "plt.show()"
   ],
   "metadata": {
    "collapsed": false
   }
  },
  {
   "cell_type": "markdown",
   "source": [
    "In both dataset, we see that the amount of data that needs to be deleted should not impact the analysis too much. Indeed data is mostly deleted in the years where we have the most movies. Movies with unknown IMDB ID will thus be removed from the datasets"
   ],
   "metadata": {
    "collapsed": false
   }
  },
  {
   "cell_type": "code",
   "execution_count": 35,
   "outputs": [],
   "source": [
    "provided_movie_data_full = provided_movie_data_full.dropna(subset=['IMDB_ID'])\n",
    "provided_character_data_full = provided_character_data_full.dropna(subset=['IMDB_ID'])"
   ],
   "metadata": {
    "collapsed": false
   }
  },
  {
   "cell_type": "markdown",
   "metadata": {},
   "source": [
    "## 5.2) Complementing movie data\n",
    "<a id='subsection-5.2'></a>\n",
    "To complete the movie dataset we used the following folders need to be downloaded from https://datasets.imdbws.com/, unzipped and placed in the /DATA folder:\n",
    "- title.basics.tsv.gz\n",
    "- title.akas.tsv.gz\n",
    "\n",
    "However, these files are missing a lot information that we need for our analysis (plot summaries, countries, languages). We will therefore also use the library Cinemagoer to retrieve these information. In order to not have too many useless requests to IMDB through Cinemagoer, we use the datasets title.basics and titles.akas to get a list of ID of movies we are interested in."
   ]
  },
  {
   "cell_type": "code",
   "execution_count": 36,
   "metadata": {
    "collapsed": false,
    "jupyter": {
     "outputs_hidden": false
    },
    "tags": []
   },
   "outputs": [
    {
     "name": "stderr",
     "output_type": "stream",
     "text": [
      "C:\\Users\\lucil\\AppData\\Local\\Temp\\ipykernel_21904\\1054908203.py:2: DtypeWarning: Columns (4) have mixed types. Specify dtype option on import or set low_memory=False.\n",
      "  titles_dataset = pd.read_csv(data_folder + 'title.basics.tsv/data.tsv', sep='\\t')\n"
     ]
    }
   ],
   "source": [
    "# If files unzipped on Windows\n",
    "titles_dataset = pd.read_csv(data_folder + 'title.basics.tsv/data.tsv', sep='\\t')\n",
    "# If files unzipped on Mac\n",
    "#titles_dataset = pd.read_csv(data_folder + 'title.basics.tsv', sep='\\t')\n",
    "movie_IDs = filter_titles_IDs(titles_dataset)"
   ]
  },
  {
   "cell_type": "code",
   "execution_count": 37,
   "metadata": {
    "collapsed": false,
    "jupyter": {
     "outputs_hidden": false
    },
    "tags": []
   },
   "outputs": [
    {
     "name": "stdout",
     "output_type": "stream",
     "text": [
      "204389\n"
     ]
    }
   ],
   "source": [
    "print(len(movie_IDs)) # we still have 204'389"
   ]
  },
  {
   "cell_type": "markdown",
   "metadata": {},
   "source": [
    "Taking all of these movies from IMDB would take too much time. These IDs contain movies from a lot of different countries and we are only interested in american movies. We do not have the 'country' information in the downloaded datasets but we do have the 'original title' and the 'american title' in the title.akas dataset. We will use this dataset to find movies in which the original title is the same as the american one. Thus we can already remove some movies that we know are probably not american. We will of course keep a lot of non-american movies, but we can filter those out later.\n"
   ]
  },
  {
   "cell_type": "code",
   "execution_count": 38,
   "metadata": {
    "collapsed": false,
    "jupyter": {
     "outputs_hidden": false
    },
    "tags": []
   },
   "outputs": [
    {
     "name": "stderr",
     "output_type": "stream",
     "text": [
      "C:\\Users\\lucil\\AppData\\Local\\Temp\\ipykernel_21904\\1564436681.py:2: DtypeWarning: Columns (7) have mixed types. Specify dtype option on import or set low_memory=False.\n",
      "  titles_akas_dataset = pd.read_csv(data_folder + 'title.akas.tsv/data.tsv', sep='\\t')\n"
     ]
    }
   ],
   "source": [
    "# If files unzipped on Windows\n",
    "titles_akas_dataset = pd.read_csv(data_folder + 'title.akas.tsv/data.tsv', sep='\\t')\n",
    "# If files unzipped on Mac\n",
    "#titles_akas_dataset = pd.read_csv(data_folder + 'title.akas.tsv', sep='\\t')\n",
    "original_titles = titles_akas_dataset[titles_akas_dataset['isOriginalTitle']==1]['title']\n",
    "# get all only the lines where the title is the same as the original title\n",
    "titles_akas_dataset_filtered = titles_akas_dataset[titles_akas_dataset['title'].isin(original_titles)]\n",
    "# get only the movies where the US title is the same as the original title\n",
    "titles_akas_dataset_filtered = titles_akas_dataset_filtered[titles_akas_dataset_filtered['region'] == 'US']"
   ]
  },
  {
   "cell_type": "code",
   "execution_count": 39,
   "metadata": {
    "collapsed": false,
    "jupyter": {
     "outputs_hidden": false
    },
    "tags": []
   },
   "outputs": [
    {
     "name": "stdout",
     "output_type": "stream",
     "text": [
      "39595\n"
     ]
    }
   ],
   "source": [
    "# get only IDs that are in both datasets\n",
    "common_ids = titles_akas_dataset_filtered[titles_akas_dataset_filtered['titleId'].isin(movie_IDs)]\n",
    "common_ids = common_ids['titleId'].drop_duplicates()\n",
    "print(len(common_ids)) # 39'595 movies left"
   ]
  },
  {
   "cell_type": "markdown",
   "source": [
    "To this list of IDs, we need to add the movies with unknown languages in the provided CMU dataset"
   ],
   "metadata": {
    "collapsed": false
   }
  },
  {
   "cell_type": "code",
   "execution_count": 40,
   "outputs": [
    {
     "name": "stdout",
     "output_type": "stream",
     "text": [
      "42098\n"
     ]
    }
   ],
   "source": [
    "no_languages_ids = provided_movie_data_full[provided_movie_data_full['languages'].apply(lambda x: len(x)==0)]['IMDB_ID']\n",
    "common_ids = common_ids.to_list()\n",
    "common_ids.extend(no_languages_ids.to_list())\n",
    "print(len(common_ids))"
   ],
   "metadata": {
    "collapsed": false
   }
  },
  {
   "cell_type": "markdown",
   "metadata": {},
   "source": [
    "We will now retrieve information of these 42'098 movies directly from IMDB using Cinemagoer"
   ]
  },
  {
   "cell_type": "markdown",
   "metadata": {},
   "source": [
    "!! THE FOLLOWING CELL TAKES A LONG TIME TO RUN !!\n",
    "Since it has already been run once and the data was saved, there is no need to run it anymore and it is thus commented."
   ]
  },
  {
   "cell_type": "code",
   "execution_count": 41,
   "metadata": {
    "collapsed": false,
    "jupyter": {
     "outputs_hidden": false
    },
    "tags": []
   },
   "outputs": [],
   "source": [
    "#get_IMDB_movies_data(common_ids)"
   ]
  },
  {
   "cell_type": "markdown",
   "metadata": {},
   "source": [
    "We filter the movies to only keep american movies in English from 2010-2022. Note that filter according to the release year again, even thought the movies to get on IMDB were already filtered according to their release date. That is because both datasets did not have necessarily the same release date for the same movie and thus a second filtering is necessary."
   ]
  },
  {
   "cell_type": "code",
   "execution_count": 42,
   "metadata": {
    "collapsed": false,
    "jupyter": {
     "outputs_hidden": false
    },
    "tags": []
   },
   "outputs": [],
   "source": [
    "IMDB_movie_data = pd.read_csv(data_folder + 'IMDB_movies_2010-2022.csv')\n",
    "IMDB_movie_data_filtered = filter_IMDB_movie_dataset(IMDB_movie_data)\n",
    "# change genre string into a list of string\n",
    "IMDB_movie_data_filtered['genre'].fillna('[]', inplace=True)\n",
    "IMDB_movie_data_filtered['genre'] = IMDB_movie_data_filtered['genre'].apply(ast.literal_eval)"
   ]
  },
  {
   "cell_type": "code",
   "execution_count": 43,
   "metadata": {
    "collapsed": false,
    "jupyter": {
     "outputs_hidden": false
    },
    "tags": []
   },
   "outputs": [
    {
     "data": {
      "text/plain": "         IMDB_ID                  name  release_date  \\\n1      tt0112502               Bigfoot        2017.0   \n2      tt0172182            Blood Type        2018.0   \n3      tt0195933             Mysteries        2019.0   \n4      tt0293429         Mortal Kombat        2021.0   \n5      tt0297400             Snowblind        2015.0   \n...          ...                   ...           ...   \n42090  tt0423886  Business Versus Love        1914.0   \n42091  tt0337610              Dot.Kill        2005.0   \n42092  tt1172063   The Kreutzer Sonata        2008.0   \n42093  tt0038531    The Flying Serpent        1946.0   \n42094  tt0107057         Guilty as Sin        1993.0   \n\n                                languages  \\\n1                             ['English']   \n2                             ['English']   \n3                             ['English']   \n4      ['English', 'Japanese', 'Chinese']   \n5                             ['English']   \n...                                   ...   \n42090                 ['None', 'English']   \n42091                         ['English']   \n42092                         ['English']   \n42093                         ['English']   \n42094                         ['English']   \n\n                                 countries  \\\n1                        ['United States']   \n2                        ['United States']   \n3                        ['United States']   \n4                        ['United States']   \n5              ['United States', 'Canada']   \n...                                    ...   \n42090                    ['United States']   \n42091  ['United Kingdom', 'United States']   \n42092                    ['United States']   \n42093                    ['United States']   \n42094                    ['United States']   \n\n                                                genre  \\\n1                                  [Horror, Thriller]   \n2                            [Comedy, Drama, Mystery]   \n3                                                  []   \n4      [Action, Adventure, Fantasy, Sci-Fi, Thriller]   \n5                                      [Crime, Drama]   \n...                                               ...   \n42090                                  [Short, Drama]   \n42091                        [Crime, Drama, Thriller]   \n42092                                         [Drama]   \n42093                                        [Horror]   \n42094                        [Crime, Drama, Thriller]   \n\n                                            plot_summary  \n1      ['A story of a man who, after having been thro...  \n2      ['During a frantic police car chase, a fleeing...  \n3                                                    NaN  \n4      [\"MMA fighter Cole Young seeks out Earth's gre...  \n5      ['Revealing the entrepreneurial ingenuity, par...  \n...                                                  ...  \n42090  ['Chester Stanley, who desires to control M.L....  \n42091  ['A detective tries to hunt down a serial kill...  \n42092  ['Based on \"The Kreutzer Sonata\" by Leo Tolsto...  \n42093  [\"The demented archaeologist Dr. Andrew Forbes...  \n42094  ['A female lawyer takes an accused wife-murder...  \n\n[26435 rows x 7 columns]",
      "text/html": "<div>\n<style scoped>\n    .dataframe tbody tr th:only-of-type {\n        vertical-align: middle;\n    }\n\n    .dataframe tbody tr th {\n        vertical-align: top;\n    }\n\n    .dataframe thead th {\n        text-align: right;\n    }\n</style>\n<table border=\"1\" class=\"dataframe\">\n  <thead>\n    <tr style=\"text-align: right;\">\n      <th></th>\n      <th>IMDB_ID</th>\n      <th>name</th>\n      <th>release_date</th>\n      <th>languages</th>\n      <th>countries</th>\n      <th>genre</th>\n      <th>plot_summary</th>\n    </tr>\n  </thead>\n  <tbody>\n    <tr>\n      <th>1</th>\n      <td>tt0112502</td>\n      <td>Bigfoot</td>\n      <td>2017.0</td>\n      <td>['English']</td>\n      <td>['United States']</td>\n      <td>[Horror, Thriller]</td>\n      <td>['A story of a man who, after having been thro...</td>\n    </tr>\n    <tr>\n      <th>2</th>\n      <td>tt0172182</td>\n      <td>Blood Type</td>\n      <td>2018.0</td>\n      <td>['English']</td>\n      <td>['United States']</td>\n      <td>[Comedy, Drama, Mystery]</td>\n      <td>['During a frantic police car chase, a fleeing...</td>\n    </tr>\n    <tr>\n      <th>3</th>\n      <td>tt0195933</td>\n      <td>Mysteries</td>\n      <td>2019.0</td>\n      <td>['English']</td>\n      <td>['United States']</td>\n      <td>[]</td>\n      <td>NaN</td>\n    </tr>\n    <tr>\n      <th>4</th>\n      <td>tt0293429</td>\n      <td>Mortal Kombat</td>\n      <td>2021.0</td>\n      <td>['English', 'Japanese', 'Chinese']</td>\n      <td>['United States']</td>\n      <td>[Action, Adventure, Fantasy, Sci-Fi, Thriller]</td>\n      <td>[\"MMA fighter Cole Young seeks out Earth's gre...</td>\n    </tr>\n    <tr>\n      <th>5</th>\n      <td>tt0297400</td>\n      <td>Snowblind</td>\n      <td>2015.0</td>\n      <td>['English']</td>\n      <td>['United States', 'Canada']</td>\n      <td>[Crime, Drama]</td>\n      <td>['Revealing the entrepreneurial ingenuity, par...</td>\n    </tr>\n    <tr>\n      <th>...</th>\n      <td>...</td>\n      <td>...</td>\n      <td>...</td>\n      <td>...</td>\n      <td>...</td>\n      <td>...</td>\n      <td>...</td>\n    </tr>\n    <tr>\n      <th>42090</th>\n      <td>tt0423886</td>\n      <td>Business Versus Love</td>\n      <td>1914.0</td>\n      <td>['None', 'English']</td>\n      <td>['United States']</td>\n      <td>[Short, Drama]</td>\n      <td>['Chester Stanley, who desires to control M.L....</td>\n    </tr>\n    <tr>\n      <th>42091</th>\n      <td>tt0337610</td>\n      <td>Dot.Kill</td>\n      <td>2005.0</td>\n      <td>['English']</td>\n      <td>['United Kingdom', 'United States']</td>\n      <td>[Crime, Drama, Thriller]</td>\n      <td>['A detective tries to hunt down a serial kill...</td>\n    </tr>\n    <tr>\n      <th>42092</th>\n      <td>tt1172063</td>\n      <td>The Kreutzer Sonata</td>\n      <td>2008.0</td>\n      <td>['English']</td>\n      <td>['United States']</td>\n      <td>[Drama]</td>\n      <td>['Based on \"The Kreutzer Sonata\" by Leo Tolsto...</td>\n    </tr>\n    <tr>\n      <th>42093</th>\n      <td>tt0038531</td>\n      <td>The Flying Serpent</td>\n      <td>1946.0</td>\n      <td>['English']</td>\n      <td>['United States']</td>\n      <td>[Horror]</td>\n      <td>[\"The demented archaeologist Dr. Andrew Forbes...</td>\n    </tr>\n    <tr>\n      <th>42094</th>\n      <td>tt0107057</td>\n      <td>Guilty as Sin</td>\n      <td>1993.0</td>\n      <td>['English']</td>\n      <td>['United States']</td>\n      <td>[Crime, Drama, Thriller]</td>\n      <td>['A female lawyer takes an accused wife-murder...</td>\n    </tr>\n  </tbody>\n</table>\n<p>26435 rows × 7 columns</p>\n</div>"
     },
     "execution_count": 43,
     "metadata": {},
     "output_type": "execute_result"
    }
   ],
   "source": [
    "IMDB_movie_data_filtered"
   ]
  },
  {
   "cell_type": "markdown",
   "metadata": {},
   "source": [
    "We now have a datasets containing all the needed information on movies from 2010-2022. We just need to merge it with the provided dataset."
   ]
  },
  {
   "cell_type": "code",
   "execution_count": 44,
   "metadata": {
    "collapsed": false,
    "jupyter": {
     "outputs_hidden": false
    },
    "tags": []
   },
   "outputs": [],
   "source": [
    "provided_data = provided_movie_data_full\n",
    "# change the release date to just the year to be able to merge more easily and convert it to the same format\n",
    "# of the other df\n",
    "provided_data['release_date'] = provided_data['release_date'].dt.year\n",
    "# country and languages are not needed anymore\n",
    "provided_data = provided_data.drop(columns=['languages', 'countries'])\n",
    "IMDB_movie_data_filtered = IMDB_movie_data_filtered.drop(columns=['languages', 'countries'])"
   ]
  },
  {
   "cell_type": "code",
   "execution_count": 45,
   "metadata": {
    "collapsed": false,
    "jupyter": {
     "outputs_hidden": false
    },
    "tags": []
   },
   "outputs": [],
   "source": [
    "# merge IMDB and provided dataset\n",
    "movie_data = pd.merge(provided_data, IMDB_movie_data_filtered, on=['IMDB_ID'], how='outer').copy()"
   ]
  },
  {
   "cell_type": "markdown",
   "source": [
    "After inspection of this merge, we found that the provided dataset contains errors. For instance, the movie with wikipedia ID 17028988.0 corresponds to this wikipedia page: <https://en.wikipedia.org/w/index.php?title=Accidental_Love&curid=17028988.0>. This is the 2015 movie \"Accidental Love\". This corresponds to the name and release date retrieved on IMDB. However, the title and release date from the CMU dataset do not correspond (see cells below). This indicates that the provided dataset contains some errors and thus that, when possible, only the data from IMDB should be kept"
   ],
   "metadata": {
    "collapsed": false
   }
  },
  {
   "cell_type": "code",
   "execution_count": 46,
   "outputs": [
    {
     "data": {
      "text/plain": "     wikipedia_ID freebase_ID  name_x  release_date_x  runtime  \\\n291    17028988.0  /m/041620c  Nailed          2009.0      NaN   \n\n                                               genre_x plot_summary_x  \\\n291  [Romantic comedy, Political cinema, Romance Fi...            NaN   \n\n       IMDB_ID  box_office_revenue           name_y  release_date_y  \\\n291  tt1137470                 NaN  Accidental Love          2015.0   \n\n               genre_y                                     plot_summary_y  \n291  [Comedy, Romance]  ['A small town waitress gets a nail accidental...  ",
      "text/html": "<div>\n<style scoped>\n    .dataframe tbody tr th:only-of-type {\n        vertical-align: middle;\n    }\n\n    .dataframe tbody tr th {\n        vertical-align: top;\n    }\n\n    .dataframe thead th {\n        text-align: right;\n    }\n</style>\n<table border=\"1\" class=\"dataframe\">\n  <thead>\n    <tr style=\"text-align: right;\">\n      <th></th>\n      <th>wikipedia_ID</th>\n      <th>freebase_ID</th>\n      <th>name_x</th>\n      <th>release_date_x</th>\n      <th>runtime</th>\n      <th>genre_x</th>\n      <th>plot_summary_x</th>\n      <th>IMDB_ID</th>\n      <th>box_office_revenue</th>\n      <th>name_y</th>\n      <th>release_date_y</th>\n      <th>genre_y</th>\n      <th>plot_summary_y</th>\n    </tr>\n  </thead>\n  <tbody>\n    <tr>\n      <th>291</th>\n      <td>17028988.0</td>\n      <td>/m/041620c</td>\n      <td>Nailed</td>\n      <td>2009.0</td>\n      <td>NaN</td>\n      <td>[Romantic comedy, Political cinema, Romance Fi...</td>\n      <td>NaN</td>\n      <td>tt1137470</td>\n      <td>NaN</td>\n      <td>Accidental Love</td>\n      <td>2015.0</td>\n      <td>[Comedy, Romance]</td>\n      <td>['A small town waitress gets a nail accidental...</td>\n    </tr>\n  </tbody>\n</table>\n</div>"
     },
     "execution_count": 46,
     "metadata": {},
     "output_type": "execute_result"
    }
   ],
   "source": [
    "# inspect our created dataset\n",
    "movie_data[movie_data['wikipedia_ID'] == 17028988.0]"
   ],
   "metadata": {
    "collapsed": false
   }
  },
  {
   "cell_type": "code",
   "execution_count": 47,
   "outputs": [
    {
     "data": {
      "text/plain": "     wikipedia_ID freebase_ID    name release_date  box_office_revenue  \\\n757      17028988  /m/041620c  Nailed         2009                 NaN   \n\n     runtime                           languages  \\\n757      NaN  {\"/m/02h40lc\": \"English Language\"}   \n\n                                     countries  \\\n757  {\"/m/09c7w0\": \"United States of America\"}   \n\n                                                 genre  \n757  {\"/m/06cvj\": \"Romantic comedy\", \"/m/0cshrf\": \"...  ",
      "text/html": "<div>\n<style scoped>\n    .dataframe tbody tr th:only-of-type {\n        vertical-align: middle;\n    }\n\n    .dataframe tbody tr th {\n        vertical-align: top;\n    }\n\n    .dataframe thead th {\n        text-align: right;\n    }\n</style>\n<table border=\"1\" class=\"dataframe\">\n  <thead>\n    <tr style=\"text-align: right;\">\n      <th></th>\n      <th>wikipedia_ID</th>\n      <th>freebase_ID</th>\n      <th>name</th>\n      <th>release_date</th>\n      <th>box_office_revenue</th>\n      <th>runtime</th>\n      <th>languages</th>\n      <th>countries</th>\n      <th>genre</th>\n    </tr>\n  </thead>\n  <tbody>\n    <tr>\n      <th>757</th>\n      <td>17028988</td>\n      <td>/m/041620c</td>\n      <td>Nailed</td>\n      <td>2009</td>\n      <td>NaN</td>\n      <td>NaN</td>\n      <td>{\"/m/02h40lc\": \"English Language\"}</td>\n      <td>{\"/m/09c7w0\": \"United States of America\"}</td>\n      <td>{\"/m/06cvj\": \"Romantic comedy\", \"/m/0cshrf\": \"...</td>\n    </tr>\n  </tbody>\n</table>\n</div>"
     },
     "execution_count": 47,
     "metadata": {},
     "output_type": "execute_result"
    }
   ],
   "source": [
    "# inspect the original dataset -> the error comes from the original dataset not from the merge\n",
    "movies_metadata[movies_metadata['wikipedia_ID'] == 17028988.0]"
   ],
   "metadata": {
    "collapsed": false
   }
  },
  {
   "cell_type": "code",
   "execution_count": 48,
   "outputs": [
    {
     "data": {
      "text/plain": "       wikipedia_ID freebase_ID  runtime    IMDB_ID  box_office_revenue  \\\n0          975900.0   /m/03vyhn     98.0  tt0228333          14010832.0   \n1         3196793.0   /m/08yl5d     95.0  tt0245916                 NaN   \n2        13696889.0  /m/03cfc81     35.0  tt0002894                 NaN   \n3        10408933.0  /m/02qc0j7    106.0  tt0029852           3600000.0   \n4          175026.0   /m/017n1p     86.0  tt0021335                 NaN   \n...             ...         ...      ...        ...                 ...   \n54133           NaN         NaN      NaN  tt9913288                 NaN   \n54134           NaN         NaN      NaN  tt9914522                 NaN   \n54135           NaN         NaN      NaN  tt9914582                 NaN   \n54136           NaN         NaN      NaN  tt9914642                 NaN   \n54137           NaN         NaN      NaN  tt2342071                 NaN   \n\n                                                    name  release_date  \\\n0                                         Ghosts of Mars        2001.0   \n1      Getting Away with Murder: The JonBenét Ramsey ...        2000.0   \n2                                          The Gangsters        1913.0   \n3                               Alexander's Ragtime Band        1938.0   \n4                                          Sarah and Son        1930.0   \n...                                                  ...           ...   \n54133                                            Letters        2020.0   \n54134                             The Holden Family Plan        2019.0   \n54135                                       However Long        2019.0   \n54136                                          Albatross        2017.0   \n54137                      Dorothy and the Witches of Oz        2011.0   \n\n                                                   genre  \\\n0      [Thriller, Science Fiction, Horror, Adventure,...   \n1       [Mystery, Biographical film, Drama, Crime Drama]   \n2      [Short Film, Silent film, Indie, Black-and-whi...   \n3                     [Musical, Comedy, Black-and-white]   \n4                               [Drama, Black-and-white]   \n...                                                  ...   \n54133                                            [Drama]   \n54134                                    [Drama, Family]   \n54135                                      [Documentary]   \n54136                                      [Documentary]   \n54137                          [Action, Family, Fantasy]   \n\n                                            plot_summary  \n0      Set in the second half of the 22nd century, th...  \n1                                                    NaN  \n2                                                    NaN  \n3                                                    NaN  \n4                                                    NaN  \n...                                                  ...  \n54133  [\"Charlie Porter is an ordinary man. He leads ...  \n54134  [\"When Mackenzie Holden's sister and brother i...  \n54135  ['Documentary following four women with incura...  \n54136  [\"ALBATROSS is a powerful visual journey into ...  \n54137  ['Dorothy Gale discovers that her best selling...  \n\n[54138 rows x 9 columns]",
      "text/html": "<div>\n<style scoped>\n    .dataframe tbody tr th:only-of-type {\n        vertical-align: middle;\n    }\n\n    .dataframe tbody tr th {\n        vertical-align: top;\n    }\n\n    .dataframe thead th {\n        text-align: right;\n    }\n</style>\n<table border=\"1\" class=\"dataframe\">\n  <thead>\n    <tr style=\"text-align: right;\">\n      <th></th>\n      <th>wikipedia_ID</th>\n      <th>freebase_ID</th>\n      <th>runtime</th>\n      <th>IMDB_ID</th>\n      <th>box_office_revenue</th>\n      <th>name</th>\n      <th>release_date</th>\n      <th>genre</th>\n      <th>plot_summary</th>\n    </tr>\n  </thead>\n  <tbody>\n    <tr>\n      <th>0</th>\n      <td>975900.0</td>\n      <td>/m/03vyhn</td>\n      <td>98.0</td>\n      <td>tt0228333</td>\n      <td>14010832.0</td>\n      <td>Ghosts of Mars</td>\n      <td>2001.0</td>\n      <td>[Thriller, Science Fiction, Horror, Adventure,...</td>\n      <td>Set in the second half of the 22nd century, th...</td>\n    </tr>\n    <tr>\n      <th>1</th>\n      <td>3196793.0</td>\n      <td>/m/08yl5d</td>\n      <td>95.0</td>\n      <td>tt0245916</td>\n      <td>NaN</td>\n      <td>Getting Away with Murder: The JonBenét Ramsey ...</td>\n      <td>2000.0</td>\n      <td>[Mystery, Biographical film, Drama, Crime Drama]</td>\n      <td>NaN</td>\n    </tr>\n    <tr>\n      <th>2</th>\n      <td>13696889.0</td>\n      <td>/m/03cfc81</td>\n      <td>35.0</td>\n      <td>tt0002894</td>\n      <td>NaN</td>\n      <td>The Gangsters</td>\n      <td>1913.0</td>\n      <td>[Short Film, Silent film, Indie, Black-and-whi...</td>\n      <td>NaN</td>\n    </tr>\n    <tr>\n      <th>3</th>\n      <td>10408933.0</td>\n      <td>/m/02qc0j7</td>\n      <td>106.0</td>\n      <td>tt0029852</td>\n      <td>3600000.0</td>\n      <td>Alexander's Ragtime Band</td>\n      <td>1938.0</td>\n      <td>[Musical, Comedy, Black-and-white]</td>\n      <td>NaN</td>\n    </tr>\n    <tr>\n      <th>4</th>\n      <td>175026.0</td>\n      <td>/m/017n1p</td>\n      <td>86.0</td>\n      <td>tt0021335</td>\n      <td>NaN</td>\n      <td>Sarah and Son</td>\n      <td>1930.0</td>\n      <td>[Drama, Black-and-white]</td>\n      <td>NaN</td>\n    </tr>\n    <tr>\n      <th>...</th>\n      <td>...</td>\n      <td>...</td>\n      <td>...</td>\n      <td>...</td>\n      <td>...</td>\n      <td>...</td>\n      <td>...</td>\n      <td>...</td>\n      <td>...</td>\n    </tr>\n    <tr>\n      <th>54133</th>\n      <td>NaN</td>\n      <td>NaN</td>\n      <td>NaN</td>\n      <td>tt9913288</td>\n      <td>NaN</td>\n      <td>Letters</td>\n      <td>2020.0</td>\n      <td>[Drama]</td>\n      <td>[\"Charlie Porter is an ordinary man. He leads ...</td>\n    </tr>\n    <tr>\n      <th>54134</th>\n      <td>NaN</td>\n      <td>NaN</td>\n      <td>NaN</td>\n      <td>tt9914522</td>\n      <td>NaN</td>\n      <td>The Holden Family Plan</td>\n      <td>2019.0</td>\n      <td>[Drama, Family]</td>\n      <td>[\"When Mackenzie Holden's sister and brother i...</td>\n    </tr>\n    <tr>\n      <th>54135</th>\n      <td>NaN</td>\n      <td>NaN</td>\n      <td>NaN</td>\n      <td>tt9914582</td>\n      <td>NaN</td>\n      <td>However Long</td>\n      <td>2019.0</td>\n      <td>[Documentary]</td>\n      <td>['Documentary following four women with incura...</td>\n    </tr>\n    <tr>\n      <th>54136</th>\n      <td>NaN</td>\n      <td>NaN</td>\n      <td>NaN</td>\n      <td>tt9914642</td>\n      <td>NaN</td>\n      <td>Albatross</td>\n      <td>2017.0</td>\n      <td>[Documentary]</td>\n      <td>[\"ALBATROSS is a powerful visual journey into ...</td>\n    </tr>\n    <tr>\n      <th>54137</th>\n      <td>NaN</td>\n      <td>NaN</td>\n      <td>NaN</td>\n      <td>tt2342071</td>\n      <td>NaN</td>\n      <td>Dorothy and the Witches of Oz</td>\n      <td>2011.0</td>\n      <td>[Action, Family, Fantasy]</td>\n      <td>['Dorothy Gale discovers that her best selling...</td>\n    </tr>\n  </tbody>\n</table>\n<p>54138 rows × 9 columns</p>\n</div>"
     },
     "execution_count": 48,
     "metadata": {},
     "output_type": "execute_result"
    }
   ],
   "source": [
    "duplicated_cols = ['plot_summary', 'genre', 'name', 'release_date']\n",
    "movie_data = remove_duplicated_columns(movie_data, duplicated_cols)\n",
    "movie_data"
   ],
   "metadata": {
    "collapsed": false
   }
  },
  {
   "cell_type": "markdown",
   "source": [
    "We now merge again with the dataset retrieved from wikidata to add the box-office revenue of movies that were not in the provided dataset."
   ],
   "metadata": {
    "collapsed": false
   }
  },
  {
   "cell_type": "code",
   "execution_count": 49,
   "outputs": [],
   "source": [
    "movie_data = pd.merge(movie_data, wiki_df[['IMDB_ID','box_office_revenue']], how='left', on='IMDB_ID')\n",
    "movie_data = remove_duplicated_columns(movie_data, ['box_office_revenue'])"
   ],
   "metadata": {
    "collapsed": false
   }
  },
  {
   "cell_type": "markdown",
   "metadata": {},
   "source": [
    "We can now plot again the number of movies per year in our dataset to see if it indeed is completed after 2010"
   ]
  },
  {
   "cell_type": "code",
   "execution_count": 50,
   "metadata": {
    "collapsed": false,
    "jupyter": {
     "outputs_hidden": false
    },
    "tags": []
   },
   "outputs": [
    {
     "data": {
      "text/plain": "<Figure size 1000x600 with 1 Axes>",
      "image/png": "[encoded data removed]"
     },
     "metadata": {},
     "output_type": "display_data"
    }
   ],
   "source": [
    "# Group movies by release year\n",
    "movies_grouped_by_year = movie_data.groupby(movie_data['release_date'])\n",
    "\n",
    "#number of movies per year\n",
    "number_movies_per_year = movies_grouped_by_year.size()\n",
    "\n",
    "plt.figure(figsize=(10, 6))\n",
    "number_movies_per_year.plot(kind='line', color = 'cornflowerblue')\n",
    "plt.title('Number of Movies per Year in our Final Dataset')\n",
    "plt.xlabel('Year')\n",
    "plt.ylabel('Number of Movies')\n",
    "plt.grid(True)\n",
    "plt.show()"
   ]
  },
  {
   "cell_type": "markdown",
   "metadata": {},
   "source": [
    "We see that we have many more movies from 2010 to 2022 than in previous years since we complemented the dataset with more than 20'000 movies in just 10 years. This should not be a problem since we will conduct our analysis per year and thus our results will be always be normalized with the number of movies for each year."
   ]
  },
  {
   "cell_type": "markdown",
   "source": [
    "## 5.3) Creating a popularity index\n",
    "<a id='subsection-5.3'></a>\n",
    "We previously retrieved the box-office revenues in US dollars. However, the rate of the dollar fluctuates throughout time and we can thus not compare a revenue from a movie in 1980 to one of a movie in 2022. To solve this problem, we decided to normalise the movie revenues per year to get an index that would indicate how popular each movie was each year. Another problem arise when doing so: when a movie was so famous that it got record box-office this year (e.g. Avatar, Star Wars, ...), even the second or third movie at the box-office will have a really low popularity index which does not represent reality very well. What we did was thus to divide the box-office revenue of each movie for a year by the average of the 3 highest grossing movies the same year.\n",
    "Additionally, a lot of movies do not have their box-office revenue statistics, so we computed the popularity indices only for the years that have enough data (when more than 10% of the movies for a specific year have a box-office)."
   ],
   "metadata": {
    "collapsed": false
   }
  },
  {
   "cell_type": "code",
   "execution_count": 51,
   "outputs": [
    {
     "data": {
      "text/plain": "       wikipedia_ID freebase_ID  runtime    IMDB_ID  \\\n0          975900.0   /m/03vyhn     98.0  tt0228333   \n1         3196793.0   /m/08yl5d     95.0  tt0245916   \n2        13696889.0  /m/03cfc81     35.0  tt0002894   \n3        10408933.0  /m/02qc0j7    106.0  tt0029852   \n4          175026.0   /m/017n1p     86.0  tt0021335   \n...             ...         ...      ...        ...   \n54133           NaN         NaN      NaN  tt9913288   \n54134           NaN         NaN      NaN  tt9914522   \n54135           NaN         NaN      NaN  tt9914582   \n54136           NaN         NaN      NaN  tt9914642   \n54137           NaN         NaN      NaN  tt2342071   \n\n                                                    name  release_date  \\\n0                                         Ghosts of Mars        2001.0   \n1      Getting Away with Murder: The JonBenét Ramsey ...        2000.0   \n2                                          The Gangsters        1913.0   \n3                               Alexander's Ragtime Band        1938.0   \n4                                          Sarah and Son        1930.0   \n...                                                  ...           ...   \n54133                                            Letters        2020.0   \n54134                             The Holden Family Plan        2019.0   \n54135                                       However Long        2019.0   \n54136                                          Albatross        2017.0   \n54137                      Dorothy and the Witches of Oz        2011.0   \n\n                                                   genre  \\\n0      [Thriller, Science Fiction, Horror, Adventure,...   \n1       [Mystery, Biographical film, Drama, Crime Drama]   \n2      [Short Film, Silent film, Indie, Black-and-whi...   \n3                     [Musical, Comedy, Black-and-white]   \n4                               [Drama, Black-and-white]   \n...                                                  ...   \n54133                                            [Drama]   \n54134                                    [Drama, Family]   \n54135                                      [Documentary]   \n54136                                      [Documentary]   \n54137                          [Action, Family, Fantasy]   \n\n                                            plot_summary  box_office_revenue  \\\n0      Set in the second half of the 22nd century, th...          14010832.0   \n1                                                    NaN                 NaN   \n2                                                    NaN                 NaN   \n3                                                    NaN           3600000.0   \n4                                                    NaN                 NaN   \n...                                                  ...                 ...   \n54133  [\"Charlie Porter is an ordinary man. He leads ...                 NaN   \n54134  [\"When Mackenzie Holden's sister and brother i...                 NaN   \n54135  ['Documentary following four women with incura...                 NaN   \n54136  [\"ALBATROSS is a powerful visual journey into ...                 NaN   \n54137  ['Dorothy Gale discovers that her best selling...                 NaN   \n\n       popularity  \n0        0.031534  \n1             NaN  \n2             NaN  \n3             NaN  \n4             NaN  \n...           ...  \n54133         NaN  \n54134         NaN  \n54135         NaN  \n54136         NaN  \n54137         NaN  \n\n[54138 rows x 10 columns]",
      "text/html": "<div>\n<style scoped>\n    .dataframe tbody tr th:only-of-type {\n        vertical-align: middle;\n    }\n\n    .dataframe tbody tr th {\n        vertical-align: top;\n    }\n\n    .dataframe thead th {\n        text-align: right;\n    }\n</style>\n<table border=\"1\" class=\"dataframe\">\n  <thead>\n    <tr style=\"text-align: right;\">\n      <th></th>\n      <th>wikipedia_ID</th>\n      <th>freebase_ID</th>\n      <th>runtime</th>\n      <th>IMDB_ID</th>\n      <th>name</th>\n      <th>release_date</th>\n      <th>genre</th>\n      <th>plot_summary</th>\n      <th>box_office_revenue</th>\n      <th>popularity</th>\n    </tr>\n  </thead>\n  <tbody>\n    <tr>\n      <th>0</th>\n      <td>975900.0</td>\n      <td>/m/03vyhn</td>\n      <td>98.0</td>\n      <td>tt0228333</td>\n      <td>Ghosts of Mars</td>\n      <td>2001.0</td>\n      <td>[Thriller, Science Fiction, Horror, Adventure,...</td>\n      <td>Set in the second half of the 22nd century, th...</td>\n      <td>14010832.0</td>\n      <td>0.031534</td>\n    </tr>\n    <tr>\n      <th>1</th>\n      <td>3196793.0</td>\n      <td>/m/08yl5d</td>\n      <td>95.0</td>\n      <td>tt0245916</td>\n      <td>Getting Away with Murder: The JonBenét Ramsey ...</td>\n      <td>2000.0</td>\n      <td>[Mystery, Biographical film, Drama, Crime Drama]</td>\n      <td>NaN</td>\n      <td>NaN</td>\n      <td>NaN</td>\n    </tr>\n    <tr>\n      <th>2</th>\n      <td>13696889.0</td>\n      <td>/m/03cfc81</td>\n      <td>35.0</td>\n      <td>tt0002894</td>\n      <td>The Gangsters</td>\n      <td>1913.0</td>\n      <td>[Short Film, Silent film, Indie, Black-and-whi...</td>\n      <td>NaN</td>\n      <td>NaN</td>\n      <td>NaN</td>\n    </tr>\n    <tr>\n      <th>3</th>\n      <td>10408933.0</td>\n      <td>/m/02qc0j7</td>\n      <td>106.0</td>\n      <td>tt0029852</td>\n      <td>Alexander's Ragtime Band</td>\n      <td>1938.0</td>\n      <td>[Musical, Comedy, Black-and-white]</td>\n      <td>NaN</td>\n      <td>3600000.0</td>\n      <td>NaN</td>\n    </tr>\n    <tr>\n      <th>4</th>\n      <td>175026.0</td>\n      <td>/m/017n1p</td>\n      <td>86.0</td>\n      <td>tt0021335</td>\n      <td>Sarah and Son</td>\n      <td>1930.0</td>\n      <td>[Drama, Black-and-white]</td>\n      <td>NaN</td>\n      <td>NaN</td>\n      <td>NaN</td>\n    </tr>\n    <tr>\n      <th>...</th>\n      <td>...</td>\n      <td>...</td>\n      <td>...</td>\n      <td>...</td>\n      <td>...</td>\n      <td>...</td>\n      <td>...</td>\n      <td>...</td>\n      <td>...</td>\n      <td>...</td>\n    </tr>\n    <tr>\n      <th>54133</th>\n      <td>NaN</td>\n      <td>NaN</td>\n      <td>NaN</td>\n      <td>tt9913288</td>\n      <td>Letters</td>\n      <td>2020.0</td>\n      <td>[Drama]</td>\n      <td>[\"Charlie Porter is an ordinary man. He leads ...</td>\n      <td>NaN</td>\n      <td>NaN</td>\n    </tr>\n    <tr>\n      <th>54134</th>\n      <td>NaN</td>\n      <td>NaN</td>\n      <td>NaN</td>\n      <td>tt9914522</td>\n      <td>The Holden Family Plan</td>\n      <td>2019.0</td>\n      <td>[Drama, Family]</td>\n      <td>[\"When Mackenzie Holden's sister and brother i...</td>\n      <td>NaN</td>\n      <td>NaN</td>\n    </tr>\n    <tr>\n      <th>54135</th>\n      <td>NaN</td>\n      <td>NaN</td>\n      <td>NaN</td>\n      <td>tt9914582</td>\n      <td>However Long</td>\n      <td>2019.0</td>\n      <td>[Documentary]</td>\n      <td>['Documentary following four women with incura...</td>\n      <td>NaN</td>\n      <td>NaN</td>\n    </tr>\n    <tr>\n      <th>54136</th>\n      <td>NaN</td>\n      <td>NaN</td>\n      <td>NaN</td>\n      <td>tt9914642</td>\n      <td>Albatross</td>\n      <td>2017.0</td>\n      <td>[Documentary]</td>\n      <td>[\"ALBATROSS is a powerful visual journey into ...</td>\n      <td>NaN</td>\n      <td>NaN</td>\n    </tr>\n    <tr>\n      <th>54137</th>\n      <td>NaN</td>\n      <td>NaN</td>\n      <td>NaN</td>\n      <td>tt2342071</td>\n      <td>Dorothy and the Witches of Oz</td>\n      <td>2011.0</td>\n      <td>[Action, Family, Fantasy]</td>\n      <td>['Dorothy Gale discovers that her best selling...</td>\n      <td>NaN</td>\n      <td>NaN</td>\n    </tr>\n  </tbody>\n</table>\n<p>54138 rows × 10 columns</p>\n</div>"
     },
     "execution_count": 51,
     "metadata": {},
     "output_type": "execute_result"
    }
   ],
   "source": [
    "movie_data['popularity'] = get_popularity_index(movie_data)\n",
    "movie_data"
   ],
   "metadata": {
    "collapsed": false
   }
  },
  {
   "cell_type": "markdown",
   "metadata": {},
   "source": [
    "## 5.4) Complementing and cleaning up the genres of the movie data\n",
    "<a id='subsection-5.4'></a>\n",
    "Before saving the movie dataset as our final one, we will have a look at the different genres and filter them"
   ]
  },
  {
   "cell_type": "code",
   "execution_count": 52,
   "metadata": {
    "tags": []
   },
   "outputs": [
    {
     "name": "stdout",
     "output_type": "stream",
     "text": [
      "Number of entries with NaN values in 'genre' column: 0\n"
     ]
    }
   ],
   "source": [
    "nan_genre_count = movie_data['genre'].isna().sum()\n",
    "print(f\"Number of entries with NaN values in 'genre' column: {nan_genre_count}\")"
   ]
  },
  {
   "cell_type": "code",
   "execution_count": 53,
   "metadata": {
    "tags": []
   },
   "outputs": [],
   "source": [
    "movie_data.dropna(subset=['genre'], inplace=True)"
   ]
  },
  {
   "cell_type": "code",
   "execution_count": 54,
   "metadata": {
    "tags": []
   },
   "outputs": [
    {
     "name": "stdout",
     "output_type": "stream",
     "text": [
      "Number of entries with NaN values in 'genre' column: 0\n"
     ]
    }
   ],
   "source": [
    "nan_genre_count = movie_data['genre'].isna().sum()\n",
    "print(f\"Number of entries with NaN values in 'genre' column: {nan_genre_count}\")"
   ]
  },
  {
   "cell_type": "markdown",
   "metadata": {},
   "source": [
    "#### Removing adult films"
   ]
  },
  {
   "cell_type": "markdown",
   "metadata": {},
   "source": [
    "As they do not add any value to our analysis and to prevent us from having to have to deal with pornographic content we remove these movies. As this only concerns 158 entries this should not have a negative effect on our analysis."
   ]
  },
  {
   "cell_type": "code",
   "execution_count": 55,
   "metadata": {
    "tags": []
   },
   "outputs": [],
   "source": [
    "porn_genres=['Softcore Porn','Gay pornography','Hardcore pornography','Pornography','Pornographic movie','Adult']\n",
    "porn_movies=movie_data[movie_data['genre'].apply(lambda genre_list:\n",
    "                                                 any(item in genre_list for item in porn_genres))]\n",
    "movie_data=movie_data[~movie_data[\"wikipedia_ID\"].isin(porn_movies.wikipedia_ID.values)]"
   ]
  },
  {
   "cell_type": "code",
   "execution_count": 56,
   "metadata": {
    "tags": []
   },
   "outputs": [
    {
     "data": {
      "text/plain": "Counter({'Drama': 20491,\n         'Comedy': 13385,\n         'Documentary': 8890,\n         'Thriller': 8609,\n         'Action': 6217,\n         'Horror': 6137,\n         'Black-and-white': 5612,\n         'Indie': 4767,\n         'Romance Film': 3958,\n         'Adventure': 3932,\n         'Short Film': 3787,\n         'Mystery': 3225,\n         'Crime Fiction': 3134,\n         'Silent film': 2787,\n         'Action/Adventure': 2731,\n         'Family Film': 2331,\n         'Fantasy': 2149,\n         'Western': 1979,\n         'Animation': 1978,\n         'Romance': 1928,\n         'Crime': 1890,\n         'Musical': 1885,\n         'Biography': 1741,\n         'Romantic comedy': 1666,\n         'Science Fiction': 1636,\n         'Sci-Fi': 1381,\n         'Crime Thriller': 1301,\n         'Romantic drama': 1281,\n         'Music': 1223,\n         'Family': 1122,\n         'Film adaptation': 1062,\n         'War film': 1051,\n         'History': 1047,\n         'Comedy-drama': 987,\n         'Period piece': 970,\n         'Psychological thriller': 845,\n         'Teen': 741,\n         'Comedy film': 697,\n         \"Children's/Family\": 693,\n         'Parody': 682,\n         'Sports': 671,\n         'Television movie': 621,\n         'Black comedy': 619,\n         'Sport': 577,\n         'Family Drama': 576,\n         'Cult': 570,\n         'Suspense': 550,\n         'Coming of age': 549,\n         'Biographical film': 544,\n         'LGBT': 530,\n         'Slasher': 523,\n         'Film noir': 515,\n         'Slapstick': 513,\n         'Culture & Society': 429,\n         'Melodrama': 421,\n         'Supernatural': 404,\n         'Biopic [feature]': 402,\n         'Satire': 399,\n         'Political drama': 365,\n         'War': 359,\n         'Action Thrillers': 355,\n         'B-movie': 338,\n         'Costume drama': 332,\n         \"Children's\": 320,\n         'Crime Drama': 316,\n         'Buddy film': 295,\n         'Ensemble Film': 282,\n         'Spy': 278,\n         'Detective': 269,\n         'Political cinema': 269,\n         'Docudrama': 262,\n         'Gangster Film': 261,\n         'Creature Film': 261,\n         'Martial Arts Film': 260,\n         'Screwball comedy': 258,\n         'World cinema': 236,\n         'Detective fiction': 221,\n         'Short': 216,\n         'Superhero movie': 210,\n         'Disaster': 204,\n         'Family-Oriented Adventure': 203,\n         'Road movie': 203,\n         \"Children's Fantasy\": 201,\n         'Social issues': 197,\n         'Sex comedy': 188,\n         'Musical comedy': 185,\n         'Crime Comedy': 184,\n         'Courtroom Drama': 183,\n         'Japanese Movies': 181,\n         'Gay Themed': 176,\n         'News': 172,\n         'Historical fiction': 170,\n         'Horror Comedy': 170,\n         'Pre-Code': 168,\n         'Fantasy Comedy': 163,\n         'Domestic Comedy': 162,\n         'Comedy of manners': 161,\n         'Zombie Film': 160,\n         'Epic': 152,\n         'Computer Animation': 150,\n         'Animal Picture': 148,\n         'Political thriller': 142,\n         'Comedy of Errors': 142,\n         'Gay': 136,\n         'Gay Interest': 135,\n         'Natural horror films': 133,\n         'Fantasy Adventure': 131,\n         'Musical Drama': 130,\n         'Monster movie': 126,\n         'Propaganda film': 125,\n         'Heist': 121,\n         'Rockumentary': 118,\n         'Christian film': 116,\n         'Sci-Fi Horror': 112,\n         'Erotic thriller': 108,\n         'Adventure Comedy': 103,\n         'Superhero': 102,\n         'Action Comedy': 101,\n         'Marriage Drama': 99,\n         'Americana': 98,\n         'Doomsday film': 96,\n         'Concert film': 95,\n         'Swashbuckler films': 90,\n         'New Hollywood': 87,\n         'Prison': 86,\n         'Alien Film': 86,\n         'Blaxploitation': 85,\n         'Experimental film': 85,\n         'Chase Movie': 82,\n         'Stop motion': 81,\n         'Mockumentary': 80,\n         'Christmas movie': 77,\n         'Holiday Film': 76,\n         'Animated cartoon': 76,\n         'Combat Films': 75,\n         'Workplace Comedy': 75,\n         'Absurdism': 73,\n         'Remake': 71,\n         'Childhood Drama': 70,\n         'Time travel': 69,\n         'Film': 69,\n         'Comedy Thriller': 68,\n         'Media Satire': 67,\n         'Boxing': 67,\n         'Monster': 67,\n         'Chinese Movies': 66,\n         'Dance': 66,\n         'Dystopia': 64,\n         'Avant-garde': 63,\n         'Feminist Film': 62,\n         'Revisionist Western': 62,\n         'Caper story': 60,\n         'Tragedy': 58,\n         'Comedy Western': 58,\n         'Jungle Film': 58,\n         'Auto racing': 57,\n         'Social problem film': 57,\n         'Hip hop movies': 56,\n         'Neo-noir': 56,\n         'Law & Crime': 55,\n         'Airplanes and airports': 55,\n         'Haunted House Film': 54,\n         'Erotica': 52,\n         'Film & Television History': 52,\n         'Political satire': 52,\n         'Slice of life story': 51,\n         'Animated Musical': 50,\n         'Gender Issues': 49,\n         'Gross-out film': 49,\n         'Gross out': 49,\n         'Stand-up comedy': 49,\n         'Costume Adventure': 48,\n         'Sexploitation': 48,\n         'Whodunit': 47,\n         'Medical fiction': 47,\n         'Surrealism': 45,\n         'Addiction Drama': 44,\n         'Anime': 44,\n         'Stoner film': 44,\n         'Reality-TV': 42,\n         'B-Western': 41,\n         'Gothic Film': 40,\n         'Religious Film': 39,\n         'Nature': 39,\n         'Roadshow theatrical release': 38,\n         'Historical Epic': 37,\n         'Fairy tale': 37,\n         'Talk-Show': 36,\n         'Romantic fantasy': 35,\n         'Illnesses & Disabilities': 35,\n         'Sword and sorcery': 34,\n         'Travel': 34,\n         'Escape Film': 33,\n         'Erotic Drama': 33,\n         'Film-Noir': 32,\n         'Punk rock': 32,\n         'Historical drama': 31,\n         'Animals': 31,\n         'Sword and sorcery films': 30,\n         'Hybrid Western': 29,\n         'Interpersonal Relationships': 29,\n         'Glamorized Spy Film': 29,\n         'Anti-war': 28,\n         'Anti-war film': 28,\n         'Tragicomedy': 28,\n         'Inspirational Drama': 27,\n         'Sci-Fi Adventure': 27,\n         'Apocalyptic and post-apocalyptic fiction': 26,\n         'Film à clef': 25,\n         'Heavenly Comedy': 25,\n         'Backstage Musical': 25,\n         'Costume Horror': 25,\n         'Juvenile Delinquency Film': 24,\n         'Existentialism': 23,\n         'Environmental Science': 23,\n         'Master Criminal Films': 23,\n         'Indian Western': 23,\n         'Media Studies': 23,\n         'Steampunk': 21,\n         'Graphic & Applied Arts': 20,\n         'Filipino Movies': 20,\n         'Fan film': 19,\n         'Northern': 19,\n         'Biker Film': 18,\n         'Extreme Sports': 18,\n         'Future noir': 17,\n         'Movie serial': 17,\n         'Educational': 17,\n         'Heaven-Can-Wait Fantasies': 17,\n         'Splatter film': 17,\n         'Epic Western': 16,\n         'Albino bias': 16,\n         'Cavalry Film': 15,\n         'Mythological Fantasy': 15,\n         'Outlaw biker film': 15,\n         'Beach Film': 15,\n         'Road-Horror': 14,\n         'Hagiography': 13,\n         'Exploitation': 13,\n         'British Empire Film': 13,\n         'Natural disaster': 12,\n         'Art film': 12,\n         'Business': 12,\n         'Horse racing': 12,\n         'Language & Literature': 12,\n         'Space western': 11,\n         'Instrumental Music': 11,\n         'Family & Personal Relationships': 11,\n         'Cold War': 11,\n         'Mumblecore': 10,\n         'Comedy horror': 10,\n         'Buddy cop': 10,\n         'Prison film': 10,\n         'Anthropology': 9,\n         'Sword and Sandal': 9,\n         'Foreign legion': 9,\n         'Women in prison films': 9,\n         'Baseball': 9,\n         'Inventions & Innovations': 9,\n         'World History': 9,\n         'Legal drama': 8,\n         \"Children's Entertainment\": 8,\n         'Archives and records': 8,\n         'Psycho-biddy': 8,\n         'Health & Fitness': 8,\n         'Fantasy Drama': 8,\n         'Dogme 95': 8,\n         'Journalism': 7,\n         'Essay Film': 7,\n         'Reboot': 7,\n         'Acid western': 7,\n         'Archaeology': 6,\n         'Demonic child': 6,\n         'Jukebox musical': 6,\n         'Spaghetti Western': 6,\n         'Education': 6,\n         'Anthology': 6,\n         'Space opera': 5,\n         'Libraries and librarians': 5,\n         'Alien invasion': 5,\n         'Computers': 5,\n         'Courtroom Comedy': 5,\n         'Female buddy film': 5,\n         'Bollywood': 5,\n         'Outlaw': 5,\n         'Singing cowboy': 5,\n         'Plague': 4,\n         'Filmed Play': 4,\n         'Werewolf fiction': 4,\n         'Movies About Gladiators': 4,\n         'Roadshow/Carny': 4,\n         'Science fiction Western': 4,\n         'Bloopers & Candid Camera': 4,\n         'Mondo film': 4,\n         'Operetta': 4,\n         'School story': 4,\n         'Gulf War': 4,\n         'Therimin music': 4,\n         'Early Black Cinema': 3,\n         'Sponsored film': 3,\n         'Finance & Investing': 3,\n         'Nuclear warfare': 3,\n         'Z movie': 3,\n         'Psychological horror': 3,\n         'Sci-Fi Thriller': 3,\n         'Cyberpunk': 3,\n         \"Children's Issues\": 3,\n         'Feature film': 3,\n         'Kafkaesque': 3,\n         'Goat gland': 3,\n         'Point of view shot': 3,\n         'Race movie': 3,\n         'Samurai cinema': 3,\n         'Giallo': 3,\n         'Wuxia': 2,\n         'Expressionism': 2,\n         'Camp': 2,\n         'Private military company': 2,\n         'Humour': 2,\n         'Sci Fi Pictures original films': 2,\n         'Vampire movies': 2,\n         'Beach Party film': 2,\n         'Fictional film': 2,\n         'Parkour in popular culture': 2,\n         'Patriotic film': 2,\n         'Ealing Comedies': 2,\n         'Revisionist Fairy Tale': 2,\n         'Game-Show': 2,\n         'Star vehicle': 1,\n         'Conspiracy fiction': 1,\n         'Prison escape': 1,\n         'Live action': 1,\n         'Breakdance': 1,\n         'War effort': 1,\n         'Clay animation': 1,\n         'Chick flick': 1,\n         'Political Documetary': 1,\n         'Ninja movie': 1,\n         'Statutory rape': 1,\n         'British New Wave': 1,\n         'Supermarionation': 1,\n         'Period Horror': 1,\n         'Coming-of-age film': 1,\n         'The Netherlands in World War II': 1})"
     },
     "execution_count": 56,
     "metadata": {},
     "output_type": "execute_result"
    }
   ],
   "source": [
    "genres_flat=[item for sublist in movie_data[\"genre\"].values for item in sublist]\n",
    "genres_count=Counter(genres_flat)\n",
    "genres_count"
   ]
  },
  {
   "cell_type": "markdown",
   "metadata": {},
   "source": [
    "#### Genres preprocessing"
   ]
  },
  {
   "cell_type": "markdown",
   "metadata": {
    "tags": []
   },
   "source": [
    "We can see that there are many genres contained in the database. However they are not uniform, some are very broad (_e.g._ Drama) while some are very precise (_e.g._ Women in prison films). Additionnaly some of the \"genres\" are in reality not movie genres but rather tyoes of movies such as \"Black and white\" or \"Short films\". We therefore have to determine a list of genres we want to keep and recategorize some movies to these new genres. We make a first list with the common genres which we then modify"
   ]
  },
  {
   "cell_type": "markdown",
   "metadata": {},
   "source": [
    "| Name                   | Note                                                       |\n",
    "|------------------------|------------------------------------------------------------|\n",
    "| Drama                  |                                                            |\n",
    "| Comedy                 |                                                            |\n",
    "| Indie                  |                                                            |\n",
    "| Thriller               |                                                            |\n",
    "| Romance Film           |                                                            |\n",
    "| Action                 |                                                            |\n",
    "| Crime Fiction          | Merge with crime   thriller into new Crime genre           |\n",
    "| Action/Adventure       | Has to be merged with   action and adventure               |\n",
    "| Adventure              |                                                            |\n",
    "| Horror                 |                                                            |\n",
    "| Family Film            |                                                            |\n",
    "| Documentary            |                                                            |\n",
    "| Science Fiction        |                                                            |\n",
    "| Romantic comedy        |                                                            |\n",
    "| Mystery                |                                                            |\n",
    "| Musical                |                                                            |\n",
    "| Western                |                                                            |\n",
    "| Animation              |                                                            |\n",
    "| Fantasy                |                                                            |\n",
    "| Crime Thriller         | Add Thriller genre if   not present yet                    |\n",
    "| Romantic drama         | Has to be merged with   Romantic and Drama                 |\n",
    "| War film               |                                                            |\n",
    "| Film adaptation        |                                                            |\n",
    "| Comedy-drama           | Has to be merged with   comedy and drama                   |\n",
    "| Biography              |                                                            |\n",
    "| Psychological thriller |                                                            |\n",
    "| Comedy film            | Same as comedy, has   to be merged with it                 |\n",
    "| Teen                   |                                                            |\n",
    "| Sports                 |                                                            |\n",
    "| Children's/Family      |                                                            |\n",
    "| Parody                 |                                                            |\n",
    "| Black comedy           | Add Comedy if not   present yet                            |\n",
    "| Family Drama           |                                                            |\n",
    "| Biographical film      | Same as Biography,   has to be merged with it              |\n",
    "| Cult                   |                                                            |\n",
    "| LGBT                   |                                                            |\n",
    "| Coming of age          |                                                            |\n",
    "| Slapstick              |                                                            |\n",
    "| Music                  |                                                            |\n",
    "| Culture & Society      |                                                            |\n",
    "| Melodrama              |                                                            |\n",
    "| Supernatural           |                                                            |\n",
    "| History                |                                                            |\n",
    "| Biopic [feature]       | Same as Biography,   has to be merged with it              |\n",
    "| Satire                 |                                                            |\n",
    "| Political drama        | Add Drama Genre if   not present yet                       |\n",
    "| Action Thrillers       | Merge with Thriller                                        |\n",
    "| Children's             | Merge with   Children's/Family                             |\n",
    "| Costume drama          | Merge with Drama                                           |\n",
    "| Crime Drama            | Add Drama if not   present yet & merge into Crime category |\n",
    "| Spy                    |                                                            |\n",
    "| Superhero movie        | Merge with Superhero                                       |\n",
    "|                        | (we keep the Superhero name   for simplicity)              |\n",
    "| War film               | Merge with War                                             |\n",
    "|Period piece||"
   ]
  },
  {
   "cell_type": "code",
   "execution_count": 57,
   "metadata": {
    "tags": []
   },
   "outputs": [],
   "source": [
    "genres_to_keep=['Drama','Comedy','Indie','Thriller','Romance Film','Action','Crime Fiction','Action/Adventure',\n",
    "                'Adventure','Horror','Family Film','Documentary','Science Fiction','Romantic comedy','Mystery',\n",
    "                'Western','Musical','Animation','Fantasy','Crime Thriller','Romantic drama','War film',\n",
    "                'Film adaptation','Comedy-drama','Biography','Psychological thriller','Comedy film','Teen',\n",
    "                'Sports',\"Children's/Family\",'Parody','Black comedy','Family Drama','Biographical film','Cult',\n",
    "                'LGBT','Coming of age','Slapstick','Music','Culture & Society','Melodrama','Supernatural','History',\n",
    "                'Biopic [feature]','Satire','Political drama','Action Thrillers',\"Children's\",'Costume drama',\n",
    "                'Crime Drama','Spy','Superhero','Period piece']\n",
    "genres_to_remove=[item for item in list(genres_count) if item not in genres_to_keep]"
   ]
  },
  {
   "cell_type": "markdown",
   "metadata": {},
   "source": [
    "#### Movies where none of their genres are contained in the list above"
   ]
  },
  {
   "cell_type": "markdown",
   "metadata": {},
   "source": [
    "We define a function which searches for these movies. This function finds all movies where none of their genres are contained in the list of genres we want to keep."
   ]
  },
  {
   "cell_type": "code",
   "execution_count": 58,
   "metadata": {
    "tags": []
   },
   "outputs": [
    {
     "name": "stdout",
     "output_type": "stream",
     "text": [
      "Number of movies :  1547\n"
     ]
    }
   ],
   "source": [
    "foo=no_genres_in_list(genres=genres_to_remove, df=movie_data)"
   ]
  },
  {
   "cell_type": "code",
   "execution_count": 59,
   "metadata": {
    "tags": []
   },
   "outputs": [
    {
     "data": {
      "text/plain": "Counter({'Short Film': 303,\n         'Drama': 298,\n         'Sci-Fi': 253,\n         'Black-and-white': 241,\n         'Crime': 230,\n         'Romance': 195,\n         'Family': 192,\n         'Silent film': 160,\n         'Thriller': 153,\n         'Sport': 126,\n         'Comedy': 95,\n         'Action': 80,\n         'Horror': 64,\n         'Adventure': 57,\n         'Documentary': 49,\n         'Mystery': 48,\n         'Fantasy': 46,\n         'Indie': 45,\n         'Romance Film': 44,\n         'War': 41,\n         'Film noir': 35,\n         'Crime Fiction': 35,\n         'Talk-Show': 30,\n         'Action/Adventure': 29,\n         'Propaganda film': 28,\n         'Family Film': 27,\n         'Musical': 22,\n         'Reality-TV': 21,\n         'Science Fiction': 20,\n         'Animation': 20,\n         'Crime Thriller': 19,\n         'Film adaptation': 15,\n         'Experimental film': 15,\n         'Romantic drama': 14,\n         'Biography': 13,\n         'Superhero movie': 11,\n         'Avant-garde': 11,\n         'Romantic comedy': 11,\n         'Short': 10,\n         'Costume drama': 10,\n         'Psychological thriller': 9,\n         'Family Drama': 9,\n         'Christian film': 9,\n         'Period piece': 9,\n         'Music': 9,\n         'Television movie': 8,\n         'Suspense': 8,\n         'Swashbuckler films': 8,\n         'Christmas movie': 8,\n         'Detective': 8,\n         'Concert film': 7,\n         'Pre-Code': 7,\n         'Surrealism': 7,\n         'Japanese Movies': 7,\n         'War film': 7,\n         'Slasher': 6,\n         'Sports': 6,\n         'Computer Animation': 6,\n         'Western': 6,\n         'Screwball comedy': 6,\n         'News': 6,\n         'Comedy film': 5,\n         'History': 5,\n         'Supernatural': 5,\n         'Stop motion': 4,\n         'Parody': 4,\n         'LGBT': 4,\n         'Rockumentary': 4,\n         'Time travel': 4,\n         'Detective fiction': 4,\n         'Musical comedy': 4,\n         \"Children's\": 4,\n         'Blaxploitation': 3,\n         'Coming of age': 3,\n         'World cinema': 3,\n         'Heist': 3,\n         'Black comedy': 3,\n         'Animated cartoon': 3,\n         'Disaster': 3,\n         'Historical fiction': 3,\n         'B-movie': 3,\n         'Political drama': 3,\n         'Courtroom Drama': 3,\n         'Buddy film': 3,\n         'Sci-Fi Horror': 2,\n         'Biographical film': 2,\n         'Chinese Movies': 2,\n         'Sponsored film': 2,\n         'Gay Themed': 2,\n         'Doomsday film': 2,\n         'Historical Epic': 2,\n         'Satire': 2,\n         'Erotica': 2,\n         'Teen': 2,\n         'Mockumentary': 2,\n         'Fan film': 2,\n         'Remake': 2,\n         'Martial Arts Film': 2,\n         'Northern': 2,\n         'Monster movie': 2,\n         'Educational': 2,\n         'Epic': 2,\n         'Comedy-drama': 2,\n         'Sexploitation': 2,\n         'Comedy of Errors': 2,\n         'Hip hop movies': 1,\n         'Camp': 1,\n         'Mythological Fantasy': 1,\n         'Political cinema': 1,\n         'Gay': 1,\n         'Gay Interest': 1,\n         'Historical drama': 1,\n         'Auto racing': 1,\n         'Alien Film': 1,\n         'Spy': 1,\n         'Foreign legion': 1,\n         'New Hollywood': 1,\n         'Dogme 95': 1,\n         'Anime': 1,\n         'Apocalyptic and post-apocalyptic fiction': 1,\n         'Singing cowboy': 1,\n         'Tragedy': 1,\n         'Boxing': 1,\n         'Airplanes and airports': 1,\n         'Road-Horror': 1,\n         'Cult': 1,\n         'Art film': 1,\n         'Religious Film': 1,\n         'Monster': 1,\n         'Fantasy Comedy': 1,\n         'Action Thrillers': 1,\n         'Movie serial': 1,\n         'Erotic thriller': 1,\n         'Sex comedy': 1,\n         'Crime Drama': 1,\n         'Computers': 1,\n         'Business': 1,\n         'Libraries and librarians': 1,\n         'Outlaw biker film': 1,\n         'Slapstick': 1,\n         'Race movie': 1,\n         'Game-Show': 1})"
     },
     "execution_count": 59,
     "metadata": {},
     "output_type": "execute_result"
    }
   ],
   "source": [
    "uniquegenres_df = movie_data[movie_data['name'].isin(foo)]\n",
    "uniquegenres_flat = [item for sublist in uniquegenres_df[\"genre\"].values for item in sublist]\n",
    "uniquegenres_count = Counter(uniquegenres_flat)\n",
    "uniquegenres_count"
   ]
  },
  {
   "cell_type": "markdown",
   "metadata": {},
   "source": [
    "The only genres which appear a significant number of times are Silent film , black & white and silent films. All three are not real movie genres but rather describe movie type. We still keep them and add them to the list of genres. We than take the rest of the genres and assign them to new categories if possible (_e.g_ Film noir to crime and drama , Mockumentary to documentary) or otherwise removing them. To remove them we remove their genre and they will then be removed when removing the movies with no genres\n",
    "Given the high number of movies in the dataset, removing this amount of movies will not have a significant effect and therefore manually reassigning them new genres would not be a viable time investment."
   ]
  },
  {
   "cell_type": "code",
   "execution_count": 60,
   "metadata": {
    "tags": []
   },
   "outputs": [],
   "source": [
    "genres_to_keep.append(['Short Film','Black-and-white','Silent film'])\n",
    "genres_to_remove=[item for item in list(genres_count) if item not in genres_to_keep]"
   ]
  },
  {
   "cell_type": "code",
   "execution_count": 61,
   "metadata": {
    "tags": []
   },
   "outputs": [],
   "source": [
    "genre_equivalence={\n",
    " 'Film noir':[],\n",
    " 'Propaganda film':[],\n",
    " 'Art film':[],\n",
    " 'Slasher':['Horror'],\n",
    " 'Concert film':[],\n",
    " 'Stop motion':[],\n",
    " 'Blaxploitation':[],\n",
    " 'Pre-Code':[],\n",
    " 'Hip hop movies':[],\n",
    " 'Chinese Movies':[],\n",
    " 'World cinema':[],\n",
    " 'Sponsored film':[],\n",
    " 'Animated cartoon':['Animation'],\n",
    " 'Christian film':[],\n",
    " 'Japanese Movies':[],\n",
    " 'Surrealism':[],\n",
    " 'Swashbuckler films':['Adventure'],\n",
    " 'Superhero movie':['Superhero'],\n",
    " 'Historical drama':['Drama'],\n",
    " 'Christmas movie':[],\n",
    " 'Rockumentary':['Documentary'],\n",
    " 'Computer Animation':['Animation'],\n",
    " 'Auto racing':[],\n",
    " 'Experimental film':[],\n",
    " 'Avant-garde':[],\n",
    " 'Dance':[],\n",
    " 'Historical Epic':[],\n",
    " 'Historical fiction':[],\n",
    " 'Detective fiction':[],\n",
    " 'Comedy horror':['Comedy','Horror'],\n",
    " 'Detective':[],\n",
    " 'Erotica':[],\n",
    " 'Foreign legion':[],\n",
    " 'Mockumentary':['Documentary'],\n",
    " 'Fan film':[],\n",
    " 'Martial Arts Film':[],\n",
    " 'Dogme 95':[],\n",
    " 'Musical comedy':['Comedy'],\n",
    " 'Sword and sorcery':[],\n",
    " 'Suspense':[],\n",
    " 'Anime':[],\n",
    " 'Filipino Movies':[],\n",
    " 'Period piece':[],\n",
    " 'Screwball comedy':['Comedy'],\n",
    " 'Singing cowboy':[],\n",
    " 'Northern':[],\n",
    " 'Television movie':[],\n",
    " 'Time travel':[],\n",
    " 'Disaster':[],\n",
    " 'Anti-war':[],\n",
    " 'Religious Film':[],\n",
    " 'Punk rock':[],\n",
    " 'Exploitation':[],\n",
    " 'Computers':[],\n",
    " 'Business':[],\n",
    " 'Sexploitation':[],\n",
    " 'Gay Interest':[],\n",
    " 'Gay':[],\n",
    " 'Gay Themed':[],\n",
    " 'Outlaw biker film':[],\n",
    " 'Sci-Fi Horror':['Horror','Science Fiction'],\n",
    " 'Race movie':[],\n",
    " 'Educational':[],\n",
    "'Crime Fiction':['Crime'],\n",
    "'Action/Adventure':['Action','Adventure'],\n",
    "    'Romantics drama':['Romantic','Drama'],\n",
    "    'Comedy-drama':['Comedy','Drama'],\n",
    "    'Comedy-film':['Comedy'],\n",
    "    'Biographical film':['Biography'],\n",
    "    'Biopic [feature]':['Biography'],\n",
    "    \"Children's\":[\"Children's/Family\"],\n",
    "    'Crime Drama':['Drama','Crime'],\n",
    "    'Superhero movie':['Superhero'],\n",
    "    'Crime Thriller':['Crime','Thriller'],\n",
    "    'Action Thrillers':['Thriller'],\n",
    "    'War film':['War']\n",
    "}"
   ]
  },
  {
   "cell_type": "markdown",
   "metadata": {},
   "source": [
    "We can then use this equivalence table to remove the unwanted genres"
   ]
  },
  {
   "cell_type": "code",
   "execution_count": 62,
   "metadata": {
    "tags": []
   },
   "outputs": [
    {
     "name": "stderr",
     "output_type": "stream",
     "text": [
      "C:\\Users\\lucil\\AppData\\Local\\Temp\\ipykernel_21904\\759356878.py:3: SettingWithCopyWarning: \n",
      "A value is trying to be set on a copy of a slice from a DataFrame.\n",
      "Try using .loc[row_indexer,col_indexer] = value instead\n",
      "\n",
      "See the caveats in the documentation: https://pandas.pydata.org/pandas-docs/stable/user_guide/indexing.html#returning-a-view-versus-a-copy\n",
      "  movie_data['genre'] = movie_data['genre'].apply(replace_elements_in_list)\n"
     ]
    }
   ],
   "source": [
    "def replace_elements_in_list(lst):\n",
    "    return [replacement for item in lst for replacement in genre_equivalence.get(item, [item])]\n",
    "movie_data['genre'] = movie_data['genre'].apply(replace_elements_in_list)"
   ]
  },
  {
   "cell_type": "markdown",
   "metadata": {},
   "source": [
    "We now also the modification where we add the genres if not present yet , we do not care about duplicates as we will remove them in a later step"
   ]
  },
  {
   "cell_type": "code",
   "execution_count": 63,
   "metadata": {
    "tags": []
   },
   "outputs": [],
   "source": [
    "genre_equivalence_add={\n",
    "    'Crime Thriller':['Crime','Thriller'],\n",
    "    'Black comedy':['Comedy'],\n",
    "    'Political drama':['Drama'],\n",
    "    'Crime Drama':['Crime','Drama']\n",
    "}"
   ]
  },
  {
   "cell_type": "code",
   "execution_count": 64,
   "metadata": {
    "tags": []
   },
   "outputs": [
    {
     "name": "stderr",
     "output_type": "stream",
     "text": [
      "C:\\Users\\lucil\\AppData\\Local\\Temp\\ipykernel_21904\\1127358969.py:3: SettingWithCopyWarning: \n",
      "A value is trying to be set on a copy of a slice from a DataFrame.\n",
      "Try using .loc[row_indexer,col_indexer] = value instead\n",
      "\n",
      "See the caveats in the documentation: https://pandas.pydata.org/pandas-docs/stable/user_guide/indexing.html#returning-a-view-versus-a-copy\n",
      "  movie_data['genre'] = movie_data['genre'].apply(add_entries_to_list)\n"
     ]
    }
   ],
   "source": [
    "def add_entries_to_list(lst):\n",
    "    return lst + [entry for item in lst for entry in genre_equivalence_add.get(item, [])]\n",
    "movie_data['genre'] = movie_data['genre'].apply(add_entries_to_list)"
   ]
  },
  {
   "cell_type": "markdown",
   "metadata": {},
   "source": [
    "We now redefine the list of accepted genres and use them to remove all unwanted genres"
   ]
  },
  {
   "cell_type": "code",
   "execution_count": 65,
   "metadata": {
    "tags": []
   },
   "outputs": [],
   "source": [
    "genres_to_keep=['Drama','Comedy','Indie','Thriller','Romance Film','Action','Adventure','Horror',\n",
    "                'Family Film','Documentary','Science Fiction','Romantic comedy','Mystery','Musical',\n",
    "                'Western','Animation','Fantasy','War film','Film adaptation','Biography',\n",
    "                'Psychological thriller','Teen','Sports',\"Children's/Family\",'Parody','Black comedy',\n",
    "                'Family Drama','Biographical film','Cult','LGBT','Coming of age','Slapstick','Music',\n",
    "                'Culture & Society','Melodrama','Supernatural','History','Satire','Political drama',\n",
    "                'Spy','Superhero','Period piece']"
   ]
  },
  {
   "cell_type": "code",
   "execution_count": 66,
   "metadata": {
    "tags": []
   },
   "outputs": [
    {
     "name": "stderr",
     "output_type": "stream",
     "text": [
      "C:\\Users\\lucil\\AppData\\Local\\Temp\\ipykernel_21904\\8070288.py:4: SettingWithCopyWarning: \n",
      "A value is trying to be set on a copy of a slice from a DataFrame.\n",
      "Try using .loc[row_indexer,col_indexer] = value instead\n",
      "\n",
      "See the caveats in the documentation: https://pandas.pydata.org/pandas-docs/stable/user_guide/indexing.html#returning-a-view-versus-a-copy\n",
      "  movie_data['genre']=movie_data['genre'].apply(filter_elements_in_list)\n"
     ]
    }
   ],
   "source": [
    "def filter_elements_in_list(lst):\n",
    "    return [item for item in lst if item in genres_to_keep]\n",
    "\n",
    "movie_data['genre']=movie_data['genre'].apply(filter_elements_in_list)"
   ]
  },
  {
   "cell_type": "markdown",
   "metadata": {},
   "source": [
    "#### Removing duplicates"
   ]
  },
  {
   "cell_type": "code",
   "execution_count": 67,
   "metadata": {
    "tags": []
   },
   "outputs": [
    {
     "name": "stderr",
     "output_type": "stream",
     "text": [
      "C:\\Users\\lucil\\AppData\\Local\\Temp\\ipykernel_21904\\354113090.py:1: SettingWithCopyWarning: \n",
      "A value is trying to be set on a copy of a slice from a DataFrame.\n",
      "Try using .loc[row_indexer,col_indexer] = value instead\n",
      "\n",
      "See the caveats in the documentation: https://pandas.pydata.org/pandas-docs/stable/user_guide/indexing.html#returning-a-view-versus-a-copy\n",
      "  movie_data['genre']=movie_data['genre'].apply(lambda x: list(set(x)))\n"
     ]
    }
   ],
   "source": [
    "movie_data['genre']=movie_data['genre'].apply(lambda x: list(set(x)))"
   ]
  },
  {
   "cell_type": "code",
   "execution_count": 68,
   "outputs": [
    {
     "data": {
      "text/plain": "       wikipedia_ID freebase_ID  runtime    IMDB_ID  \\\n0          975900.0   /m/03vyhn     98.0  tt0228333   \n1         3196793.0   /m/08yl5d     95.0  tt0245916   \n2        13696889.0  /m/03cfc81     35.0  tt0002894   \n3        10408933.0  /m/02qc0j7    106.0  tt0029852   \n4          175026.0   /m/017n1p     86.0  tt0021335   \n...             ...         ...      ...        ...   \n54133           NaN         NaN      NaN  tt9913288   \n54134           NaN         NaN      NaN  tt9914522   \n54135           NaN         NaN      NaN  tt9914582   \n54136           NaN         NaN      NaN  tt9914642   \n54137           NaN         NaN      NaN  tt2342071   \n\n                                                    name  release_date  \\\n0                                         Ghosts of Mars        2001.0   \n1      Getting Away with Murder: The JonBenét Ramsey ...        2000.0   \n2                                          The Gangsters        1913.0   \n3                               Alexander's Ragtime Band        1938.0   \n4                                          Sarah and Son        1930.0   \n...                                                  ...           ...   \n54133                                            Letters        2020.0   \n54134                             The Holden Family Plan        2019.0   \n54135                                       However Long        2019.0   \n54136                                          Albatross        2017.0   \n54137                      Dorothy and the Witches of Oz        2011.0   \n\n                                                   genre  \\\n0      [Thriller, Supernatural, Action, Adventure, Ho...   \n1                            [Mystery, Drama, Biography]   \n2                                        [Indie, Comedy]   \n3                                      [Comedy, Musical]   \n4                                                [Drama]   \n...                                                  ...   \n54133                                            [Drama]   \n54134                                            [Drama]   \n54135                                      [Documentary]   \n54136                                      [Documentary]   \n54137                                  [Action, Fantasy]   \n\n                                            plot_summary  box_office_revenue  \\\n0      Set in the second half of the 22nd century, th...          14010832.0   \n1                                                    NaN                 NaN   \n2                                                    NaN                 NaN   \n3                                                    NaN           3600000.0   \n4                                                    NaN                 NaN   \n...                                                  ...                 ...   \n54133  [\"Charlie Porter is an ordinary man. He leads ...                 NaN   \n54134  [\"When Mackenzie Holden's sister and brother i...                 NaN   \n54135  ['Documentary following four women with incura...                 NaN   \n54136  [\"ALBATROSS is a powerful visual journey into ...                 NaN   \n54137  ['Dorothy Gale discovers that her best selling...                 NaN   \n\n       popularity  \n0        0.031534  \n1             NaN  \n2             NaN  \n3             NaN  \n4             NaN  \n...           ...  \n54133         NaN  \n54134         NaN  \n54135         NaN  \n54136         NaN  \n54137         NaN  \n\n[53990 rows x 10 columns]",
      "text/html": "<div>\n<style scoped>\n    .dataframe tbody tr th:only-of-type {\n        vertical-align: middle;\n    }\n\n    .dataframe tbody tr th {\n        vertical-align: top;\n    }\n\n    .dataframe thead th {\n        text-align: right;\n    }\n</style>\n<table border=\"1\" class=\"dataframe\">\n  <thead>\n    <tr style=\"text-align: right;\">\n      <th></th>\n      <th>wikipedia_ID</th>\n      <th>freebase_ID</th>\n      <th>runtime</th>\n      <th>IMDB_ID</th>\n      <th>name</th>\n      <th>release_date</th>\n      <th>genre</th>\n      <th>plot_summary</th>\n      <th>box_office_revenue</th>\n      <th>popularity</th>\n    </tr>\n  </thead>\n  <tbody>\n    <tr>\n      <th>0</th>\n      <td>975900.0</td>\n      <td>/m/03vyhn</td>\n      <td>98.0</td>\n      <td>tt0228333</td>\n      <td>Ghosts of Mars</td>\n      <td>2001.0</td>\n      <td>[Thriller, Supernatural, Action, Adventure, Ho...</td>\n      <td>Set in the second half of the 22nd century, th...</td>\n      <td>14010832.0</td>\n      <td>0.031534</td>\n    </tr>\n    <tr>\n      <th>1</th>\n      <td>3196793.0</td>\n      <td>/m/08yl5d</td>\n      <td>95.0</td>\n      <td>tt0245916</td>\n      <td>Getting Away with Murder: The JonBenét Ramsey ...</td>\n      <td>2000.0</td>\n      <td>[Mystery, Drama, Biography]</td>\n      <td>NaN</td>\n      <td>NaN</td>\n      <td>NaN</td>\n    </tr>\n    <tr>\n      <th>2</th>\n      <td>13696889.0</td>\n      <td>/m/03cfc81</td>\n      <td>35.0</td>\n      <td>tt0002894</td>\n      <td>The Gangsters</td>\n      <td>1913.0</td>\n      <td>[Indie, Comedy]</td>\n      <td>NaN</td>\n      <td>NaN</td>\n      <td>NaN</td>\n    </tr>\n    <tr>\n      <th>3</th>\n      <td>10408933.0</td>\n      <td>/m/02qc0j7</td>\n      <td>106.0</td>\n      <td>tt0029852</td>\n      <td>Alexander's Ragtime Band</td>\n      <td>1938.0</td>\n      <td>[Comedy, Musical]</td>\n      <td>NaN</td>\n      <td>3600000.0</td>\n      <td>NaN</td>\n    </tr>\n    <tr>\n      <th>4</th>\n      <td>175026.0</td>\n      <td>/m/017n1p</td>\n      <td>86.0</td>\n      <td>tt0021335</td>\n      <td>Sarah and Son</td>\n      <td>1930.0</td>\n      <td>[Drama]</td>\n      <td>NaN</td>\n      <td>NaN</td>\n      <td>NaN</td>\n    </tr>\n    <tr>\n      <th>...</th>\n      <td>...</td>\n      <td>...</td>\n      <td>...</td>\n      <td>...</td>\n      <td>...</td>\n      <td>...</td>\n      <td>...</td>\n      <td>...</td>\n      <td>...</td>\n      <td>...</td>\n    </tr>\n    <tr>\n      <th>54133</th>\n      <td>NaN</td>\n      <td>NaN</td>\n      <td>NaN</td>\n      <td>tt9913288</td>\n      <td>Letters</td>\n      <td>2020.0</td>\n      <td>[Drama]</td>\n      <td>[\"Charlie Porter is an ordinary man. He leads ...</td>\n      <td>NaN</td>\n      <td>NaN</td>\n    </tr>\n    <tr>\n      <th>54134</th>\n      <td>NaN</td>\n      <td>NaN</td>\n      <td>NaN</td>\n      <td>tt9914522</td>\n      <td>The Holden Family Plan</td>\n      <td>2019.0</td>\n      <td>[Drama]</td>\n      <td>[\"When Mackenzie Holden's sister and brother i...</td>\n      <td>NaN</td>\n      <td>NaN</td>\n    </tr>\n    <tr>\n      <th>54135</th>\n      <td>NaN</td>\n      <td>NaN</td>\n      <td>NaN</td>\n      <td>tt9914582</td>\n      <td>However Long</td>\n      <td>2019.0</td>\n      <td>[Documentary]</td>\n      <td>['Documentary following four women with incura...</td>\n      <td>NaN</td>\n      <td>NaN</td>\n    </tr>\n    <tr>\n      <th>54136</th>\n      <td>NaN</td>\n      <td>NaN</td>\n      <td>NaN</td>\n      <td>tt9914642</td>\n      <td>Albatross</td>\n      <td>2017.0</td>\n      <td>[Documentary]</td>\n      <td>[\"ALBATROSS is a powerful visual journey into ...</td>\n      <td>NaN</td>\n      <td>NaN</td>\n    </tr>\n    <tr>\n      <th>54137</th>\n      <td>NaN</td>\n      <td>NaN</td>\n      <td>NaN</td>\n      <td>tt2342071</td>\n      <td>Dorothy and the Witches of Oz</td>\n      <td>2011.0</td>\n      <td>[Action, Fantasy]</td>\n      <td>['Dorothy Gale discovers that her best selling...</td>\n      <td>NaN</td>\n      <td>NaN</td>\n    </tr>\n  </tbody>\n</table>\n<p>53990 rows × 10 columns</p>\n</div>"
     },
     "execution_count": 68,
     "metadata": {},
     "output_type": "execute_result"
    }
   ],
   "source": [
    "movie_data"
   ],
   "metadata": {
    "collapsed": false
   }
  },
  {
   "cell_type": "markdown",
   "source": [
    "**Missing values**"
   ],
   "metadata": {
    "collapsed": false
   }
  },
  {
   "cell_type": "code",
   "execution_count": 69,
   "outputs": [
    {
     "data": {
      "text/plain": "wikipedia_ID           55.941841\nfreebase_ID            55.941841\nruntime                49.557325\nIMDB_ID               100.000000\nname                  100.000000\nrelease_date          100.000000\ngenre                 100.000000\nplot_summary           75.617707\nbox_office_revenue     14.098907\npopularity             12.598629\ndtype: float64"
     },
     "execution_count": 69,
     "metadata": {},
     "output_type": "execute_result"
    }
   ],
   "source": [
    "number_of_data_movie = movie_data.count()\n",
    "proportion_of_each_data_movie = number_of_data_movie/number_of_data_movie['release_date']*100\n",
    "proportion_of_each_data_movie"
   ],
   "metadata": {
    "collapsed": false
   }
  },
  {
   "cell_type": "markdown",
   "source": [
    "In our dataset from 1912 to 2022 we have less than 50% of box office revenue and movie run time. We are not planning to use the movie run time in our analysis so we do not need to complement this. For the box-office revenue, we would ideally have liked to use it in our analysis to see if is was linked to gender representation. However, even after complementing with wikidata, we still only have 14% of the revenues. We unfortunately were not able to find other datasets that could complete our data for all years (most datasets do not offer movie revenues before 1980). We thus need to keep in mind that we do not have a lot of box-office data when using this variable in our analysis. Other variables of interest (genre, release date, plot summary) are all above 70% complete. We thus concluded that we do not need to further complement the movie dataset"
   ],
   "metadata": {
    "collapsed": false
   }
  },
  {
   "cell_type": "markdown",
   "source": [
    "We now have a data sets containing movies until 2022 that is ready for our analysis! We will save it so that we do not have to re-run this part of the code and can easily use it in other notebooks."
   ],
   "metadata": {
    "collapsed": false
   }
  },
  {
   "cell_type": "markdown",
   "source": [
    "As a general thought, it is important to remember that the movies released in a given year does not portray society at this given year but society from a few years before as movies take time to be produced. This is especially true for movies that are released in the beginning of the year. For instance, the movies released in 2022 will portray society in 2020-2021. This is important to keep in mind when analyzing the data. Thus, to take this into account, we will focus on the decade in which the movie has been released in rather than the exact year."
   ],
   "metadata": {
    "collapsed": false
   }
  },
  {
   "cell_type": "code",
   "execution_count": 70,
   "outputs": [
    {
     "name": "stderr",
     "output_type": "stream",
     "text": [
      "C:\\Users\\lucil\\AppData\\Local\\Temp\\ipykernel_21904\\1696233519.py:2: SettingWithCopyWarning: \n",
      "A value is trying to be set on a copy of a slice from a DataFrame.\n",
      "Try using .loc[row_indexer,col_indexer] = value instead\n",
      "\n",
      "See the caveats in the documentation: https://pandas.pydata.org/pandas-docs/stable/user_guide/indexing.html#returning-a-view-versus-a-copy\n",
      "  movie_data['decade'] = np.floor((movie_data['release_date']/10))*10\n"
     ]
    }
   ],
   "source": [
    "# add decade column\n",
    "movie_data['decade'] = np.floor((movie_data['release_date']/10))*10\n",
    "# move IMDB ID in first position\n",
    "movie_data.insert(0, 'IMDB_ID', movie_data.pop('IMDB_ID'))\n",
    "movie_data.to_csv(data_folder + 'movie_data.csv', index=False)"
   ],
   "metadata": {
    "collapsed": false
   }
  },
  {
   "cell_type": "markdown",
   "metadata": {
    "tags": []
   },
   "source": [
    "## 5.5) Complementing characters' data\n",
    "<a id='subsection-5.5'></a>\n",
    "To complete the character dataset the following folders need to be downloaded from https://datasets.imdbws.com/, unzipped and placed in the /DATA folder:\n",
    "- title.principals.tsv.gz\n",
    "- name.basics.tsv.gz\n",
    "\n",
    "We will not only complement characters for the year 2010-2022 but for all movies contained in our final movie dataset. We can afford to do this since all the information needed on characters and actors are present in the two files title.principals.tsv.gz and name.basics.tsv.gz and thus we do not need time-consuming queries using Cinemagoer."
   ]
  },
  {
   "cell_type": "code",
   "execution_count": 71,
   "metadata": {
    "collapsed": false,
    "jupyter": {
     "outputs_hidden": false
    },
    "tags": []
   },
   "outputs": [
    {
     "name": "stderr",
     "output_type": "stream",
     "text": [
      "C:\\Users\\lucil\\OneDrive\\Documents\\EPFL\\MA3\\ADA\\ada-2023-project-badabob\\helpers.py:284: SettingWithCopyWarning: \n",
      "A value is trying to be set on a copy of a slice from a DataFrame.\n",
      "Try using .loc[row_indexer,col_indexer] = value instead\n",
      "\n",
      "See the caveats in the documentation: https://pandas.pydata.org/pandas-docs/stable/user_guide/indexing.html#returning-a-view-versus-a-copy\n",
      "  characters_data.loc[characters_data['category'] == 'actor', 'actor_gender'] = 'M'\n"
     ]
    }
   ],
   "source": [
    "# load characters info\n",
    "characters_data = pd.read_csv(data_folder + 'title.principals.tsv/data.tsv', sep='\\t')\n",
    "# only keep characters of the movies in our final dataset\n",
    "IMDB_ids = movie_data['IMDB_ID']\n",
    "characters_data_filtered = clean_IMDB_character_dataset(characters_data, IMDB_ids)"
   ]
  },
  {
   "cell_type": "code",
   "execution_count": 72,
   "metadata": {
    "collapsed": false,
    "jupyter": {
     "outputs_hidden": false
    },
    "tags": []
   },
   "outputs": [],
   "source": [
    "# load actors info\n",
    "actors_data = pd.read_csv(data_folder + 'name.basics.tsv/data.tsv', sep='\\t')\n",
    "# remove useless columns\n",
    "actors_data = actors_data.drop(columns=['deathYear', 'primaryProfession', 'knownForTitles'])"
   ]
  },
  {
   "cell_type": "markdown",
   "metadata": {},
   "source": [
    "We now need to merge all the information we have on the characters and the actors. There are some information we still need to add to the dataframe: release date, actor age, movie name. These will be added by merging with the movie dataset created above."
   ]
  },
  {
   "cell_type": "code",
   "execution_count": 73,
   "metadata": {
    "collapsed": false,
    "jupyter": {
     "outputs_hidden": false
    },
    "tags": []
   },
   "outputs": [],
   "source": [
    "# merge actor data and movie data on character data\n",
    "IMDB_characters_data = merge_datasets_characters(characters_data_filtered, actors_data, movie_data)\n",
    "IMDB_characters_data.loc[IMDB_characters_data['character_name'] == '\\\\N', 'character_name'] = None"
   ]
  },
  {
   "cell_type": "code",
   "execution_count": 74,
   "metadata": {
    "collapsed": false,
    "jupyter": {
     "outputs_hidden": false
    },
    "tags": []
   },
   "outputs": [
    {
     "data": {
      "text/plain": "          IMDB_ID actor_IMDB_ID                 character_name actor_gender  \\\n0       tt0000488     nm0177886                   The Minister            M   \n1       tt0000488     nm0298300               Joe, the Newsboy            M   \n2       tt0000488     nm0065035              Joe's Grandmother            F   \n3       tt0000488     nm0250480  Manager of the Fresh Air Fund            M   \n4       tt0000488     nm0422465                Committee Woman            F   \n...           ...           ...                            ...          ...   \n192348  tt9914522     nm7997361                           Evan            M   \n192349  tt9914522     nm2246717                      Mackenzie            F   \n192350  tt9914522    nm10172541                     Evan's dad            M   \n192351  tt9914522    nm10537291                           Todd            M   \n192352  tt9914522    nm10233639                         Kelsey            F   \n\n                  actor_name  runtime                    name  release_date  \\\n0             Bigelow Cooper      NaN  Land Beyond the Sunset        1912.0   \n1              Martin Fuller      NaN  Land Beyond the Sunset        1912.0   \n2       Mrs. William Bechtel      NaN  Land Beyond the Sunset        1912.0   \n3               Walter Edwin      NaN  Land Beyond the Sunset        1912.0   \n4               Ethel Jewett      NaN  Land Beyond the Sunset        1912.0   \n...                      ...      ...                     ...           ...   \n192348         Caleb Silvers      NaN  The Holden Family Plan        2019.0   \n192349      Bethany Hazelitt      NaN  The Holden Family Plan        2019.0   \n192350          Joshua Bootz      NaN  The Holden Family Plan        2019.0   \n192351           Vince Camaj      NaN  The Holden Family Plan        2019.0   \n192352        Sandra Gendjar      NaN  The Holden Family Plan        2019.0   \n\n        box_office_revenue  popularity  decade  actor_age  \n0                      NaN         NaN  1910.0       34.0  \n1                      NaN         NaN  1910.0        NaN  \n2                      NaN         NaN  1910.0       51.0  \n3                      NaN         NaN  1910.0       44.0  \n4                      NaN         NaN  1910.0       35.0  \n...                    ...         ...     ...        ...  \n192348                 NaN         NaN  2010.0       24.0  \n192349                 NaN         NaN  2010.0       29.0  \n192350                 NaN         NaN  2010.0        NaN  \n192351                 NaN         NaN  2010.0        NaN  \n192352                 NaN         NaN  2010.0        NaN  \n\n[192353 rows x 12 columns]",
      "text/html": "<div>\n<style scoped>\n    .dataframe tbody tr th:only-of-type {\n        vertical-align: middle;\n    }\n\n    .dataframe tbody tr th {\n        vertical-align: top;\n    }\n\n    .dataframe thead th {\n        text-align: right;\n    }\n</style>\n<table border=\"1\" class=\"dataframe\">\n  <thead>\n    <tr style=\"text-align: right;\">\n      <th></th>\n      <th>IMDB_ID</th>\n      <th>actor_IMDB_ID</th>\n      <th>character_name</th>\n      <th>actor_gender</th>\n      <th>actor_name</th>\n      <th>runtime</th>\n      <th>name</th>\n      <th>release_date</th>\n      <th>box_office_revenue</th>\n      <th>popularity</th>\n      <th>decade</th>\n      <th>actor_age</th>\n    </tr>\n  </thead>\n  <tbody>\n    <tr>\n      <th>0</th>\n      <td>tt0000488</td>\n      <td>nm0177886</td>\n      <td>The Minister</td>\n      <td>M</td>\n      <td>Bigelow Cooper</td>\n      <td>NaN</td>\n      <td>Land Beyond the Sunset</td>\n      <td>1912.0</td>\n      <td>NaN</td>\n      <td>NaN</td>\n      <td>1910.0</td>\n      <td>34.0</td>\n    </tr>\n    <tr>\n      <th>1</th>\n      <td>tt0000488</td>\n      <td>nm0298300</td>\n      <td>Joe, the Newsboy</td>\n      <td>M</td>\n      <td>Martin Fuller</td>\n      <td>NaN</td>\n      <td>Land Beyond the Sunset</td>\n      <td>1912.0</td>\n      <td>NaN</td>\n      <td>NaN</td>\n      <td>1910.0</td>\n      <td>NaN</td>\n    </tr>\n    <tr>\n      <th>2</th>\n      <td>tt0000488</td>\n      <td>nm0065035</td>\n      <td>Joe's Grandmother</td>\n      <td>F</td>\n      <td>Mrs. William Bechtel</td>\n      <td>NaN</td>\n      <td>Land Beyond the Sunset</td>\n      <td>1912.0</td>\n      <td>NaN</td>\n      <td>NaN</td>\n      <td>1910.0</td>\n      <td>51.0</td>\n    </tr>\n    <tr>\n      <th>3</th>\n      <td>tt0000488</td>\n      <td>nm0250480</td>\n      <td>Manager of the Fresh Air Fund</td>\n      <td>M</td>\n      <td>Walter Edwin</td>\n      <td>NaN</td>\n      <td>Land Beyond the Sunset</td>\n      <td>1912.0</td>\n      <td>NaN</td>\n      <td>NaN</td>\n      <td>1910.0</td>\n      <td>44.0</td>\n    </tr>\n    <tr>\n      <th>4</th>\n      <td>tt0000488</td>\n      <td>nm0422465</td>\n      <td>Committee Woman</td>\n      <td>F</td>\n      <td>Ethel Jewett</td>\n      <td>NaN</td>\n      <td>Land Beyond the Sunset</td>\n      <td>1912.0</td>\n      <td>NaN</td>\n      <td>NaN</td>\n      <td>1910.0</td>\n      <td>35.0</td>\n    </tr>\n    <tr>\n      <th>...</th>\n      <td>...</td>\n      <td>...</td>\n      <td>...</td>\n      <td>...</td>\n      <td>...</td>\n      <td>...</td>\n      <td>...</td>\n      <td>...</td>\n      <td>...</td>\n      <td>...</td>\n      <td>...</td>\n      <td>...</td>\n    </tr>\n    <tr>\n      <th>192348</th>\n      <td>tt9914522</td>\n      <td>nm7997361</td>\n      <td>Evan</td>\n      <td>M</td>\n      <td>Caleb Silvers</td>\n      <td>NaN</td>\n      <td>The Holden Family Plan</td>\n      <td>2019.0</td>\n      <td>NaN</td>\n      <td>NaN</td>\n      <td>2010.0</td>\n      <td>24.0</td>\n    </tr>\n    <tr>\n      <th>192349</th>\n      <td>tt9914522</td>\n      <td>nm2246717</td>\n      <td>Mackenzie</td>\n      <td>F</td>\n      <td>Bethany Hazelitt</td>\n      <td>NaN</td>\n      <td>The Holden Family Plan</td>\n      <td>2019.0</td>\n      <td>NaN</td>\n      <td>NaN</td>\n      <td>2010.0</td>\n      <td>29.0</td>\n    </tr>\n    <tr>\n      <th>192350</th>\n      <td>tt9914522</td>\n      <td>nm10172541</td>\n      <td>Evan's dad</td>\n      <td>M</td>\n      <td>Joshua Bootz</td>\n      <td>NaN</td>\n      <td>The Holden Family Plan</td>\n      <td>2019.0</td>\n      <td>NaN</td>\n      <td>NaN</td>\n      <td>2010.0</td>\n      <td>NaN</td>\n    </tr>\n    <tr>\n      <th>192351</th>\n      <td>tt9914522</td>\n      <td>nm10537291</td>\n      <td>Todd</td>\n      <td>M</td>\n      <td>Vince Camaj</td>\n      <td>NaN</td>\n      <td>The Holden Family Plan</td>\n      <td>2019.0</td>\n      <td>NaN</td>\n      <td>NaN</td>\n      <td>2010.0</td>\n      <td>NaN</td>\n    </tr>\n    <tr>\n      <th>192352</th>\n      <td>tt9914522</td>\n      <td>nm10233639</td>\n      <td>Kelsey</td>\n      <td>F</td>\n      <td>Sandra Gendjar</td>\n      <td>NaN</td>\n      <td>The Holden Family Plan</td>\n      <td>2019.0</td>\n      <td>NaN</td>\n      <td>NaN</td>\n      <td>2010.0</td>\n      <td>NaN</td>\n    </tr>\n  </tbody>\n</table>\n<p>192353 rows × 12 columns</p>\n</div>"
     },
     "execution_count": 74,
     "metadata": {},
     "output_type": "execute_result"
    }
   ],
   "source": [
    "IMDB_characters_data"
   ]
  },
  {
   "cell_type": "markdown",
   "metadata": {},
   "source": [
    "We can now merge this IMDB character dataset with the provided character dataset"
   ]
  },
  {
   "cell_type": "code",
   "execution_count": 75,
   "metadata": {
    "collapsed": false,
    "jupyter": {
     "outputs_hidden": false
    },
    "tags": []
   },
   "outputs": [],
   "source": [
    "provided_characters = provided_character_data_full"
   ]
  },
  {
   "cell_type": "code",
   "execution_count": 76,
   "metadata": {
    "collapsed": false,
    "jupyter": {
     "outputs_hidden": false
    },
    "tags": []
   },
   "outputs": [],
   "source": [
    "#first put all strings in lower case\n",
    "provided_characters['actor_name'] = name_to_lowercase(provided_characters, 'actor_name')\n",
    "IMDB_characters_data['actor_name'] = name_to_lowercase(IMDB_characters_data, 'actor_name')"
   ]
  },
  {
   "cell_type": "markdown",
   "metadata": {},
   "source": [
    "We do not have a unique character ID that we could use to match the characters in both datasets. We thus perform the merge on multiple columns (IMDB_ID and actor name). We decided to not use the \"character name\" column since it would assume that, for the same character, the character name is the same in both datasets. This is not true. Sometimes the characters are identified only by their first names or only by their last names, sometimes by their nicknames and sometimes by their first and last names in both datasets.\n",
    "\n",
    "Additionally, in the provided dataset, sometimes a character is present twice because it has 2 different names and this is not the case in the IMDB dataset. After the merge, when we have information on characters from both datasets, we will keep only the character name of the IMDB dataset and then remove duplicates. This should remove characters that are doubled in the provided dataset because they have two different names.\n",
    "\n",
    "One caveat of this merge method is that the merge will not be accurate if one actor plays two different characters in the same movie. However, we are assuming that this event is rare enough and that we have enough data so that it doesn't influence our analysis too much."
   ]
  },
  {
   "cell_type": "code",
   "execution_count": 77,
   "metadata": {
    "collapsed": false,
    "jupyter": {
     "outputs_hidden": false
    },
    "tags": []
   },
   "outputs": [],
   "source": [
    "# merge datasets\n",
    "characters_data = pd.merge(provided_characters, IMDB_characters_data,\n",
    "                           on=['IMDB_ID', 'actor_name'], how='outer').copy()\n",
    "# remove columns that were duplicated\n",
    "duplicated_cols = ['actor_gender', 'actor_age', 'release_date', 'character_name', 'name']\n",
    "characters_data= remove_duplicated_columns(characters_data, duplicated_cols)\n",
    "# change NA to None\n",
    "characters_data['actor_gender'].replace('NA', None, inplace=True)\n",
    "characters_data = characters_data.drop_duplicates(subset=['character_name', 'actor_name', 'IMDB_ID'])"
   ]
  },
  {
   "cell_type": "code",
   "execution_count": 78,
   "metadata": {
    "collapsed": false,
    "jupyter": {
     "outputs_hidden": false
    },
    "tags": []
   },
   "outputs": [
    {
     "data": {
      "text/plain": "        wikipedia_ID freebase_ID actor_birthday  actor_height actor_ethnicity  \\\n0           975900.0   /m/03vyhn     1958-08-26         1.620             NaN   \n1           975900.0   /m/03vyhn     1974-08-15         1.780      /m/044038p   \n2           975900.0   /m/03vyhn     1969-06-15         1.727         /m/0x67   \n3           975900.0   /m/03vyhn     1967-09-12         1.750             NaN   \n4           975900.0   /m/03vyhn     1977-09-25         1.650             NaN   \n...              ...         ...            ...           ...             ...   \n339150           NaN         NaN            NaN           NaN             NaN   \n339151           NaN         NaN            NaN           NaN             NaN   \n339152           NaN         NaN            NaN           NaN             NaN   \n339153           NaN         NaN            NaN           NaN             NaN   \n339154           NaN         NaN            NaN           NaN             NaN   \n\n                actor_name freebase_character_actor_mapID  \\\n0           wanda de jesus                     /m/0bgchxw   \n1       natasha henstridge                      /m/0jys3m   \n2                 ice cube                      /m/0jys3g   \n3            jason statham                     /m/02vchl6   \n4              clea duvall                     /m/02vbb3r   \n...                    ...                            ...   \n339150       caleb silvers                            NaN   \n339151    bethany hazelitt                            NaN   \n339152        joshua bootz                            NaN   \n339153         vince camaj                            NaN   \n339154      sandra gendjar                            NaN   \n\n       freebase_character_ID freebase_actor_ID personnas  ... actor_IMDB_ID  \\\n0                 /m/0bgcj3x        /m/03wcfv7       NaN  ...           NaN   \n1                 /m/0bgchn4         /m/0346l4       NaN  ...     nm0000449   \n2                 /m/0bgchn_        /m/01vw26l       NaN  ...     nm0001084   \n3                 /m/0bgchnq         /m/034hyc       NaN  ...     nm0005458   \n4                 /m/0bgchp9         /m/01y9xg       NaN  ...           NaN   \n...                      ...               ...       ...  ...           ...   \n339150                   NaN               NaN       NaN  ...     nm7997361   \n339151                   NaN               NaN       NaN  ...     nm2246717   \n339152                   NaN               NaN       NaN  ...    nm10172541   \n339153                   NaN               NaN       NaN  ...    nm10537291   \n339154                   NaN               NaN       NaN  ...    nm10233639   \n\n                    character_name actor_gender runtime  \\\n0                         Akooshay            F     NaN   \n1       Lieutenant Melanie Ballard            F    98.0   \n2              Desolation Williams            M    98.0   \n3               Sgt Jericho Butler            M    98.0   \n4                  Bashira Kincaid            F     NaN   \n...                            ...          ...     ...   \n339150                        Evan            M     NaN   \n339151                   Mackenzie            F     NaN   \n339152                  Evan's dad            M     NaN   \n339153                        Todd            M     NaN   \n339154                      Kelsey            F     NaN   \n\n                          name release_date  box_office_revenue  popularity  \\\n0               Ghosts of Mars       2001.0                 NaN         NaN   \n1               Ghosts of Mars       2001.0          14010832.0    0.031534   \n2               Ghosts of Mars       2001.0          14010832.0    0.031534   \n3               Ghosts of Mars       2001.0          14010832.0    0.031534   \n4               Ghosts of Mars       2001.0                 NaN         NaN   \n...                        ...          ...                 ...         ...   \n339150  The Holden Family Plan       2019.0                 NaN         NaN   \n339151  The Holden Family Plan       2019.0                 NaN         NaN   \n339152  The Holden Family Plan       2019.0                 NaN         NaN   \n339153  The Holden Family Plan       2019.0                 NaN         NaN   \n339154  The Holden Family Plan       2019.0                 NaN         NaN   \n\n        decade  actor_age  \n0          NaN       42.0  \n1       2000.0       27.0  \n2       2000.0       32.0  \n3       2000.0       34.0  \n4          NaN       23.0  \n...        ...        ...  \n339150  2010.0       24.0  \n339151  2010.0       29.0  \n339152  2010.0        NaN  \n339153  2010.0        NaN  \n339154  2010.0        NaN  \n\n[337569 rows x 21 columns]",
      "text/html": "<div>\n<style scoped>\n    .dataframe tbody tr th:only-of-type {\n        vertical-align: middle;\n    }\n\n    .dataframe tbody tr th {\n        vertical-align: top;\n    }\n\n    .dataframe thead th {\n        text-align: right;\n    }\n</style>\n<table border=\"1\" class=\"dataframe\">\n  <thead>\n    <tr style=\"text-align: right;\">\n      <th></th>\n      <th>wikipedia_ID</th>\n      <th>freebase_ID</th>\n      <th>actor_birthday</th>\n      <th>actor_height</th>\n      <th>actor_ethnicity</th>\n      <th>actor_name</th>\n      <th>freebase_character_actor_mapID</th>\n      <th>freebase_character_ID</th>\n      <th>freebase_actor_ID</th>\n      <th>personnas</th>\n      <th>...</th>\n      <th>actor_IMDB_ID</th>\n      <th>character_name</th>\n      <th>actor_gender</th>\n      <th>runtime</th>\n      <th>name</th>\n      <th>release_date</th>\n      <th>box_office_revenue</th>\n      <th>popularity</th>\n      <th>decade</th>\n      <th>actor_age</th>\n    </tr>\n  </thead>\n  <tbody>\n    <tr>\n      <th>0</th>\n      <td>975900.0</td>\n      <td>/m/03vyhn</td>\n      <td>1958-08-26</td>\n      <td>1.620</td>\n      <td>NaN</td>\n      <td>wanda de jesus</td>\n      <td>/m/0bgchxw</td>\n      <td>/m/0bgcj3x</td>\n      <td>/m/03wcfv7</td>\n      <td>NaN</td>\n      <td>...</td>\n      <td>NaN</td>\n      <td>Akooshay</td>\n      <td>F</td>\n      <td>NaN</td>\n      <td>Ghosts of Mars</td>\n      <td>2001.0</td>\n      <td>NaN</td>\n      <td>NaN</td>\n      <td>NaN</td>\n      <td>42.0</td>\n    </tr>\n    <tr>\n      <th>1</th>\n      <td>975900.0</td>\n      <td>/m/03vyhn</td>\n      <td>1974-08-15</td>\n      <td>1.780</td>\n      <td>/m/044038p</td>\n      <td>natasha henstridge</td>\n      <td>/m/0jys3m</td>\n      <td>/m/0bgchn4</td>\n      <td>/m/0346l4</td>\n      <td>NaN</td>\n      <td>...</td>\n      <td>nm0000449</td>\n      <td>Lieutenant Melanie Ballard</td>\n      <td>F</td>\n      <td>98.0</td>\n      <td>Ghosts of Mars</td>\n      <td>2001.0</td>\n      <td>14010832.0</td>\n      <td>0.031534</td>\n      <td>2000.0</td>\n      <td>27.0</td>\n    </tr>\n    <tr>\n      <th>2</th>\n      <td>975900.0</td>\n      <td>/m/03vyhn</td>\n      <td>1969-06-15</td>\n      <td>1.727</td>\n      <td>/m/0x67</td>\n      <td>ice cube</td>\n      <td>/m/0jys3g</td>\n      <td>/m/0bgchn_</td>\n      <td>/m/01vw26l</td>\n      <td>NaN</td>\n      <td>...</td>\n      <td>nm0001084</td>\n      <td>Desolation Williams</td>\n      <td>M</td>\n      <td>98.0</td>\n      <td>Ghosts of Mars</td>\n      <td>2001.0</td>\n      <td>14010832.0</td>\n      <td>0.031534</td>\n      <td>2000.0</td>\n      <td>32.0</td>\n    </tr>\n    <tr>\n      <th>3</th>\n      <td>975900.0</td>\n      <td>/m/03vyhn</td>\n      <td>1967-09-12</td>\n      <td>1.750</td>\n      <td>NaN</td>\n      <td>jason statham</td>\n      <td>/m/02vchl6</td>\n      <td>/m/0bgchnq</td>\n      <td>/m/034hyc</td>\n      <td>NaN</td>\n      <td>...</td>\n      <td>nm0005458</td>\n      <td>Sgt Jericho Butler</td>\n      <td>M</td>\n      <td>98.0</td>\n      <td>Ghosts of Mars</td>\n      <td>2001.0</td>\n      <td>14010832.0</td>\n      <td>0.031534</td>\n      <td>2000.0</td>\n      <td>34.0</td>\n    </tr>\n    <tr>\n      <th>4</th>\n      <td>975900.0</td>\n      <td>/m/03vyhn</td>\n      <td>1977-09-25</td>\n      <td>1.650</td>\n      <td>NaN</td>\n      <td>clea duvall</td>\n      <td>/m/02vbb3r</td>\n      <td>/m/0bgchp9</td>\n      <td>/m/01y9xg</td>\n      <td>NaN</td>\n      <td>...</td>\n      <td>NaN</td>\n      <td>Bashira Kincaid</td>\n      <td>F</td>\n      <td>NaN</td>\n      <td>Ghosts of Mars</td>\n      <td>2001.0</td>\n      <td>NaN</td>\n      <td>NaN</td>\n      <td>NaN</td>\n      <td>23.0</td>\n    </tr>\n    <tr>\n      <th>...</th>\n      <td>...</td>\n      <td>...</td>\n      <td>...</td>\n      <td>...</td>\n      <td>...</td>\n      <td>...</td>\n      <td>...</td>\n      <td>...</td>\n      <td>...</td>\n      <td>...</td>\n      <td>...</td>\n      <td>...</td>\n      <td>...</td>\n      <td>...</td>\n      <td>...</td>\n      <td>...</td>\n      <td>...</td>\n      <td>...</td>\n      <td>...</td>\n      <td>...</td>\n      <td>...</td>\n    </tr>\n    <tr>\n      <th>339150</th>\n      <td>NaN</td>\n      <td>NaN</td>\n      <td>NaN</td>\n      <td>NaN</td>\n      <td>NaN</td>\n      <td>caleb silvers</td>\n      <td>NaN</td>\n      <td>NaN</td>\n      <td>NaN</td>\n      <td>NaN</td>\n      <td>...</td>\n      <td>nm7997361</td>\n      <td>Evan</td>\n      <td>M</td>\n      <td>NaN</td>\n      <td>The Holden Family Plan</td>\n      <td>2019.0</td>\n      <td>NaN</td>\n      <td>NaN</td>\n      <td>2010.0</td>\n      <td>24.0</td>\n    </tr>\n    <tr>\n      <th>339151</th>\n      <td>NaN</td>\n      <td>NaN</td>\n      <td>NaN</td>\n      <td>NaN</td>\n      <td>NaN</td>\n      <td>bethany hazelitt</td>\n      <td>NaN</td>\n      <td>NaN</td>\n      <td>NaN</td>\n      <td>NaN</td>\n      <td>...</td>\n      <td>nm2246717</td>\n      <td>Mackenzie</td>\n      <td>F</td>\n      <td>NaN</td>\n      <td>The Holden Family Plan</td>\n      <td>2019.0</td>\n      <td>NaN</td>\n      <td>NaN</td>\n      <td>2010.0</td>\n      <td>29.0</td>\n    </tr>\n    <tr>\n      <th>339152</th>\n      <td>NaN</td>\n      <td>NaN</td>\n      <td>NaN</td>\n      <td>NaN</td>\n      <td>NaN</td>\n      <td>joshua bootz</td>\n      <td>NaN</td>\n      <td>NaN</td>\n      <td>NaN</td>\n      <td>NaN</td>\n      <td>...</td>\n      <td>nm10172541</td>\n      <td>Evan's dad</td>\n      <td>M</td>\n      <td>NaN</td>\n      <td>The Holden Family Plan</td>\n      <td>2019.0</td>\n      <td>NaN</td>\n      <td>NaN</td>\n      <td>2010.0</td>\n      <td>NaN</td>\n    </tr>\n    <tr>\n      <th>339153</th>\n      <td>NaN</td>\n      <td>NaN</td>\n      <td>NaN</td>\n      <td>NaN</td>\n      <td>NaN</td>\n      <td>vince camaj</td>\n      <td>NaN</td>\n      <td>NaN</td>\n      <td>NaN</td>\n      <td>NaN</td>\n      <td>...</td>\n      <td>nm10537291</td>\n      <td>Todd</td>\n      <td>M</td>\n      <td>NaN</td>\n      <td>The Holden Family Plan</td>\n      <td>2019.0</td>\n      <td>NaN</td>\n      <td>NaN</td>\n      <td>2010.0</td>\n      <td>NaN</td>\n    </tr>\n    <tr>\n      <th>339154</th>\n      <td>NaN</td>\n      <td>NaN</td>\n      <td>NaN</td>\n      <td>NaN</td>\n      <td>NaN</td>\n      <td>sandra gendjar</td>\n      <td>NaN</td>\n      <td>NaN</td>\n      <td>NaN</td>\n      <td>NaN</td>\n      <td>...</td>\n      <td>nm10233639</td>\n      <td>Kelsey</td>\n      <td>F</td>\n      <td>NaN</td>\n      <td>The Holden Family Plan</td>\n      <td>2019.0</td>\n      <td>NaN</td>\n      <td>NaN</td>\n      <td>2010.0</td>\n      <td>NaN</td>\n    </tr>\n  </tbody>\n</table>\n<p>337569 rows × 21 columns</p>\n</div>"
     },
     "execution_count": 78,
     "metadata": {},
     "output_type": "execute_result"
    }
   ],
   "source": [
    "characters_data"
   ]
  },
  {
   "cell_type": "markdown",
   "metadata": {},
   "source": [
    "We can now plot the number of characters per year to ensure we have data for every year."
   ]
  },
  {
   "cell_type": "code",
   "execution_count": 79,
   "metadata": {
    "collapsed": false,
    "jupyter": {
     "outputs_hidden": false
    },
    "tags": []
   },
   "outputs": [
    {
     "data": {
      "text/plain": "<Figure size 1000x600 with 1 Axes>",
      "image/png": "[encoded data removed]"
     },
     "metadata": {},
     "output_type": "display_data"
    }
   ],
   "source": [
    "# Group movies by release year\n",
    "char_grouped_by_year = characters_data.groupby(characters_data['release_date'])\n",
    "\n",
    "#number of movies per year\n",
    "number_char_per_year = char_grouped_by_year.size()\n",
    "\n",
    "plt.figure(figsize=(10, 6))\n",
    "number_char_per_year.plot(kind='line', color = 'cornflowerblue')\n",
    "plt.title('Number of Characters per Year in our Dataset')\n",
    "plt.xlabel('Year')\n",
    "plt.ylabel('Number of Characters')\n",
    "plt.grid(True)\n",
    "plt.show()"
   ]
  },
  {
   "cell_type": "markdown",
   "metadata": {},
   "source": [
    "Similarly to what we observe in the movie dataset, we also have many more characters per year from 2010 and later. Again, this should not be a problem since we conduct our analysis separately for each year.\n"
   ]
  },
  {
   "cell_type": "markdown",
   "source": [
    "**Missing values**"
   ],
   "metadata": {
    "collapsed": false
   }
  },
  {
   "cell_type": "code",
   "execution_count": 80,
   "outputs": [
    {
     "data": {
      "text/plain": "wikipedia_ID                       67.690161\nfreebase_ID                        67.690161\nactor_birthday                     55.550717\nactor_height                       31.298786\nactor_ethnicity                    16.751834\nactor_name                         99.857807\nfreebase_character_actor_mapID     67.690161\nfreebase_character_ID              32.422408\nfreebase_actor_ID                  67.605438\npersonnas                           0.122938\nIMDB_ID                           100.000000\nactor_IMDB_ID                      56.967020\ncharacter_name                     75.721704\nactor_gender                       95.460484\nruntime                            30.304323\nname                              100.000000\nrelease_date                      100.000000\nbox_office_revenue                  8.871075\npopularity                          7.907124\ndecade                             56.967020\nactor_age                          66.043683\ndtype: float64"
     },
     "execution_count": 80,
     "metadata": {},
     "output_type": "execute_result"
    }
   ],
   "source": [
    "number_of_data_character= characters_data.count()\n",
    "proportion_of_each_data_character = \\\n",
    "    number_of_data_character*100/characters_data.shape[0]\n",
    "proportion_of_each_data_character"
   ],
   "metadata": {
    "collapsed": false
   }
  },
  {
   "cell_type": "markdown",
   "source": [
    "Variables that are present in less than 50% of the characters are:\n",
    "- actor height\n",
    "- actor ethnicity\n",
    "- Personas\n",
    "\n",
    "Actor heights and ethnicities are not relevant for our analysis for now and thus do not need to be completed.\n",
    "Personas however are central to our analysis and will need to be completed. More information on how exactly is in the ReadMe.\n",
    "Most importantly, the variable central to our analysis, the gender of the actor/actress, is present at 95% and thus do not need to be\n",
    "completed."
   ],
   "metadata": {
    "collapsed": false
   }
  },
  {
   "cell_type": "markdown",
   "source": [
    "We now have a dataset of characters in US movies from 1910 to 2022 ! We will save it so that we do not need to re-run this part of the notebook again.\n",
    "Before saving the data, we will drop columns that are of no use to us. Since we do not have a unique label for the characters we will also create one."
   ],
   "metadata": {
    "collapsed": false
   }
  },
  {
   "cell_type": "code",
   "execution_count": 81,
   "outputs": [],
   "source": [
    "characters_data = characters_data.drop(columns=['actor_birthday', 'actor_height', 'freebase_character_actor_mapID',\n",
    "                                                'freebase_character_ID', 'freebase_actor_ID', 'actor_IMDB_ID',\n",
    "                                                'runtime'])\n",
    "characters_data['character_ID'] = range(1, len(characters_data) + 1)\n",
    "# movie ID to first position\n",
    "characters_data.insert(0, 'character_ID', characters_data.pop('character_ID'))\n",
    "characters_data['decade'] = np.floor((characters_data['release_date']/10))*10"
   ],
   "metadata": {
    "collapsed": false
   }
  },
  {
   "cell_type": "code",
   "execution_count": 82,
   "outputs": [
    {
     "data": {
      "text/plain": "        character_ID  wikipedia_ID freebase_ID actor_ethnicity  \\\n0                  1      975900.0   /m/03vyhn             NaN   \n1                  2      975900.0   /m/03vyhn      /m/044038p   \n2                  3      975900.0   /m/03vyhn         /m/0x67   \n3                  4      975900.0   /m/03vyhn             NaN   \n4                  5      975900.0   /m/03vyhn             NaN   \n...              ...           ...         ...             ...   \n339150        337565           NaN         NaN             NaN   \n339151        337566           NaN         NaN             NaN   \n339152        337567           NaN         NaN             NaN   \n339153        337568           NaN         NaN             NaN   \n339154        337569           NaN         NaN             NaN   \n\n                actor_name personnas    IMDB_ID              character_name  \\\n0           wanda de jesus       NaN  tt0228333                    Akooshay   \n1       natasha henstridge       NaN  tt0228333  Lieutenant Melanie Ballard   \n2                 ice cube       NaN  tt0228333         Desolation Williams   \n3            jason statham       NaN  tt0228333          Sgt Jericho Butler   \n4              clea duvall       NaN  tt0228333             Bashira Kincaid   \n...                    ...       ...        ...                         ...   \n339150       caleb silvers       NaN  tt9914522                        Evan   \n339151    bethany hazelitt       NaN  tt9914522                   Mackenzie   \n339152        joshua bootz       NaN  tt9914522                  Evan's dad   \n339153         vince camaj       NaN  tt9914522                        Todd   \n339154      sandra gendjar       NaN  tt9914522                      Kelsey   \n\n       actor_gender                    name  release_date  box_office_revenue  \\\n0                 F          Ghosts of Mars        2001.0                 NaN   \n1                 F          Ghosts of Mars        2001.0          14010832.0   \n2                 M          Ghosts of Mars        2001.0          14010832.0   \n3                 M          Ghosts of Mars        2001.0          14010832.0   \n4                 F          Ghosts of Mars        2001.0                 NaN   \n...             ...                     ...           ...                 ...   \n339150            M  The Holden Family Plan        2019.0                 NaN   \n339151            F  The Holden Family Plan        2019.0                 NaN   \n339152            M  The Holden Family Plan        2019.0                 NaN   \n339153            M  The Holden Family Plan        2019.0                 NaN   \n339154            F  The Holden Family Plan        2019.0                 NaN   \n\n        popularity  decade  actor_age  \n0              NaN  2000.0       42.0  \n1         0.031534  2000.0       27.0  \n2         0.031534  2000.0       32.0  \n3         0.031534  2000.0       34.0  \n4              NaN  2000.0       23.0  \n...            ...     ...        ...  \n339150         NaN  2010.0       24.0  \n339151         NaN  2010.0       29.0  \n339152         NaN  2010.0        NaN  \n339153         NaN  2010.0        NaN  \n339154         NaN  2010.0        NaN  \n\n[337569 rows x 15 columns]",
      "text/html": "<div>\n<style scoped>\n    .dataframe tbody tr th:only-of-type {\n        vertical-align: middle;\n    }\n\n    .dataframe tbody tr th {\n        vertical-align: top;\n    }\n\n    .dataframe thead th {\n        text-align: right;\n    }\n</style>\n<table border=\"1\" class=\"dataframe\">\n  <thead>\n    <tr style=\"text-align: right;\">\n      <th></th>\n      <th>character_ID</th>\n      <th>wikipedia_ID</th>\n      <th>freebase_ID</th>\n      <th>actor_ethnicity</th>\n      <th>actor_name</th>\n      <th>personnas</th>\n      <th>IMDB_ID</th>\n      <th>character_name</th>\n      <th>actor_gender</th>\n      <th>name</th>\n      <th>release_date</th>\n      <th>box_office_revenue</th>\n      <th>popularity</th>\n      <th>decade</th>\n      <th>actor_age</th>\n    </tr>\n  </thead>\n  <tbody>\n    <tr>\n      <th>0</th>\n      <td>1</td>\n      <td>975900.0</td>\n      <td>/m/03vyhn</td>\n      <td>NaN</td>\n      <td>wanda de jesus</td>\n      <td>NaN</td>\n      <td>tt0228333</td>\n      <td>Akooshay</td>\n      <td>F</td>\n      <td>Ghosts of Mars</td>\n      <td>2001.0</td>\n      <td>NaN</td>\n      <td>NaN</td>\n      <td>2000.0</td>\n      <td>42.0</td>\n    </tr>\n    <tr>\n      <th>1</th>\n      <td>2</td>\n      <td>975900.0</td>\n      <td>/m/03vyhn</td>\n      <td>/m/044038p</td>\n      <td>natasha henstridge</td>\n      <td>NaN</td>\n      <td>tt0228333</td>\n      <td>Lieutenant Melanie Ballard</td>\n      <td>F</td>\n      <td>Ghosts of Mars</td>\n      <td>2001.0</td>\n      <td>14010832.0</td>\n      <td>0.031534</td>\n      <td>2000.0</td>\n      <td>27.0</td>\n    </tr>\n    <tr>\n      <th>2</th>\n      <td>3</td>\n      <td>975900.0</td>\n      <td>/m/03vyhn</td>\n      <td>/m/0x67</td>\n      <td>ice cube</td>\n      <td>NaN</td>\n      <td>tt0228333</td>\n      <td>Desolation Williams</td>\n      <td>M</td>\n      <td>Ghosts of Mars</td>\n      <td>2001.0</td>\n      <td>14010832.0</td>\n      <td>0.031534</td>\n      <td>2000.0</td>\n      <td>32.0</td>\n    </tr>\n    <tr>\n      <th>3</th>\n      <td>4</td>\n      <td>975900.0</td>\n      <td>/m/03vyhn</td>\n      <td>NaN</td>\n      <td>jason statham</td>\n      <td>NaN</td>\n      <td>tt0228333</td>\n      <td>Sgt Jericho Butler</td>\n      <td>M</td>\n      <td>Ghosts of Mars</td>\n      <td>2001.0</td>\n      <td>14010832.0</td>\n      <td>0.031534</td>\n      <td>2000.0</td>\n      <td>34.0</td>\n    </tr>\n    <tr>\n      <th>4</th>\n      <td>5</td>\n      <td>975900.0</td>\n      <td>/m/03vyhn</td>\n      <td>NaN</td>\n      <td>clea duvall</td>\n      <td>NaN</td>\n      <td>tt0228333</td>\n      <td>Bashira Kincaid</td>\n      <td>F</td>\n      <td>Ghosts of Mars</td>\n      <td>2001.0</td>\n      <td>NaN</td>\n      <td>NaN</td>\n      <td>2000.0</td>\n      <td>23.0</td>\n    </tr>\n    <tr>\n      <th>...</th>\n      <td>...</td>\n      <td>...</td>\n      <td>...</td>\n      <td>...</td>\n      <td>...</td>\n      <td>...</td>\n      <td>...</td>\n      <td>...</td>\n      <td>...</td>\n      <td>...</td>\n      <td>...</td>\n      <td>...</td>\n      <td>...</td>\n      <td>...</td>\n      <td>...</td>\n    </tr>\n    <tr>\n      <th>339150</th>\n      <td>337565</td>\n      <td>NaN</td>\n      <td>NaN</td>\n      <td>NaN</td>\n      <td>caleb silvers</td>\n      <td>NaN</td>\n      <td>tt9914522</td>\n      <td>Evan</td>\n      <td>M</td>\n      <td>The Holden Family Plan</td>\n      <td>2019.0</td>\n      <td>NaN</td>\n      <td>NaN</td>\n      <td>2010.0</td>\n      <td>24.0</td>\n    </tr>\n    <tr>\n      <th>339151</th>\n      <td>337566</td>\n      <td>NaN</td>\n      <td>NaN</td>\n      <td>NaN</td>\n      <td>bethany hazelitt</td>\n      <td>NaN</td>\n      <td>tt9914522</td>\n      <td>Mackenzie</td>\n      <td>F</td>\n      <td>The Holden Family Plan</td>\n      <td>2019.0</td>\n      <td>NaN</td>\n      <td>NaN</td>\n      <td>2010.0</td>\n      <td>29.0</td>\n    </tr>\n    <tr>\n      <th>339152</th>\n      <td>337567</td>\n      <td>NaN</td>\n      <td>NaN</td>\n      <td>NaN</td>\n      <td>joshua bootz</td>\n      <td>NaN</td>\n      <td>tt9914522</td>\n      <td>Evan's dad</td>\n      <td>M</td>\n      <td>The Holden Family Plan</td>\n      <td>2019.0</td>\n      <td>NaN</td>\n      <td>NaN</td>\n      <td>2010.0</td>\n      <td>NaN</td>\n    </tr>\n    <tr>\n      <th>339153</th>\n      <td>337568</td>\n      <td>NaN</td>\n      <td>NaN</td>\n      <td>NaN</td>\n      <td>vince camaj</td>\n      <td>NaN</td>\n      <td>tt9914522</td>\n      <td>Todd</td>\n      <td>M</td>\n      <td>The Holden Family Plan</td>\n      <td>2019.0</td>\n      <td>NaN</td>\n      <td>NaN</td>\n      <td>2010.0</td>\n      <td>NaN</td>\n    </tr>\n    <tr>\n      <th>339154</th>\n      <td>337569</td>\n      <td>NaN</td>\n      <td>NaN</td>\n      <td>NaN</td>\n      <td>sandra gendjar</td>\n      <td>NaN</td>\n      <td>tt9914522</td>\n      <td>Kelsey</td>\n      <td>F</td>\n      <td>The Holden Family Plan</td>\n      <td>2019.0</td>\n      <td>NaN</td>\n      <td>NaN</td>\n      <td>2010.0</td>\n      <td>NaN</td>\n    </tr>\n  </tbody>\n</table>\n<p>337569 rows × 15 columns</p>\n</div>"
     },
     "execution_count": 82,
     "metadata": {},
     "output_type": "execute_result"
    }
   ],
   "source": [
    "characters_data"
   ],
   "metadata": {
    "collapsed": false
   }
  },
  {
   "cell_type": "code",
   "execution_count": 83,
   "outputs": [],
   "source": [
    "characters_data.to_csv(data_folder + 'characters_data.csv', index=False)"
   ],
   "metadata": {
    "collapsed": false
   }
  },
  {
   "cell_type": "markdown",
   "metadata": {},
   "source": [
    "# 6) Identifying Main Characters\n",
    "<a id='section-6'></a>\n",
    "We are interested in determining the gender ratio in main characters throughout the years. We made the hypothesis that the female/male ratio will be lower than 0.5 and increasing in recent years. We also hope to see some years with sharp increases that we can correlate to historical events. We perform this analysis using the fuzzywuzzy library to extract the 3 most mentioned names in the movie summary. We assume these characters to be the main characters and then extract the actor's gender from the character metadata. One challenge was to determine the elligible movies for this analysis as some movies lack a summary, some lack a respective list of characters and some have characters for which the name or gender is not listed. We therefore only consider movies that have a summary and for who we can find at least one character for which the name and gender is recorded."
   ]
  },
  {
   "cell_type": "markdown",
   "metadata": {},
   "source": [
    "Data wrangling was done in a separate notebook by running the code below. This took over 3 minutes on one of our machines, so we decided to save the resulting dataframe as a csv file and let you import it for time purposes."
   ]
  },
  {
   "cell_type": "code",
   "execution_count": 84,
   "metadata": {},
   "outputs": [
    {
     "data": {
      "text/plain": "   wikipedia_ID freebase_ID                         name  release_date  \\\n0       77856.0    /m/0kcn7                 mary poppins          1964   \n1    12053509.0  /m/02vn81r                     loverboy          1989   \n2     2154704.0   /m/06qv1c                 choke canyon          1986   \n3    33059372.0  /m/0h54gth  chromeskull: laid to rest 2          2011   \n4     7460227.0   /m/0kv80y                   the bridge          2006   \n\n   box_office_revenue  runtime  \\\n0         102272727.0    139.0   \n1           3960327.0     98.0   \n2                 NaN     94.0   \n3                 NaN     93.0   \n4                 NaN     69.0   \n\n                                               genre  \\\n0  [\"Children's/Family\", 'Musical', 'Fantasy', 'C...   \n1      ['Romantic comedy', 'Romance Film', 'Comedy']   \n2  ['Thriller', 'Action Thrillers', 'Science Fict...   \n3                              ['Horror', 'Slasher']   \n4                                          ['Drama']   \n\n                                        plot_summary IMDB_ID  \n0  The film opens with Mary Poppins  perched in a...     NaN  \n1  Randy Bodek  is a rebellious college slacker, ...     NaN  \n2  Dr. David Lowell's  research is carried out in...     NaN  \n3  ChromeSkull: Laid to Rest 2 picks up three mon...     NaN  \n4  Sea Org officer Ronnie Miscavige describes the...     NaN  ",
      "text/html": "<div>\n<style scoped>\n    .dataframe tbody tr th:only-of-type {\n        vertical-align: middle;\n    }\n\n    .dataframe tbody tr th {\n        vertical-align: top;\n    }\n\n    .dataframe thead th {\n        text-align: right;\n    }\n</style>\n<table border=\"1\" class=\"dataframe\">\n  <thead>\n    <tr style=\"text-align: right;\">\n      <th></th>\n      <th>wikipedia_ID</th>\n      <th>freebase_ID</th>\n      <th>name</th>\n      <th>release_date</th>\n      <th>box_office_revenue</th>\n      <th>runtime</th>\n      <th>genre</th>\n      <th>plot_summary</th>\n      <th>IMDB_ID</th>\n    </tr>\n  </thead>\n  <tbody>\n    <tr>\n      <th>0</th>\n      <td>77856.0</td>\n      <td>/m/0kcn7</td>\n      <td>mary poppins</td>\n      <td>1964</td>\n      <td>102272727.0</td>\n      <td>139.0</td>\n      <td>[\"Children's/Family\", 'Musical', 'Fantasy', 'C...</td>\n      <td>The film opens with Mary Poppins  perched in a...</td>\n      <td>NaN</td>\n    </tr>\n    <tr>\n      <th>1</th>\n      <td>12053509.0</td>\n      <td>/m/02vn81r</td>\n      <td>loverboy</td>\n      <td>1989</td>\n      <td>3960327.0</td>\n      <td>98.0</td>\n      <td>['Romantic comedy', 'Romance Film', 'Comedy']</td>\n      <td>Randy Bodek  is a rebellious college slacker, ...</td>\n      <td>NaN</td>\n    </tr>\n    <tr>\n      <th>2</th>\n      <td>2154704.0</td>\n      <td>/m/06qv1c</td>\n      <td>choke canyon</td>\n      <td>1986</td>\n      <td>NaN</td>\n      <td>94.0</td>\n      <td>['Thriller', 'Action Thrillers', 'Science Fict...</td>\n      <td>Dr. David Lowell's  research is carried out in...</td>\n      <td>NaN</td>\n    </tr>\n    <tr>\n      <th>3</th>\n      <td>33059372.0</td>\n      <td>/m/0h54gth</td>\n      <td>chromeskull: laid to rest 2</td>\n      <td>2011</td>\n      <td>NaN</td>\n      <td>93.0</td>\n      <td>['Horror', 'Slasher']</td>\n      <td>ChromeSkull: Laid to Rest 2 picks up three mon...</td>\n      <td>NaN</td>\n    </tr>\n    <tr>\n      <th>4</th>\n      <td>7460227.0</td>\n      <td>/m/0kv80y</td>\n      <td>the bridge</td>\n      <td>2006</td>\n      <td>NaN</td>\n      <td>69.0</td>\n      <td>['Drama']</td>\n      <td>Sea Org officer Ronnie Miscavige describes the...</td>\n      <td>NaN</td>\n    </tr>\n  </tbody>\n</table>\n</div>"
     },
     "execution_count": 84,
     "metadata": {},
     "output_type": "execute_result"
    }
   ],
   "source": [
    "# character_metadata = pd.read_csv(data_folder+'characters_data.csv')\n",
    "# movie_metadata = pd.read_csv(data_folder+'movie_data.csv')\n",
    "# elligible_movies = select_elligible_movies_for_main_char_analysis(movie_metadata,character_metadata)\n",
    "# elligible_movies.to_csv(\"movies_for_main_char_analysis.csv\")\n",
    "\n",
    "elligible_movies = pd.read_csv('DATA/movies_for_main_char_analysis')\n",
    "elligible_movies = elligible_movies.drop('Unnamed: 0', axis=1)\n",
    "elligible_movies.head()\n"
   ]
  },
  {
   "cell_type": "markdown",
   "metadata": {},
   "source": [
    "Extraction of the main characters is computationally intensive, therefore we decided to select only 20 movies (max) per year at random for this milestone. Please note however, that there are very few elligible movies when going back to the first years of this dataset (e.g. only \"hinemoa\" and \"fatty joins the force\" in 1913. Sidenote: notice the wording that was acceptable at the time)."
   ]
  },
  {
   "cell_type": "code",
   "execution_count": 85,
   "metadata": {},
   "outputs": [
    {
     "data": {
      "text/plain": "       wikipedia_ID freebase_ID                       name  release_date  \\\n16161           NaN         NaN                 moon manor          2022   \n6922            NaN         NaN                 sleepyhead          2022   \n5990            NaN         NaN                   division          2022   \n6101            NaN         NaN                       dash          2022   \n8035            NaN         NaN                rabbit hole          2022   \n6774            NaN         NaN            out of the blue          2022   \n7880            NaN         NaN                  captivity          2022   \n9158            NaN         NaN          the darkest place          2022   \n3019            NaN         NaN  dr. saville's horror show          2022   \n12866           NaN         NaN                    marlowe          2022   \n\n       box_office_revenue  runtime  \\\n16161                 NaN      NaN   \n6922                  NaN      NaN   \n5990                  NaN      NaN   \n6101                  NaN      NaN   \n8035                  NaN      NaN   \n6774                  NaN      NaN   \n7880                  NaN      NaN   \n9158                  NaN      NaN   \n3019                  NaN      NaN   \n12866                 NaN      NaN   \n\n                                                   genre  \\\n16161                   ['Biography', 'Comedy', 'Drama']   \n6922                                        ['Thriller']   \n5990                                           ['Drama']   \n6101                               ['Drama', 'Thriller']   \n8035                                       ['Adventure']   \n6774   ['Crime', 'Drama', 'Mystery', 'Romance', 'Thri...   \n7880                                        ['Thriller']   \n9158                                          ['Horror']   \n3019                                          ['Horror']   \n12866                   ['Crime', 'Mystery', 'Thriller']   \n\n                                            plot_summary     IMDB_ID  \n16161  ['Jimmy throws himself a fabulous FUNeral befo...   tt8946942  \n6922   ['Newly dead Lillo Fante quests through the un...  tt15513434  \n5990   [\"When a Z-list actress connects with a fan wh...  tt14069588  \n6101   ['An adulterous rideshare driver navigating th...  tt14272430  \n8035   ['The Coin Wars have begun and everyone wants ...  tt19818672  \n6774   ['Connor, a man whose dull life is transformed...  tt15333788  \n7880   ['Ashley is a college student who gets abducte...  tt19177942  \n9158   ['The Darkest Place\" involves a teenage girl w...  tt24228490  \n3019   ['As the evil Dr. Saville tortures his latest ...  tt10151386  \n12866  ['In late 1930s Bay City, a brooding, down on ...   tt6722802  ",
      "text/html": "<div>\n<style scoped>\n    .dataframe tbody tr th:only-of-type {\n        vertical-align: middle;\n    }\n\n    .dataframe tbody tr th {\n        vertical-align: top;\n    }\n\n    .dataframe thead th {\n        text-align: right;\n    }\n</style>\n<table border=\"1\" class=\"dataframe\">\n  <thead>\n    <tr style=\"text-align: right;\">\n      <th></th>\n      <th>wikipedia_ID</th>\n      <th>freebase_ID</th>\n      <th>name</th>\n      <th>release_date</th>\n      <th>box_office_revenue</th>\n      <th>runtime</th>\n      <th>genre</th>\n      <th>plot_summary</th>\n      <th>IMDB_ID</th>\n    </tr>\n  </thead>\n  <tbody>\n    <tr>\n      <th>16161</th>\n      <td>NaN</td>\n      <td>NaN</td>\n      <td>moon manor</td>\n      <td>2022</td>\n      <td>NaN</td>\n      <td>NaN</td>\n      <td>['Biography', 'Comedy', 'Drama']</td>\n      <td>['Jimmy throws himself a fabulous FUNeral befo...</td>\n      <td>tt8946942</td>\n    </tr>\n    <tr>\n      <th>6922</th>\n      <td>NaN</td>\n      <td>NaN</td>\n      <td>sleepyhead</td>\n      <td>2022</td>\n      <td>NaN</td>\n      <td>NaN</td>\n      <td>['Thriller']</td>\n      <td>['Newly dead Lillo Fante quests through the un...</td>\n      <td>tt15513434</td>\n    </tr>\n    <tr>\n      <th>5990</th>\n      <td>NaN</td>\n      <td>NaN</td>\n      <td>division</td>\n      <td>2022</td>\n      <td>NaN</td>\n      <td>NaN</td>\n      <td>['Drama']</td>\n      <td>[\"When a Z-list actress connects with a fan wh...</td>\n      <td>tt14069588</td>\n    </tr>\n    <tr>\n      <th>6101</th>\n      <td>NaN</td>\n      <td>NaN</td>\n      <td>dash</td>\n      <td>2022</td>\n      <td>NaN</td>\n      <td>NaN</td>\n      <td>['Drama', 'Thriller']</td>\n      <td>['An adulterous rideshare driver navigating th...</td>\n      <td>tt14272430</td>\n    </tr>\n    <tr>\n      <th>8035</th>\n      <td>NaN</td>\n      <td>NaN</td>\n      <td>rabbit hole</td>\n      <td>2022</td>\n      <td>NaN</td>\n      <td>NaN</td>\n      <td>['Adventure']</td>\n      <td>['The Coin Wars have begun and everyone wants ...</td>\n      <td>tt19818672</td>\n    </tr>\n    <tr>\n      <th>6774</th>\n      <td>NaN</td>\n      <td>NaN</td>\n      <td>out of the blue</td>\n      <td>2022</td>\n      <td>NaN</td>\n      <td>NaN</td>\n      <td>['Crime', 'Drama', 'Mystery', 'Romance', 'Thri...</td>\n      <td>['Connor, a man whose dull life is transformed...</td>\n      <td>tt15333788</td>\n    </tr>\n    <tr>\n      <th>7880</th>\n      <td>NaN</td>\n      <td>NaN</td>\n      <td>captivity</td>\n      <td>2022</td>\n      <td>NaN</td>\n      <td>NaN</td>\n      <td>['Thriller']</td>\n      <td>['Ashley is a college student who gets abducte...</td>\n      <td>tt19177942</td>\n    </tr>\n    <tr>\n      <th>9158</th>\n      <td>NaN</td>\n      <td>NaN</td>\n      <td>the darkest place</td>\n      <td>2022</td>\n      <td>NaN</td>\n      <td>NaN</td>\n      <td>['Horror']</td>\n      <td>['The Darkest Place\" involves a teenage girl w...</td>\n      <td>tt24228490</td>\n    </tr>\n    <tr>\n      <th>3019</th>\n      <td>NaN</td>\n      <td>NaN</td>\n      <td>dr. saville's horror show</td>\n      <td>2022</td>\n      <td>NaN</td>\n      <td>NaN</td>\n      <td>['Horror']</td>\n      <td>['As the evil Dr. Saville tortures his latest ...</td>\n      <td>tt10151386</td>\n    </tr>\n    <tr>\n      <th>12866</th>\n      <td>NaN</td>\n      <td>NaN</td>\n      <td>marlowe</td>\n      <td>2022</td>\n      <td>NaN</td>\n      <td>NaN</td>\n      <td>['Crime', 'Mystery', 'Thriller']</td>\n      <td>['In late 1930s Bay City, a brooding, down on ...</td>\n      <td>tt6722802</td>\n    </tr>\n  </tbody>\n</table>\n</div>"
     },
     "execution_count": 85,
     "metadata": {},
     "output_type": "execute_result"
    }
   ],
   "source": [
    "sample = elligible_movies.groupby('release_date', group_keys=False).apply(random_movies_per_year)\n",
    "sample = sample.sort_values('release_date')\n",
    "sample.tail(10)"
   ]
  },
  {
   "cell_type": "markdown",
   "metadata": {},
   "source": [
    "We now extract the main characters and their respective genders. This was a one-hour computation so we once again provide the csv for you to read."
   ]
  },
  {
   "cell_type": "code",
   "execution_count": 86,
   "metadata": {},
   "outputs": [
    {
     "data": {
      "text/plain": "      Unnamed: 0  wikipedia_ID freebase_ID                       name  \\\n1579       37230           NaN         NaN            out of the blue   \n1580       38904           NaN         NaN                  captivity   \n1581       40662           NaN         NaN          the darkest place   \n1582       30066           NaN         NaN  dr. saville's horror show   \n1583       45728           NaN         NaN                    marlowe   \n\n      release_date  box_office_revenue  runtime  \\\n1579          2022                 NaN      NaN   \n1580          2022                 NaN      NaN   \n1581          2022                 NaN      NaN   \n1582          2022                 NaN      NaN   \n1583          2022                 NaN      NaN   \n\n                                                  genre  \\\n1579  ['Crime', 'Drama', 'Mystery', 'Romance', 'Thri...   \n1580                                       ['Thriller']   \n1581                                         ['Horror']   \n1582                                         ['Horror']   \n1583                   ['Crime', 'Mystery', 'Thriller']   \n\n                                           plot_summary     IMDB_ID  \\\n1579  ['Connor, a man whose dull life is transformed...  tt15333788   \n1580  ['Ashley is a college student who gets abducte...  tt19177942   \n1581  ['The Darkest Place\" involves a teenage girl w...  tt24228490   \n1582  ['As the evil Dr. Saville tortures his latest ...  tt10151386   \n1583  ['In late 1930s Bay City, a brooding, down on ...   tt6722802   \n\n                                 main characters main character genders  \n1579                       ['connor', 'marilyn']             ['M', 'F']  \n1580                        ['ashley', 'samuel']             ['F', 'M']  \n1581                                          []                     []  \n1582                                 ['saville']                  ['M']  \n1583  ['marlowe', 'peterson', 'clare cavendish']             ['M', 'F']  ",
      "text/html": "<div>\n<style scoped>\n    .dataframe tbody tr th:only-of-type {\n        vertical-align: middle;\n    }\n\n    .dataframe tbody tr th {\n        vertical-align: top;\n    }\n\n    .dataframe thead th {\n        text-align: right;\n    }\n</style>\n<table border=\"1\" class=\"dataframe\">\n  <thead>\n    <tr style=\"text-align: right;\">\n      <th></th>\n      <th>Unnamed: 0</th>\n      <th>wikipedia_ID</th>\n      <th>freebase_ID</th>\n      <th>name</th>\n      <th>release_date</th>\n      <th>box_office_revenue</th>\n      <th>runtime</th>\n      <th>genre</th>\n      <th>plot_summary</th>\n      <th>IMDB_ID</th>\n      <th>main characters</th>\n      <th>main character genders</th>\n    </tr>\n  </thead>\n  <tbody>\n    <tr>\n      <th>1579</th>\n      <td>37230</td>\n      <td>NaN</td>\n      <td>NaN</td>\n      <td>out of the blue</td>\n      <td>2022</td>\n      <td>NaN</td>\n      <td>NaN</td>\n      <td>['Crime', 'Drama', 'Mystery', 'Romance', 'Thri...</td>\n      <td>['Connor, a man whose dull life is transformed...</td>\n      <td>tt15333788</td>\n      <td>['connor', 'marilyn']</td>\n      <td>['M', 'F']</td>\n    </tr>\n    <tr>\n      <th>1580</th>\n      <td>38904</td>\n      <td>NaN</td>\n      <td>NaN</td>\n      <td>captivity</td>\n      <td>2022</td>\n      <td>NaN</td>\n      <td>NaN</td>\n      <td>['Thriller']</td>\n      <td>['Ashley is a college student who gets abducte...</td>\n      <td>tt19177942</td>\n      <td>['ashley', 'samuel']</td>\n      <td>['F', 'M']</td>\n    </tr>\n    <tr>\n      <th>1581</th>\n      <td>40662</td>\n      <td>NaN</td>\n      <td>NaN</td>\n      <td>the darkest place</td>\n      <td>2022</td>\n      <td>NaN</td>\n      <td>NaN</td>\n      <td>['Horror']</td>\n      <td>['The Darkest Place\" involves a teenage girl w...</td>\n      <td>tt24228490</td>\n      <td>[]</td>\n      <td>[]</td>\n    </tr>\n    <tr>\n      <th>1582</th>\n      <td>30066</td>\n      <td>NaN</td>\n      <td>NaN</td>\n      <td>dr. saville's horror show</td>\n      <td>2022</td>\n      <td>NaN</td>\n      <td>NaN</td>\n      <td>['Horror']</td>\n      <td>['As the evil Dr. Saville tortures his latest ...</td>\n      <td>tt10151386</td>\n      <td>['saville']</td>\n      <td>['M']</td>\n    </tr>\n    <tr>\n      <th>1583</th>\n      <td>45728</td>\n      <td>NaN</td>\n      <td>NaN</td>\n      <td>marlowe</td>\n      <td>2022</td>\n      <td>NaN</td>\n      <td>NaN</td>\n      <td>['Crime', 'Mystery', 'Thriller']</td>\n      <td>['In late 1930s Bay City, a brooding, down on ...</td>\n      <td>tt6722802</td>\n      <td>['marlowe', 'peterson', 'clare cavendish']</td>\n      <td>['M', 'F']</td>\n    </tr>\n  </tbody>\n</table>\n</div>"
     },
     "execution_count": 86,
     "metadata": {},
     "output_type": "execute_result"
    }
   ],
   "source": [
    "# sample['main characters'] = sample['plot_summary'].apply(extract_main_characters, nb_sentences=5)\n",
    "# sample['main character genders'] = sample.apply(find_main_characters_genders,\n",
    "#                                                 characters_df = character_metadata, axis=1)\n",
    "# sample.to_csv(\"main_characters_20_per_year.csv\")\n",
    "\n",
    "main_characters = pd.read_csv(\"DATA/main_characters_20_per_year\")\n",
    "main_characters.tail()"
   ]
  },
  {
   "cell_type": "markdown",
   "source": [
    "# 7) Personas preprocessing\n",
    "<a id='section-7'></a>"
   ],
   "metadata": {
    "collapsed": false
   }
  },
  {
   "cell_type": "markdown",
   "source": [
    "To get a better understanding of the roles of the characters in the movies we will use the plot summary to extract the words that are associated with the character name. We look at the words in a vincinity of 3 words around the characters and make an assumption that these words are linked to the characters. Stop words are ignored as do not confer any information. However this assumption is not always correct as words close to a character are not always linked to the character, especially if two characters are close to each other. For example the word \"pregnant\" is associated in a non negligeable amount with men even though it should only be associated with women (e.g. because of sentences such as \"John and his pregnant wife\"). Additonnaly this analysis only takes into account instances where the character is directly named and nt when they are referred to by their pronouns, therefore some associated words are not linked to the character.\n",
    "\n",
    "Despite the limitations listed above this pipeline allows us to have a first visualization of the roles the characters play in these movies. This well then allow us to see if the role given to men and women changes over time and if it is potentially linked to historical events.\n",
    "\n"
   ],
   "metadata": {
    "collapsed": false
   }
  },
  {
   "cell_type": "code",
   "execution_count": 87,
   "outputs": [
    {
     "name": "stdout",
     "output_type": "stream",
     "text": [
      "Number of missing genders: 4.54%\n",
      "Number of missing character names: 24.28%\n"
     ]
    }
   ],
   "source": [
    "# Count number of nans in gender column\n",
    "missing_gender_percentage = 100 * characters_data['actor_gender'].isna().sum() / len(characters_data.index)\n",
    "print(f\"Number of missing genders: {missing_gender_percentage:.2f}%\")\n",
    "# Count number of nans in character name column\n",
    "missing_names_percentage = 100 * characters_data['character_name'].isna().sum() / len(characters_data.index)\n",
    "print(f\"Number of missing character names: {missing_names_percentage:.2f}%\")"
   ],
   "metadata": {
    "collapsed": false
   }
  },
  {
   "cell_type": "markdown",
   "source": [
    "We only keep the movies which ahve a plot summary and characters as these are needed for the analysis"
   ],
   "metadata": {
    "collapsed": false
   }
  },
  {
   "cell_type": "code",
   "execution_count": 88,
   "outputs": [],
   "source": [
    "# drop the characters with missing character names and actors gender so we can determine if characters are F/M\n",
    "characters_noNA = characters_data.dropna(subset=[\"character_name\", \"actor_gender\"])\n",
    "# drop movies with missing summaries\n",
    "movie_noNA = movie_data.dropna(subset=[\"plot_summary\"])"
   ],
   "metadata": {
    "collapsed": false
   }
  },
  {
   "cell_type": "code",
   "execution_count": 89,
   "outputs": [
    {
     "data": {
      "text/plain": "         IMDB_ID  wikipedia_ID freebase_ID  runtime  \\\n0      tt0228333      975900.0   /m/03vyhn     98.0   \n5      tt0119548     6631279.0   /m/0gffwj     93.0   \n6      tt0058331       77856.0    /m/0kcn7    139.0   \n10     tt0892904    21926710.0  /m/05p45cv     82.0   \n12     tt0255819      156558.0   /m/014k4y    123.0   \n...          ...           ...         ...      ...   \n54128  tt9908592           NaN         NaN      NaN   \n54130  tt9910648           NaN         NaN      NaN   \n54133  tt9913288           NaN         NaN      NaN   \n54134  tt9914522           NaN         NaN      NaN   \n54137  tt2342071           NaN         NaN      NaN   \n\n                                                  name  release_date  \\\n0                                       Ghosts of Mars        2001.0   \n5                                          Little city        1997.0   \n6                                         Mary Poppins        1964.0   \n10                                       White on Rice        2009.0   \n12                                            Baby Boy        2001.0   \n...                                                ...           ...   \n54128                            Filmmakers Unite (FU)        2017.0   \n54130  The Good Americans: One Revolution, Two Nations        2021.0   \n54133                                          Letters        2020.0   \n54134                           The Holden Family Plan        2019.0   \n54137                    Dorothy and the Witches of Oz        2011.0   \n\n                                                   genre  \\\n0      [Thriller, Supernatural, Action, Adventure, Ho...   \n5         [Romantic comedy, Comedy, Romance Film, Drama]   \n6      [Musical, Comedy, Family Film, Drama, Fantasy,...   \n10                                              [Comedy]   \n12                                [Coming of age, Drama]   \n...                                                  ...   \n54128                                      [Documentary]   \n54130                                      [Documentary]   \n54133                                            [Drama]   \n54134                                            [Drama]   \n54137                                  [Action, Fantasy]   \n\n                                            plot_summary  box_office_revenue  \\\n0      Set in the second half of the 22nd century, th...          14010832.0   \n5      Adam, a San Francisco-based artist who works a...                 NaN   \n6      The film opens with Mary Poppins  perched in a...         102272727.0   \n10     [\"Forty-year-old Jimmy is growing up--or at le...                 NaN   \n12     A young 20-year-old named Jody  lives with his...          29381649.0   \n...                                                  ...                 ...   \n54128  ['Curated by Jay Rosenblatt and Ellen Bruno, F...                 NaN   \n54130  ['Størmerlige Films is making a feature-length...                 NaN   \n54133  [\"Charlie Porter is an ordinary man. He leads ...                 NaN   \n54134  [\"When Mackenzie Holden's sister and brother i...                 NaN   \n54137  ['Dorothy Gale discovers that her best selling...                 NaN   \n\n       popularity  decade  \n0        0.031534  2000.0  \n5             NaN  1990.0  \n6             NaN  1960.0  \n10            NaN  2000.0  \n12       0.066129  2000.0  \n...           ...     ...  \n54128         NaN  2010.0  \n54130         NaN  2020.0  \n54133         NaN  2020.0  \n54134         NaN  2010.0  \n54137         NaN  2010.0  \n\n[34889 rows x 11 columns]",
      "text/html": "<div>\n<style scoped>\n    .dataframe tbody tr th:only-of-type {\n        vertical-align: middle;\n    }\n\n    .dataframe tbody tr th {\n        vertical-align: top;\n    }\n\n    .dataframe thead th {\n        text-align: right;\n    }\n</style>\n<table border=\"1\" class=\"dataframe\">\n  <thead>\n    <tr style=\"text-align: right;\">\n      <th></th>\n      <th>IMDB_ID</th>\n      <th>wikipedia_ID</th>\n      <th>freebase_ID</th>\n      <th>runtime</th>\n      <th>name</th>\n      <th>release_date</th>\n      <th>genre</th>\n      <th>plot_summary</th>\n      <th>box_office_revenue</th>\n      <th>popularity</th>\n      <th>decade</th>\n    </tr>\n  </thead>\n  <tbody>\n    <tr>\n      <th>0</th>\n      <td>tt0228333</td>\n      <td>975900.0</td>\n      <td>/m/03vyhn</td>\n      <td>98.0</td>\n      <td>Ghosts of Mars</td>\n      <td>2001.0</td>\n      <td>[Thriller, Supernatural, Action, Adventure, Ho...</td>\n      <td>Set in the second half of the 22nd century, th...</td>\n      <td>14010832.0</td>\n      <td>0.031534</td>\n      <td>2000.0</td>\n    </tr>\n    <tr>\n      <th>5</th>\n      <td>tt0119548</td>\n      <td>6631279.0</td>\n      <td>/m/0gffwj</td>\n      <td>93.0</td>\n      <td>Little city</td>\n      <td>1997.0</td>\n      <td>[Romantic comedy, Comedy, Romance Film, Drama]</td>\n      <td>Adam, a San Francisco-based artist who works a...</td>\n      <td>NaN</td>\n      <td>NaN</td>\n      <td>1990.0</td>\n    </tr>\n    <tr>\n      <th>6</th>\n      <td>tt0058331</td>\n      <td>77856.0</td>\n      <td>/m/0kcn7</td>\n      <td>139.0</td>\n      <td>Mary Poppins</td>\n      <td>1964.0</td>\n      <td>[Musical, Comedy, Family Film, Drama, Fantasy,...</td>\n      <td>The film opens with Mary Poppins  perched in a...</td>\n      <td>102272727.0</td>\n      <td>NaN</td>\n      <td>1960.0</td>\n    </tr>\n    <tr>\n      <th>10</th>\n      <td>tt0892904</td>\n      <td>21926710.0</td>\n      <td>/m/05p45cv</td>\n      <td>82.0</td>\n      <td>White on Rice</td>\n      <td>2009.0</td>\n      <td>[Comedy]</td>\n      <td>[\"Forty-year-old Jimmy is growing up--or at le...</td>\n      <td>NaN</td>\n      <td>NaN</td>\n      <td>2000.0</td>\n    </tr>\n    <tr>\n      <th>12</th>\n      <td>tt0255819</td>\n      <td>156558.0</td>\n      <td>/m/014k4y</td>\n      <td>123.0</td>\n      <td>Baby Boy</td>\n      <td>2001.0</td>\n      <td>[Coming of age, Drama]</td>\n      <td>A young 20-year-old named Jody  lives with his...</td>\n      <td>29381649.0</td>\n      <td>0.066129</td>\n      <td>2000.0</td>\n    </tr>\n    <tr>\n      <th>...</th>\n      <td>...</td>\n      <td>...</td>\n      <td>...</td>\n      <td>...</td>\n      <td>...</td>\n      <td>...</td>\n      <td>...</td>\n      <td>...</td>\n      <td>...</td>\n      <td>...</td>\n      <td>...</td>\n    </tr>\n    <tr>\n      <th>54128</th>\n      <td>tt9908592</td>\n      <td>NaN</td>\n      <td>NaN</td>\n      <td>NaN</td>\n      <td>Filmmakers Unite (FU)</td>\n      <td>2017.0</td>\n      <td>[Documentary]</td>\n      <td>['Curated by Jay Rosenblatt and Ellen Bruno, F...</td>\n      <td>NaN</td>\n      <td>NaN</td>\n      <td>2010.0</td>\n    </tr>\n    <tr>\n      <th>54130</th>\n      <td>tt9910648</td>\n      <td>NaN</td>\n      <td>NaN</td>\n      <td>NaN</td>\n      <td>The Good Americans: One Revolution, Two Nations</td>\n      <td>2021.0</td>\n      <td>[Documentary]</td>\n      <td>['Størmerlige Films is making a feature-length...</td>\n      <td>NaN</td>\n      <td>NaN</td>\n      <td>2020.0</td>\n    </tr>\n    <tr>\n      <th>54133</th>\n      <td>tt9913288</td>\n      <td>NaN</td>\n      <td>NaN</td>\n      <td>NaN</td>\n      <td>Letters</td>\n      <td>2020.0</td>\n      <td>[Drama]</td>\n      <td>[\"Charlie Porter is an ordinary man. He leads ...</td>\n      <td>NaN</td>\n      <td>NaN</td>\n      <td>2020.0</td>\n    </tr>\n    <tr>\n      <th>54134</th>\n      <td>tt9914522</td>\n      <td>NaN</td>\n      <td>NaN</td>\n      <td>NaN</td>\n      <td>The Holden Family Plan</td>\n      <td>2019.0</td>\n      <td>[Drama]</td>\n      <td>[\"When Mackenzie Holden's sister and brother i...</td>\n      <td>NaN</td>\n      <td>NaN</td>\n      <td>2010.0</td>\n    </tr>\n    <tr>\n      <th>54137</th>\n      <td>tt2342071</td>\n      <td>NaN</td>\n      <td>NaN</td>\n      <td>NaN</td>\n      <td>Dorothy and the Witches of Oz</td>\n      <td>2011.0</td>\n      <td>[Action, Fantasy]</td>\n      <td>['Dorothy Gale discovers that her best selling...</td>\n      <td>NaN</td>\n      <td>NaN</td>\n      <td>2010.0</td>\n    </tr>\n  </tbody>\n</table>\n<p>34889 rows × 11 columns</p>\n</div>"
     },
     "execution_count": 89,
     "metadata": {},
     "output_type": "execute_result"
    }
   ],
   "source": [
    "# List of movies that we will use in the analysis - must have summary, character name and gender\n",
    "filtered_df = movie_noNA[movie_noNA['IMDB_ID'].isin(characters_noNA['IMDB_ID'])]\n",
    "filtered_df"
   ],
   "metadata": {
    "collapsed": false
   }
  },
  {
   "cell_type": "markdown",
   "source": [
    "We then run the `find_main_characters_for_all_movies` function to extract the main characters for each movie. This function takes a long time to run (around 20 minutes) so we saved the output as a pickle file and csv. The pickle file is then used to import as it preserves the data types."
   ],
   "metadata": {
    "collapsed": false
   }
  },
  {
   "cell_type": "code",
   "execution_count": 90,
   "outputs": [],
   "source": [
    "# runs in 20min\n",
    "#output_characters_genders=find_characters_genders_for_all_movies(filtered_df, characters_noNA)\n",
    "# Save output to csv\n",
    "#output_characters_genders.to_csv('DATA/output_characters_genders.csv', index=False)\n",
    "#Export as pickle\n",
    "#output_characters_genders.to_pickle('pickles/output_characters_genders.pickle')"
   ],
   "metadata": {
    "collapsed": false
   }
  },
  {
   "cell_type": "code",
   "execution_count": null,
   "outputs": [],
   "source": [
    "# Load from pickle if cell above not run\n",
    "output_characters_genders=pickle.load('pickles/output_characters_genders.pickle')"
   ],
   "metadata": {
    "collapsed": false
   }
  },
  {
   "cell_type": "markdown",
   "source": [
    "We now look at the proportion of male and females in the dataset"
   ],
   "metadata": {
    "collapsed": false
   }
  },
  {
   "cell_type": "code",
   "execution_count": null,
   "outputs": [],
   "source": [
    "count_gender = output_characters_genders['gender'].value_counts().to_dict()\n",
    "print(\n",
    "    \"There are only {} movies left and with {} male characters and {} female characters.\".format(\n",
    "        len(output_characters_genders['IMDB_ID'].unique()), count_gender.get(\"M\", 0), count_gender.get(\"F\", 0)\n",
    "    )\n",
    ")"
   ],
   "metadata": {
    "collapsed": false
   }
  },
  {
   "cell_type": "markdown",
   "source": [
    "We then run `output_characters_genders_context` to extract the words in the vincinity of the character name in the plot summary. This function takes a long time to run (around 30 minutes) so we saved the output as a pickle file and csv."
   ],
   "metadata": {
    "collapsed": false
   }
  },
  {
   "cell_type": "code",
   "execution_count": null,
   "outputs": [],
   "source": [
    "# runs in 30min\n",
    "#output_characters_genders_context=extract_context_strings(output_characters_genders)\n",
    "# Save result as csv\n",
    "#output_characters_genders_context.to_csv('DATA/output_characters_genders_context.csv', index=False)\n",
    "# Save result as pickle\n",
    "#output_characters_genders_context.to_pickle('pickles/output_characters_genders_context.pickle')"
   ],
   "metadata": {
    "collapsed": false
   }
  },
  {
   "cell_type": "code",
   "execution_count": null,
   "outputs": [],
   "source": [
    "# Load from pickel if cell above not run\n",
    "output_characters_genders_context=pickle.load('pickles/output_characters_genders_context.pickle')"
   ],
   "metadata": {
    "collapsed": false
   }
  },
  {
   "cell_type": "markdown",
   "source": [
    "We then run `extract_words` to extract the verbs, adjectives, nouns and chunks from the context strings. This function takes a long time to run (around 30 minutes) so we saved the output as a pickle file and csv. The function is not optimal as it does not take into account context around the words."
   ],
   "metadata": {
    "collapsed": false
   }
  },
  {
   "cell_type": "code",
   "execution_count": null,
   "outputs": [],
   "source": [
    "verbs, adjs, nouns, chunks = extract_words(output_characters_genders_context, \"IMDB_ID\", \"character_name\",\n",
    "                                           \"associated_words\")"
   ],
   "metadata": {
    "collapsed": false
   }
  },
  {
   "cell_type": "code",
   "execution_count": null,
   "outputs": [],
   "source": [
    "# Create DataFrames from the lists\n",
    "verbs_df = pd.DataFrame(verbs, columns=['IMDB_ID', 'character_name', 'Verbs'])\n",
    "adjs_df = pd.DataFrame(adjs, columns=['IMDB_ID', 'character_name', 'Adjectives'])\n",
    "nouns_df = pd.DataFrame(nouns, columns=['IMDB_ID', 'character_name', 'Nouns'])\n",
    "chunks_df = pd.DataFrame(chunks, columns=['IMDB_ID', 'character_name', 'Chunks'])"
   ],
   "metadata": {
    "collapsed": false
   }
  },
  {
   "cell_type": "code",
   "execution_count": null,
   "outputs": [],
   "source": [
    "# Merge DataFrames on 'IMDB_ID' and 'character_name'\n",
    "final_df = verbs_df.merge(adjs_df, on=['IMDB_ID', 'character_name']) \\\n",
    "                    .merge(nouns_df, on=['IMDB_ID', 'character_name']) \\\n",
    "                    .merge(chunks_df, on=['IMDB_ID', 'character_name'])"
   ],
   "metadata": {
    "collapsed": false
   }
  },
  {
   "cell_type": "code",
   "execution_count": null,
   "outputs": [],
   "source": [
    "final_df"
   ],
   "metadata": {
    "collapsed": false
   }
  },
  {
   "cell_type": "markdown",
   "source": [
    "We save the final merged dataframe as a csv and pickle file. These are then reimported in the analysis notebook. The pickle file is used to preserve the data types."
   ],
   "metadata": {
    "collapsed": false
   }
  },
  {
   "cell_type": "code",
   "execution_count": null,
   "outputs": [],
   "source": [
    "to_save_df = pd.merge(characters_data, final_df, on=['IMDB_ID', 'character_name'], how='left')"
   ],
   "metadata": {
    "collapsed": false
   }
  },
  {
   "cell_type": "code",
   "execution_count": null,
   "outputs": [],
   "source": [
    "to_save_df.to_csv('DATA/characters_personas_data.csv', index=False)"
   ],
   "metadata": {
    "collapsed": false
   }
  },
  {
   "cell_type": "code",
   "execution_count": null,
   "outputs": [],
   "source": [
    "to_save_df.to_pickle('pickles/characters_personas_data.pickle')"
   ],
   "metadata": {
    "collapsed": false
   }
  }
 ],
 "metadata": {
  "kernelspec": {
   "display_name": "Python 3 (ipykernel)",
   "language": "python",
   "name": "python3"
  },
  "language_info": {
   "codemirror_mode": {
    "name": "ipython",
    "version": 3
   },
   "file_extension": ".py",
   "mimetype": "text/x-python",
   "name": "python",
   "nbconvert_exporter": "python",
   "pygments_lexer": "ipython3",
   "version": "3.10.12"
  }
 },
 "nbformat": 4,
 "nbformat_minor": 4
}
